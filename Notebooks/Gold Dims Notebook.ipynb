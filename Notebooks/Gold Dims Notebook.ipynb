{
 "cells": [
  {
   "cell_type": "code",
   "execution_count": 0,
   "metadata": {
    "application/vnd.databricks.v1+cell": {
     "cellMetadata": {
      "byteLimit": 2048000,
      "rowLimit": 10000
     },
     "inputWidgets": {},
     "nuid": "6e2cfcc1-9b50-4e03-9243-949a367cb082",
     "showTitle": false,
     "tableResultSettingsMap": {},
     "title": ""
    }
   },
   "outputs": [],
   "source": [
    "from pyspark.sql.functions import *"
   ]
  },
  {
   "cell_type": "code",
   "execution_count": 0,
   "metadata": {
    "application/vnd.databricks.v1+cell": {
     "cellMetadata": {
      "byteLimit": 2048000,
      "implicitDf": true,
      "rowLimit": 10000
     },
     "inputWidgets": {},
     "nuid": "640aad0d-3398-4419-b78c-61c9f88343c9",
     "showTitle": false,
     "tableResultSettingsMap": {},
     "title": ""
    }
   },
   "outputs": [
    {
     "output_type": "display_data",
     "data": {
      "text/html": [
       "<style scoped>\n",
       "  .table-result-container {\n",
       "    max-height: 300px;\n",
       "    overflow: auto;\n",
       "  }\n",
       "  table, th, td {\n",
       "    border: 1px solid black;\n",
       "    border-collapse: collapse;\n",
       "  }\n",
       "  th, td {\n",
       "    padding: 5px;\n",
       "  }\n",
       "  th {\n",
       "    text-align: left;\n",
       "  }\n",
       "</style><div class='table-result-container'><table class='table-result'><thead style='background-color: white'><tr><th>flight_id</th><th>airline</th><th>origin</th><th>destination</th><th>flight_date</th><th>ModifiedDate</th></tr></thead><tbody><tr><td>F0013</td><td>Air Canada</td><td>East Brian</td><td>Wayneton</td><td>2025-05-21</td><td>2025-07-03T19:51:15.188Z</td></tr><tr><td>F0014</td><td>Air Canada</td><td>Toddland</td><td>Gonzalezport</td><td>2025-05-28</td><td>2025-07-03T19:51:15.188Z</td></tr><tr><td>F0033</td><td>Air Canada</td><td>Sandersshire</td><td>Lake Joseside</td><td>2025-06-21</td><td>2025-07-03T19:51:15.188Z</td></tr><tr><td>F0052</td><td>Qatar Airways</td><td>Lake Richard</td><td>Brookston</td><td>2025-05-28</td><td>2025-07-03T19:51:15.188Z</td></tr><tr><td>F0069</td><td>Qatar Airways</td><td>Johnsonburgh</td><td>Woodmouth</td><td>2025-06-14</td><td>2025-07-03T19:51:15.188Z</td></tr><tr><td>F0083</td><td>Lufthansa</td><td>Jasonborough</td><td>Port Audreyville</td><td>2025-05-30</td><td>2025-07-03T19:51:15.188Z</td></tr><tr><td>F0005</td><td>Qatar Airways</td><td>Bennettside</td><td>New Mistyhaven</td><td>2025-06-13</td><td>2025-07-03T19:51:15.188Z</td></tr><tr><td>F0007</td><td>Delta</td><td>Berryport</td><td>Miguelburgh</td><td>2025-05-24</td><td>2025-07-03T19:51:15.188Z</td></tr><tr><td>F0015</td><td>Delta</td><td>West Ginaton</td><td>Youngmouth</td><td>2025-05-21</td><td>2025-07-03T19:51:15.188Z</td></tr><tr><td>F0017</td><td>Delta</td><td>Wallermouth</td><td>New Rogerberg</td><td>2025-05-04</td><td>2025-07-03T19:51:15.188Z</td></tr><tr><td>F0035</td><td>Lufthansa</td><td>Karenshire</td><td>North Anthonymouth</td><td>2025-05-21</td><td>2025-07-03T19:51:15.188Z</td></tr><tr><td>F0058</td><td>Delta</td><td>North Brittanyborough</td><td>West Kellystad</td><td>2025-06-10</td><td>2025-07-03T19:51:15.188Z</td></tr><tr><td>F0003</td><td>Lufthansa</td><td>East Patrickborough</td><td>North Mary</td><td>2025-05-11</td><td>2025-07-03T19:51:15.188Z</td></tr><tr><td>F0022</td><td>Air Canada</td><td>Reedchester</td><td>Cruzton</td><td>2025-04-27</td><td>2025-07-03T19:51:15.188Z</td></tr><tr><td>F0044</td><td>Qatar Airways</td><td>East Kaylaburgh</td><td>Lake Carolynchester</td><td>2025-06-01</td><td>2025-07-03T19:51:15.188Z</td></tr><tr><td>F0045</td><td>Emirates</td><td>North Michaelville</td><td>Russellton</td><td>2025-05-04</td><td>2025-07-03T19:51:15.188Z</td></tr><tr><td>F0081</td><td>Air Canada</td><td>North Barry</td><td>Josephborough</td><td>2025-04-24</td><td>2025-07-03T19:51:15.188Z</td></tr><tr><td>F0087</td><td>Emirates</td><td>Kellyland</td><td>New Jonathanmouth</td><td>2025-04-23</td><td>2025-07-03T19:51:15.188Z</td></tr><tr><td>F0004</td><td>Delta</td><td>Maddenshire</td><td>Johnchester</td><td>2025-05-16</td><td>2025-07-03T19:51:15.188Z</td></tr><tr><td>F0006</td><td>Air Canada</td><td>New Richardside</td><td>South Jamesborough</td><td>2025-05-16</td><td>2025-07-03T19:51:15.188Z</td></tr><tr><td>F0019</td><td>Lufthansa</td><td>Lake Scott</td><td>Christineborough</td><td>2025-05-18</td><td>2025-07-03T19:51:15.188Z</td></tr><tr><td>F0029</td><td>Qatar Airways</td><td>Shortberg</td><td>Julieburgh</td><td>2025-05-11</td><td>2025-07-03T19:51:15.188Z</td></tr><tr><td>F0031</td><td>Emirates</td><td>Billview</td><td>Jonathonborough</td><td>2025-06-14</td><td>2025-07-03T19:51:15.188Z</td></tr><tr><td>F0036</td><td>Lufthansa</td><td>Armstrongbury</td><td>North Natashamouth</td><td>2025-05-05</td><td>2025-07-03T19:51:15.188Z</td></tr><tr><td>F0043</td><td>Lufthansa</td><td>Kimberlyborough</td><td>New Annfort</td><td>2025-05-15</td><td>2025-07-03T19:51:15.188Z</td></tr><tr><td>F0055</td><td>Air Canada</td><td>Spencerborough</td><td>Randyville</td><td>2025-06-09</td><td>2025-07-03T19:51:15.188Z</td></tr><tr><td>F0061</td><td>Lufthansa</td><td>Dawnshire</td><td>Stevenmouth</td><td>2025-04-24</td><td>2025-07-03T19:51:15.188Z</td></tr><tr><td>F0091</td><td>Lufthansa</td><td>Lake Scott</td><td>Williamshire</td><td>2025-06-04</td><td>2025-07-03T19:51:15.188Z</td></tr><tr><td>F0093</td><td>Air Canada</td><td>Frenchside</td><td>West Christopher</td><td>2025-05-28</td><td>2025-07-03T19:51:15.188Z</td></tr><tr><td>F0016</td><td>Qatar Airways</td><td>Smithborough</td><td>Randallview</td><td>2025-05-02</td><td>2025-07-03T19:51:15.188Z</td></tr><tr><td>F0040</td><td>Delta</td><td>Ianport</td><td>Lake Reginaldside</td><td>2025-04-23</td><td>2025-07-03T19:51:15.188Z</td></tr><tr><td>F0071</td><td>Delta</td><td>Jefferyberg</td><td>Wendyshire</td><td>2025-06-17</td><td>2025-07-03T19:51:15.188Z</td></tr><tr><td>F0096</td><td>Lufthansa</td><td>Coreyfort</td><td>West Joseph</td><td>2025-06-06</td><td>2025-07-03T19:51:15.188Z</td></tr><tr><td>F0010</td><td>Emirates</td><td>Kruegerchester</td><td>Martintown</td><td>2025-05-20</td><td>2025-07-03T19:51:15.188Z</td></tr><tr><td>F0037</td><td>Air Canada</td><td>Yangville</td><td>Jacksonview</td><td>2025-04-29</td><td>2025-07-03T19:51:15.188Z</td></tr><tr><td>F0073</td><td>Lufthansa</td><td>South Jasonville</td><td>Clarkeshire</td><td>2025-06-09</td><td>2025-07-03T19:51:15.188Z</td></tr><tr><td>F0097</td><td>Emirates</td><td>Billyport</td><td>Brentton</td><td>2025-05-18</td><td>2025-07-03T19:51:15.188Z</td></tr><tr><td>F0023</td><td>Lufthansa</td><td>Port Jeremyfurt</td><td>Lake Walterside</td><td>2025-05-11</td><td>2025-07-03T19:51:15.188Z</td></tr><tr><td>F0024</td><td>Lufthansa</td><td>Leestad</td><td>Port Debra</td><td>2025-05-09</td><td>2025-07-03T19:51:15.188Z</td></tr><tr><td>F0032</td><td>Emirates</td><td>Bushhaven</td><td>Patriciamouth</td><td>2025-05-22</td><td>2025-07-03T19:51:15.188Z</td></tr><tr><td>F0053</td><td>Qatar Airways</td><td>West Dylanbury</td><td>North Wendy</td><td>2025-05-24</td><td>2025-07-03T19:51:15.188Z</td></tr><tr><td>F0057</td><td>Air Canada</td><td>Samanthashire</td><td>Fisherstad</td><td>2025-06-09</td><td>2025-07-03T19:51:15.188Z</td></tr><tr><td>F0094</td><td>Emirates</td><td>South Amyfurt</td><td>Jimenezview</td><td>2025-06-14</td><td>2025-07-03T19:51:15.188Z</td></tr><tr><td>F0012</td><td>Air Canada</td><td>New Hunter</td><td>East Maria</td><td>2025-04-23</td><td>2025-07-03T19:51:15.188Z</td></tr><tr><td>F0038</td><td>Delta</td><td>Port Nicole</td><td>South Corey</td><td>2025-05-22</td><td>2025-07-03T19:51:15.188Z</td></tr><tr><td>F0067</td><td>Delta</td><td>Campbellborough</td><td>South Jason</td><td>2025-05-13</td><td>2025-07-03T19:51:15.188Z</td></tr><tr><td>F0068</td><td>Qatar Airways</td><td>Lake Seanport</td><td>Fieldsstad</td><td>2025-06-17</td><td>2025-07-03T19:51:15.188Z</td></tr><tr><td>F0075</td><td>Qatar Airways</td><td>New Danielhaven</td><td>Cunninghamfurt</td><td>2025-04-27</td><td>2025-07-03T19:51:15.188Z</td></tr><tr><td>F0084</td><td>Delta</td><td>Franklinmouth</td><td>Lake Joseph</td><td>2025-05-30</td><td>2025-07-03T19:51:15.188Z</td></tr><tr><td>F0046</td><td>Qatar Airways</td><td>West David</td><td>North Becky</td><td>2025-04-30</td><td>2025-07-03T19:51:15.188Z</td></tr><tr><td>F0077</td><td>Qatar Airways</td><td>Samuelfort</td><td>Port Ashley</td><td>2025-06-12</td><td>2025-07-03T19:51:15.188Z</td></tr><tr><td>F0021</td><td>Emirates</td><td>South Sara</td><td>North Annaport</td><td>2025-05-29</td><td>2025-07-03T19:51:15.188Z</td></tr><tr><td>F0030</td><td>Delta</td><td>Angelamouth</td><td>Sosaside</td><td>2025-06-16</td><td>2025-07-03T19:51:15.188Z</td></tr><tr><td>F0039</td><td>Air Canada</td><td>Paultown</td><td>Kellyton</td><td>2025-05-19</td><td>2025-07-03T19:51:15.188Z</td></tr><tr><td>F0047</td><td>Lufthansa</td><td>New Cory</td><td>Lorettashire</td><td>2025-05-05</td><td>2025-07-03T19:51:15.188Z</td></tr><tr><td>F0090</td><td>Delta</td><td>East Rachelport</td><td>Davisport</td><td>2025-05-23</td><td>2025-07-03T19:51:15.188Z</td></tr><tr><td>F0026</td><td>Air Canada</td><td>New Deborahfort</td><td>New Sabrina</td><td>2025-05-10</td><td>2025-07-03T19:51:15.188Z</td></tr><tr><td>F0059</td><td>Lufthansa</td><td>South Jeffrey</td><td>Jamesland</td><td>2025-05-10</td><td>2025-07-03T19:51:15.188Z</td></tr><tr><td>F0089</td><td>Qatar Airways</td><td>Robinsonberg</td><td>Adrianchester</td><td>2025-05-21</td><td>2025-07-03T19:51:15.188Z</td></tr><tr><td>F0092</td><td>Lufthansa</td><td>Austinborough</td><td>Bautistafort</td><td>2025-05-29</td><td>2025-07-03T19:51:15.188Z</td></tr><tr><td>F0001</td><td>Delta</td><td>Kellyfort</td><td>South Kathleen</td><td>2025-05-04</td><td>2025-07-03T19:51:15.188Z</td></tr><tr><td>F0018</td><td>Air Canada</td><td>Schultzborough</td><td>Danielton</td><td>2025-06-01</td><td>2025-07-03T19:51:15.188Z</td></tr><tr><td>F0042</td><td>Air Canada</td><td>Port William</td><td>Darrenmouth</td><td>2025-05-11</td><td>2025-07-03T19:51:15.188Z</td></tr><tr><td>F0049</td><td>Emirates</td><td>New Elizabethmouth</td><td>Lake Heathermouth</td><td>2025-05-06</td><td>2025-07-03T19:51:15.188Z</td></tr><tr><td>F0050</td><td>Air Canada</td><td>East Gailtown</td><td>Stevenville</td><td>2025-04-28</td><td>2025-07-03T19:51:15.188Z</td></tr><tr><td>F0051</td><td>Qatar Airways</td><td>Lisafurt</td><td>New Robert</td><td>2025-05-07</td><td>2025-07-03T19:51:15.188Z</td></tr><tr><td>F0060</td><td>Air Canada</td><td>Port Angelicaborough</td><td>East Daniel</td><td>2025-05-21</td><td>2025-07-03T19:51:15.188Z</td></tr><tr><td>F0062</td><td>Lufthansa</td><td>East Samanthafurt</td><td>Lake Troy</td><td>2025-05-12</td><td>2025-07-03T19:51:15.188Z</td></tr><tr><td>F0064</td><td>Delta</td><td>East Joshuastad</td><td>North Austinland</td><td>2025-05-25</td><td>2025-07-03T19:51:15.188Z</td></tr><tr><td>F0066</td><td>Qatar Airways</td><td>Stephenberg</td><td>Marcborough</td><td>2025-06-04</td><td>2025-07-03T19:51:15.188Z</td></tr><tr><td>F0070</td><td>Air Canada</td><td>Glennhaven</td><td>Port Darrenchester</td><td>2025-05-04</td><td>2025-07-03T19:51:15.188Z</td></tr><tr><td>F0100</td><td>Qatar Airways</td><td>Port Anthony</td><td>Thompsonfort</td><td>2025-05-31</td><td>2025-07-03T19:51:15.188Z</td></tr><tr><td>F0020</td><td>Lufthansa</td><td>North Jack</td><td>Loweville</td><td>2025-06-02</td><td>2025-07-03T19:51:15.188Z</td></tr><tr><td>F0048</td><td>Lufthansa</td><td>Cooperview</td><td>Michelleburgh</td><td>2025-05-24</td><td>2025-07-03T19:51:15.188Z</td></tr><tr><td>F0078</td><td>Qatar Airways</td><td>Howardbury</td><td>Burchburgh</td><td>2025-05-09</td><td>2025-07-03T19:51:15.188Z</td></tr><tr><td>F0082</td><td>Qatar Airways</td><td>North Erikamouth</td><td>Danielfort</td><td>2025-05-19</td><td>2025-07-03T19:51:15.188Z</td></tr><tr><td>F0099</td><td>Air Canada</td><td>Lake Connor</td><td>Matthewberg</td><td>2025-04-28</td><td>2025-07-03T19:51:15.188Z</td></tr><tr><td>F0034</td><td>Emirates</td><td>Johnsonville</td><td>Cooperland</td><td>2025-05-18</td><td>2025-07-03T19:51:15.188Z</td></tr><tr><td>F0063</td><td>Lufthansa</td><td>Floresshire</td><td>New Anita</td><td>2025-06-03</td><td>2025-07-03T19:51:15.188Z</td></tr><tr><td>F0076</td><td>Lufthansa</td><td>Johnsonchester</td><td>New Michael</td><td>2025-05-14</td><td>2025-07-03T19:51:15.188Z</td></tr><tr><td>F0079</td><td>Delta</td><td>Jonesburgh</td><td>Andradeville</td><td>2025-06-17</td><td>2025-07-03T19:51:15.188Z</td></tr><tr><td>F0080</td><td>Emirates</td><td>Sonyaberg</td><td>East Sarah</td><td>2025-06-13</td><td>2025-07-03T19:51:15.188Z</td></tr><tr><td>F0085</td><td>Lufthansa</td><td>Hillton</td><td>Castroborough</td><td>2025-05-19</td><td>2025-07-03T19:51:15.188Z</td></tr><tr><td>F0095</td><td>Qatar Airways</td><td>North Dawnberg</td><td>East Sarahmouth</td><td>2025-05-26</td><td>2025-07-03T19:51:15.188Z</td></tr><tr><td>F0002</td><td>Qatar Airways</td><td>Lake Stephen</td><td>New Vincent</td><td>2025-04-29</td><td>2025-07-03T19:51:15.188Z</td></tr><tr><td>F0027</td><td>Delta</td><td>Acevedoville</td><td>Ericchester</td><td>2025-05-14</td><td>2025-07-03T19:51:15.188Z</td></tr><tr><td>F0028</td><td>Delta</td><td>South Michaelberg</td><td>South Markbury</td><td>2025-05-30</td><td>2025-07-03T19:51:15.188Z</td></tr><tr><td>F0056</td><td>Lufthansa</td><td>South Natalie</td><td>Schaefertown</td><td>2025-05-03</td><td>2025-07-03T19:51:15.188Z</td></tr><tr><td>F0086</td><td>Delta</td><td>Port Chelsea</td><td>Robertchester</td><td>2025-05-08</td><td>2025-07-03T19:51:15.188Z</td></tr><tr><td>F0098</td><td>Air Canada</td><td>Wallerburgh</td><td>Lake Karen</td><td>2025-05-01</td><td>2025-07-03T19:51:15.188Z</td></tr><tr><td>F0008</td><td>Lufthansa</td><td>Briannachester</td><td>Cervantesland</td><td>2025-05-26</td><td>2025-07-03T19:51:15.188Z</td></tr><tr><td>F0009</td><td>Delta</td><td>Alexandraborough</td><td>North Alexishaven</td><td>2025-06-10</td><td>2025-07-03T19:51:15.188Z</td></tr><tr><td>F0011</td><td>Lufthansa</td><td>Port Joannahaven</td><td>North Jasonton</td><td>2025-05-30</td><td>2025-07-03T19:51:15.188Z</td></tr><tr><td>F0025</td><td>Qatar Airways</td><td>Chelseaberg</td><td>North Michaelshire</td><td>2025-06-01</td><td>2025-07-03T19:51:15.188Z</td></tr><tr><td>F0041</td><td>Air Canada</td><td>Lake Stanleyside</td><td>Port Scott</td><td>2025-06-14</td><td>2025-07-03T19:51:15.188Z</td></tr><tr><td>F0054</td><td>Air Canada</td><td>Seanmouth</td><td>North Kathyton</td><td>2025-05-09</td><td>2025-07-03T19:51:15.188Z</td></tr><tr><td>F0065</td><td>Emirates</td><td>East Paulland</td><td>Barnesberg</td><td>2025-04-29</td><td>2025-07-03T19:51:15.188Z</td></tr><tr><td>F0072</td><td>Emirates</td><td>Heiditown</td><td>Port Sabrinaburgh</td><td>2025-05-22</td><td>2025-07-03T19:51:15.188Z</td></tr><tr><td>F0074</td><td>Air Canada</td><td>Duffyville</td><td>Port Vanessa</td><td>2025-05-28</td><td>2025-07-03T19:51:15.188Z</td></tr><tr><td>F0088</td><td>Qatar Airways</td><td>North Miguel</td><td>Lake Allisonfurt</td><td>2025-05-28</td><td>2025-07-03T19:51:15.188Z</td></tr><tr><td>F0107</td><td>Air Canada</td><td>Mitchelltown</td><td>Johnsonbury</td><td>2025-07-01</td><td>2025-07-03T19:51:15.188Z</td></tr><tr><td>F0103</td><td>Qatar Airways</td><td>Jameschester</td><td>Ashleyberg</td><td>2025-07-15</td><td>2025-07-03T19:51:15.188Z</td></tr><tr><td>F0102</td><td>Delta</td><td>Schroederbury</td><td>Sethfort</td><td>2025-06-25</td><td>2025-07-03T19:51:15.188Z</td></tr><tr><td>F0109</td><td>Air Canada</td><td>Williamsland</td><td>South Carolberg</td><td>2025-06-14</td><td>2025-07-03T19:51:15.188Z</td></tr><tr><td>F0108</td><td>Lufthansa</td><td>New Jennifer</td><td>Lake Tracie</td><td>2025-06-28</td><td>2025-07-03T19:51:15.188Z</td></tr><tr><td>F0101</td><td>Qatar Airways</td><td>Lake Joshuamouth</td><td>Johnshire</td><td>2025-07-14</td><td>2025-07-03T19:51:15.188Z</td></tr><tr><td>F0104</td><td>Qatar Airways</td><td>Huangstad</td><td>Catherinehaven</td><td>2025-06-29</td><td>2025-07-03T19:51:15.188Z</td></tr><tr><td>F0105</td><td>Air Canada</td><td>Aprilton</td><td>Victorville</td><td>2025-07-05</td><td>2025-07-03T19:51:15.188Z</td></tr><tr><td>F0106</td><td>Lufthansa</td><td>East Austinmouth</td><td>New Toddburgh</td><td>2025-06-22</td><td>2025-07-03T19:51:15.188Z</td></tr><tr><td>F0110</td><td>Emirates</td><td>Churchport</td><td>Wrightton</td><td>2025-07-15</td><td>2025-07-03T19:51:15.188Z</td></tr></tbody></table></div>"
      ]
     },
     "metadata": {
      "application/vnd.databricks.v1+output": {
       "addedWidgets": {},
       "aggData": [],
       "aggError": "",
       "aggOverflow": false,
       "aggSchema": [],
       "aggSeriesLimitReached": false,
       "aggType": "",
       "arguments": {},
       "columnCustomDisplayInfos": {},
       "data": [
        [
         "F0013",
         "Air Canada",
         "East Brian",
         "Wayneton",
         "2025-05-21",
         "2025-07-03T19:51:15.188Z"
        ],
        [
         "F0014",
         "Air Canada",
         "Toddland",
         "Gonzalezport",
         "2025-05-28",
         "2025-07-03T19:51:15.188Z"
        ],
        [
         "F0033",
         "Air Canada",
         "Sandersshire",
         "Lake Joseside",
         "2025-06-21",
         "2025-07-03T19:51:15.188Z"
        ],
        [
         "F0052",
         "Qatar Airways",
         "Lake Richard",
         "Brookston",
         "2025-05-28",
         "2025-07-03T19:51:15.188Z"
        ],
        [
         "F0069",
         "Qatar Airways",
         "Johnsonburgh",
         "Woodmouth",
         "2025-06-14",
         "2025-07-03T19:51:15.188Z"
        ],
        [
         "F0083",
         "Lufthansa",
         "Jasonborough",
         "Port Audreyville",
         "2025-05-30",
         "2025-07-03T19:51:15.188Z"
        ],
        [
         "F0005",
         "Qatar Airways",
         "Bennettside",
         "New Mistyhaven",
         "2025-06-13",
         "2025-07-03T19:51:15.188Z"
        ],
        [
         "F0007",
         "Delta",
         "Berryport",
         "Miguelburgh",
         "2025-05-24",
         "2025-07-03T19:51:15.188Z"
        ],
        [
         "F0015",
         "Delta",
         "West Ginaton",
         "Youngmouth",
         "2025-05-21",
         "2025-07-03T19:51:15.188Z"
        ],
        [
         "F0017",
         "Delta",
         "Wallermouth",
         "New Rogerberg",
         "2025-05-04",
         "2025-07-03T19:51:15.188Z"
        ],
        [
         "F0035",
         "Lufthansa",
         "Karenshire",
         "North Anthonymouth",
         "2025-05-21",
         "2025-07-03T19:51:15.188Z"
        ],
        [
         "F0058",
         "Delta",
         "North Brittanyborough",
         "West Kellystad",
         "2025-06-10",
         "2025-07-03T19:51:15.188Z"
        ],
        [
         "F0003",
         "Lufthansa",
         "East Patrickborough",
         "North Mary",
         "2025-05-11",
         "2025-07-03T19:51:15.188Z"
        ],
        [
         "F0022",
         "Air Canada",
         "Reedchester",
         "Cruzton",
         "2025-04-27",
         "2025-07-03T19:51:15.188Z"
        ],
        [
         "F0044",
         "Qatar Airways",
         "East Kaylaburgh",
         "Lake Carolynchester",
         "2025-06-01",
         "2025-07-03T19:51:15.188Z"
        ],
        [
         "F0045",
         "Emirates",
         "North Michaelville",
         "Russellton",
         "2025-05-04",
         "2025-07-03T19:51:15.188Z"
        ],
        [
         "F0081",
         "Air Canada",
         "North Barry",
         "Josephborough",
         "2025-04-24",
         "2025-07-03T19:51:15.188Z"
        ],
        [
         "F0087",
         "Emirates",
         "Kellyland",
         "New Jonathanmouth",
         "2025-04-23",
         "2025-07-03T19:51:15.188Z"
        ],
        [
         "F0004",
         "Delta",
         "Maddenshire",
         "Johnchester",
         "2025-05-16",
         "2025-07-03T19:51:15.188Z"
        ],
        [
         "F0006",
         "Air Canada",
         "New Richardside",
         "South Jamesborough",
         "2025-05-16",
         "2025-07-03T19:51:15.188Z"
        ],
        [
         "F0019",
         "Lufthansa",
         "Lake Scott",
         "Christineborough",
         "2025-05-18",
         "2025-07-03T19:51:15.188Z"
        ],
        [
         "F0029",
         "Qatar Airways",
         "Shortberg",
         "Julieburgh",
         "2025-05-11",
         "2025-07-03T19:51:15.188Z"
        ],
        [
         "F0031",
         "Emirates",
         "Billview",
         "Jonathonborough",
         "2025-06-14",
         "2025-07-03T19:51:15.188Z"
        ],
        [
         "F0036",
         "Lufthansa",
         "Armstrongbury",
         "North Natashamouth",
         "2025-05-05",
         "2025-07-03T19:51:15.188Z"
        ],
        [
         "F0043",
         "Lufthansa",
         "Kimberlyborough",
         "New Annfort",
         "2025-05-15",
         "2025-07-03T19:51:15.188Z"
        ],
        [
         "F0055",
         "Air Canada",
         "Spencerborough",
         "Randyville",
         "2025-06-09",
         "2025-07-03T19:51:15.188Z"
        ],
        [
         "F0061",
         "Lufthansa",
         "Dawnshire",
         "Stevenmouth",
         "2025-04-24",
         "2025-07-03T19:51:15.188Z"
        ],
        [
         "F0091",
         "Lufthansa",
         "Lake Scott",
         "Williamshire",
         "2025-06-04",
         "2025-07-03T19:51:15.188Z"
        ],
        [
         "F0093",
         "Air Canada",
         "Frenchside",
         "West Christopher",
         "2025-05-28",
         "2025-07-03T19:51:15.188Z"
        ],
        [
         "F0016",
         "Qatar Airways",
         "Smithborough",
         "Randallview",
         "2025-05-02",
         "2025-07-03T19:51:15.188Z"
        ],
        [
         "F0040",
         "Delta",
         "Ianport",
         "Lake Reginaldside",
         "2025-04-23",
         "2025-07-03T19:51:15.188Z"
        ],
        [
         "F0071",
         "Delta",
         "Jefferyberg",
         "Wendyshire",
         "2025-06-17",
         "2025-07-03T19:51:15.188Z"
        ],
        [
         "F0096",
         "Lufthansa",
         "Coreyfort",
         "West Joseph",
         "2025-06-06",
         "2025-07-03T19:51:15.188Z"
        ],
        [
         "F0010",
         "Emirates",
         "Kruegerchester",
         "Martintown",
         "2025-05-20",
         "2025-07-03T19:51:15.188Z"
        ],
        [
         "F0037",
         "Air Canada",
         "Yangville",
         "Jacksonview",
         "2025-04-29",
         "2025-07-03T19:51:15.188Z"
        ],
        [
         "F0073",
         "Lufthansa",
         "South Jasonville",
         "Clarkeshire",
         "2025-06-09",
         "2025-07-03T19:51:15.188Z"
        ],
        [
         "F0097",
         "Emirates",
         "Billyport",
         "Brentton",
         "2025-05-18",
         "2025-07-03T19:51:15.188Z"
        ],
        [
         "F0023",
         "Lufthansa",
         "Port Jeremyfurt",
         "Lake Walterside",
         "2025-05-11",
         "2025-07-03T19:51:15.188Z"
        ],
        [
         "F0024",
         "Lufthansa",
         "Leestad",
         "Port Debra",
         "2025-05-09",
         "2025-07-03T19:51:15.188Z"
        ],
        [
         "F0032",
         "Emirates",
         "Bushhaven",
         "Patriciamouth",
         "2025-05-22",
         "2025-07-03T19:51:15.188Z"
        ],
        [
         "F0053",
         "Qatar Airways",
         "West Dylanbury",
         "North Wendy",
         "2025-05-24",
         "2025-07-03T19:51:15.188Z"
        ],
        [
         "F0057",
         "Air Canada",
         "Samanthashire",
         "Fisherstad",
         "2025-06-09",
         "2025-07-03T19:51:15.188Z"
        ],
        [
         "F0094",
         "Emirates",
         "South Amyfurt",
         "Jimenezview",
         "2025-06-14",
         "2025-07-03T19:51:15.188Z"
        ],
        [
         "F0012",
         "Air Canada",
         "New Hunter",
         "East Maria",
         "2025-04-23",
         "2025-07-03T19:51:15.188Z"
        ],
        [
         "F0038",
         "Delta",
         "Port Nicole",
         "South Corey",
         "2025-05-22",
         "2025-07-03T19:51:15.188Z"
        ],
        [
         "F0067",
         "Delta",
         "Campbellborough",
         "South Jason",
         "2025-05-13",
         "2025-07-03T19:51:15.188Z"
        ],
        [
         "F0068",
         "Qatar Airways",
         "Lake Seanport",
         "Fieldsstad",
         "2025-06-17",
         "2025-07-03T19:51:15.188Z"
        ],
        [
         "F0075",
         "Qatar Airways",
         "New Danielhaven",
         "Cunninghamfurt",
         "2025-04-27",
         "2025-07-03T19:51:15.188Z"
        ],
        [
         "F0084",
         "Delta",
         "Franklinmouth",
         "Lake Joseph",
         "2025-05-30",
         "2025-07-03T19:51:15.188Z"
        ],
        [
         "F0046",
         "Qatar Airways",
         "West David",
         "North Becky",
         "2025-04-30",
         "2025-07-03T19:51:15.188Z"
        ],
        [
         "F0077",
         "Qatar Airways",
         "Samuelfort",
         "Port Ashley",
         "2025-06-12",
         "2025-07-03T19:51:15.188Z"
        ],
        [
         "F0021",
         "Emirates",
         "South Sara",
         "North Annaport",
         "2025-05-29",
         "2025-07-03T19:51:15.188Z"
        ],
        [
         "F0030",
         "Delta",
         "Angelamouth",
         "Sosaside",
         "2025-06-16",
         "2025-07-03T19:51:15.188Z"
        ],
        [
         "F0039",
         "Air Canada",
         "Paultown",
         "Kellyton",
         "2025-05-19",
         "2025-07-03T19:51:15.188Z"
        ],
        [
         "F0047",
         "Lufthansa",
         "New Cory",
         "Lorettashire",
         "2025-05-05",
         "2025-07-03T19:51:15.188Z"
        ],
        [
         "F0090",
         "Delta",
         "East Rachelport",
         "Davisport",
         "2025-05-23",
         "2025-07-03T19:51:15.188Z"
        ],
        [
         "F0026",
         "Air Canada",
         "New Deborahfort",
         "New Sabrina",
         "2025-05-10",
         "2025-07-03T19:51:15.188Z"
        ],
        [
         "F0059",
         "Lufthansa",
         "South Jeffrey",
         "Jamesland",
         "2025-05-10",
         "2025-07-03T19:51:15.188Z"
        ],
        [
         "F0089",
         "Qatar Airways",
         "Robinsonberg",
         "Adrianchester",
         "2025-05-21",
         "2025-07-03T19:51:15.188Z"
        ],
        [
         "F0092",
         "Lufthansa",
         "Austinborough",
         "Bautistafort",
         "2025-05-29",
         "2025-07-03T19:51:15.188Z"
        ],
        [
         "F0001",
         "Delta",
         "Kellyfort",
         "South Kathleen",
         "2025-05-04",
         "2025-07-03T19:51:15.188Z"
        ],
        [
         "F0018",
         "Air Canada",
         "Schultzborough",
         "Danielton",
         "2025-06-01",
         "2025-07-03T19:51:15.188Z"
        ],
        [
         "F0042",
         "Air Canada",
         "Port William",
         "Darrenmouth",
         "2025-05-11",
         "2025-07-03T19:51:15.188Z"
        ],
        [
         "F0049",
         "Emirates",
         "New Elizabethmouth",
         "Lake Heathermouth",
         "2025-05-06",
         "2025-07-03T19:51:15.188Z"
        ],
        [
         "F0050",
         "Air Canada",
         "East Gailtown",
         "Stevenville",
         "2025-04-28",
         "2025-07-03T19:51:15.188Z"
        ],
        [
         "F0051",
         "Qatar Airways",
         "Lisafurt",
         "New Robert",
         "2025-05-07",
         "2025-07-03T19:51:15.188Z"
        ],
        [
         "F0060",
         "Air Canada",
         "Port Angelicaborough",
         "East Daniel",
         "2025-05-21",
         "2025-07-03T19:51:15.188Z"
        ],
        [
         "F0062",
         "Lufthansa",
         "East Samanthafurt",
         "Lake Troy",
         "2025-05-12",
         "2025-07-03T19:51:15.188Z"
        ],
        [
         "F0064",
         "Delta",
         "East Joshuastad",
         "North Austinland",
         "2025-05-25",
         "2025-07-03T19:51:15.188Z"
        ],
        [
         "F0066",
         "Qatar Airways",
         "Stephenberg",
         "Marcborough",
         "2025-06-04",
         "2025-07-03T19:51:15.188Z"
        ],
        [
         "F0070",
         "Air Canada",
         "Glennhaven",
         "Port Darrenchester",
         "2025-05-04",
         "2025-07-03T19:51:15.188Z"
        ],
        [
         "F0100",
         "Qatar Airways",
         "Port Anthony",
         "Thompsonfort",
         "2025-05-31",
         "2025-07-03T19:51:15.188Z"
        ],
        [
         "F0020",
         "Lufthansa",
         "North Jack",
         "Loweville",
         "2025-06-02",
         "2025-07-03T19:51:15.188Z"
        ],
        [
         "F0048",
         "Lufthansa",
         "Cooperview",
         "Michelleburgh",
         "2025-05-24",
         "2025-07-03T19:51:15.188Z"
        ],
        [
         "F0078",
         "Qatar Airways",
         "Howardbury",
         "Burchburgh",
         "2025-05-09",
         "2025-07-03T19:51:15.188Z"
        ],
        [
         "F0082",
         "Qatar Airways",
         "North Erikamouth",
         "Danielfort",
         "2025-05-19",
         "2025-07-03T19:51:15.188Z"
        ],
        [
         "F0099",
         "Air Canada",
         "Lake Connor",
         "Matthewberg",
         "2025-04-28",
         "2025-07-03T19:51:15.188Z"
        ],
        [
         "F0034",
         "Emirates",
         "Johnsonville",
         "Cooperland",
         "2025-05-18",
         "2025-07-03T19:51:15.188Z"
        ],
        [
         "F0063",
         "Lufthansa",
         "Floresshire",
         "New Anita",
         "2025-06-03",
         "2025-07-03T19:51:15.188Z"
        ],
        [
         "F0076",
         "Lufthansa",
         "Johnsonchester",
         "New Michael",
         "2025-05-14",
         "2025-07-03T19:51:15.188Z"
        ],
        [
         "F0079",
         "Delta",
         "Jonesburgh",
         "Andradeville",
         "2025-06-17",
         "2025-07-03T19:51:15.188Z"
        ],
        [
         "F0080",
         "Emirates",
         "Sonyaberg",
         "East Sarah",
         "2025-06-13",
         "2025-07-03T19:51:15.188Z"
        ],
        [
         "F0085",
         "Lufthansa",
         "Hillton",
         "Castroborough",
         "2025-05-19",
         "2025-07-03T19:51:15.188Z"
        ],
        [
         "F0095",
         "Qatar Airways",
         "North Dawnberg",
         "East Sarahmouth",
         "2025-05-26",
         "2025-07-03T19:51:15.188Z"
        ],
        [
         "F0002",
         "Qatar Airways",
         "Lake Stephen",
         "New Vincent",
         "2025-04-29",
         "2025-07-03T19:51:15.188Z"
        ],
        [
         "F0027",
         "Delta",
         "Acevedoville",
         "Ericchester",
         "2025-05-14",
         "2025-07-03T19:51:15.188Z"
        ],
        [
         "F0028",
         "Delta",
         "South Michaelberg",
         "South Markbury",
         "2025-05-30",
         "2025-07-03T19:51:15.188Z"
        ],
        [
         "F0056",
         "Lufthansa",
         "South Natalie",
         "Schaefertown",
         "2025-05-03",
         "2025-07-03T19:51:15.188Z"
        ],
        [
         "F0086",
         "Delta",
         "Port Chelsea",
         "Robertchester",
         "2025-05-08",
         "2025-07-03T19:51:15.188Z"
        ],
        [
         "F0098",
         "Air Canada",
         "Wallerburgh",
         "Lake Karen",
         "2025-05-01",
         "2025-07-03T19:51:15.188Z"
        ],
        [
         "F0008",
         "Lufthansa",
         "Briannachester",
         "Cervantesland",
         "2025-05-26",
         "2025-07-03T19:51:15.188Z"
        ],
        [
         "F0009",
         "Delta",
         "Alexandraborough",
         "North Alexishaven",
         "2025-06-10",
         "2025-07-03T19:51:15.188Z"
        ],
        [
         "F0011",
         "Lufthansa",
         "Port Joannahaven",
         "North Jasonton",
         "2025-05-30",
         "2025-07-03T19:51:15.188Z"
        ],
        [
         "F0025",
         "Qatar Airways",
         "Chelseaberg",
         "North Michaelshire",
         "2025-06-01",
         "2025-07-03T19:51:15.188Z"
        ],
        [
         "F0041",
         "Air Canada",
         "Lake Stanleyside",
         "Port Scott",
         "2025-06-14",
         "2025-07-03T19:51:15.188Z"
        ],
        [
         "F0054",
         "Air Canada",
         "Seanmouth",
         "North Kathyton",
         "2025-05-09",
         "2025-07-03T19:51:15.188Z"
        ],
        [
         "F0065",
         "Emirates",
         "East Paulland",
         "Barnesberg",
         "2025-04-29",
         "2025-07-03T19:51:15.188Z"
        ],
        [
         "F0072",
         "Emirates",
         "Heiditown",
         "Port Sabrinaburgh",
         "2025-05-22",
         "2025-07-03T19:51:15.188Z"
        ],
        [
         "F0074",
         "Air Canada",
         "Duffyville",
         "Port Vanessa",
         "2025-05-28",
         "2025-07-03T19:51:15.188Z"
        ],
        [
         "F0088",
         "Qatar Airways",
         "North Miguel",
         "Lake Allisonfurt",
         "2025-05-28",
         "2025-07-03T19:51:15.188Z"
        ],
        [
         "F0107",
         "Air Canada",
         "Mitchelltown",
         "Johnsonbury",
         "2025-07-01",
         "2025-07-03T19:51:15.188Z"
        ],
        [
         "F0103",
         "Qatar Airways",
         "Jameschester",
         "Ashleyberg",
         "2025-07-15",
         "2025-07-03T19:51:15.188Z"
        ],
        [
         "F0102",
         "Delta",
         "Schroederbury",
         "Sethfort",
         "2025-06-25",
         "2025-07-03T19:51:15.188Z"
        ],
        [
         "F0109",
         "Air Canada",
         "Williamsland",
         "South Carolberg",
         "2025-06-14",
         "2025-07-03T19:51:15.188Z"
        ],
        [
         "F0108",
         "Lufthansa",
         "New Jennifer",
         "Lake Tracie",
         "2025-06-28",
         "2025-07-03T19:51:15.188Z"
        ],
        [
         "F0101",
         "Qatar Airways",
         "Lake Joshuamouth",
         "Johnshire",
         "2025-07-14",
         "2025-07-03T19:51:15.188Z"
        ],
        [
         "F0104",
         "Qatar Airways",
         "Huangstad",
         "Catherinehaven",
         "2025-06-29",
         "2025-07-03T19:51:15.188Z"
        ],
        [
         "F0105",
         "Air Canada",
         "Aprilton",
         "Victorville",
         "2025-07-05",
         "2025-07-03T19:51:15.188Z"
        ],
        [
         "F0106",
         "Lufthansa",
         "East Austinmouth",
         "New Toddburgh",
         "2025-06-22",
         "2025-07-03T19:51:15.188Z"
        ],
        [
         "F0110",
         "Emirates",
         "Churchport",
         "Wrightton",
         "2025-07-15",
         "2025-07-03T19:51:15.188Z"
        ]
       ],
       "datasetInfos": [
        {
         "name": "_sqldf",
         "schema": {
          "fields": [
           {
            "metadata": {},
            "name": "flight_id",
            "nullable": true,
            "type": "string"
           },
           {
            "metadata": {},
            "name": "airline",
            "nullable": true,
            "type": "string"
           },
           {
            "metadata": {},
            "name": "origin",
            "nullable": true,
            "type": "string"
           },
           {
            "metadata": {},
            "name": "destination",
            "nullable": true,
            "type": "string"
           },
           {
            "metadata": {},
            "name": "flight_date",
            "nullable": true,
            "type": "date"
           },
           {
            "metadata": {},
            "name": "ModifiedDate",
            "nullable": true,
            "type": "timestamp"
           }
          ],
          "type": "struct"
         },
         "tableIdentifier": null,
         "typeStr": "pyspark.sql.connect.dataframe.DataFrame"
        }
       ],
       "dbfsResultPath": null,
       "isJsonSchema": true,
       "metadata": {
        "createTempViewForImplicitDf": true,
        "dataframeName": "_sqldf",
        "executionCount": 52
       },
       "overflow": false,
       "plotOptions": {
        "customPlotOptions": {},
        "displayType": "table",
        "pivotAggregation": null,
        "pivotColumns": null,
        "xColumns": null,
        "yColumns": null
       },
       "removedWidgets": [],
       "schema": [
        {
         "metadata": "{}",
         "name": "flight_id",
         "type": "\"string\""
        },
        {
         "metadata": "{}",
         "name": "airline",
         "type": "\"string\""
        },
        {
         "metadata": "{}",
         "name": "origin",
         "type": "\"string\""
        },
        {
         "metadata": "{}",
         "name": "destination",
         "type": "\"string\""
        },
        {
         "metadata": "{}",
         "name": "flight_date",
         "type": "\"date\""
        },
        {
         "metadata": "{}",
         "name": "ModifiedDate",
         "type": "\"timestamp\""
        }
       ],
       "type": "table"
      }
     },
     "output_type": "display_data"
    }
   ],
   "source": [
    "%sql\n",
    "SELECT * FROM `workspace`.`silver`.`silver_flights`"
   ]
  },
  {
   "cell_type": "code",
   "execution_count": 0,
   "metadata": {
    "application/vnd.databricks.v1+cell": {
     "cellMetadata": {
      "byteLimit": 2048000,
      "implicitDf": true,
      "rowLimit": 10000
     },
     "inputWidgets": {},
     "nuid": "f0d511a7-3f14-4f96-af60-cbfe92b753bb",
     "showTitle": false,
     "tableResultSettingsMap": {},
     "title": ""
    }
   },
   "outputs": [
    {
     "output_type": "display_data",
     "data": {
      "text/html": [
       "<style scoped>\n",
       "  .table-result-container {\n",
       "    max-height: 300px;\n",
       "    overflow: auto;\n",
       "  }\n",
       "  table, th, td {\n",
       "    border: 1px solid black;\n",
       "    border-collapse: collapse;\n",
       "  }\n",
       "  th, td {\n",
       "    padding: 5px;\n",
       "  }\n",
       "  th {\n",
       "    text-align: left;\n",
       "  }\n",
       "</style><div class='table-result-container'><table class='table-result'><thead style='background-color: white'><tr><th>passenger_id</th><th>name</th><th>gender</th><th>nationality</th><th>ModifiedDate</th></tr></thead><tbody><tr><td>P0002</td><td>Kathleen Martinez DVM</td><td>Female</td><td>Burkina Faso</td><td>2025-07-03T19:51:13.390Z</td></tr><tr><td>P0004</td><td>Ryan Ramsey</td><td>Male</td><td>Niger</td><td>2025-07-03T19:51:13.390Z</td></tr><tr><td>P0007</td><td>Sharon Moon</td><td>Male</td><td>Madagascar</td><td>2025-07-03T19:51:13.390Z</td></tr><tr><td>P0014</td><td>Rebecca Sampson</td><td>Male</td><td>Suriname</td><td>2025-07-03T19:51:13.390Z</td></tr><tr><td>P0023</td><td>Wendy Jones</td><td>Female</td><td>Haiti</td><td>2025-07-03T19:51:13.390Z</td></tr><tr><td>P0033</td><td>Sandra Green</td><td>Male</td><td>Switzerland</td><td>2025-07-03T19:51:13.390Z</td></tr><tr><td>P0049</td><td>Douglas Montoya</td><td>Female</td><td>Pakistan</td><td>2025-07-03T19:51:13.390Z</td></tr><tr><td>P0080</td><td>Brandon Lynch</td><td>Female</td><td>Eritrea</td><td>2025-07-03T19:51:13.390Z</td></tr><tr><td>P0120</td><td>Tiffany Williams</td><td>Female</td><td>New Caledonia</td><td>2025-07-03T19:51:13.390Z</td></tr><tr><td>P0134</td><td>Phyllis Lewis</td><td>Female</td><td>Northern Mariana Islands</td><td>2025-07-03T19:51:13.390Z</td></tr><tr><td>P0151</td><td>Katherine Young</td><td>Male</td><td>Nigeria</td><td>2025-07-03T19:51:13.390Z</td></tr><tr><td>P0186</td><td>Kathryn Foster</td><td>Male</td><td>Bahrain</td><td>2025-07-03T19:51:13.390Z</td></tr><tr><td>P0192</td><td>Dr. Chris Dean</td><td>Female</td><td>Seychelles</td><td>2025-07-03T19:51:13.390Z</td></tr><tr><td>P0022</td><td>Edward Rice</td><td>Female</td><td>Antigua and Barbuda</td><td>2025-07-03T19:51:13.390Z</td></tr><tr><td>P0041</td><td>Amanda Hughes</td><td>Male</td><td>Kenya</td><td>2025-07-03T19:51:13.390Z</td></tr><tr><td>P0051</td><td>Brett Rios</td><td>Female</td><td>Guyana</td><td>2025-07-03T19:51:13.390Z</td></tr><tr><td>P0057</td><td>Alexandra Sanders</td><td>Female</td><td>Australia</td><td>2025-07-03T19:51:13.390Z</td></tr><tr><td>P0097</td><td>Kristen Bailey</td><td>Male</td><td>Bermuda</td><td>2025-07-03T19:51:13.390Z</td></tr><tr><td>P0114</td><td>Charles Stanley</td><td>Female</td><td>Tonga</td><td>2025-07-03T19:51:13.390Z</td></tr><tr><td>P0123</td><td>Stephanie Rush</td><td>Female</td><td>Belgium</td><td>2025-07-03T19:51:13.390Z</td></tr><tr><td>P0130</td><td>Gregory Alexander</td><td>Female</td><td>Slovakia (Slovak Republic)</td><td>2025-07-03T19:51:13.390Z</td></tr><tr><td>P0135</td><td>David Hamilton</td><td>Female</td><td>Sri Lanka</td><td>2025-07-03T19:51:13.390Z</td></tr><tr><td>P0138</td><td>Christopher Wilkinson</td><td>Male</td><td>Canada</td><td>2025-07-03T19:51:13.390Z</td></tr><tr><td>P0142</td><td>Dr. Nancy Jacobs PhD</td><td>Male</td><td>Belgium</td><td>2025-07-03T19:51:13.390Z</td></tr><tr><td>P0146</td><td>Phillip Myers</td><td>Female</td><td>Slovenia</td><td>2025-07-03T19:51:13.390Z</td></tr><tr><td>P0148</td><td>James Camacho</td><td>Male</td><td>Switzerland</td><td>2025-07-03T19:51:13.390Z</td></tr><tr><td>P0159</td><td>Nicholas Williams</td><td>Male</td><td>Austria</td><td>2025-07-03T19:51:13.390Z</td></tr><tr><td>P0171</td><td>Brittany Smith</td><td>Female</td><td>Australia</td><td>2025-07-03T19:51:13.390Z</td></tr><tr><td>P0195</td><td>Lisa Bautista</td><td>Male</td><td>Honduras</td><td>2025-07-03T19:51:13.390Z</td></tr><tr><td>P0005</td><td>Mike Kim</td><td>Male</td><td>Taiwan</td><td>2025-07-03T19:51:13.390Z</td></tr><tr><td>P0040</td><td>Troy Green</td><td>Female</td><td>Macao</td><td>2025-07-03T19:51:13.390Z</td></tr><tr><td>P0077</td><td>Audrey Rodriguez</td><td>Female</td><td>Saint Barthelemy</td><td>2025-07-03T19:51:13.390Z</td></tr><tr><td>P0083</td><td>Natalie Jones</td><td>Male</td><td>Faroe Islands</td><td>2025-07-03T19:51:13.390Z</td></tr><tr><td>P0090</td><td>Ryan Anderson</td><td>Male</td><td>Spain</td><td>2025-07-03T19:51:13.390Z</td></tr><tr><td>P0091</td><td>Kenneth Dean</td><td>Female</td><td>Bhutan</td><td>2025-07-03T19:51:13.390Z</td></tr><tr><td>P0108</td><td>Pamela Byrd</td><td>Female</td><td>Morocco</td><td>2025-07-03T19:51:13.390Z</td></tr><tr><td>P0115</td><td>Diana Fisher</td><td>Male</td><td>Netherlands</td><td>2025-07-03T19:51:13.390Z</td></tr><tr><td>P0122</td><td>Joshua White</td><td>Male</td><td>Bouvet Island (Bouvetoya)</td><td>2025-07-03T19:51:13.390Z</td></tr><tr><td>P0133</td><td>Scott Morales</td><td>Male</td><td>Angola</td><td>2025-07-03T19:51:13.390Z</td></tr><tr><td>P0160</td><td>Juan Pineda</td><td>Male</td><td>Burkina Faso</td><td>2025-07-03T19:51:13.390Z</td></tr><tr><td>P0167</td><td>Michael Diaz</td><td>Female</td><td>Kiribati</td><td>2025-07-03T19:51:13.390Z</td></tr><tr><td>P0177</td><td>Eric Tucker</td><td>Female</td><td>Zambia</td><td>2025-07-03T19:51:13.390Z</td></tr><tr><td>P0189</td><td>Joel Gomez</td><td>Female</td><td>Bulgaria</td><td>2025-07-03T19:51:13.390Z</td></tr><tr><td>P0011</td><td>Michael Anderson MD</td><td>Female</td><td>Czech Republic</td><td>2025-07-03T19:51:13.390Z</td></tr><tr><td>P0020</td><td>Xavier Rivera</td><td>Female</td><td>Timor-Leste</td><td>2025-07-03T19:51:13.390Z</td></tr><tr><td>P0032</td><td>Brittany Aguirre</td><td>Male</td><td>Uzbekistan</td><td>2025-07-03T19:51:13.390Z</td></tr><tr><td>P0045</td><td>Mary Mann</td><td>Female</td><td>Sri Lanka</td><td>2025-07-03T19:51:13.390Z</td></tr><tr><td>P0088</td><td>Austin Murphy</td><td>Female</td><td>Lao People's Democratic Republic</td><td>2025-07-03T19:51:13.390Z</td></tr><tr><td>P0110</td><td>Eric Stephens</td><td>Female</td><td>Guyana</td><td>2025-07-03T19:51:13.390Z</td></tr><tr><td>P0113</td><td>Timothy Stone</td><td>Male</td><td>Sierra Leone</td><td>2025-07-03T19:51:13.390Z</td></tr><tr><td>P0125</td><td>Katherine Aguilar</td><td>Male</td><td>Cambodia</td><td>2025-07-03T19:51:13.390Z</td></tr><tr><td>P0136</td><td>Melinda Smith</td><td>Female</td><td>Swaziland</td><td>2025-07-03T19:51:13.390Z</td></tr><tr><td>P0149</td><td>Samuel Sellers</td><td>Male</td><td>Puerto Rico</td><td>2025-07-03T19:51:13.390Z</td></tr><tr><td>P0152</td><td>Kristin Cole</td><td>Male</td><td>Saint Lucia</td><td>2025-07-03T19:51:13.390Z</td></tr><tr><td>P0169</td><td>Jessica Sampson</td><td>Female</td><td>Northern Mariana Islands</td><td>2025-07-03T19:51:13.390Z</td></tr><tr><td>P0034</td><td>Victoria Franklin</td><td>Female</td><td>Spain</td><td>2025-07-03T19:51:13.390Z</td></tr><tr><td>P0036</td><td>Abigail Brown</td><td>Male</td><td>France</td><td>2025-07-03T19:51:13.390Z</td></tr><tr><td>P0082</td><td>Sarah House</td><td>Female</td><td>Cook Islands</td><td>2025-07-03T19:51:13.390Z</td></tr><tr><td>P0084</td><td>Troy White</td><td>Female</td><td>Tokelau</td><td>2025-07-03T19:51:13.390Z</td></tr><tr><td>P0087</td><td>Andrew Carr</td><td>Male</td><td>Andorra</td><td>2025-07-03T19:51:13.390Z</td></tr><tr><td>P0094</td><td>Kristen Pierce</td><td>Male</td><td>Tonga</td><td>2025-07-03T19:51:13.390Z</td></tr><tr><td>P0100</td><td>Benjamin Cowan</td><td>Male</td><td>Namibia</td><td>2025-07-03T19:51:13.390Z</td></tr><tr><td>P0141</td><td>Joshua Richardson</td><td>Female</td><td>Northern Mariana Islands</td><td>2025-07-03T19:51:13.390Z</td></tr><tr><td>P0150</td><td>Charles Wade</td><td>Male</td><td>El Salvador</td><td>2025-07-03T19:51:13.390Z</td></tr><tr><td>P0163</td><td>Benjamin Aguilar</td><td>Female</td><td>Netherlands Antilles</td><td>2025-07-03T19:51:13.390Z</td></tr><tr><td>P0164</td><td>Andrew Snyder</td><td>Male</td><td>Gabon</td><td>2025-07-03T19:51:13.390Z</td></tr><tr><td>P0013</td><td>Christine Young</td><td>Male</td><td>Iran</td><td>2025-07-03T19:51:13.390Z</td></tr><tr><td>P0038</td><td>Heather Garcia</td><td>Male</td><td>Isle of Man</td><td>2025-07-03T19:51:13.390Z</td></tr><tr><td>P0060</td><td>Megan Watts</td><td>Male</td><td>Bahrain</td><td>2025-07-03T19:51:13.390Z</td></tr><tr><td>P0061</td><td>Kelsey Andrews</td><td>Female</td><td>Solomon Islands</td><td>2025-07-03T19:51:13.390Z</td></tr><tr><td>P0107</td><td>Brittany Young</td><td>Female</td><td>Taiwan</td><td>2025-07-03T19:51:13.390Z</td></tr><tr><td>P0111</td><td>Cheyenne Estes</td><td>Male</td><td>Nepal</td><td>2025-07-03T19:51:13.390Z</td></tr><tr><td>P0128</td><td>Nicole Walters</td><td>Male</td><td>Dominica</td><td>2025-07-03T19:51:13.390Z</td></tr><tr><td>P0131</td><td>Dr. Kyle Salazar</td><td>Male</td><td>Brazil</td><td>2025-07-03T19:51:13.390Z</td></tr><tr><td>P0139</td><td>Brent Johnson</td><td>Female</td><td>Bahamas</td><td>2025-07-03T19:51:13.390Z</td></tr><tr><td>P0158</td><td>Richard Barrett</td><td>Male</td><td>Brunei Darussalam</td><td>2025-07-03T19:51:13.390Z</td></tr><tr><td>P0188</td><td>Yvette Morton</td><td>Female</td><td>Vanuatu</td><td>2025-07-03T19:51:13.390Z</td></tr><tr><td>P0001</td><td>Kevin Ferguson</td><td>Male</td><td>Reunion</td><td>2025-07-03T19:51:13.390Z</td></tr><tr><td>P0026</td><td>Anita Jones</td><td>Female</td><td>Comoros</td><td>2025-07-03T19:51:13.390Z</td></tr><tr><td>P0145</td><td>Michael Simmons</td><td>Female</td><td>Cape Verde</td><td>2025-07-03T19:51:13.390Z</td></tr><tr><td>P0153</td><td>Melissa Patterson</td><td>Female</td><td>Cambodia</td><td>2025-07-03T19:51:13.390Z</td></tr><tr><td>P0155</td><td>Rebecca Trujillo</td><td>Female</td><td>Swaziland</td><td>2025-07-03T19:51:13.390Z</td></tr><tr><td>P0170</td><td>Julie Sullivan</td><td>Female</td><td>Ireland</td><td>2025-07-03T19:51:13.390Z</td></tr><tr><td>P0173</td><td>Mary Avila</td><td>Male</td><td>Rwanda</td><td>2025-07-03T19:51:13.390Z</td></tr><tr><td>P0176</td><td>Martin Prince</td><td>Male</td><td>Central African Republic</td><td>2025-07-03T19:51:13.390Z</td></tr><tr><td>P0196</td><td>Jamie Simon</td><td>Female</td><td>Nicaragua</td><td>2025-07-03T19:51:13.390Z</td></tr><tr><td>P0199</td><td>Marie Gonzales</td><td>Male</td><td>Kazakhstan</td><td>2025-07-03T19:51:13.390Z</td></tr><tr><td>P0044</td><td>Lindsey Robinson</td><td>Male</td><td>Bermuda</td><td>2025-07-03T19:51:13.390Z</td></tr><tr><td>P0046</td><td>Matthew Evans</td><td>Female</td><td>Guadeloupe</td><td>2025-07-03T19:51:13.390Z</td></tr><tr><td>P0064</td><td>Pam Garcia</td><td>Male</td><td>Thailand</td><td>2025-07-03T19:51:13.390Z</td></tr><tr><td>P0074</td><td>Shelley Green</td><td>Male</td><td>Guyana</td><td>2025-07-03T19:51:13.390Z</td></tr><tr><td>P0096</td><td>Erika Hall</td><td>Male</td><td>Kenya</td><td>2025-07-03T19:51:13.390Z</td></tr><tr><td>P0099</td><td>Ryan Curry</td><td>Female</td><td>Qatar</td><td>2025-07-03T19:51:13.390Z</td></tr><tr><td>P0116</td><td>Richard Mayer</td><td>Male</td><td>Cayman Islands</td><td>2025-07-03T19:51:13.390Z</td></tr><tr><td>P0129</td><td>Desiree Gonzales</td><td>Female</td><td>Saint Helena</td><td>2025-07-03T19:51:13.390Z</td></tr><tr><td>P0161</td><td>Edward Morris</td><td>Female</td><td>Syrian Arab Republic</td><td>2025-07-03T19:51:13.390Z</td></tr><tr><td>P0180</td><td>Chelsea Copeland</td><td>Female</td><td>Bolivia</td><td>2025-07-03T19:51:13.390Z</td></tr><tr><td>P0181</td><td>Ryan Jenkins</td><td>Female</td><td>Lao People's Democratic Republic</td><td>2025-07-03T19:51:13.390Z</td></tr><tr><td>P0006</td><td>Diana Adams</td><td>Male</td><td>Mayotte</td><td>2025-07-03T19:51:13.390Z</td></tr><tr><td>P0015</td><td>Brittany Schultz</td><td>Female</td><td>Tokelau</td><td>2025-07-03T19:51:13.390Z</td></tr><tr><td>P0019</td><td>Brittney Morgan</td><td>Female</td><td>Congo</td><td>2025-07-03T19:51:13.390Z</td></tr><tr><td>P0054</td><td>Benjamin Mata</td><td>Male</td><td>Croatia</td><td>2025-07-03T19:51:13.390Z</td></tr><tr><td>P0069</td><td>Taylor Stephenson</td><td>Female</td><td>Spain</td><td>2025-07-03T19:51:13.390Z</td></tr><tr><td>P0075</td><td>Patrick Lyons</td><td>Female</td><td>Mayotte</td><td>2025-07-03T19:51:13.390Z</td></tr><tr><td>P0079</td><td>Tracy Russo</td><td>Male</td><td>Iceland</td><td>2025-07-03T19:51:13.390Z</td></tr><tr><td>P0089</td><td>Daniel Jones</td><td>Female</td><td>Costa Rica</td><td>2025-07-03T19:51:13.390Z</td></tr><tr><td>P0092</td><td>Robert Mason</td><td>Male</td><td>Micronesia</td><td>2025-07-03T19:51:13.390Z</td></tr><tr><td>P0101</td><td>Dale Figueroa</td><td>Female</td><td>Albania</td><td>2025-07-03T19:51:13.390Z</td></tr><tr><td>P0140</td><td>Mark Taylor</td><td>Male</td><td>Kyrgyz Republic</td><td>2025-07-03T19:51:13.390Z</td></tr><tr><td>P0154</td><td>Erin Perez</td><td>Female</td><td>Puerto Rico</td><td>2025-07-03T19:51:13.390Z</td></tr><tr><td>P0009</td><td>Allen Lowery</td><td>Male</td><td>Rwanda</td><td>2025-07-03T19:51:13.390Z</td></tr><tr><td>P0010</td><td>Maria Medina</td><td>Male</td><td>Denmark</td><td>2025-07-03T19:51:13.390Z</td></tr><tr><td>P0028</td><td>Juan Sweeney</td><td>Female</td><td>Yemen</td><td>2025-07-03T19:51:13.390Z</td></tr><tr><td>P0030</td><td>Daniel Rush</td><td>Male</td><td>Tunisia</td><td>2025-07-03T19:51:13.390Z</td></tr><tr><td>P0042</td><td>Nicholas Garcia</td><td>Female</td><td>Germany</td><td>2025-07-03T19:51:13.390Z</td></tr><tr><td>P0052</td><td>Jill Brennan</td><td>Female</td><td>Togo</td><td>2025-07-03T19:51:13.390Z</td></tr><tr><td>P0093</td><td>Austin Ortega DVM</td><td>Female</td><td>Korea</td><td>2025-07-03T19:51:13.390Z</td></tr><tr><td>P0112</td><td>William Bailey</td><td>Male</td><td>Micronesia</td><td>2025-07-03T19:51:13.390Z</td></tr><tr><td>P0118</td><td>Anita Figueroa</td><td>Male</td><td>Mauritania</td><td>2025-07-03T19:51:13.390Z</td></tr><tr><td>P0132</td><td>Makayla Robbins</td><td>Male</td><td>Kazakhstan</td><td>2025-07-03T19:51:13.390Z</td></tr><tr><td>P0147</td><td>Joshua Mendoza</td><td>Male</td><td>Tokelau</td><td>2025-07-03T19:51:13.390Z</td></tr><tr><td>P0183</td><td>Benjamin Garcia</td><td>Female</td><td>Saint Pierre and Miquelon</td><td>2025-07-03T19:51:13.390Z</td></tr><tr><td>P0185</td><td>Karen Maynard</td><td>Male</td><td>Romania</td><td>2025-07-03T19:51:13.390Z</td></tr><tr><td>P0190</td><td>Joyce Parker</td><td>Male</td><td>Lebanon</td><td>2025-07-03T19:51:13.390Z</td></tr><tr><td>P0008</td><td>Cheryl Glenn</td><td>Male</td><td>Maldives</td><td>2025-07-03T19:51:13.390Z</td></tr><tr><td>P0027</td><td>Spencer Grimes Jr.</td><td>Female</td><td>Portugal</td><td>2025-07-03T19:51:13.390Z</td></tr><tr><td>P0031</td><td>Jesus Clark</td><td>Female</td><td>Namibia</td><td>2025-07-03T19:51:13.390Z</td></tr><tr><td>P0048</td><td>Jonathan Martinez</td><td>Male</td><td>Mayotte</td><td>2025-07-03T19:51:13.390Z</td></tr><tr><td>P0056</td><td>Joseph James</td><td>Male</td><td>Turks and Caicos Islands</td><td>2025-07-03T19:51:13.390Z</td></tr><tr><td>P0062</td><td>Maria Gibbs</td><td>Female</td><td>Taiwan</td><td>2025-07-03T19:51:13.390Z</td></tr><tr><td>P0063</td><td>Mark Martin</td><td>Male</td><td>Saint Helena</td><td>2025-07-03T19:51:13.390Z</td></tr><tr><td>P0065</td><td>Daniel Ray</td><td>Female</td><td>Argentina</td><td>2025-07-03T19:51:13.390Z</td></tr><tr><td>P0078</td><td>Darlene Perez</td><td>Female</td><td>Cyprus</td><td>2025-07-03T19:51:13.390Z</td></tr><tr><td>P0095</td><td>Kelsey Hill</td><td>Male</td><td>Cook Islands</td><td>2025-07-03T19:51:13.390Z</td></tr><tr><td>P0126</td><td>Charles Wilson</td><td>Male</td><td>Palau</td><td>2025-07-03T19:51:13.390Z</td></tr><tr><td>P0162</td><td>Rebecca Hendricks</td><td>Male</td><td>Faroe Islands</td><td>2025-07-03T19:51:13.390Z</td></tr><tr><td>P0017</td><td>Billy Williams</td><td>Male</td><td>Togo</td><td>2025-07-03T19:51:13.390Z</td></tr><tr><td>P0029</td><td>Tony Adams</td><td>Female</td><td>British Virgin Islands</td><td>2025-07-03T19:51:13.390Z</td></tr><tr><td>P0039</td><td>Krystal Mathews</td><td>Male</td><td>Cyprus</td><td>2025-07-03T19:51:13.390Z</td></tr><tr><td>P0059</td><td>Alexander Wells</td><td>Male</td><td>Bosnia and Herzegovina</td><td>2025-07-03T19:51:13.390Z</td></tr><tr><td>P0068</td><td>Timothy Goodwin</td><td>Female</td><td>Kuwait</td><td>2025-07-03T19:51:13.390Z</td></tr><tr><td>P0086</td><td>Gloria Williams</td><td>Male</td><td>Somalia</td><td>2025-07-03T19:51:13.390Z</td></tr><tr><td>P0144</td><td>Jennifer Gutierrez</td><td>Female</td><td>Bulgaria</td><td>2025-07-03T19:51:13.390Z</td></tr><tr><td>P0165</td><td>Jessica Hansen</td><td>Male</td><td>British Indian Ocean Territory (Chagos Archipelago)</td><td>2025-07-03T19:51:13.390Z</td></tr><tr><td>P0168</td><td>Norman Jones</td><td>Female</td><td>Faroe Islands</td><td>2025-07-03T19:51:13.390Z</td></tr><tr><td>P0197</td><td>Alicia Parks</td><td>Male</td><td>Georgia</td><td>2025-07-03T19:51:13.390Z</td></tr><tr><td>P0025</td><td>Christopher Kim</td><td>Male</td><td>Greece</td><td>2025-07-03T19:51:13.390Z</td></tr><tr><td>P0050</td><td>Brandon Smith</td><td>Male</td><td>Senegal</td><td>2025-07-03T19:51:13.390Z</td></tr><tr><td>P0055</td><td>William Tanner</td><td>Female</td><td>Guadeloupe</td><td>2025-07-03T19:51:13.390Z</td></tr><tr><td>P0067</td><td>Jimmy Smith</td><td>Female</td><td>China</td><td>2025-07-03T19:51:13.390Z</td></tr><tr><td>P0070</td><td>Anthony Ingram</td><td>Male</td><td>Papua New Guinea</td><td>2025-07-03T19:51:13.390Z</td></tr><tr><td>P0098</td><td>Andrea Mcknight</td><td>Male</td><td>Samoa</td><td>2025-07-03T19:51:13.390Z</td></tr><tr><td>P0109</td><td>Brian Mosley</td><td>Male</td><td>Brunei Darussalam</td><td>2025-07-03T19:51:13.390Z</td></tr><tr><td>P0127</td><td>Chloe Conway</td><td>Male</td><td>Brunei Darussalam</td><td>2025-07-03T19:51:13.390Z</td></tr><tr><td>P0143</td><td>Vincent Sanchez</td><td>Female</td><td>Tuvalu</td><td>2025-07-03T19:51:13.390Z</td></tr><tr><td>P0175</td><td>Sheri Novak</td><td>Male</td><td>Turks and Caicos Islands</td><td>2025-07-03T19:51:13.390Z</td></tr><tr><td>P0184</td><td>Evan Scott</td><td>Female</td><td>South Africa</td><td>2025-07-03T19:51:13.390Z</td></tr><tr><td>P0187</td><td>Christopher Wade</td><td>Female</td><td>Lesotho</td><td>2025-07-03T19:51:13.390Z</td></tr><tr><td>P0037</td><td>Cheryl Reyes</td><td>Female</td><td>French Guiana</td><td>2025-07-03T19:51:13.390Z</td></tr><tr><td>P0043</td><td>Gloria Hill</td><td>Female</td><td>Guadeloupe</td><td>2025-07-03T19:51:13.390Z</td></tr><tr><td>P0102</td><td>Michael Collins</td><td>Male</td><td>Turkey</td><td>2025-07-03T19:51:13.390Z</td></tr><tr><td>P0105</td><td>James Frederick</td><td>Female</td><td>Cote d'Ivoire</td><td>2025-07-03T19:51:13.390Z</td></tr><tr><td>P0117</td><td>Scott Acosta</td><td>Female</td><td>Hong Kong</td><td>2025-07-03T19:51:13.390Z</td></tr><tr><td>P0121</td><td>Bethany Foley</td><td>Male</td><td>Romania</td><td>2025-07-03T19:51:13.390Z</td></tr><tr><td>P0124</td><td>Alyssa Herrera</td><td>Female</td><td>Martinique</td><td>2025-07-03T19:51:13.390Z</td></tr><tr><td>P0137</td><td>Vanessa Fuller</td><td>Female</td><td>Moldova</td><td>2025-07-03T19:51:13.390Z</td></tr><tr><td>P0156</td><td>Nicole Drake</td><td>Female</td><td>Jordan</td><td>2025-07-03T19:51:13.390Z</td></tr><tr><td>P0157</td><td>Daniel Sawyer</td><td>Male</td><td>Mayotte</td><td>2025-07-03T19:51:13.390Z</td></tr><tr><td>P0179</td><td>Shelby Tucker</td><td>Male</td><td>Malaysia</td><td>2025-07-03T19:51:13.390Z</td></tr><tr><td>P0182</td><td>Eric Martin</td><td>Female</td><td>Mauritius</td><td>2025-07-03T19:51:13.390Z</td></tr><tr><td>P0193</td><td>Dr. Justin Rivera</td><td>Male</td><td>India</td><td>2025-07-03T19:51:13.390Z</td></tr><tr><td>P0200</td><td>Jim Berry</td><td>Female</td><td>Trinidad and Tobago</td><td>2025-07-03T19:51:13.390Z</td></tr><tr><td>P0016</td><td>Michael Terry</td><td>Female</td><td>El Salvador</td><td>2025-07-03T19:51:13.390Z</td></tr><tr><td>P0024</td><td>Jordan Moore</td><td>Female</td><td>Aruba</td><td>2025-07-03T19:51:13.390Z</td></tr><tr><td>P0047</td><td>Virginia Vance</td><td>Female</td><td>British Indian Ocean Territory (Chagos Archipelago)</td><td>2025-07-03T19:51:13.390Z</td></tr><tr><td>P0053</td><td>Glenda Silva</td><td>Female</td><td>Guinea</td><td>2025-07-03T19:51:13.390Z</td></tr><tr><td>P0076</td><td>Edward Nelson</td><td>Male</td><td>Reunion</td><td>2025-07-03T19:51:13.390Z</td></tr><tr><td>P0172</td><td>Noah Herrera</td><td>Female</td><td>Monaco</td><td>2025-07-03T19:51:13.390Z</td></tr><tr><td>P0174</td><td>Michael Johnson</td><td>Female</td><td>Chad</td><td>2025-07-03T19:51:13.390Z</td></tr><tr><td>P0178</td><td>Brenda Dennis</td><td>Male</td><td>Saint Lucia</td><td>2025-07-03T19:51:13.390Z</td></tr><tr><td>P0194</td><td>Tommy Baker</td><td>Male</td><td>Venezuela</td><td>2025-07-03T19:51:13.390Z</td></tr><tr><td>P0198</td><td>Timothy Carroll</td><td>Male</td><td>Korea</td><td>2025-07-03T19:51:13.390Z</td></tr><tr><td>P0003</td><td>Cynthia Frazier</td><td>Male</td><td>Marshall Islands</td><td>2025-07-03T19:51:13.390Z</td></tr><tr><td>P0012</td><td>Samantha Barnes</td><td>Female</td><td>British Virgin Islands</td><td>2025-07-03T19:51:13.390Z</td></tr><tr><td>P0018</td><td>Kyle Carter</td><td>Female</td><td>Lebanon</td><td>2025-07-03T19:51:13.390Z</td></tr><tr><td>P0021</td><td>Nicholas Ritter</td><td>Female</td><td>Korea</td><td>2025-07-03T19:51:13.390Z</td></tr><tr><td>P0035</td><td>Gina Lee</td><td>Male</td><td>Samoa</td><td>2025-07-03T19:51:13.390Z</td></tr><tr><td>P0058</td><td>William Meza</td><td>Male</td><td>Central African Republic</td><td>2025-07-03T19:51:13.390Z</td></tr><tr><td>P0066</td><td>Brandi Maddox</td><td>Male</td><td>Senegal</td><td>2025-07-03T19:51:13.390Z</td></tr><tr><td>P0071</td><td>Jeanette Garrison</td><td>Male</td><td>Andorra</td><td>2025-07-03T19:51:13.390Z</td></tr><tr><td>P0072</td><td>Seth Salazar</td><td>Female</td><td>Japan</td><td>2025-07-03T19:51:13.390Z</td></tr><tr><td>P0073</td><td>Tina Harris</td><td>Male</td><td>Korea</td><td>2025-07-03T19:51:13.390Z</td></tr><tr><td>P0081</td><td>Amy Kim MD</td><td>Female</td><td>New Caledonia</td><td>2025-07-03T19:51:13.390Z</td></tr><tr><td>P0085</td><td>Frederick Robertson</td><td>Female</td><td>Germany</td><td>2025-07-03T19:51:13.390Z</td></tr><tr><td>P0103</td><td>Nicholas Chapman</td><td>Male</td><td>Jersey</td><td>2025-07-03T19:51:13.390Z</td></tr><tr><td>P0104</td><td>Amy Rose</td><td>Female</td><td>British Virgin Islands</td><td>2025-07-03T19:51:13.390Z</td></tr><tr><td>P0106</td><td>Ashley Freeman</td><td>Female</td><td>Belize</td><td>2025-07-03T19:51:13.390Z</td></tr><tr><td>P0119</td><td>Paul Sanchez</td><td>Male</td><td>Bouvet Island (Bouvetoya)</td><td>2025-07-03T19:51:13.390Z</td></tr><tr><td>P0166</td><td>Walter Thompson</td><td>Male</td><td>Malaysia</td><td>2025-07-03T19:51:13.390Z</td></tr><tr><td>P0191</td><td>Linda Moore</td><td>Male</td><td>Norfolk Island</td><td>2025-07-03T19:51:13.390Z</td></tr><tr><td>P0206</td><td>Amy Burns</td><td>Female</td><td>Malta</td><td>2025-07-03T19:51:13.390Z</td></tr><tr><td>P0211</td><td>Gregory Williams</td><td>Female</td><td>Trinidad and Tobago</td><td>2025-07-03T19:51:13.390Z</td></tr><tr><td>P0212</td><td>Suzanne Myers</td><td>Male</td><td>Algeria</td><td>2025-07-03T19:51:13.390Z</td></tr><tr><td>P0216</td><td>Michele Hunter</td><td>Male</td><td>Cambodia</td><td>2025-07-03T19:51:13.390Z</td></tr><tr><td>P0209</td><td>Christine Norman</td><td>Female</td><td>Sudan</td><td>2025-07-03T19:51:13.390Z</td></tr><tr><td>P0220</td><td>Robert Johnson</td><td>Female</td><td>Nigeria</td><td>2025-07-03T19:51:13.390Z</td></tr><tr><td>P0215</td><td>Alexander Smith</td><td>Female</td><td>Mali</td><td>2025-07-03T19:51:13.390Z</td></tr><tr><td>P0219</td><td>Mary Burke</td><td>Female</td><td>Heard Island and McDonald Islands</td><td>2025-07-03T19:51:13.390Z</td></tr><tr><td>P0201</td><td>Michele Perry</td><td>Male</td><td>Czech Republic</td><td>2025-07-03T19:51:13.390Z</td></tr><tr><td>P0207</td><td>Angela Sparks</td><td>Male</td><td>Nicaragua</td><td>2025-07-03T19:51:13.390Z</td></tr><tr><td>P0214</td><td>Vanessa Yang</td><td>Female</td><td>Bhutan</td><td>2025-07-03T19:51:13.390Z</td></tr><tr><td>P0218</td><td>David Rhodes</td><td>Female</td><td>Saint Vincent and the Grenadines</td><td>2025-07-03T19:51:13.390Z</td></tr><tr><td>P0202</td><td>Javier Mccormick</td><td>Male</td><td>Bolivia</td><td>2025-07-03T19:51:13.390Z</td></tr><tr><td>P0205</td><td>James Bender</td><td>Female</td><td>Saint Barthelemy</td><td>2025-07-03T19:51:13.390Z</td></tr><tr><td>P0210</td><td>Robert Davis</td><td>Male</td><td>Puerto Rico</td><td>2025-07-03T19:51:13.390Z</td></tr><tr><td>P0203</td><td>Michelle Alvarado</td><td>Male</td><td>Iraq</td><td>2025-07-03T19:51:13.390Z</td></tr><tr><td>P0213</td><td>Norman Daniel</td><td>Female</td><td>Korea</td><td>2025-07-03T19:51:13.390Z</td></tr><tr><td>P0217</td><td>Emily Buchanan</td><td>Female</td><td>Uganda</td><td>2025-07-03T19:51:13.390Z</td></tr><tr><td>P0208</td><td>Cynthia Salas</td><td>Male</td><td>United States of America</td><td>2025-07-03T19:51:13.390Z</td></tr><tr><td>P0204</td><td>Jamie Harrell</td><td>Female</td><td>Norway</td><td>2025-07-03T19:51:13.390Z</td></tr><tr><td>P0225</td><td>William Lopez</td><td>Male</td><td>Heard Island and McDonald Islands</td><td>2025-07-03T19:51:13.390Z</td></tr><tr><td>P0224</td><td>Jason Jensen</td><td>Female</td><td>Rwanda</td><td>2025-07-03T19:51:13.390Z</td></tr><tr><td>P0222</td><td>Maria Taylor</td><td>Male</td><td>Lao People's Democratic Republic</td><td>2025-07-03T19:51:13.390Z</td></tr><tr><td>P0221</td><td>Amy Welch</td><td>Male</td><td>Croatia</td><td>2025-07-03T19:51:13.390Z</td></tr><tr><td>P0223</td><td>Nicholas Gomez</td><td>Female</td><td>Cook Islands</td><td>2025-07-03T19:51:13.390Z</td></tr></tbody></table></div>"
      ]
     },
     "metadata": {
      "application/vnd.databricks.v1+output": {
       "addedWidgets": {},
       "aggData": [],
       "aggError": "",
       "aggOverflow": false,
       "aggSchema": [],
       "aggSeriesLimitReached": false,
       "aggType": "",
       "arguments": {},
       "columnCustomDisplayInfos": {},
       "data": [
        [
         "P0002",
         "Kathleen Martinez DVM",
         "Female",
         "Burkina Faso",
         "2025-07-03T19:51:13.390Z"
        ],
        [
         "P0004",
         "Ryan Ramsey",
         "Male",
         "Niger",
         "2025-07-03T19:51:13.390Z"
        ],
        [
         "P0007",
         "Sharon Moon",
         "Male",
         "Madagascar",
         "2025-07-03T19:51:13.390Z"
        ],
        [
         "P0014",
         "Rebecca Sampson",
         "Male",
         "Suriname",
         "2025-07-03T19:51:13.390Z"
        ],
        [
         "P0023",
         "Wendy Jones",
         "Female",
         "Haiti",
         "2025-07-03T19:51:13.390Z"
        ],
        [
         "P0033",
         "Sandra Green",
         "Male",
         "Switzerland",
         "2025-07-03T19:51:13.390Z"
        ],
        [
         "P0049",
         "Douglas Montoya",
         "Female",
         "Pakistan",
         "2025-07-03T19:51:13.390Z"
        ],
        [
         "P0080",
         "Brandon Lynch",
         "Female",
         "Eritrea",
         "2025-07-03T19:51:13.390Z"
        ],
        [
         "P0120",
         "Tiffany Williams",
         "Female",
         "New Caledonia",
         "2025-07-03T19:51:13.390Z"
        ],
        [
         "P0134",
         "Phyllis Lewis",
         "Female",
         "Northern Mariana Islands",
         "2025-07-03T19:51:13.390Z"
        ],
        [
         "P0151",
         "Katherine Young",
         "Male",
         "Nigeria",
         "2025-07-03T19:51:13.390Z"
        ],
        [
         "P0186",
         "Kathryn Foster",
         "Male",
         "Bahrain",
         "2025-07-03T19:51:13.390Z"
        ],
        [
         "P0192",
         "Dr. Chris Dean",
         "Female",
         "Seychelles",
         "2025-07-03T19:51:13.390Z"
        ],
        [
         "P0022",
         "Edward Rice",
         "Female",
         "Antigua and Barbuda",
         "2025-07-03T19:51:13.390Z"
        ],
        [
         "P0041",
         "Amanda Hughes",
         "Male",
         "Kenya",
         "2025-07-03T19:51:13.390Z"
        ],
        [
         "P0051",
         "Brett Rios",
         "Female",
         "Guyana",
         "2025-07-03T19:51:13.390Z"
        ],
        [
         "P0057",
         "Alexandra Sanders",
         "Female",
         "Australia",
         "2025-07-03T19:51:13.390Z"
        ],
        [
         "P0097",
         "Kristen Bailey",
         "Male",
         "Bermuda",
         "2025-07-03T19:51:13.390Z"
        ],
        [
         "P0114",
         "Charles Stanley",
         "Female",
         "Tonga",
         "2025-07-03T19:51:13.390Z"
        ],
        [
         "P0123",
         "Stephanie Rush",
         "Female",
         "Belgium",
         "2025-07-03T19:51:13.390Z"
        ],
        [
         "P0130",
         "Gregory Alexander",
         "Female",
         "Slovakia (Slovak Republic)",
         "2025-07-03T19:51:13.390Z"
        ],
        [
         "P0135",
         "David Hamilton",
         "Female",
         "Sri Lanka",
         "2025-07-03T19:51:13.390Z"
        ],
        [
         "P0138",
         "Christopher Wilkinson",
         "Male",
         "Canada",
         "2025-07-03T19:51:13.390Z"
        ],
        [
         "P0142",
         "Dr. Nancy Jacobs PhD",
         "Male",
         "Belgium",
         "2025-07-03T19:51:13.390Z"
        ],
        [
         "P0146",
         "Phillip Myers",
         "Female",
         "Slovenia",
         "2025-07-03T19:51:13.390Z"
        ],
        [
         "P0148",
         "James Camacho",
         "Male",
         "Switzerland",
         "2025-07-03T19:51:13.390Z"
        ],
        [
         "P0159",
         "Nicholas Williams",
         "Male",
         "Austria",
         "2025-07-03T19:51:13.390Z"
        ],
        [
         "P0171",
         "Brittany Smith",
         "Female",
         "Australia",
         "2025-07-03T19:51:13.390Z"
        ],
        [
         "P0195",
         "Lisa Bautista",
         "Male",
         "Honduras",
         "2025-07-03T19:51:13.390Z"
        ],
        [
         "P0005",
         "Mike Kim",
         "Male",
         "Taiwan",
         "2025-07-03T19:51:13.390Z"
        ],
        [
         "P0040",
         "Troy Green",
         "Female",
         "Macao",
         "2025-07-03T19:51:13.390Z"
        ],
        [
         "P0077",
         "Audrey Rodriguez",
         "Female",
         "Saint Barthelemy",
         "2025-07-03T19:51:13.390Z"
        ],
        [
         "P0083",
         "Natalie Jones",
         "Male",
         "Faroe Islands",
         "2025-07-03T19:51:13.390Z"
        ],
        [
         "P0090",
         "Ryan Anderson",
         "Male",
         "Spain",
         "2025-07-03T19:51:13.390Z"
        ],
        [
         "P0091",
         "Kenneth Dean",
         "Female",
         "Bhutan",
         "2025-07-03T19:51:13.390Z"
        ],
        [
         "P0108",
         "Pamela Byrd",
         "Female",
         "Morocco",
         "2025-07-03T19:51:13.390Z"
        ],
        [
         "P0115",
         "Diana Fisher",
         "Male",
         "Netherlands",
         "2025-07-03T19:51:13.390Z"
        ],
        [
         "P0122",
         "Joshua White",
         "Male",
         "Bouvet Island (Bouvetoya)",
         "2025-07-03T19:51:13.390Z"
        ],
        [
         "P0133",
         "Scott Morales",
         "Male",
         "Angola",
         "2025-07-03T19:51:13.390Z"
        ],
        [
         "P0160",
         "Juan Pineda",
         "Male",
         "Burkina Faso",
         "2025-07-03T19:51:13.390Z"
        ],
        [
         "P0167",
         "Michael Diaz",
         "Female",
         "Kiribati",
         "2025-07-03T19:51:13.390Z"
        ],
        [
         "P0177",
         "Eric Tucker",
         "Female",
         "Zambia",
         "2025-07-03T19:51:13.390Z"
        ],
        [
         "P0189",
         "Joel Gomez",
         "Female",
         "Bulgaria",
         "2025-07-03T19:51:13.390Z"
        ],
        [
         "P0011",
         "Michael Anderson MD",
         "Female",
         "Czech Republic",
         "2025-07-03T19:51:13.390Z"
        ],
        [
         "P0020",
         "Xavier Rivera",
         "Female",
         "Timor-Leste",
         "2025-07-03T19:51:13.390Z"
        ],
        [
         "P0032",
         "Brittany Aguirre",
         "Male",
         "Uzbekistan",
         "2025-07-03T19:51:13.390Z"
        ],
        [
         "P0045",
         "Mary Mann",
         "Female",
         "Sri Lanka",
         "2025-07-03T19:51:13.390Z"
        ],
        [
         "P0088",
         "Austin Murphy",
         "Female",
         "Lao People's Democratic Republic",
         "2025-07-03T19:51:13.390Z"
        ],
        [
         "P0110",
         "Eric Stephens",
         "Female",
         "Guyana",
         "2025-07-03T19:51:13.390Z"
        ],
        [
         "P0113",
         "Timothy Stone",
         "Male",
         "Sierra Leone",
         "2025-07-03T19:51:13.390Z"
        ],
        [
         "P0125",
         "Katherine Aguilar",
         "Male",
         "Cambodia",
         "2025-07-03T19:51:13.390Z"
        ],
        [
         "P0136",
         "Melinda Smith",
         "Female",
         "Swaziland",
         "2025-07-03T19:51:13.390Z"
        ],
        [
         "P0149",
         "Samuel Sellers",
         "Male",
         "Puerto Rico",
         "2025-07-03T19:51:13.390Z"
        ],
        [
         "P0152",
         "Kristin Cole",
         "Male",
         "Saint Lucia",
         "2025-07-03T19:51:13.390Z"
        ],
        [
         "P0169",
         "Jessica Sampson",
         "Female",
         "Northern Mariana Islands",
         "2025-07-03T19:51:13.390Z"
        ],
        [
         "P0034",
         "Victoria Franklin",
         "Female",
         "Spain",
         "2025-07-03T19:51:13.390Z"
        ],
        [
         "P0036",
         "Abigail Brown",
         "Male",
         "France",
         "2025-07-03T19:51:13.390Z"
        ],
        [
         "P0082",
         "Sarah House",
         "Female",
         "Cook Islands",
         "2025-07-03T19:51:13.390Z"
        ],
        [
         "P0084",
         "Troy White",
         "Female",
         "Tokelau",
         "2025-07-03T19:51:13.390Z"
        ],
        [
         "P0087",
         "Andrew Carr",
         "Male",
         "Andorra",
         "2025-07-03T19:51:13.390Z"
        ],
        [
         "P0094",
         "Kristen Pierce",
         "Male",
         "Tonga",
         "2025-07-03T19:51:13.390Z"
        ],
        [
         "P0100",
         "Benjamin Cowan",
         "Male",
         "Namibia",
         "2025-07-03T19:51:13.390Z"
        ],
        [
         "P0141",
         "Joshua Richardson",
         "Female",
         "Northern Mariana Islands",
         "2025-07-03T19:51:13.390Z"
        ],
        [
         "P0150",
         "Charles Wade",
         "Male",
         "El Salvador",
         "2025-07-03T19:51:13.390Z"
        ],
        [
         "P0163",
         "Benjamin Aguilar",
         "Female",
         "Netherlands Antilles",
         "2025-07-03T19:51:13.390Z"
        ],
        [
         "P0164",
         "Andrew Snyder",
         "Male",
         "Gabon",
         "2025-07-03T19:51:13.390Z"
        ],
        [
         "P0013",
         "Christine Young",
         "Male",
         "Iran",
         "2025-07-03T19:51:13.390Z"
        ],
        [
         "P0038",
         "Heather Garcia",
         "Male",
         "Isle of Man",
         "2025-07-03T19:51:13.390Z"
        ],
        [
         "P0060",
         "Megan Watts",
         "Male",
         "Bahrain",
         "2025-07-03T19:51:13.390Z"
        ],
        [
         "P0061",
         "Kelsey Andrews",
         "Female",
         "Solomon Islands",
         "2025-07-03T19:51:13.390Z"
        ],
        [
         "P0107",
         "Brittany Young",
         "Female",
         "Taiwan",
         "2025-07-03T19:51:13.390Z"
        ],
        [
         "P0111",
         "Cheyenne Estes",
         "Male",
         "Nepal",
         "2025-07-03T19:51:13.390Z"
        ],
        [
         "P0128",
         "Nicole Walters",
         "Male",
         "Dominica",
         "2025-07-03T19:51:13.390Z"
        ],
        [
         "P0131",
         "Dr. Kyle Salazar",
         "Male",
         "Brazil",
         "2025-07-03T19:51:13.390Z"
        ],
        [
         "P0139",
         "Brent Johnson",
         "Female",
         "Bahamas",
         "2025-07-03T19:51:13.390Z"
        ],
        [
         "P0158",
         "Richard Barrett",
         "Male",
         "Brunei Darussalam",
         "2025-07-03T19:51:13.390Z"
        ],
        [
         "P0188",
         "Yvette Morton",
         "Female",
         "Vanuatu",
         "2025-07-03T19:51:13.390Z"
        ],
        [
         "P0001",
         "Kevin Ferguson",
         "Male",
         "Reunion",
         "2025-07-03T19:51:13.390Z"
        ],
        [
         "P0026",
         "Anita Jones",
         "Female",
         "Comoros",
         "2025-07-03T19:51:13.390Z"
        ],
        [
         "P0145",
         "Michael Simmons",
         "Female",
         "Cape Verde",
         "2025-07-03T19:51:13.390Z"
        ],
        [
         "P0153",
         "Melissa Patterson",
         "Female",
         "Cambodia",
         "2025-07-03T19:51:13.390Z"
        ],
        [
         "P0155",
         "Rebecca Trujillo",
         "Female",
         "Swaziland",
         "2025-07-03T19:51:13.390Z"
        ],
        [
         "P0170",
         "Julie Sullivan",
         "Female",
         "Ireland",
         "2025-07-03T19:51:13.390Z"
        ],
        [
         "P0173",
         "Mary Avila",
         "Male",
         "Rwanda",
         "2025-07-03T19:51:13.390Z"
        ],
        [
         "P0176",
         "Martin Prince",
         "Male",
         "Central African Republic",
         "2025-07-03T19:51:13.390Z"
        ],
        [
         "P0196",
         "Jamie Simon",
         "Female",
         "Nicaragua",
         "2025-07-03T19:51:13.390Z"
        ],
        [
         "P0199",
         "Marie Gonzales",
         "Male",
         "Kazakhstan",
         "2025-07-03T19:51:13.390Z"
        ],
        [
         "P0044",
         "Lindsey Robinson",
         "Male",
         "Bermuda",
         "2025-07-03T19:51:13.390Z"
        ],
        [
         "P0046",
         "Matthew Evans",
         "Female",
         "Guadeloupe",
         "2025-07-03T19:51:13.390Z"
        ],
        [
         "P0064",
         "Pam Garcia",
         "Male",
         "Thailand",
         "2025-07-03T19:51:13.390Z"
        ],
        [
         "P0074",
         "Shelley Green",
         "Male",
         "Guyana",
         "2025-07-03T19:51:13.390Z"
        ],
        [
         "P0096",
         "Erika Hall",
         "Male",
         "Kenya",
         "2025-07-03T19:51:13.390Z"
        ],
        [
         "P0099",
         "Ryan Curry",
         "Female",
         "Qatar",
         "2025-07-03T19:51:13.390Z"
        ],
        [
         "P0116",
         "Richard Mayer",
         "Male",
         "Cayman Islands",
         "2025-07-03T19:51:13.390Z"
        ],
        [
         "P0129",
         "Desiree Gonzales",
         "Female",
         "Saint Helena",
         "2025-07-03T19:51:13.390Z"
        ],
        [
         "P0161",
         "Edward Morris",
         "Female",
         "Syrian Arab Republic",
         "2025-07-03T19:51:13.390Z"
        ],
        [
         "P0180",
         "Chelsea Copeland",
         "Female",
         "Bolivia",
         "2025-07-03T19:51:13.390Z"
        ],
        [
         "P0181",
         "Ryan Jenkins",
         "Female",
         "Lao People's Democratic Republic",
         "2025-07-03T19:51:13.390Z"
        ],
        [
         "P0006",
         "Diana Adams",
         "Male",
         "Mayotte",
         "2025-07-03T19:51:13.390Z"
        ],
        [
         "P0015",
         "Brittany Schultz",
         "Female",
         "Tokelau",
         "2025-07-03T19:51:13.390Z"
        ],
        [
         "P0019",
         "Brittney Morgan",
         "Female",
         "Congo",
         "2025-07-03T19:51:13.390Z"
        ],
        [
         "P0054",
         "Benjamin Mata",
         "Male",
         "Croatia",
         "2025-07-03T19:51:13.390Z"
        ],
        [
         "P0069",
         "Taylor Stephenson",
         "Female",
         "Spain",
         "2025-07-03T19:51:13.390Z"
        ],
        [
         "P0075",
         "Patrick Lyons",
         "Female",
         "Mayotte",
         "2025-07-03T19:51:13.390Z"
        ],
        [
         "P0079",
         "Tracy Russo",
         "Male",
         "Iceland",
         "2025-07-03T19:51:13.390Z"
        ],
        [
         "P0089",
         "Daniel Jones",
         "Female",
         "Costa Rica",
         "2025-07-03T19:51:13.390Z"
        ],
        [
         "P0092",
         "Robert Mason",
         "Male",
         "Micronesia",
         "2025-07-03T19:51:13.390Z"
        ],
        [
         "P0101",
         "Dale Figueroa",
         "Female",
         "Albania",
         "2025-07-03T19:51:13.390Z"
        ],
        [
         "P0140",
         "Mark Taylor",
         "Male",
         "Kyrgyz Republic",
         "2025-07-03T19:51:13.390Z"
        ],
        [
         "P0154",
         "Erin Perez",
         "Female",
         "Puerto Rico",
         "2025-07-03T19:51:13.390Z"
        ],
        [
         "P0009",
         "Allen Lowery",
         "Male",
         "Rwanda",
         "2025-07-03T19:51:13.390Z"
        ],
        [
         "P0010",
         "Maria Medina",
         "Male",
         "Denmark",
         "2025-07-03T19:51:13.390Z"
        ],
        [
         "P0028",
         "Juan Sweeney",
         "Female",
         "Yemen",
         "2025-07-03T19:51:13.390Z"
        ],
        [
         "P0030",
         "Daniel Rush",
         "Male",
         "Tunisia",
         "2025-07-03T19:51:13.390Z"
        ],
        [
         "P0042",
         "Nicholas Garcia",
         "Female",
         "Germany",
         "2025-07-03T19:51:13.390Z"
        ],
        [
         "P0052",
         "Jill Brennan",
         "Female",
         "Togo",
         "2025-07-03T19:51:13.390Z"
        ],
        [
         "P0093",
         "Austin Ortega DVM",
         "Female",
         "Korea",
         "2025-07-03T19:51:13.390Z"
        ],
        [
         "P0112",
         "William Bailey",
         "Male",
         "Micronesia",
         "2025-07-03T19:51:13.390Z"
        ],
        [
         "P0118",
         "Anita Figueroa",
         "Male",
         "Mauritania",
         "2025-07-03T19:51:13.390Z"
        ],
        [
         "P0132",
         "Makayla Robbins",
         "Male",
         "Kazakhstan",
         "2025-07-03T19:51:13.390Z"
        ],
        [
         "P0147",
         "Joshua Mendoza",
         "Male",
         "Tokelau",
         "2025-07-03T19:51:13.390Z"
        ],
        [
         "P0183",
         "Benjamin Garcia",
         "Female",
         "Saint Pierre and Miquelon",
         "2025-07-03T19:51:13.390Z"
        ],
        [
         "P0185",
         "Karen Maynard",
         "Male",
         "Romania",
         "2025-07-03T19:51:13.390Z"
        ],
        [
         "P0190",
         "Joyce Parker",
         "Male",
         "Lebanon",
         "2025-07-03T19:51:13.390Z"
        ],
        [
         "P0008",
         "Cheryl Glenn",
         "Male",
         "Maldives",
         "2025-07-03T19:51:13.390Z"
        ],
        [
         "P0027",
         "Spencer Grimes Jr.",
         "Female",
         "Portugal",
         "2025-07-03T19:51:13.390Z"
        ],
        [
         "P0031",
         "Jesus Clark",
         "Female",
         "Namibia",
         "2025-07-03T19:51:13.390Z"
        ],
        [
         "P0048",
         "Jonathan Martinez",
         "Male",
         "Mayotte",
         "2025-07-03T19:51:13.390Z"
        ],
        [
         "P0056",
         "Joseph James",
         "Male",
         "Turks and Caicos Islands",
         "2025-07-03T19:51:13.390Z"
        ],
        [
         "P0062",
         "Maria Gibbs",
         "Female",
         "Taiwan",
         "2025-07-03T19:51:13.390Z"
        ],
        [
         "P0063",
         "Mark Martin",
         "Male",
         "Saint Helena",
         "2025-07-03T19:51:13.390Z"
        ],
        [
         "P0065",
         "Daniel Ray",
         "Female",
         "Argentina",
         "2025-07-03T19:51:13.390Z"
        ],
        [
         "P0078",
         "Darlene Perez",
         "Female",
         "Cyprus",
         "2025-07-03T19:51:13.390Z"
        ],
        [
         "P0095",
         "Kelsey Hill",
         "Male",
         "Cook Islands",
         "2025-07-03T19:51:13.390Z"
        ],
        [
         "P0126",
         "Charles Wilson",
         "Male",
         "Palau",
         "2025-07-03T19:51:13.390Z"
        ],
        [
         "P0162",
         "Rebecca Hendricks",
         "Male",
         "Faroe Islands",
         "2025-07-03T19:51:13.390Z"
        ],
        [
         "P0017",
         "Billy Williams",
         "Male",
         "Togo",
         "2025-07-03T19:51:13.390Z"
        ],
        [
         "P0029",
         "Tony Adams",
         "Female",
         "British Virgin Islands",
         "2025-07-03T19:51:13.390Z"
        ],
        [
         "P0039",
         "Krystal Mathews",
         "Male",
         "Cyprus",
         "2025-07-03T19:51:13.390Z"
        ],
        [
         "P0059",
         "Alexander Wells",
         "Male",
         "Bosnia and Herzegovina",
         "2025-07-03T19:51:13.390Z"
        ],
        [
         "P0068",
         "Timothy Goodwin",
         "Female",
         "Kuwait",
         "2025-07-03T19:51:13.390Z"
        ],
        [
         "P0086",
         "Gloria Williams",
         "Male",
         "Somalia",
         "2025-07-03T19:51:13.390Z"
        ],
        [
         "P0144",
         "Jennifer Gutierrez",
         "Female",
         "Bulgaria",
         "2025-07-03T19:51:13.390Z"
        ],
        [
         "P0165",
         "Jessica Hansen",
         "Male",
         "British Indian Ocean Territory (Chagos Archipelago)",
         "2025-07-03T19:51:13.390Z"
        ],
        [
         "P0168",
         "Norman Jones",
         "Female",
         "Faroe Islands",
         "2025-07-03T19:51:13.390Z"
        ],
        [
         "P0197",
         "Alicia Parks",
         "Male",
         "Georgia",
         "2025-07-03T19:51:13.390Z"
        ],
        [
         "P0025",
         "Christopher Kim",
         "Male",
         "Greece",
         "2025-07-03T19:51:13.390Z"
        ],
        [
         "P0050",
         "Brandon Smith",
         "Male",
         "Senegal",
         "2025-07-03T19:51:13.390Z"
        ],
        [
         "P0055",
         "William Tanner",
         "Female",
         "Guadeloupe",
         "2025-07-03T19:51:13.390Z"
        ],
        [
         "P0067",
         "Jimmy Smith",
         "Female",
         "China",
         "2025-07-03T19:51:13.390Z"
        ],
        [
         "P0070",
         "Anthony Ingram",
         "Male",
         "Papua New Guinea",
         "2025-07-03T19:51:13.390Z"
        ],
        [
         "P0098",
         "Andrea Mcknight",
         "Male",
         "Samoa",
         "2025-07-03T19:51:13.390Z"
        ],
        [
         "P0109",
         "Brian Mosley",
         "Male",
         "Brunei Darussalam",
         "2025-07-03T19:51:13.390Z"
        ],
        [
         "P0127",
         "Chloe Conway",
         "Male",
         "Brunei Darussalam",
         "2025-07-03T19:51:13.390Z"
        ],
        [
         "P0143",
         "Vincent Sanchez",
         "Female",
         "Tuvalu",
         "2025-07-03T19:51:13.390Z"
        ],
        [
         "P0175",
         "Sheri Novak",
         "Male",
         "Turks and Caicos Islands",
         "2025-07-03T19:51:13.390Z"
        ],
        [
         "P0184",
         "Evan Scott",
         "Female",
         "South Africa",
         "2025-07-03T19:51:13.390Z"
        ],
        [
         "P0187",
         "Christopher Wade",
         "Female",
         "Lesotho",
         "2025-07-03T19:51:13.390Z"
        ],
        [
         "P0037",
         "Cheryl Reyes",
         "Female",
         "French Guiana",
         "2025-07-03T19:51:13.390Z"
        ],
        [
         "P0043",
         "Gloria Hill",
         "Female",
         "Guadeloupe",
         "2025-07-03T19:51:13.390Z"
        ],
        [
         "P0102",
         "Michael Collins",
         "Male",
         "Turkey",
         "2025-07-03T19:51:13.390Z"
        ],
        [
         "P0105",
         "James Frederick",
         "Female",
         "Cote d'Ivoire",
         "2025-07-03T19:51:13.390Z"
        ],
        [
         "P0117",
         "Scott Acosta",
         "Female",
         "Hong Kong",
         "2025-07-03T19:51:13.390Z"
        ],
        [
         "P0121",
         "Bethany Foley",
         "Male",
         "Romania",
         "2025-07-03T19:51:13.390Z"
        ],
        [
         "P0124",
         "Alyssa Herrera",
         "Female",
         "Martinique",
         "2025-07-03T19:51:13.390Z"
        ],
        [
         "P0137",
         "Vanessa Fuller",
         "Female",
         "Moldova",
         "2025-07-03T19:51:13.390Z"
        ],
        [
         "P0156",
         "Nicole Drake",
         "Female",
         "Jordan",
         "2025-07-03T19:51:13.390Z"
        ],
        [
         "P0157",
         "Daniel Sawyer",
         "Male",
         "Mayotte",
         "2025-07-03T19:51:13.390Z"
        ],
        [
         "P0179",
         "Shelby Tucker",
         "Male",
         "Malaysia",
         "2025-07-03T19:51:13.390Z"
        ],
        [
         "P0182",
         "Eric Martin",
         "Female",
         "Mauritius",
         "2025-07-03T19:51:13.390Z"
        ],
        [
         "P0193",
         "Dr. Justin Rivera",
         "Male",
         "India",
         "2025-07-03T19:51:13.390Z"
        ],
        [
         "P0200",
         "Jim Berry",
         "Female",
         "Trinidad and Tobago",
         "2025-07-03T19:51:13.390Z"
        ],
        [
         "P0016",
         "Michael Terry",
         "Female",
         "El Salvador",
         "2025-07-03T19:51:13.390Z"
        ],
        [
         "P0024",
         "Jordan Moore",
         "Female",
         "Aruba",
         "2025-07-03T19:51:13.390Z"
        ],
        [
         "P0047",
         "Virginia Vance",
         "Female",
         "British Indian Ocean Territory (Chagos Archipelago)",
         "2025-07-03T19:51:13.390Z"
        ],
        [
         "P0053",
         "Glenda Silva",
         "Female",
         "Guinea",
         "2025-07-03T19:51:13.390Z"
        ],
        [
         "P0076",
         "Edward Nelson",
         "Male",
         "Reunion",
         "2025-07-03T19:51:13.390Z"
        ],
        [
         "P0172",
         "Noah Herrera",
         "Female",
         "Monaco",
         "2025-07-03T19:51:13.390Z"
        ],
        [
         "P0174",
         "Michael Johnson",
         "Female",
         "Chad",
         "2025-07-03T19:51:13.390Z"
        ],
        [
         "P0178",
         "Brenda Dennis",
         "Male",
         "Saint Lucia",
         "2025-07-03T19:51:13.390Z"
        ],
        [
         "P0194",
         "Tommy Baker",
         "Male",
         "Venezuela",
         "2025-07-03T19:51:13.390Z"
        ],
        [
         "P0198",
         "Timothy Carroll",
         "Male",
         "Korea",
         "2025-07-03T19:51:13.390Z"
        ],
        [
         "P0003",
         "Cynthia Frazier",
         "Male",
         "Marshall Islands",
         "2025-07-03T19:51:13.390Z"
        ],
        [
         "P0012",
         "Samantha Barnes",
         "Female",
         "British Virgin Islands",
         "2025-07-03T19:51:13.390Z"
        ],
        [
         "P0018",
         "Kyle Carter",
         "Female",
         "Lebanon",
         "2025-07-03T19:51:13.390Z"
        ],
        [
         "P0021",
         "Nicholas Ritter",
         "Female",
         "Korea",
         "2025-07-03T19:51:13.390Z"
        ],
        [
         "P0035",
         "Gina Lee",
         "Male",
         "Samoa",
         "2025-07-03T19:51:13.390Z"
        ],
        [
         "P0058",
         "William Meza",
         "Male",
         "Central African Republic",
         "2025-07-03T19:51:13.390Z"
        ],
        [
         "P0066",
         "Brandi Maddox",
         "Male",
         "Senegal",
         "2025-07-03T19:51:13.390Z"
        ],
        [
         "P0071",
         "Jeanette Garrison",
         "Male",
         "Andorra",
         "2025-07-03T19:51:13.390Z"
        ],
        [
         "P0072",
         "Seth Salazar",
         "Female",
         "Japan",
         "2025-07-03T19:51:13.390Z"
        ],
        [
         "P0073",
         "Tina Harris",
         "Male",
         "Korea",
         "2025-07-03T19:51:13.390Z"
        ],
        [
         "P0081",
         "Amy Kim MD",
         "Female",
         "New Caledonia",
         "2025-07-03T19:51:13.390Z"
        ],
        [
         "P0085",
         "Frederick Robertson",
         "Female",
         "Germany",
         "2025-07-03T19:51:13.390Z"
        ],
        [
         "P0103",
         "Nicholas Chapman",
         "Male",
         "Jersey",
         "2025-07-03T19:51:13.390Z"
        ],
        [
         "P0104",
         "Amy Rose",
         "Female",
         "British Virgin Islands",
         "2025-07-03T19:51:13.390Z"
        ],
        [
         "P0106",
         "Ashley Freeman",
         "Female",
         "Belize",
         "2025-07-03T19:51:13.390Z"
        ],
        [
         "P0119",
         "Paul Sanchez",
         "Male",
         "Bouvet Island (Bouvetoya)",
         "2025-07-03T19:51:13.390Z"
        ],
        [
         "P0166",
         "Walter Thompson",
         "Male",
         "Malaysia",
         "2025-07-03T19:51:13.390Z"
        ],
        [
         "P0191",
         "Linda Moore",
         "Male",
         "Norfolk Island",
         "2025-07-03T19:51:13.390Z"
        ],
        [
         "P0206",
         "Amy Burns",
         "Female",
         "Malta",
         "2025-07-03T19:51:13.390Z"
        ],
        [
         "P0211",
         "Gregory Williams",
         "Female",
         "Trinidad and Tobago",
         "2025-07-03T19:51:13.390Z"
        ],
        [
         "P0212",
         "Suzanne Myers",
         "Male",
         "Algeria",
         "2025-07-03T19:51:13.390Z"
        ],
        [
         "P0216",
         "Michele Hunter",
         "Male",
         "Cambodia",
         "2025-07-03T19:51:13.390Z"
        ],
        [
         "P0209",
         "Christine Norman",
         "Female",
         "Sudan",
         "2025-07-03T19:51:13.390Z"
        ],
        [
         "P0220",
         "Robert Johnson",
         "Female",
         "Nigeria",
         "2025-07-03T19:51:13.390Z"
        ],
        [
         "P0215",
         "Alexander Smith",
         "Female",
         "Mali",
         "2025-07-03T19:51:13.390Z"
        ],
        [
         "P0219",
         "Mary Burke",
         "Female",
         "Heard Island and McDonald Islands",
         "2025-07-03T19:51:13.390Z"
        ],
        [
         "P0201",
         "Michele Perry",
         "Male",
         "Czech Republic",
         "2025-07-03T19:51:13.390Z"
        ],
        [
         "P0207",
         "Angela Sparks",
         "Male",
         "Nicaragua",
         "2025-07-03T19:51:13.390Z"
        ],
        [
         "P0214",
         "Vanessa Yang",
         "Female",
         "Bhutan",
         "2025-07-03T19:51:13.390Z"
        ],
        [
         "P0218",
         "David Rhodes",
         "Female",
         "Saint Vincent and the Grenadines",
         "2025-07-03T19:51:13.390Z"
        ],
        [
         "P0202",
         "Javier Mccormick",
         "Male",
         "Bolivia",
         "2025-07-03T19:51:13.390Z"
        ],
        [
         "P0205",
         "James Bender",
         "Female",
         "Saint Barthelemy",
         "2025-07-03T19:51:13.390Z"
        ],
        [
         "P0210",
         "Robert Davis",
         "Male",
         "Puerto Rico",
         "2025-07-03T19:51:13.390Z"
        ],
        [
         "P0203",
         "Michelle Alvarado",
         "Male",
         "Iraq",
         "2025-07-03T19:51:13.390Z"
        ],
        [
         "P0213",
         "Norman Daniel",
         "Female",
         "Korea",
         "2025-07-03T19:51:13.390Z"
        ],
        [
         "P0217",
         "Emily Buchanan",
         "Female",
         "Uganda",
         "2025-07-03T19:51:13.390Z"
        ],
        [
         "P0208",
         "Cynthia Salas",
         "Male",
         "United States of America",
         "2025-07-03T19:51:13.390Z"
        ],
        [
         "P0204",
         "Jamie Harrell",
         "Female",
         "Norway",
         "2025-07-03T19:51:13.390Z"
        ],
        [
         "P0225",
         "William Lopez",
         "Male",
         "Heard Island and McDonald Islands",
         "2025-07-03T19:51:13.390Z"
        ],
        [
         "P0224",
         "Jason Jensen",
         "Female",
         "Rwanda",
         "2025-07-03T19:51:13.390Z"
        ],
        [
         "P0222",
         "Maria Taylor",
         "Male",
         "Lao People's Democratic Republic",
         "2025-07-03T19:51:13.390Z"
        ],
        [
         "P0221",
         "Amy Welch",
         "Male",
         "Croatia",
         "2025-07-03T19:51:13.390Z"
        ],
        [
         "P0223",
         "Nicholas Gomez",
         "Female",
         "Cook Islands",
         "2025-07-03T19:51:13.390Z"
        ]
       ],
       "datasetInfos": [
        {
         "name": "_sqldf",
         "schema": {
          "fields": [
           {
            "metadata": {},
            "name": "passenger_id",
            "nullable": true,
            "type": "string"
           },
           {
            "metadata": {},
            "name": "name",
            "nullable": true,
            "type": "string"
           },
           {
            "metadata": {},
            "name": "gender",
            "nullable": true,
            "type": "string"
           },
           {
            "metadata": {},
            "name": "nationality",
            "nullable": true,
            "type": "string"
           },
           {
            "metadata": {},
            "name": "ModifiedDate",
            "nullable": true,
            "type": "timestamp"
           }
          ],
          "type": "struct"
         },
         "tableIdentifier": null,
         "typeStr": "pyspark.sql.connect.dataframe.DataFrame"
        }
       ],
       "dbfsResultPath": null,
       "isJsonSchema": true,
       "metadata": {
        "createTempViewForImplicitDf": true,
        "dataframeName": "_sqldf",
        "executionCount": 53
       },
       "overflow": false,
       "plotOptions": {
        "customPlotOptions": {},
        "displayType": "table",
        "pivotAggregation": null,
        "pivotColumns": null,
        "xColumns": null,
        "yColumns": null
       },
       "removedWidgets": [],
       "schema": [
        {
         "metadata": "{}",
         "name": "passenger_id",
         "type": "\"string\""
        },
        {
         "metadata": "{}",
         "name": "name",
         "type": "\"string\""
        },
        {
         "metadata": "{}",
         "name": "gender",
         "type": "\"string\""
        },
        {
         "metadata": "{}",
         "name": "nationality",
         "type": "\"string\""
        },
        {
         "metadata": "{}",
         "name": "ModifiedDate",
         "type": "\"timestamp\""
        }
       ],
       "type": "table"
      }
     },
     "output_type": "display_data"
    }
   ],
   "source": [
    "%sql\n",
    "SELECT * FROM `workspace`.`silver`.`silver_passengers`"
   ]
  },
  {
   "cell_type": "markdown",
   "metadata": {
    "application/vnd.databricks.v1+cell": {
     "cellMetadata": {
      "byteLimit": 2048000,
      "rowLimit": 10000
     },
     "inputWidgets": {},
     "nuid": "6d2cfea0-8ad6-46e7-8481-69972aa95732",
     "showTitle": false,
     "tableResultSettingsMap": {},
     "title": ""
    }
   },
   "source": [
    "### Parameters"
   ]
  },
  {
   "cell_type": "code",
   "execution_count": 0,
   "metadata": {
    "application/vnd.databricks.v1+cell": {
     "cellMetadata": {
      "byteLimit": 2048000,
      "rowLimit": 10000
     },
     "inputWidgets": {},
     "nuid": "f32c59a8-aa3a-4ce1-9f6b-3866d0d27447",
     "showTitle": false,
     "tableResultSettingsMap": {},
     "title": ""
    }
   },
   "outputs": [],
   "source": [
    "# #KEY COLUMN\n",
    "# dbutils.widgets.text(\"keycols\",\"\")\n",
    "\n",
    "# #CDC COLUMN\n",
    "# dbutils.widgets.text(\"cdccol\",\"\")\n",
    "\n",
    "# #Back-Dated Refresh\n",
    "# dbutils.widgets.text(\"backdated_refresh\",\"\")\n",
    "\n",
    "# #source Object\n",
    "# dbutils.widgets.text(\"source_object\",\"\")\n",
    "\n",
    "# #source Schema\n",
    "# dbutils.widgets.text(\"source_schema\",\"\")"
   ]
  },
  {
   "cell_type": "markdown",
   "metadata": {
    "application/vnd.databricks.v1+cell": {
     "cellMetadata": {
      "byteLimit": 2048000,
      "rowLimit": 10000
     },
     "inputWidgets": {},
     "nuid": "baa4ff31-8975-462d-a44c-4d7d124bfadd",
     "showTitle": false,
     "tableResultSettingsMap": {},
     "title": ""
    }
   },
   "source": [
    "### Fetching Parameters and creating variables"
   ]
  },
  {
   "cell_type": "code",
   "execution_count": 0,
   "metadata": {
    "application/vnd.databricks.v1+cell": {
     "cellMetadata": {
      "byteLimit": 2048000,
      "rowLimit": 10000
     },
     "inputWidgets": {},
     "nuid": "a6a23ff0-a6d8-4c03-86d3-074d9fe7ae4c",
     "showTitle": false,
     "tableResultSettingsMap": {},
     "title": ""
    }
   },
   "outputs": [],
   "source": [
    "# #key_cols_lis\n",
    "# key_cols_list = eval(dbutils.widgets.get(\"keycols\"))\n",
    "\n",
    "# #CDC col\n",
    "# cdc_col = dbutils.widgets.get(\"cdccol\")\n",
    "\n",
    "# #backdated refresh\n",
    "# backdated_refresh = dbutils.widgets.get(\"backdated_refresh\")\n",
    "\n",
    "# #source object\n",
    "# source_object = dbutils.widgets.get(\"source_object\")\n",
    "\n",
    "# #source schema\n",
    "# source_schema = dbutils.widgets.get(\"source_schema\")"
   ]
  },
  {
   "cell_type": "code",
   "execution_count": 0,
   "metadata": {
    "application/vnd.databricks.v1+cell": {
     "cellMetadata": {
      "byteLimit": 2048000,
      "rowLimit": 10000
     },
     "inputWidgets": {},
     "nuid": "5851a28d-5d7c-47db-9cf4-58b1a64512bc",
     "showTitle": false,
     "tableResultSettingsMap": {},
     "title": ""
    }
   },
   "outputs": [],
   "source": [
    "###Flight\n",
    "\n",
    "# catalog = \"workspace\"\n",
    "\n",
    "# key_cols = \"['flight_id']\"\n",
    "# key_cols_list = eval(key_cols)\n",
    "\n",
    "# cdc_col = \"ModifiedDate\"\n",
    "\n",
    "# backdated_refresh = \"\"\n",
    "\n",
    "# source_object = \"silver_flights\"\n",
    "\n",
    "# source_schema = \"silver\"\n",
    "\n",
    "# target_schema = \"gold\"\n",
    "\n",
    "# target_object = \"DimFlights\"\n",
    "\n",
    "# surrogate_key = \"DimFlightsKey\""
   ]
  },
  {
   "cell_type": "code",
   "execution_count": 0,
   "metadata": {
    "application/vnd.databricks.v1+cell": {
     "cellMetadata": {
      "byteLimit": 2048000,
      "rowLimit": 10000
     },
     "inputWidgets": {},
     "nuid": "5acaf233-1f0a-4f24-8181-a38c3665412b",
     "showTitle": false,
     "tableResultSettingsMap": {},
     "title": ""
    }
   },
   "outputs": [],
   "source": [
    "### Airport\n",
    "\n",
    "# catalog = \"workspace\"\n",
    "\n",
    "# key_cols = \"['airport_id']\"\n",
    "# key_cols_list = eval(key_cols)\n",
    "\n",
    "# cdc_col = \"ModifiedDate\"\n",
    "\n",
    "# backdated_refresh = \"\"\n",
    "\n",
    "# source_object = \"silver_airports\"\n",
    "\n",
    "# source_schema = \"silver\"\n",
    "\n",
    "# target_schema = \"gold\"\n",
    "\n",
    "# target_object = \"DimAirports\"\n",
    "\n",
    "# surrogate_key = \"DimAirportsKey\""
   ]
  },
  {
   "cell_type": "code",
   "execution_count": 0,
   "metadata": {
    "application/vnd.databricks.v1+cell": {
     "cellMetadata": {
      "byteLimit": 2048000,
      "rowLimit": 10000
     },
     "inputWidgets": {},
     "nuid": "b236360c-611d-49c4-8ac2-bfec8b10d43c",
     "showTitle": false,
     "tableResultSettingsMap": {},
     "title": ""
    }
   },
   "outputs": [],
   "source": [
    "### Passengers\n",
    "\n",
    "catalog = \"workspace\"\n",
    "\n",
    "key_cols = \"['passenger_id']\"\n",
    "key_cols_list = eval(key_cols)\n",
    "\n",
    "cdc_col = \"ModifiedDate\"\n",
    "\n",
    "backdated_refresh = \"\"\n",
    "\n",
    "source_object = \"silver_passengers\"\n",
    "\n",
    "source_schema = \"silver\"\n",
    "\n",
    "target_schema = \"gold\"\n",
    "\n",
    "target_object = \"DimPassengers\"\n",
    "\n",
    "surrogate_key = \"DimPassengersKey\""
   ]
  },
  {
   "cell_type": "code",
   "execution_count": 0,
   "metadata": {
    "application/vnd.databricks.v1+cell": {
     "cellMetadata": {
      "byteLimit": 2048000,
      "rowLimit": 10000
     },
     "inputWidgets": {},
     "nuid": "e0ec0aaf-230e-4953-841b-778c47a34b6b",
     "showTitle": false,
     "tableResultSettingsMap": {},
     "title": ""
    }
   },
   "outputs": [],
   "source": []
  },
  {
   "cell_type": "markdown",
   "metadata": {
    "application/vnd.databricks.v1+cell": {
     "cellMetadata": {
      "byteLimit": 2048000,
      "rowLimit": 10000
     },
     "inputWidgets": {},
     "nuid": "32a6b571-1614-48f8-a628-01e03029d548",
     "showTitle": false,
     "tableResultSettingsMap": {},
     "title": ""
    }
   },
   "source": [
    "### Incremental data ingestion"
   ]
  },
  {
   "cell_type": "markdown",
   "metadata": {
    "application/vnd.databricks.v1+cell": {
     "cellMetadata": {
      "byteLimit": 2048000,
      "rowLimit": 10000
     },
     "inputWidgets": {},
     "nuid": "607db5aa-c52d-4bb3-8fd1-cd18d1835456",
     "showTitle": false,
     "tableResultSettingsMap": {},
     "title": ""
    }
   },
   "source": [
    "### Last Load Date"
   ]
  },
  {
   "cell_type": "code",
   "execution_count": 0,
   "metadata": {
    "application/vnd.databricks.v1+cell": {
     "cellMetadata": {
      "byteLimit": 2048000,
      "rowLimit": 10000
     },
     "inputWidgets": {},
     "nuid": "3619f6cc-b5e2-436d-b7f1-b133d8b9a139",
     "showTitle": false,
     "tableResultSettingsMap": {},
     "title": ""
    }
   },
   "outputs": [],
   "source": [
    "#No BackDated Refresh\n",
    "if len(backdated_refresh)==0:\n",
    "  #if dbutils.fs.ls(f\"\")---> # CANNOT USE THIS BECAUSE OUR VOLUME IS MANGED VOLUME AND WE CANNOT PROVIDE THE LOCATION\n",
    "  \n",
    "  #if data exists in the destination\n",
    "  if spark.catalog.tableExists(f\"{catalog}.{target_schema}.{target_object}\"):\n",
    "    last_load = spark.sql(f\"select max({cdc_col}) from {catalog}.{target_schema}.{target_object}\").collect()[0][0]  #collect method simply convert the data into list and within that list we are grabbing 0th and 0th object.\n",
    "  else:\n",
    "    # Yes back dated refresh\n",
    "    last_load = \"1900-01-01 00:00:00\"\n",
    "else:\n",
    "  last_load = backdated_refresh"
   ]
  },
  {
   "cell_type": "code",
   "execution_count": 0,
   "metadata": {
    "application/vnd.databricks.v1+cell": {
     "cellMetadata": {
      "byteLimit": 2048000,
      "rowLimit": 10000
     },
     "inputWidgets": {},
     "nuid": "54e70a79-7e83-48a1-9df2-c930129d6787",
     "showTitle": false,
     "tableResultSettingsMap": {},
     "title": ""
    }
   },
   "outputs": [
    {
     "output_type": "execute_result",
     "data": {
      "text/plain": [
       "datetime.datetime(2025, 7, 3, 19, 51, 13, 390000)"
      ]
     },
     "execution_count": 60,
     "metadata": {},
     "output_type": "execute_result"
    }
   ],
   "source": [
    "last_load"
   ]
  },
  {
   "cell_type": "code",
   "execution_count": 0,
   "metadata": {
    "application/vnd.databricks.v1+cell": {
     "cellMetadata": {
      "byteLimit": 2048000,
      "implicitDf": true,
      "rowLimit": 10000
     },
     "inputWidgets": {},
     "nuid": "485dac0b-5c93-4075-b84f-afb234c22c10",
     "showTitle": false,
     "tableResultSettingsMap": {},
     "title": ""
    }
   },
   "outputs": [],
   "source": [
    "df_src = spark.sql(f\"SELECT * FROM {source_schema}.{source_object} where {cdc_col}> '{last_load}'\")"
   ]
  },
  {
   "cell_type": "code",
   "execution_count": 0,
   "metadata": {
    "application/vnd.databricks.v1+cell": {
     "cellMetadata": {
      "byteLimit": 2048000,
      "rowLimit": 10000
     },
     "inputWidgets": {},
     "nuid": "205c8d73-0949-4ef0-b6d2-b44f57c608db",
     "showTitle": false,
     "tableResultSettingsMap": {},
     "title": ""
    }
   },
   "outputs": [
    {
     "output_type": "display_data",
     "data": {
      "text/html": [
       "<style scoped>\n",
       "  .table-result-container {\n",
       "    max-height: 300px;\n",
       "    overflow: auto;\n",
       "  }\n",
       "  table, th, td {\n",
       "    border: 1px solid black;\n",
       "    border-collapse: collapse;\n",
       "  }\n",
       "  th, td {\n",
       "    padding: 5px;\n",
       "  }\n",
       "  th {\n",
       "    text-align: left;\n",
       "  }\n",
       "</style><div class='table-result-container'><table class='table-result'><thead style='background-color: white'><tr><th>passenger_id</th><th>name</th><th>gender</th><th>nationality</th><th>ModifiedDate</th></tr></thead><tbody></tbody></table></div>"
      ]
     },
     "metadata": {
      "application/vnd.databricks.v1+output": {
       "addedWidgets": {},
       "aggData": [],
       "aggError": "",
       "aggOverflow": false,
       "aggSchema": [],
       "aggSeriesLimitReached": false,
       "aggType": "",
       "arguments": {},
       "columnCustomDisplayInfos": {},
       "data": [],
       "datasetInfos": [],
       "dbfsResultPath": null,
       "isJsonSchema": true,
       "metadata": {},
       "overflow": false,
       "plotOptions": {
        "customPlotOptions": {},
        "displayType": "table",
        "pivotAggregation": null,
        "pivotColumns": null,
        "xColumns": null,
        "yColumns": null
       },
       "removedWidgets": [],
       "schema": [
        {
         "metadata": "{}",
         "name": "passenger_id",
         "type": "\"string\""
        },
        {
         "metadata": "{}",
         "name": "name",
         "type": "\"string\""
        },
        {
         "metadata": "{}",
         "name": "gender",
         "type": "\"string\""
        },
        {
         "metadata": "{}",
         "name": "nationality",
         "type": "\"string\""
        },
        {
         "metadata": "{}",
         "name": "ModifiedDate",
         "type": "\"timestamp\""
        }
       ],
       "type": "table"
      }
     },
     "output_type": "display_data"
    }
   ],
   "source": [
    "df_src.display()"
   ]
  },
  {
   "cell_type": "markdown",
   "metadata": {
    "application/vnd.databricks.v1+cell": {
     "cellMetadata": {
      "byteLimit": 2048000,
      "rowLimit": 10000
     },
     "inputWidgets": {},
     "nuid": "cfa30160-ff72-4967-8ae3-5ff962723dba",
     "showTitle": false,
     "tableResultSettingsMap": {},
     "title": ""
    }
   },
   "source": [
    "## Old VS New"
   ]
  },
  {
   "cell_type": "code",
   "execution_count": 0,
   "metadata": {
    "application/vnd.databricks.v1+cell": {
     "cellMetadata": {
      "byteLimit": 2048000,
      "rowLimit": 10000
     },
     "inputWidgets": {},
     "nuid": "0a6ab2d5-d1dd-43e3-a921-46b33cf9103c",
     "showTitle": false,
     "tableResultSettingsMap": {},
     "title": ""
    }
   },
   "outputs": [],
   "source": [
    "key_cols_string_incremental = \",\".join(key_cols_list )\n"
   ]
  },
  {
   "cell_type": "code",
   "execution_count": 0,
   "metadata": {
    "application/vnd.databricks.v1+cell": {
     "cellMetadata": {
      "byteLimit": 2048000,
      "rowLimit": 10000
     },
     "inputWidgets": {},
     "nuid": "56eaa760-9263-46c8-a14e-7b93e3d53cb9",
     "showTitle": false,
     "tableResultSettingsMap": {},
     "title": ""
    }
   },
   "outputs": [],
   "source": [
    "# if spark.catalog.tableExists(f\"{catalog}.{target_schema}.{target_object}\"):\n",
    "#   # Key column string for INCREMENTAL\n",
    "#   key_cols_string = \",\".join(key_cols_list )\n",
    "\n",
    "#   df_trg = spark.sql(f\"SELECT {key_cols_string_incremental}, {surrogate_key},create_date, update_date FROM {catalog}.{target_schema}.{target_object}\")  \n",
    "                      \n",
    "\n",
    "# else:\n",
    "#   # Key columns string for Initial Load\n",
    "#   key_cols_string_init  = [f\"'' AS {i}\"for i in key_cols_list]\n",
    "#   key_cols_string_init = \",\".join(key_cols_string_init)   #unlist the list, use join, whole list becomes\n",
    "#   df_trg = spark.sql(f \"\"\"SELECT {key_cols_string_init}, '' AS {surrogate_key},  CAST('1900-01-01 00:00:00' AS timestamp) AS create_date, CAST('1900-01-01 00:00:00' AS timestamp) AS update_date WHERE 1=0 \"\"\")  #1=0 because there is no table.\n",
    "                           \n",
    "if spark.catalog.tableExists(f\"{catalog}.{target_schema}.{target_object}\"):\n",
    "    # Key column string for INCREMENTAL\n",
    "    key_cols_string_incremental = \",\".join(key_cols_list)  # make sure this is defined\n",
    "\n",
    "    df_trg = spark.sql(f\"\"\"\n",
    "        SELECT {key_cols_string_incremental}, {surrogate_key}, create_date, update_date\n",
    "        FROM {catalog}.{target_schema}.{target_object}\n",
    "    \"\"\")\n",
    "else:\n",
    "    # Key columns string for Initial Load\n",
    "    key_cols_string_init = [f\"'' AS {i}\" for i in key_cols_list]\n",
    "    key_cols_string_init = \",\".join(key_cols_string_init)\n",
    "\n",
    "\n",
    "    df_trg = spark.sql(f\"\"\"\n",
    "        SELECT {key_cols_string_init},\n",
    "               CAST('0' AS INT) AS {surrogate_key},\n",
    "               CAST('1900-01-01 00:00:00' AS timestamp) AS create_date,\n",
    "               CAST('1900-01-01 00:00:00' AS timestamp) AS update_date\n",
    "        FROM (SELECT 1) AS dummy WHERE 1=0\n",
    "    \"\"\")\n"
   ]
  },
  {
   "cell_type": "code",
   "execution_count": 0,
   "metadata": {
    "application/vnd.databricks.v1+cell": {
     "cellMetadata": {
      "byteLimit": 2048000,
      "rowLimit": 10000
     },
     "inputWidgets": {},
     "nuid": "a3f8f047-36a7-407c-89b7-79fec55bfefa",
     "showTitle": false,
     "tableResultSettingsMap": {},
     "title": ""
    }
   },
   "outputs": [
    {
     "output_type": "display_data",
     "data": {
      "text/html": [
       "<style scoped>\n",
       "  .table-result-container {\n",
       "    max-height: 300px;\n",
       "    overflow: auto;\n",
       "  }\n",
       "  table, th, td {\n",
       "    border: 1px solid black;\n",
       "    border-collapse: collapse;\n",
       "  }\n",
       "  th, td {\n",
       "    padding: 5px;\n",
       "  }\n",
       "  th {\n",
       "    text-align: left;\n",
       "  }\n",
       "</style><div class='table-result-container'><table class='table-result'><thead style='background-color: white'><tr><th>passenger_id</th><th>DimPassengersKey</th><th>create_date</th><th>update_date</th></tr></thead><tbody><tr><td>P0218</td><td>212</td><td>2025-07-03T17:32:44.463Z</td><td>2025-07-03T19:57:07.432Z</td></tr><tr><td>P0093</td><td>117</td><td>2025-07-03T17:32:44.463Z</td><td>2025-07-03T19:57:07.432Z</td></tr><tr><td>P0012</td><td>184</td><td>2025-07-03T17:32:44.463Z</td><td>2025-07-03T19:57:07.432Z</td></tr><tr><td>P0212</td><td>203</td><td>2025-07-03T17:32:44.463Z</td><td>2025-07-03T19:57:07.432Z</td></tr><tr><td>P0100</td><td>62</td><td>2025-07-03T17:32:44.463Z</td><td>2025-07-03T19:57:07.432Z</td></tr><tr><td>P0080</td><td>8</td><td>2025-07-03T17:32:44.463Z</td><td>2025-07-03T19:57:07.432Z</td></tr><tr><td>P0122</td><td>38</td><td>2025-07-03T17:32:44.463Z</td><td>2025-07-03T19:57:07.432Z</td></tr><tr><td>P0133</td><td>39</td><td>2025-07-03T17:32:44.463Z</td><td>2025-07-03T19:57:07.432Z</td></tr><tr><td>P0110</td><td>49</td><td>2025-07-03T17:32:44.463Z</td><td>2025-07-03T19:57:07.432Z</td></tr><tr><td>P0037</td><td>159</td><td>2025-07-03T17:32:44.463Z</td><td>2025-07-03T19:57:07.432Z</td></tr><tr><td>P0182</td><td>170</td><td>2025-07-03T17:32:44.463Z</td><td>2025-07-03T19:57:07.432Z</td></tr><tr><td>P0073</td><td>192</td><td>2025-07-03T17:32:44.463Z</td><td>2025-07-03T19:57:07.432Z</td></tr><tr><td>P0081</td><td>193</td><td>2025-07-03T17:32:44.463Z</td><td>2025-07-03T19:57:07.432Z</td></tr><tr><td>P0148</td><td>26</td><td>2025-07-03T17:32:44.463Z</td><td>2025-07-03T19:57:07.432Z</td></tr><tr><td>P0161</td><td>96</td><td>2025-07-03T17:32:44.463Z</td><td>2025-07-03T19:57:07.432Z</td></tr><tr><td>P0083</td><td>33</td><td>2025-07-03T17:32:44.463Z</td><td>2025-07-03T19:57:07.432Z</td></tr><tr><td>P0160</td><td>40</td><td>2025-07-03T17:32:44.463Z</td><td>2025-07-03T19:57:07.432Z</td></tr><tr><td>P0068</td><td>141</td><td>2025-07-03T17:32:44.463Z</td><td>2025-07-03T19:57:07.432Z</td></tr><tr><td>P0151</td><td>11</td><td>2025-07-03T17:32:44.463Z</td><td>2025-07-03T19:57:07.432Z</td></tr><tr><td>P0008</td><td>125</td><td>2025-07-03T17:32:44.463Z</td><td>2025-07-03T19:57:07.432Z</td></tr><tr><td>P0035</td><td>187</td><td>2025-07-03T17:32:44.463Z</td><td>2025-07-03T19:57:07.432Z</td></tr><tr><td>P0116</td><td>94</td><td>2025-07-03T17:32:44.463Z</td><td>2025-07-03T19:57:07.432Z</td></tr><tr><td>P0107</td><td>71</td><td>2025-07-03T17:32:44.463Z</td><td>2025-07-03T19:57:07.432Z</td></tr><tr><td>P0091</td><td>35</td><td>2025-07-03T17:32:44.463Z</td><td>2025-07-03T19:57:07.432Z</td></tr><tr><td>P0205</td><td>214</td><td>2025-07-03T17:32:44.463Z</td><td>2025-07-03T19:57:07.432Z</td></tr><tr><td>P0032</td><td>46</td><td>2025-07-03T17:32:44.463Z</td><td>2025-07-03T19:57:07.432Z</td></tr><tr><td>P0123</td><td>20</td><td>2025-07-03T17:32:44.463Z</td><td>2025-07-03T19:57:07.432Z</td></tr><tr><td>P0018</td><td>185</td><td>2025-07-03T17:32:44.463Z</td><td>2025-07-03T19:57:07.432Z</td></tr><tr><td>P0009</td><td>111</td><td>2025-07-03T17:32:44.463Z</td><td>2025-07-03T19:57:07.432Z</td></tr><tr><td>P0199</td><td>87</td><td>2025-07-03T17:32:44.463Z</td><td>2025-07-03T19:57:07.432Z</td></tr><tr><td>P0004</td><td>2</td><td>2025-07-03T17:32:44.463Z</td><td>2025-07-03T19:57:07.432Z</td></tr><tr><td>P0186</td><td>12</td><td>2025-07-03T17:32:44.463Z</td><td>2025-07-03T19:57:07.432Z</td></tr><tr><td>P0207</td><td>210</td><td>2025-07-03T17:32:44.463Z</td><td>2025-07-03T19:57:07.432Z</td></tr><tr><td>P0189</td><td>43</td><td>2025-07-03T17:32:44.463Z</td><td>2025-07-03T19:57:07.432Z</td></tr><tr><td>P0040</td><td>31</td><td>2025-07-03T17:32:44.463Z</td><td>2025-07-03T19:57:07.432Z</td></tr><tr><td>P0002</td><td>1</td><td>2025-07-03T17:32:44.463Z</td><td>2025-07-03T19:57:07.432Z</td></tr><tr><td>P0167</td><td>41</td><td>2025-07-03T17:32:44.463Z</td><td>2025-07-03T19:57:07.432Z</td></tr><tr><td>P0219</td><td>208</td><td>2025-07-03T17:32:44.463Z</td><td>2025-07-03T19:57:07.432Z</td></tr><tr><td>P0126</td><td>135</td><td>2025-07-03T17:32:44.463Z</td><td>2025-07-03T19:57:07.432Z</td></tr><tr><td>P0011</td><td>44</td><td>2025-07-03T17:32:44.463Z</td><td>2025-07-03T19:57:07.432Z</td></tr><tr><td>P0039</td><td>139</td><td>2025-07-03T17:32:44.463Z</td><td>2025-07-03T19:57:07.432Z</td></tr><tr><td>P0016</td><td>173</td><td>2025-07-03T17:32:44.463Z</td><td>2025-07-03T19:57:07.432Z</td></tr><tr><td>P0137</td><td>166</td><td>2025-07-03T17:32:44.463Z</td><td>2025-07-03T19:57:07.432Z</td></tr><tr><td>P0215</td><td>207</td><td>2025-07-03T17:32:44.463Z</td><td>2025-07-03T19:57:07.432Z</td></tr><tr><td>P0015</td><td>100</td><td>2025-07-03T17:32:44.463Z</td><td>2025-07-03T19:57:07.432Z</td></tr><tr><td>P0048</td><td>128</td><td>2025-07-03T17:32:44.463Z</td><td>2025-07-03T19:57:07.432Z</td></tr><tr><td>P0038</td><td>68</td><td>2025-07-03T17:32:44.463Z</td><td>2025-07-03T19:57:07.432Z</td></tr><tr><td>P0003</td><td>183</td><td>2025-07-03T17:32:44.463Z</td><td>2025-07-03T19:57:07.432Z</td></tr><tr><td>P0082</td><td>58</td><td>2025-07-03T17:32:44.463Z</td><td>2025-07-03T19:57:07.432Z</td></tr><tr><td>P0119</td><td>198</td><td>2025-07-03T17:32:44.463Z</td><td>2025-07-03T19:57:07.432Z</td></tr><tr><td>P0152</td><td>54</td><td>2025-07-03T17:32:44.463Z</td><td>2025-07-03T19:57:07.432Z</td></tr><tr><td>P0070</td><td>151</td><td>2025-07-03T17:32:44.463Z</td><td>2025-07-03T19:57:07.432Z</td></tr><tr><td>P0169</td><td>55</td><td>2025-07-03T17:32:44.463Z</td><td>2025-07-03T19:57:07.432Z</td></tr><tr><td>P0210</td><td>215</td><td>2025-07-03T17:32:44.463Z</td><td>2025-07-03T19:57:07.432Z</td></tr><tr><td>P0174</td><td>179</td><td>2025-07-03T17:32:44.463Z</td><td>2025-07-03T19:57:07.432Z</td></tr><tr><td>P0099</td><td>93</td><td>2025-07-03T17:32:44.463Z</td><td>2025-07-03T19:57:07.432Z</td></tr><tr><td>P0200</td><td>172</td><td>2025-07-03T17:32:44.463Z</td><td>2025-07-03T19:57:07.432Z</td></tr><tr><td>P0020</td><td>45</td><td>2025-07-03T17:32:44.463Z</td><td>2025-07-03T19:57:07.432Z</td></tr><tr><td>P0176</td><td>85</td><td>2025-07-03T17:32:44.463Z</td><td>2025-07-03T19:57:07.432Z</td></tr><tr><td>P0203</td><td>216</td><td>2025-07-03T17:32:44.463Z</td><td>2025-07-03T19:57:07.432Z</td></tr><tr><td>P0067</td><td>150</td><td>2025-07-03T17:32:44.463Z</td><td>2025-07-03T19:57:07.432Z</td></tr><tr><td>P0141</td><td>63</td><td>2025-07-03T17:32:44.463Z</td><td>2025-07-03T19:57:07.432Z</td></tr><tr><td>P0074</td><td>91</td><td>2025-07-03T17:32:44.463Z</td><td>2025-07-03T19:57:07.432Z</td></tr><tr><td>P0159</td><td>27</td><td>2025-07-03T17:32:44.463Z</td><td>2025-07-03T19:57:07.432Z</td></tr><tr><td>P0043</td><td>160</td><td>2025-07-03T17:32:44.463Z</td><td>2025-07-03T19:57:07.432Z</td></tr><tr><td>P0147</td><td>121</td><td>2025-07-03T17:32:44.463Z</td><td>2025-07-03T19:57:07.432Z</td></tr><tr><td>P0209</td><td>205</td><td>2025-07-03T17:32:44.463Z</td><td>2025-07-03T19:57:07.432Z</td></tr><tr><td>P0131</td><td>74</td><td>2025-07-03T17:32:44.463Z</td><td>2025-07-03T19:57:07.432Z</td></tr><tr><td>P0155</td><td>82</td><td>2025-07-03T17:32:44.463Z</td><td>2025-07-03T19:57:07.432Z</td></tr><tr><td>P0063</td><td>131</td><td>2025-07-03T17:32:44.463Z</td><td>2025-07-03T19:57:07.432Z</td></tr><tr><td>P0102</td><td>161</td><td>2025-07-03T17:32:44.463Z</td><td>2025-07-03T19:57:07.432Z</td></tr><tr><td>P0132</td><td>120</td><td>2025-07-03T17:32:44.463Z</td><td>2025-07-03T19:57:07.432Z</td></tr><tr><td>P0206</td><td>201</td><td>2025-07-03T17:32:44.463Z</td><td>2025-07-03T19:57:07.432Z</td></tr><tr><td>P0139</td><td>75</td><td>2025-07-03T17:32:44.463Z</td><td>2025-07-03T19:57:07.432Z</td></tr><tr><td>P0129</td><td>95</td><td>2025-07-03T17:32:44.463Z</td><td>2025-07-03T19:57:07.432Z</td></tr><tr><td>P0113</td><td>50</td><td>2025-07-03T17:32:44.463Z</td><td>2025-07-03T19:57:07.432Z</td></tr><tr><td>P0105</td><td>162</td><td>2025-07-03T17:32:44.463Z</td><td>2025-07-03T19:57:07.432Z</td></tr><tr><td>P0214</td><td>211</td><td>2025-07-03T17:32:44.463Z</td><td>2025-07-03T19:57:07.432Z</td></tr><tr><td>P0194</td><td>181</td><td>2025-07-03T17:32:44.463Z</td><td>2025-07-03T19:57:07.432Z</td></tr><tr><td>P0134</td><td>10</td><td>2025-07-03T17:32:44.463Z</td><td>2025-07-03T19:57:07.432Z</td></tr><tr><td>P0051</td><td>16</td><td>2025-07-03T17:32:44.463Z</td><td>2025-07-03T19:57:07.432Z</td></tr><tr><td>P0154</td><td>110</td><td>2025-07-03T17:32:44.463Z</td><td>2025-07-03T19:57:07.432Z</td></tr><tr><td>P0049</td><td>7</td><td>2025-07-03T17:32:44.463Z</td><td>2025-07-03T19:57:07.432Z</td></tr><tr><td>P0149</td><td>53</td><td>2025-07-03T17:32:44.463Z</td><td>2025-07-03T19:57:07.432Z</td></tr><tr><td>P0052</td><td>116</td><td>2025-07-03T17:32:44.463Z</td><td>2025-07-03T19:57:07.432Z</td></tr><tr><td>P0179</td><td>169</td><td>2025-07-03T17:32:44.463Z</td><td>2025-07-03T19:57:07.432Z</td></tr><tr><td>P0053</td><td>176</td><td>2025-07-03T17:32:44.463Z</td><td>2025-07-03T19:57:07.432Z</td></tr><tr><td>P0175</td><td>156</td><td>2025-07-03T17:32:44.463Z</td><td>2025-07-03T19:57:07.432Z</td></tr><tr><td>P0072</td><td>191</td><td>2025-07-03T17:32:44.463Z</td><td>2025-07-03T19:57:07.432Z</td></tr><tr><td>P0075</td><td>104</td><td>2025-07-03T17:32:44.463Z</td><td>2025-07-03T19:57:07.432Z</td></tr><tr><td>P0114</td><td>19</td><td>2025-07-03T17:32:44.463Z</td><td>2025-07-03T19:57:07.432Z</td></tr><tr><td>P0026</td><td>79</td><td>2025-07-03T17:32:44.463Z</td><td>2025-07-03T19:57:07.432Z</td></tr><tr><td>P0096</td><td>92</td><td>2025-07-03T17:32:44.463Z</td><td>2025-07-03T19:57:07.432Z</td></tr><tr><td>P0130</td><td>21</td><td>2025-07-03T17:32:44.463Z</td><td>2025-07-03T19:57:07.432Z</td></tr><tr><td>P0198</td><td>182</td><td>2025-07-03T17:32:44.463Z</td><td>2025-07-03T19:57:07.432Z</td></tr><tr><td>P0181</td><td>98</td><td>2025-07-03T17:32:44.463Z</td><td>2025-07-03T19:57:07.432Z</td></tr><tr><td>P0190</td><td>124</td><td>2025-07-03T17:32:44.463Z</td><td>2025-07-03T19:57:07.432Z</td></tr><tr><td>P0042</td><td>115</td><td>2025-07-03T17:32:44.463Z</td><td>2025-07-03T19:57:07.432Z</td></tr><tr><td>P0158</td><td>76</td><td>2025-07-03T17:32:44.463Z</td><td>2025-07-03T19:57:07.432Z</td></tr><tr><td>P0019</td><td>101</td><td>2025-07-03T17:32:44.463Z</td><td>2025-07-03T19:57:07.432Z</td></tr><tr><td>P0092</td><td>107</td><td>2025-07-03T17:32:44.463Z</td><td>2025-07-03T19:57:07.432Z</td></tr><tr><td>P0106</td><td>197</td><td>2025-07-03T17:32:44.463Z</td><td>2025-07-03T19:57:07.432Z</td></tr><tr><td>P0007</td><td>3</td><td>2025-07-03T17:32:44.463Z</td><td>2025-07-03T19:57:07.432Z</td></tr><tr><td>P0140</td><td>109</td><td>2025-07-03T17:32:44.463Z</td><td>2025-07-03T19:57:07.432Z</td></tr><tr><td>P0144</td><td>143</td><td>2025-07-03T17:32:44.463Z</td><td>2025-07-03T19:57:07.432Z</td></tr><tr><td>P0168</td><td>145</td><td>2025-07-03T17:32:44.463Z</td><td>2025-07-03T19:57:07.432Z</td></tr><tr><td>P0065</td><td>132</td><td>2025-07-03T17:32:44.463Z</td><td>2025-07-03T19:57:07.432Z</td></tr><tr><td>P0027</td><td>126</td><td>2025-07-03T17:32:44.463Z</td><td>2025-07-03T19:57:07.432Z</td></tr><tr><td>P0023</td><td>5</td><td>2025-07-03T17:32:44.463Z</td><td>2025-07-03T19:57:07.432Z</td></tr><tr><td>P0213</td><td>217</td><td>2025-07-03T17:32:44.463Z</td><td>2025-07-03T19:57:07.432Z</td></tr><tr><td>P0211</td><td>202</td><td>2025-07-03T17:32:44.463Z</td><td>2025-07-03T19:57:07.432Z</td></tr><tr><td>P0022</td><td>14</td><td>2025-07-03T17:32:44.463Z</td><td>2025-07-03T19:57:07.432Z</td></tr><tr><td>P0138</td><td>23</td><td>2025-07-03T17:32:44.463Z</td><td>2025-07-03T19:57:07.432Z</td></tr><tr><td>P0153</td><td>81</td><td>2025-07-03T17:32:44.463Z</td><td>2025-07-03T19:57:07.432Z</td></tr><tr><td>P0121</td><td>164</td><td>2025-07-03T17:32:44.463Z</td><td>2025-07-03T19:57:07.432Z</td></tr><tr><td>P0085</td><td>194</td><td>2025-07-03T17:32:44.463Z</td><td>2025-07-03T19:57:07.432Z</td></tr><tr><td>P0188</td><td>77</td><td>2025-07-03T17:32:44.463Z</td><td>2025-07-03T19:57:07.432Z</td></tr><tr><td>P0097</td><td>18</td><td>2025-07-03T17:32:44.463Z</td><td>2025-07-03T19:57:07.432Z</td></tr><tr><td>P0087</td><td>60</td><td>2025-07-03T17:32:44.463Z</td><td>2025-07-03T19:57:07.432Z</td></tr><tr><td>P0071</td><td>190</td><td>2025-07-03T17:32:44.463Z</td><td>2025-07-03T19:57:07.432Z</td></tr><tr><td>P0170</td><td>83</td><td>2025-07-03T17:32:44.463Z</td><td>2025-07-03T19:57:07.432Z</td></tr><tr><td>P0125</td><td>51</td><td>2025-07-03T17:32:44.463Z</td><td>2025-07-03T19:57:07.432Z</td></tr><tr><td>P0059</td><td>140</td><td>2025-07-03T17:32:44.463Z</td><td>2025-07-03T19:57:07.432Z</td></tr><tr><td>P0084</td><td>59</td><td>2025-07-03T17:32:44.463Z</td><td>2025-07-03T19:57:07.432Z</td></tr><tr><td>P0164</td><td>66</td><td>2025-07-03T17:32:44.463Z</td><td>2025-07-03T19:57:07.432Z</td></tr><tr><td>P0173</td><td>84</td><td>2025-07-03T17:32:44.463Z</td><td>2025-07-03T19:57:07.432Z</td></tr><tr><td>P0090</td><td>34</td><td>2025-07-03T17:32:44.463Z</td><td>2025-07-03T19:57:07.432Z</td></tr><tr><td>P0054</td><td>102</td><td>2025-07-03T17:32:44.463Z</td><td>2025-07-03T19:57:07.432Z</td></tr><tr><td>P0166</td><td>199</td><td>2025-07-03T17:32:44.463Z</td><td>2025-07-03T19:57:07.432Z</td></tr><tr><td>P0069</td><td>103</td><td>2025-07-03T17:32:44.463Z</td><td>2025-07-03T19:57:07.432Z</td></tr><tr><td>P0118</td><td>119</td><td>2025-07-03T17:32:44.463Z</td><td>2025-07-03T19:57:07.432Z</td></tr><tr><td>P0195</td><td>29</td><td>2025-07-03T17:32:44.463Z</td><td>2025-07-03T19:57:07.432Z</td></tr><tr><td>P0220</td><td>206</td><td>2025-07-03T17:32:44.463Z</td><td>2025-07-03T19:57:07.432Z</td></tr><tr><td>P0079</td><td>105</td><td>2025-07-03T17:32:44.463Z</td><td>2025-07-03T19:57:07.432Z</td></tr><tr><td>P0076</td><td>177</td><td>2025-07-03T17:32:44.463Z</td><td>2025-07-03T19:57:07.432Z</td></tr><tr><td>P0047</td><td>175</td><td>2025-07-03T17:32:44.463Z</td><td>2025-07-03T19:57:07.432Z</td></tr><tr><td>P0014</td><td>4</td><td>2025-07-03T17:32:44.463Z</td><td>2025-07-03T19:57:07.432Z</td></tr><tr><td>P0101</td><td>108</td><td>2025-07-03T17:32:44.463Z</td><td>2025-07-03T19:57:07.432Z</td></tr><tr><td>P0061</td><td>70</td><td>2025-07-03T17:32:44.463Z</td><td>2025-07-03T19:57:07.432Z</td></tr><tr><td>P0197</td><td>146</td><td>2025-07-03T17:32:44.463Z</td><td>2025-07-03T19:57:07.432Z</td></tr><tr><td>P0041</td><td>15</td><td>2025-07-03T17:32:44.463Z</td><td>2025-07-03T19:57:07.432Z</td></tr><tr><td>P0156</td><td>167</td><td>2025-07-03T17:32:44.463Z</td><td>2025-07-03T19:57:07.432Z</td></tr><tr><td>P0057</td><td>17</td><td>2025-07-03T17:32:44.463Z</td><td>2025-07-03T19:57:07.432Z</td></tr><tr><td>P0103</td><td>195</td><td>2025-07-03T17:32:44.463Z</td><td>2025-07-03T19:57:07.432Z</td></tr><tr><td>P0044</td><td>88</td><td>2025-07-03T17:32:44.463Z</td><td>2025-07-03T19:57:07.432Z</td></tr><tr><td>P0135</td><td>22</td><td>2025-07-03T17:32:44.463Z</td><td>2025-07-03T19:57:07.432Z</td></tr><tr><td>P0086</td><td>142</td><td>2025-07-03T17:32:44.463Z</td><td>2025-07-03T19:57:07.432Z</td></tr><tr><td>P0104</td><td>196</td><td>2025-07-03T17:32:44.463Z</td><td>2025-07-03T19:57:07.432Z</td></tr><tr><td>P0066</td><td>189</td><td>2025-07-03T17:32:44.463Z</td><td>2025-07-03T19:57:07.432Z</td></tr><tr><td>P0062</td><td>130</td><td>2025-07-03T17:32:44.463Z</td><td>2025-07-03T19:57:07.432Z</td></tr><tr><td>P0028</td><td>113</td><td>2025-07-03T17:32:44.463Z</td><td>2025-07-03T19:57:07.432Z</td></tr><tr><td>P0005</td><td>30</td><td>2025-07-03T17:32:44.463Z</td><td>2025-07-03T19:57:07.432Z</td></tr><tr><td>P0145</td><td>80</td><td>2025-07-03T17:32:44.463Z</td><td>2025-07-03T19:57:07.432Z</td></tr><tr><td>P0050</td><td>148</td><td>2025-07-03T17:32:44.463Z</td><td>2025-07-03T19:57:07.432Z</td></tr><tr><td>P0115</td><td>37</td><td>2025-07-03T17:32:44.463Z</td><td>2025-07-03T19:57:07.432Z</td></tr><tr><td>P0216</td><td>204</td><td>2025-07-03T17:32:44.463Z</td><td>2025-07-03T19:57:07.432Z</td></tr><tr><td>P0201</td><td>209</td><td>2025-07-03T17:32:44.463Z</td><td>2025-07-03T19:57:07.432Z</td></tr><tr><td>P0034</td><td>56</td><td>2025-07-03T17:32:44.463Z</td><td>2025-07-03T19:57:07.432Z</td></tr><tr><td>P0109</td><td>153</td><td>2025-07-03T17:32:44.463Z</td><td>2025-07-03T19:57:07.432Z</td></tr><tr><td>P0127</td><td>154</td><td>2025-07-03T17:32:44.463Z</td><td>2025-07-03T19:57:07.432Z</td></tr><tr><td>P0192</td><td>13</td><td>2025-07-03T17:32:44.463Z</td><td>2025-07-03T19:57:07.432Z</td></tr><tr><td>P0010</td><td>112</td><td>2025-07-03T17:32:44.463Z</td><td>2025-07-03T19:57:07.432Z</td></tr><tr><td>P0217</td><td>218</td><td>2025-07-03T17:32:44.463Z</td><td>2025-07-03T19:57:07.432Z</td></tr><tr><td>P0185</td><td>123</td><td>2025-07-03T17:32:44.463Z</td><td>2025-07-03T19:57:07.432Z</td></tr><tr><td>P0178</td><td>180</td><td>2025-07-03T17:32:44.463Z</td><td>2025-07-03T19:57:07.432Z</td></tr><tr><td>P0171</td><td>28</td><td>2025-07-03T17:32:44.463Z</td><td>2025-07-03T19:57:07.432Z</td></tr><tr><td>P0191</td><td>200</td><td>2025-07-03T17:32:44.463Z</td><td>2025-07-03T19:57:07.432Z</td></tr><tr><td>P0089</td><td>106</td><td>2025-07-03T17:32:44.463Z</td><td>2025-07-03T19:57:07.432Z</td></tr><tr><td>P0177</td><td>42</td><td>2025-07-03T17:32:44.463Z</td><td>2025-07-03T19:57:07.432Z</td></tr><tr><td>P0031</td><td>127</td><td>2025-07-03T17:32:44.463Z</td><td>2025-07-03T19:57:07.432Z</td></tr><tr><td>P0202</td><td>213</td><td>2025-07-03T17:32:44.463Z</td><td>2025-07-03T19:57:07.432Z</td></tr><tr><td>P0060</td><td>69</td><td>2025-07-03T17:32:44.463Z</td><td>2025-07-03T19:57:07.432Z</td></tr><tr><td>P0108</td><td>36</td><td>2025-07-03T17:32:44.463Z</td><td>2025-07-03T19:57:07.432Z</td></tr><tr><td>P0187</td><td>158</td><td>2025-07-03T17:32:44.463Z</td><td>2025-07-03T19:57:07.432Z</td></tr><tr><td>P0184</td><td>157</td><td>2025-07-03T17:32:44.463Z</td><td>2025-07-03T19:57:07.432Z</td></tr><tr><td>P0193</td><td>171</td><td>2025-07-03T17:32:44.463Z</td><td>2025-07-03T19:57:07.432Z</td></tr><tr><td>P0030</td><td>114</td><td>2025-07-03T17:32:44.463Z</td><td>2025-07-03T19:57:07.432Z</td></tr><tr><td>P0143</td><td>155</td><td>2025-07-03T17:32:44.463Z</td><td>2025-07-03T19:57:07.432Z</td></tr><tr><td>P0045</td><td>47</td><td>2025-07-03T17:32:44.463Z</td><td>2025-07-03T19:57:07.432Z</td></tr><tr><td>P0204</td><td>220</td><td>2025-07-03T17:32:44.463Z</td><td>2025-07-03T19:57:07.432Z</td></tr><tr><td>P0136</td><td>52</td><td>2025-07-03T17:32:44.463Z</td><td>2025-07-03T19:57:07.432Z</td></tr><tr><td>P0006</td><td>99</td><td>2025-07-03T17:32:44.463Z</td><td>2025-07-03T19:57:07.432Z</td></tr><tr><td>P0196</td><td>86</td><td>2025-07-03T17:32:44.463Z</td><td>2025-07-03T19:57:07.432Z</td></tr><tr><td>P0001</td><td>78</td><td>2025-07-03T17:32:44.463Z</td><td>2025-07-03T19:57:07.432Z</td></tr><tr><td>P0112</td><td>118</td><td>2025-07-03T17:32:44.463Z</td><td>2025-07-03T19:57:07.432Z</td></tr><tr><td>P0095</td><td>134</td><td>2025-07-03T17:32:44.463Z</td><td>2025-07-03T19:57:07.432Z</td></tr><tr><td>P0150</td><td>64</td><td>2025-07-03T17:32:44.463Z</td><td>2025-07-03T19:57:07.432Z</td></tr><tr><td>P0033</td><td>6</td><td>2025-07-03T17:32:44.463Z</td><td>2025-07-03T19:57:07.432Z</td></tr><tr><td>P0024</td><td>174</td><td>2025-07-03T17:32:44.463Z</td><td>2025-07-03T19:57:07.432Z</td></tr><tr><td>P0165</td><td>144</td><td>2025-07-03T17:32:44.463Z</td><td>2025-07-03T19:57:07.432Z</td></tr><tr><td>P0077</td><td>32</td><td>2025-07-03T17:32:44.463Z</td><td>2025-07-03T19:57:07.432Z</td></tr><tr><td>P0142</td><td>24</td><td>2025-07-03T17:32:44.463Z</td><td>2025-07-03T19:57:07.432Z</td></tr><tr><td>P0025</td><td>147</td><td>2025-07-03T17:32:44.463Z</td><td>2025-07-03T19:57:07.432Z</td></tr><tr><td>P0172</td><td>178</td><td>2025-07-03T17:32:44.463Z</td><td>2025-07-03T19:57:07.432Z</td></tr><tr><td>P0056</td><td>129</td><td>2025-07-03T17:32:44.463Z</td><td>2025-07-03T19:57:07.432Z</td></tr><tr><td>P0208</td><td>219</td><td>2025-07-03T17:32:44.463Z</td><td>2025-07-03T19:57:07.432Z</td></tr><tr><td>P0163</td><td>65</td><td>2025-07-03T17:32:44.463Z</td><td>2025-07-03T19:57:07.432Z</td></tr><tr><td>P0098</td><td>152</td><td>2025-07-03T17:32:44.463Z</td><td>2025-07-03T19:57:07.432Z</td></tr><tr><td>P0064</td><td>90</td><td>2025-07-03T17:32:44.463Z</td><td>2025-07-03T19:57:07.432Z</td></tr><tr><td>P0111</td><td>72</td><td>2025-07-03T17:32:44.463Z</td><td>2025-07-03T19:57:07.432Z</td></tr><tr><td>P0120</td><td>9</td><td>2025-07-03T17:32:44.463Z</td><td>2025-07-03T19:57:07.432Z</td></tr><tr><td>P0094</td><td>61</td><td>2025-07-03T17:32:44.463Z</td><td>2025-07-03T19:57:07.432Z</td></tr><tr><td>P0124</td><td>165</td><td>2025-07-03T17:32:44.463Z</td><td>2025-07-03T19:57:07.432Z</td></tr><tr><td>P0058</td><td>188</td><td>2025-07-03T17:32:44.463Z</td><td>2025-07-03T19:57:07.432Z</td></tr><tr><td>P0013</td><td>67</td><td>2025-07-03T17:32:44.463Z</td><td>2025-07-03T19:57:07.432Z</td></tr><tr><td>P0029</td><td>138</td><td>2025-07-03T17:32:44.463Z</td><td>2025-07-03T19:57:07.432Z</td></tr><tr><td>P0017</td><td>137</td><td>2025-07-03T17:32:44.463Z</td><td>2025-07-03T19:57:07.432Z</td></tr><tr><td>P0117</td><td>163</td><td>2025-07-03T17:32:44.463Z</td><td>2025-07-03T19:57:07.432Z</td></tr><tr><td>P0021</td><td>186</td><td>2025-07-03T17:32:44.463Z</td><td>2025-07-03T19:57:07.432Z</td></tr><tr><td>P0078</td><td>133</td><td>2025-07-03T17:32:44.463Z</td><td>2025-07-03T19:57:07.432Z</td></tr><tr><td>P0088</td><td>48</td><td>2025-07-03T17:32:44.463Z</td><td>2025-07-03T19:57:07.432Z</td></tr><tr><td>P0183</td><td>122</td><td>2025-07-03T17:32:44.463Z</td><td>2025-07-03T19:57:07.432Z</td></tr><tr><td>P0055</td><td>149</td><td>2025-07-03T17:32:44.463Z</td><td>2025-07-03T19:57:07.432Z</td></tr><tr><td>P0157</td><td>168</td><td>2025-07-03T17:32:44.463Z</td><td>2025-07-03T19:57:07.432Z</td></tr><tr><td>P0128</td><td>73</td><td>2025-07-03T17:32:44.463Z</td><td>2025-07-03T19:57:07.432Z</td></tr><tr><td>P0036</td><td>57</td><td>2025-07-03T17:32:44.463Z</td><td>2025-07-03T19:57:07.432Z</td></tr><tr><td>P0046</td><td>89</td><td>2025-07-03T17:32:44.463Z</td><td>2025-07-03T19:57:07.432Z</td></tr><tr><td>P0146</td><td>25</td><td>2025-07-03T17:32:44.463Z</td><td>2025-07-03T19:57:07.432Z</td></tr><tr><td>P0162</td><td>136</td><td>2025-07-03T17:32:44.463Z</td><td>2025-07-03T19:57:07.432Z</td></tr><tr><td>P0180</td><td>97</td><td>2025-07-03T17:32:44.463Z</td><td>2025-07-03T19:57:07.432Z</td></tr><tr><td>P0225</td><td>221</td><td>2025-07-03T19:57:07.432Z</td><td>2025-07-03T19:57:07.432Z</td></tr><tr><td>P0224</td><td>222</td><td>2025-07-03T19:57:07.432Z</td><td>2025-07-03T19:57:07.432Z</td></tr><tr><td>P0222</td><td>223</td><td>2025-07-03T19:57:07.432Z</td><td>2025-07-03T19:57:07.432Z</td></tr><tr><td>P0221</td><td>224</td><td>2025-07-03T19:57:07.432Z</td><td>2025-07-03T19:57:07.432Z</td></tr><tr><td>P0223</td><td>225</td><td>2025-07-03T19:57:07.432Z</td><td>2025-07-03T19:57:07.432Z</td></tr></tbody></table></div>"
      ]
     },
     "metadata": {
      "application/vnd.databricks.v1+output": {
       "addedWidgets": {},
       "aggData": [],
       "aggError": "",
       "aggOverflow": false,
       "aggSchema": [],
       "aggSeriesLimitReached": false,
       "aggType": "",
       "arguments": {},
       "columnCustomDisplayInfos": {},
       "data": [
        [
         "P0218",
         212,
         "2025-07-03T17:32:44.463Z",
         "2025-07-03T19:57:07.432Z"
        ],
        [
         "P0093",
         117,
         "2025-07-03T17:32:44.463Z",
         "2025-07-03T19:57:07.432Z"
        ],
        [
         "P0012",
         184,
         "2025-07-03T17:32:44.463Z",
         "2025-07-03T19:57:07.432Z"
        ],
        [
         "P0212",
         203,
         "2025-07-03T17:32:44.463Z",
         "2025-07-03T19:57:07.432Z"
        ],
        [
         "P0100",
         62,
         "2025-07-03T17:32:44.463Z",
         "2025-07-03T19:57:07.432Z"
        ],
        [
         "P0080",
         8,
         "2025-07-03T17:32:44.463Z",
         "2025-07-03T19:57:07.432Z"
        ],
        [
         "P0122",
         38,
         "2025-07-03T17:32:44.463Z",
         "2025-07-03T19:57:07.432Z"
        ],
        [
         "P0133",
         39,
         "2025-07-03T17:32:44.463Z",
         "2025-07-03T19:57:07.432Z"
        ],
        [
         "P0110",
         49,
         "2025-07-03T17:32:44.463Z",
         "2025-07-03T19:57:07.432Z"
        ],
        [
         "P0037",
         159,
         "2025-07-03T17:32:44.463Z",
         "2025-07-03T19:57:07.432Z"
        ],
        [
         "P0182",
         170,
         "2025-07-03T17:32:44.463Z",
         "2025-07-03T19:57:07.432Z"
        ],
        [
         "P0073",
         192,
         "2025-07-03T17:32:44.463Z",
         "2025-07-03T19:57:07.432Z"
        ],
        [
         "P0081",
         193,
         "2025-07-03T17:32:44.463Z",
         "2025-07-03T19:57:07.432Z"
        ],
        [
         "P0148",
         26,
         "2025-07-03T17:32:44.463Z",
         "2025-07-03T19:57:07.432Z"
        ],
        [
         "P0161",
         96,
         "2025-07-03T17:32:44.463Z",
         "2025-07-03T19:57:07.432Z"
        ],
        [
         "P0083",
         33,
         "2025-07-03T17:32:44.463Z",
         "2025-07-03T19:57:07.432Z"
        ],
        [
         "P0160",
         40,
         "2025-07-03T17:32:44.463Z",
         "2025-07-03T19:57:07.432Z"
        ],
        [
         "P0068",
         141,
         "2025-07-03T17:32:44.463Z",
         "2025-07-03T19:57:07.432Z"
        ],
        [
         "P0151",
         11,
         "2025-07-03T17:32:44.463Z",
         "2025-07-03T19:57:07.432Z"
        ],
        [
         "P0008",
         125,
         "2025-07-03T17:32:44.463Z",
         "2025-07-03T19:57:07.432Z"
        ],
        [
         "P0035",
         187,
         "2025-07-03T17:32:44.463Z",
         "2025-07-03T19:57:07.432Z"
        ],
        [
         "P0116",
         94,
         "2025-07-03T17:32:44.463Z",
         "2025-07-03T19:57:07.432Z"
        ],
        [
         "P0107",
         71,
         "2025-07-03T17:32:44.463Z",
         "2025-07-03T19:57:07.432Z"
        ],
        [
         "P0091",
         35,
         "2025-07-03T17:32:44.463Z",
         "2025-07-03T19:57:07.432Z"
        ],
        [
         "P0205",
         214,
         "2025-07-03T17:32:44.463Z",
         "2025-07-03T19:57:07.432Z"
        ],
        [
         "P0032",
         46,
         "2025-07-03T17:32:44.463Z",
         "2025-07-03T19:57:07.432Z"
        ],
        [
         "P0123",
         20,
         "2025-07-03T17:32:44.463Z",
         "2025-07-03T19:57:07.432Z"
        ],
        [
         "P0018",
         185,
         "2025-07-03T17:32:44.463Z",
         "2025-07-03T19:57:07.432Z"
        ],
        [
         "P0009",
         111,
         "2025-07-03T17:32:44.463Z",
         "2025-07-03T19:57:07.432Z"
        ],
        [
         "P0199",
         87,
         "2025-07-03T17:32:44.463Z",
         "2025-07-03T19:57:07.432Z"
        ],
        [
         "P0004",
         2,
         "2025-07-03T17:32:44.463Z",
         "2025-07-03T19:57:07.432Z"
        ],
        [
         "P0186",
         12,
         "2025-07-03T17:32:44.463Z",
         "2025-07-03T19:57:07.432Z"
        ],
        [
         "P0207",
         210,
         "2025-07-03T17:32:44.463Z",
         "2025-07-03T19:57:07.432Z"
        ],
        [
         "P0189",
         43,
         "2025-07-03T17:32:44.463Z",
         "2025-07-03T19:57:07.432Z"
        ],
        [
         "P0040",
         31,
         "2025-07-03T17:32:44.463Z",
         "2025-07-03T19:57:07.432Z"
        ],
        [
         "P0002",
         1,
         "2025-07-03T17:32:44.463Z",
         "2025-07-03T19:57:07.432Z"
        ],
        [
         "P0167",
         41,
         "2025-07-03T17:32:44.463Z",
         "2025-07-03T19:57:07.432Z"
        ],
        [
         "P0219",
         208,
         "2025-07-03T17:32:44.463Z",
         "2025-07-03T19:57:07.432Z"
        ],
        [
         "P0126",
         135,
         "2025-07-03T17:32:44.463Z",
         "2025-07-03T19:57:07.432Z"
        ],
        [
         "P0011",
         44,
         "2025-07-03T17:32:44.463Z",
         "2025-07-03T19:57:07.432Z"
        ],
        [
         "P0039",
         139,
         "2025-07-03T17:32:44.463Z",
         "2025-07-03T19:57:07.432Z"
        ],
        [
         "P0016",
         173,
         "2025-07-03T17:32:44.463Z",
         "2025-07-03T19:57:07.432Z"
        ],
        [
         "P0137",
         166,
         "2025-07-03T17:32:44.463Z",
         "2025-07-03T19:57:07.432Z"
        ],
        [
         "P0215",
         207,
         "2025-07-03T17:32:44.463Z",
         "2025-07-03T19:57:07.432Z"
        ],
        [
         "P0015",
         100,
         "2025-07-03T17:32:44.463Z",
         "2025-07-03T19:57:07.432Z"
        ],
        [
         "P0048",
         128,
         "2025-07-03T17:32:44.463Z",
         "2025-07-03T19:57:07.432Z"
        ],
        [
         "P0038",
         68,
         "2025-07-03T17:32:44.463Z",
         "2025-07-03T19:57:07.432Z"
        ],
        [
         "P0003",
         183,
         "2025-07-03T17:32:44.463Z",
         "2025-07-03T19:57:07.432Z"
        ],
        [
         "P0082",
         58,
         "2025-07-03T17:32:44.463Z",
         "2025-07-03T19:57:07.432Z"
        ],
        [
         "P0119",
         198,
         "2025-07-03T17:32:44.463Z",
         "2025-07-03T19:57:07.432Z"
        ],
        [
         "P0152",
         54,
         "2025-07-03T17:32:44.463Z",
         "2025-07-03T19:57:07.432Z"
        ],
        [
         "P0070",
         151,
         "2025-07-03T17:32:44.463Z",
         "2025-07-03T19:57:07.432Z"
        ],
        [
         "P0169",
         55,
         "2025-07-03T17:32:44.463Z",
         "2025-07-03T19:57:07.432Z"
        ],
        [
         "P0210",
         215,
         "2025-07-03T17:32:44.463Z",
         "2025-07-03T19:57:07.432Z"
        ],
        [
         "P0174",
         179,
         "2025-07-03T17:32:44.463Z",
         "2025-07-03T19:57:07.432Z"
        ],
        [
         "P0099",
         93,
         "2025-07-03T17:32:44.463Z",
         "2025-07-03T19:57:07.432Z"
        ],
        [
         "P0200",
         172,
         "2025-07-03T17:32:44.463Z",
         "2025-07-03T19:57:07.432Z"
        ],
        [
         "P0020",
         45,
         "2025-07-03T17:32:44.463Z",
         "2025-07-03T19:57:07.432Z"
        ],
        [
         "P0176",
         85,
         "2025-07-03T17:32:44.463Z",
         "2025-07-03T19:57:07.432Z"
        ],
        [
         "P0203",
         216,
         "2025-07-03T17:32:44.463Z",
         "2025-07-03T19:57:07.432Z"
        ],
        [
         "P0067",
         150,
         "2025-07-03T17:32:44.463Z",
         "2025-07-03T19:57:07.432Z"
        ],
        [
         "P0141",
         63,
         "2025-07-03T17:32:44.463Z",
         "2025-07-03T19:57:07.432Z"
        ],
        [
         "P0074",
         91,
         "2025-07-03T17:32:44.463Z",
         "2025-07-03T19:57:07.432Z"
        ],
        [
         "P0159",
         27,
         "2025-07-03T17:32:44.463Z",
         "2025-07-03T19:57:07.432Z"
        ],
        [
         "P0043",
         160,
         "2025-07-03T17:32:44.463Z",
         "2025-07-03T19:57:07.432Z"
        ],
        [
         "P0147",
         121,
         "2025-07-03T17:32:44.463Z",
         "2025-07-03T19:57:07.432Z"
        ],
        [
         "P0209",
         205,
         "2025-07-03T17:32:44.463Z",
         "2025-07-03T19:57:07.432Z"
        ],
        [
         "P0131",
         74,
         "2025-07-03T17:32:44.463Z",
         "2025-07-03T19:57:07.432Z"
        ],
        [
         "P0155",
         82,
         "2025-07-03T17:32:44.463Z",
         "2025-07-03T19:57:07.432Z"
        ],
        [
         "P0063",
         131,
         "2025-07-03T17:32:44.463Z",
         "2025-07-03T19:57:07.432Z"
        ],
        [
         "P0102",
         161,
         "2025-07-03T17:32:44.463Z",
         "2025-07-03T19:57:07.432Z"
        ],
        [
         "P0132",
         120,
         "2025-07-03T17:32:44.463Z",
         "2025-07-03T19:57:07.432Z"
        ],
        [
         "P0206",
         201,
         "2025-07-03T17:32:44.463Z",
         "2025-07-03T19:57:07.432Z"
        ],
        [
         "P0139",
         75,
         "2025-07-03T17:32:44.463Z",
         "2025-07-03T19:57:07.432Z"
        ],
        [
         "P0129",
         95,
         "2025-07-03T17:32:44.463Z",
         "2025-07-03T19:57:07.432Z"
        ],
        [
         "P0113",
         50,
         "2025-07-03T17:32:44.463Z",
         "2025-07-03T19:57:07.432Z"
        ],
        [
         "P0105",
         162,
         "2025-07-03T17:32:44.463Z",
         "2025-07-03T19:57:07.432Z"
        ],
        [
         "P0214",
         211,
         "2025-07-03T17:32:44.463Z",
         "2025-07-03T19:57:07.432Z"
        ],
        [
         "P0194",
         181,
         "2025-07-03T17:32:44.463Z",
         "2025-07-03T19:57:07.432Z"
        ],
        [
         "P0134",
         10,
         "2025-07-03T17:32:44.463Z",
         "2025-07-03T19:57:07.432Z"
        ],
        [
         "P0051",
         16,
         "2025-07-03T17:32:44.463Z",
         "2025-07-03T19:57:07.432Z"
        ],
        [
         "P0154",
         110,
         "2025-07-03T17:32:44.463Z",
         "2025-07-03T19:57:07.432Z"
        ],
        [
         "P0049",
         7,
         "2025-07-03T17:32:44.463Z",
         "2025-07-03T19:57:07.432Z"
        ],
        [
         "P0149",
         53,
         "2025-07-03T17:32:44.463Z",
         "2025-07-03T19:57:07.432Z"
        ],
        [
         "P0052",
         116,
         "2025-07-03T17:32:44.463Z",
         "2025-07-03T19:57:07.432Z"
        ],
        [
         "P0179",
         169,
         "2025-07-03T17:32:44.463Z",
         "2025-07-03T19:57:07.432Z"
        ],
        [
         "P0053",
         176,
         "2025-07-03T17:32:44.463Z",
         "2025-07-03T19:57:07.432Z"
        ],
        [
         "P0175",
         156,
         "2025-07-03T17:32:44.463Z",
         "2025-07-03T19:57:07.432Z"
        ],
        [
         "P0072",
         191,
         "2025-07-03T17:32:44.463Z",
         "2025-07-03T19:57:07.432Z"
        ],
        [
         "P0075",
         104,
         "2025-07-03T17:32:44.463Z",
         "2025-07-03T19:57:07.432Z"
        ],
        [
         "P0114",
         19,
         "2025-07-03T17:32:44.463Z",
         "2025-07-03T19:57:07.432Z"
        ],
        [
         "P0026",
         79,
         "2025-07-03T17:32:44.463Z",
         "2025-07-03T19:57:07.432Z"
        ],
        [
         "P0096",
         92,
         "2025-07-03T17:32:44.463Z",
         "2025-07-03T19:57:07.432Z"
        ],
        [
         "P0130",
         21,
         "2025-07-03T17:32:44.463Z",
         "2025-07-03T19:57:07.432Z"
        ],
        [
         "P0198",
         182,
         "2025-07-03T17:32:44.463Z",
         "2025-07-03T19:57:07.432Z"
        ],
        [
         "P0181",
         98,
         "2025-07-03T17:32:44.463Z",
         "2025-07-03T19:57:07.432Z"
        ],
        [
         "P0190",
         124,
         "2025-07-03T17:32:44.463Z",
         "2025-07-03T19:57:07.432Z"
        ],
        [
         "P0042",
         115,
         "2025-07-03T17:32:44.463Z",
         "2025-07-03T19:57:07.432Z"
        ],
        [
         "P0158",
         76,
         "2025-07-03T17:32:44.463Z",
         "2025-07-03T19:57:07.432Z"
        ],
        [
         "P0019",
         101,
         "2025-07-03T17:32:44.463Z",
         "2025-07-03T19:57:07.432Z"
        ],
        [
         "P0092",
         107,
         "2025-07-03T17:32:44.463Z",
         "2025-07-03T19:57:07.432Z"
        ],
        [
         "P0106",
         197,
         "2025-07-03T17:32:44.463Z",
         "2025-07-03T19:57:07.432Z"
        ],
        [
         "P0007",
         3,
         "2025-07-03T17:32:44.463Z",
         "2025-07-03T19:57:07.432Z"
        ],
        [
         "P0140",
         109,
         "2025-07-03T17:32:44.463Z",
         "2025-07-03T19:57:07.432Z"
        ],
        [
         "P0144",
         143,
         "2025-07-03T17:32:44.463Z",
         "2025-07-03T19:57:07.432Z"
        ],
        [
         "P0168",
         145,
         "2025-07-03T17:32:44.463Z",
         "2025-07-03T19:57:07.432Z"
        ],
        [
         "P0065",
         132,
         "2025-07-03T17:32:44.463Z",
         "2025-07-03T19:57:07.432Z"
        ],
        [
         "P0027",
         126,
         "2025-07-03T17:32:44.463Z",
         "2025-07-03T19:57:07.432Z"
        ],
        [
         "P0023",
         5,
         "2025-07-03T17:32:44.463Z",
         "2025-07-03T19:57:07.432Z"
        ],
        [
         "P0213",
         217,
         "2025-07-03T17:32:44.463Z",
         "2025-07-03T19:57:07.432Z"
        ],
        [
         "P0211",
         202,
         "2025-07-03T17:32:44.463Z",
         "2025-07-03T19:57:07.432Z"
        ],
        [
         "P0022",
         14,
         "2025-07-03T17:32:44.463Z",
         "2025-07-03T19:57:07.432Z"
        ],
        [
         "P0138",
         23,
         "2025-07-03T17:32:44.463Z",
         "2025-07-03T19:57:07.432Z"
        ],
        [
         "P0153",
         81,
         "2025-07-03T17:32:44.463Z",
         "2025-07-03T19:57:07.432Z"
        ],
        [
         "P0121",
         164,
         "2025-07-03T17:32:44.463Z",
         "2025-07-03T19:57:07.432Z"
        ],
        [
         "P0085",
         194,
         "2025-07-03T17:32:44.463Z",
         "2025-07-03T19:57:07.432Z"
        ],
        [
         "P0188",
         77,
         "2025-07-03T17:32:44.463Z",
         "2025-07-03T19:57:07.432Z"
        ],
        [
         "P0097",
         18,
         "2025-07-03T17:32:44.463Z",
         "2025-07-03T19:57:07.432Z"
        ],
        [
         "P0087",
         60,
         "2025-07-03T17:32:44.463Z",
         "2025-07-03T19:57:07.432Z"
        ],
        [
         "P0071",
         190,
         "2025-07-03T17:32:44.463Z",
         "2025-07-03T19:57:07.432Z"
        ],
        [
         "P0170",
         83,
         "2025-07-03T17:32:44.463Z",
         "2025-07-03T19:57:07.432Z"
        ],
        [
         "P0125",
         51,
         "2025-07-03T17:32:44.463Z",
         "2025-07-03T19:57:07.432Z"
        ],
        [
         "P0059",
         140,
         "2025-07-03T17:32:44.463Z",
         "2025-07-03T19:57:07.432Z"
        ],
        [
         "P0084",
         59,
         "2025-07-03T17:32:44.463Z",
         "2025-07-03T19:57:07.432Z"
        ],
        [
         "P0164",
         66,
         "2025-07-03T17:32:44.463Z",
         "2025-07-03T19:57:07.432Z"
        ],
        [
         "P0173",
         84,
         "2025-07-03T17:32:44.463Z",
         "2025-07-03T19:57:07.432Z"
        ],
        [
         "P0090",
         34,
         "2025-07-03T17:32:44.463Z",
         "2025-07-03T19:57:07.432Z"
        ],
        [
         "P0054",
         102,
         "2025-07-03T17:32:44.463Z",
         "2025-07-03T19:57:07.432Z"
        ],
        [
         "P0166",
         199,
         "2025-07-03T17:32:44.463Z",
         "2025-07-03T19:57:07.432Z"
        ],
        [
         "P0069",
         103,
         "2025-07-03T17:32:44.463Z",
         "2025-07-03T19:57:07.432Z"
        ],
        [
         "P0118",
         119,
         "2025-07-03T17:32:44.463Z",
         "2025-07-03T19:57:07.432Z"
        ],
        [
         "P0195",
         29,
         "2025-07-03T17:32:44.463Z",
         "2025-07-03T19:57:07.432Z"
        ],
        [
         "P0220",
         206,
         "2025-07-03T17:32:44.463Z",
         "2025-07-03T19:57:07.432Z"
        ],
        [
         "P0079",
         105,
         "2025-07-03T17:32:44.463Z",
         "2025-07-03T19:57:07.432Z"
        ],
        [
         "P0076",
         177,
         "2025-07-03T17:32:44.463Z",
         "2025-07-03T19:57:07.432Z"
        ],
        [
         "P0047",
         175,
         "2025-07-03T17:32:44.463Z",
         "2025-07-03T19:57:07.432Z"
        ],
        [
         "P0014",
         4,
         "2025-07-03T17:32:44.463Z",
         "2025-07-03T19:57:07.432Z"
        ],
        [
         "P0101",
         108,
         "2025-07-03T17:32:44.463Z",
         "2025-07-03T19:57:07.432Z"
        ],
        [
         "P0061",
         70,
         "2025-07-03T17:32:44.463Z",
         "2025-07-03T19:57:07.432Z"
        ],
        [
         "P0197",
         146,
         "2025-07-03T17:32:44.463Z",
         "2025-07-03T19:57:07.432Z"
        ],
        [
         "P0041",
         15,
         "2025-07-03T17:32:44.463Z",
         "2025-07-03T19:57:07.432Z"
        ],
        [
         "P0156",
         167,
         "2025-07-03T17:32:44.463Z",
         "2025-07-03T19:57:07.432Z"
        ],
        [
         "P0057",
         17,
         "2025-07-03T17:32:44.463Z",
         "2025-07-03T19:57:07.432Z"
        ],
        [
         "P0103",
         195,
         "2025-07-03T17:32:44.463Z",
         "2025-07-03T19:57:07.432Z"
        ],
        [
         "P0044",
         88,
         "2025-07-03T17:32:44.463Z",
         "2025-07-03T19:57:07.432Z"
        ],
        [
         "P0135",
         22,
         "2025-07-03T17:32:44.463Z",
         "2025-07-03T19:57:07.432Z"
        ],
        [
         "P0086",
         142,
         "2025-07-03T17:32:44.463Z",
         "2025-07-03T19:57:07.432Z"
        ],
        [
         "P0104",
         196,
         "2025-07-03T17:32:44.463Z",
         "2025-07-03T19:57:07.432Z"
        ],
        [
         "P0066",
         189,
         "2025-07-03T17:32:44.463Z",
         "2025-07-03T19:57:07.432Z"
        ],
        [
         "P0062",
         130,
         "2025-07-03T17:32:44.463Z",
         "2025-07-03T19:57:07.432Z"
        ],
        [
         "P0028",
         113,
         "2025-07-03T17:32:44.463Z",
         "2025-07-03T19:57:07.432Z"
        ],
        [
         "P0005",
         30,
         "2025-07-03T17:32:44.463Z",
         "2025-07-03T19:57:07.432Z"
        ],
        [
         "P0145",
         80,
         "2025-07-03T17:32:44.463Z",
         "2025-07-03T19:57:07.432Z"
        ],
        [
         "P0050",
         148,
         "2025-07-03T17:32:44.463Z",
         "2025-07-03T19:57:07.432Z"
        ],
        [
         "P0115",
         37,
         "2025-07-03T17:32:44.463Z",
         "2025-07-03T19:57:07.432Z"
        ],
        [
         "P0216",
         204,
         "2025-07-03T17:32:44.463Z",
         "2025-07-03T19:57:07.432Z"
        ],
        [
         "P0201",
         209,
         "2025-07-03T17:32:44.463Z",
         "2025-07-03T19:57:07.432Z"
        ],
        [
         "P0034",
         56,
         "2025-07-03T17:32:44.463Z",
         "2025-07-03T19:57:07.432Z"
        ],
        [
         "P0109",
         153,
         "2025-07-03T17:32:44.463Z",
         "2025-07-03T19:57:07.432Z"
        ],
        [
         "P0127",
         154,
         "2025-07-03T17:32:44.463Z",
         "2025-07-03T19:57:07.432Z"
        ],
        [
         "P0192",
         13,
         "2025-07-03T17:32:44.463Z",
         "2025-07-03T19:57:07.432Z"
        ],
        [
         "P0010",
         112,
         "2025-07-03T17:32:44.463Z",
         "2025-07-03T19:57:07.432Z"
        ],
        [
         "P0217",
         218,
         "2025-07-03T17:32:44.463Z",
         "2025-07-03T19:57:07.432Z"
        ],
        [
         "P0185",
         123,
         "2025-07-03T17:32:44.463Z",
         "2025-07-03T19:57:07.432Z"
        ],
        [
         "P0178",
         180,
         "2025-07-03T17:32:44.463Z",
         "2025-07-03T19:57:07.432Z"
        ],
        [
         "P0171",
         28,
         "2025-07-03T17:32:44.463Z",
         "2025-07-03T19:57:07.432Z"
        ],
        [
         "P0191",
         200,
         "2025-07-03T17:32:44.463Z",
         "2025-07-03T19:57:07.432Z"
        ],
        [
         "P0089",
         106,
         "2025-07-03T17:32:44.463Z",
         "2025-07-03T19:57:07.432Z"
        ],
        [
         "P0177",
         42,
         "2025-07-03T17:32:44.463Z",
         "2025-07-03T19:57:07.432Z"
        ],
        [
         "P0031",
         127,
         "2025-07-03T17:32:44.463Z",
         "2025-07-03T19:57:07.432Z"
        ],
        [
         "P0202",
         213,
         "2025-07-03T17:32:44.463Z",
         "2025-07-03T19:57:07.432Z"
        ],
        [
         "P0060",
         69,
         "2025-07-03T17:32:44.463Z",
         "2025-07-03T19:57:07.432Z"
        ],
        [
         "P0108",
         36,
         "2025-07-03T17:32:44.463Z",
         "2025-07-03T19:57:07.432Z"
        ],
        [
         "P0187",
         158,
         "2025-07-03T17:32:44.463Z",
         "2025-07-03T19:57:07.432Z"
        ],
        [
         "P0184",
         157,
         "2025-07-03T17:32:44.463Z",
         "2025-07-03T19:57:07.432Z"
        ],
        [
         "P0193",
         171,
         "2025-07-03T17:32:44.463Z",
         "2025-07-03T19:57:07.432Z"
        ],
        [
         "P0030",
         114,
         "2025-07-03T17:32:44.463Z",
         "2025-07-03T19:57:07.432Z"
        ],
        [
         "P0143",
         155,
         "2025-07-03T17:32:44.463Z",
         "2025-07-03T19:57:07.432Z"
        ],
        [
         "P0045",
         47,
         "2025-07-03T17:32:44.463Z",
         "2025-07-03T19:57:07.432Z"
        ],
        [
         "P0204",
         220,
         "2025-07-03T17:32:44.463Z",
         "2025-07-03T19:57:07.432Z"
        ],
        [
         "P0136",
         52,
         "2025-07-03T17:32:44.463Z",
         "2025-07-03T19:57:07.432Z"
        ],
        [
         "P0006",
         99,
         "2025-07-03T17:32:44.463Z",
         "2025-07-03T19:57:07.432Z"
        ],
        [
         "P0196",
         86,
         "2025-07-03T17:32:44.463Z",
         "2025-07-03T19:57:07.432Z"
        ],
        [
         "P0001",
         78,
         "2025-07-03T17:32:44.463Z",
         "2025-07-03T19:57:07.432Z"
        ],
        [
         "P0112",
         118,
         "2025-07-03T17:32:44.463Z",
         "2025-07-03T19:57:07.432Z"
        ],
        [
         "P0095",
         134,
         "2025-07-03T17:32:44.463Z",
         "2025-07-03T19:57:07.432Z"
        ],
        [
         "P0150",
         64,
         "2025-07-03T17:32:44.463Z",
         "2025-07-03T19:57:07.432Z"
        ],
        [
         "P0033",
         6,
         "2025-07-03T17:32:44.463Z",
         "2025-07-03T19:57:07.432Z"
        ],
        [
         "P0024",
         174,
         "2025-07-03T17:32:44.463Z",
         "2025-07-03T19:57:07.432Z"
        ],
        [
         "P0165",
         144,
         "2025-07-03T17:32:44.463Z",
         "2025-07-03T19:57:07.432Z"
        ],
        [
         "P0077",
         32,
         "2025-07-03T17:32:44.463Z",
         "2025-07-03T19:57:07.432Z"
        ],
        [
         "P0142",
         24,
         "2025-07-03T17:32:44.463Z",
         "2025-07-03T19:57:07.432Z"
        ],
        [
         "P0025",
         147,
         "2025-07-03T17:32:44.463Z",
         "2025-07-03T19:57:07.432Z"
        ],
        [
         "P0172",
         178,
         "2025-07-03T17:32:44.463Z",
         "2025-07-03T19:57:07.432Z"
        ],
        [
         "P0056",
         129,
         "2025-07-03T17:32:44.463Z",
         "2025-07-03T19:57:07.432Z"
        ],
        [
         "P0208",
         219,
         "2025-07-03T17:32:44.463Z",
         "2025-07-03T19:57:07.432Z"
        ],
        [
         "P0163",
         65,
         "2025-07-03T17:32:44.463Z",
         "2025-07-03T19:57:07.432Z"
        ],
        [
         "P0098",
         152,
         "2025-07-03T17:32:44.463Z",
         "2025-07-03T19:57:07.432Z"
        ],
        [
         "P0064",
         90,
         "2025-07-03T17:32:44.463Z",
         "2025-07-03T19:57:07.432Z"
        ],
        [
         "P0111",
         72,
         "2025-07-03T17:32:44.463Z",
         "2025-07-03T19:57:07.432Z"
        ],
        [
         "P0120",
         9,
         "2025-07-03T17:32:44.463Z",
         "2025-07-03T19:57:07.432Z"
        ],
        [
         "P0094",
         61,
         "2025-07-03T17:32:44.463Z",
         "2025-07-03T19:57:07.432Z"
        ],
        [
         "P0124",
         165,
         "2025-07-03T17:32:44.463Z",
         "2025-07-03T19:57:07.432Z"
        ],
        [
         "P0058",
         188,
         "2025-07-03T17:32:44.463Z",
         "2025-07-03T19:57:07.432Z"
        ],
        [
         "P0013",
         67,
         "2025-07-03T17:32:44.463Z",
         "2025-07-03T19:57:07.432Z"
        ],
        [
         "P0029",
         138,
         "2025-07-03T17:32:44.463Z",
         "2025-07-03T19:57:07.432Z"
        ],
        [
         "P0017",
         137,
         "2025-07-03T17:32:44.463Z",
         "2025-07-03T19:57:07.432Z"
        ],
        [
         "P0117",
         163,
         "2025-07-03T17:32:44.463Z",
         "2025-07-03T19:57:07.432Z"
        ],
        [
         "P0021",
         186,
         "2025-07-03T17:32:44.463Z",
         "2025-07-03T19:57:07.432Z"
        ],
        [
         "P0078",
         133,
         "2025-07-03T17:32:44.463Z",
         "2025-07-03T19:57:07.432Z"
        ],
        [
         "P0088",
         48,
         "2025-07-03T17:32:44.463Z",
         "2025-07-03T19:57:07.432Z"
        ],
        [
         "P0183",
         122,
         "2025-07-03T17:32:44.463Z",
         "2025-07-03T19:57:07.432Z"
        ],
        [
         "P0055",
         149,
         "2025-07-03T17:32:44.463Z",
         "2025-07-03T19:57:07.432Z"
        ],
        [
         "P0157",
         168,
         "2025-07-03T17:32:44.463Z",
         "2025-07-03T19:57:07.432Z"
        ],
        [
         "P0128",
         73,
         "2025-07-03T17:32:44.463Z",
         "2025-07-03T19:57:07.432Z"
        ],
        [
         "P0036",
         57,
         "2025-07-03T17:32:44.463Z",
         "2025-07-03T19:57:07.432Z"
        ],
        [
         "P0046",
         89,
         "2025-07-03T17:32:44.463Z",
         "2025-07-03T19:57:07.432Z"
        ],
        [
         "P0146",
         25,
         "2025-07-03T17:32:44.463Z",
         "2025-07-03T19:57:07.432Z"
        ],
        [
         "P0162",
         136,
         "2025-07-03T17:32:44.463Z",
         "2025-07-03T19:57:07.432Z"
        ],
        [
         "P0180",
         97,
         "2025-07-03T17:32:44.463Z",
         "2025-07-03T19:57:07.432Z"
        ],
        [
         "P0225",
         221,
         "2025-07-03T19:57:07.432Z",
         "2025-07-03T19:57:07.432Z"
        ],
        [
         "P0224",
         222,
         "2025-07-03T19:57:07.432Z",
         "2025-07-03T19:57:07.432Z"
        ],
        [
         "P0222",
         223,
         "2025-07-03T19:57:07.432Z",
         "2025-07-03T19:57:07.432Z"
        ],
        [
         "P0221",
         224,
         "2025-07-03T19:57:07.432Z",
         "2025-07-03T19:57:07.432Z"
        ],
        [
         "P0223",
         225,
         "2025-07-03T19:57:07.432Z",
         "2025-07-03T19:57:07.432Z"
        ]
       ],
       "datasetInfos": [],
       "dbfsResultPath": null,
       "isJsonSchema": true,
       "metadata": {},
       "overflow": false,
       "plotOptions": {
        "customPlotOptions": {},
        "displayType": "table",
        "pivotAggregation": null,
        "pivotColumns": null,
        "xColumns": null,
        "yColumns": null
       },
       "removedWidgets": [],
       "schema": [
        {
         "metadata": "{}",
         "name": "passenger_id",
         "type": "\"string\""
        },
        {
         "metadata": "{}",
         "name": "DimPassengersKey",
         "type": "\"long\""
        },
        {
         "metadata": "{}",
         "name": "create_date",
         "type": "\"timestamp\""
        },
        {
         "metadata": "{}",
         "name": "update_date",
         "type": "\"timestamp\""
        }
       ],
       "type": "table"
      }
     },
     "output_type": "display_data"
    }
   ],
   "source": [
    "df_trg.display()"
   ]
  },
  {
   "cell_type": "code",
   "execution_count": 0,
   "metadata": {
    "application/vnd.databricks.v1+cell": {
     "cellMetadata": {
      "byteLimit": 2048000,
      "rowLimit": 10000
     },
     "inputWidgets": {},
     "nuid": "c2570839-0f62-474b-ab03-c888d681d058",
     "showTitle": false,
     "tableResultSettingsMap": {},
     "title": ""
    }
   },
   "outputs": [],
   "source": [
    "# key_cols_string_incremental = \",\".join(key_cols_list ) #used above\n"
   ]
  },
  {
   "cell_type": "code",
   "execution_count": 0,
   "metadata": {
    "application/vnd.databricks.v1+cell": {
     "cellMetadata": {
      "byteLimit": 2048000,
      "rowLimit": 10000
     },
     "inputWidgets": {},
     "nuid": "3e52b5f9-2404-4689-9604-272ca39811d1",
     "showTitle": false,
     "tableResultSettingsMap": {},
     "title": ""
    }
   },
   "outputs": [],
   "source": [
    "# spark.sql(f\"SELECT {key_cols_string} FROM {catalog}.{source_schema}.{source_object}\") #used above"
   ]
  },
  {
   "cell_type": "code",
   "execution_count": 0,
   "metadata": {
    "application/vnd.databricks.v1+cell": {
     "cellMetadata": {
      "byteLimit": 2048000,
      "rowLimit": 10000
     },
     "inputWidgets": {},
     "nuid": "c74cba1f-5555-4165-98e3-35f25ae91735",
     "showTitle": false,
     "tableResultSettingsMap": {},
     "title": ""
    }
   },
   "outputs": [],
   "source": [
    "# spark.sql(f\"select '' AS flight_id, '' AS DimFlightsKey, '1900-01-01 00:00:00' AS create_date, '1900-01-01 00:00:00' AS update_date FROM workspace.silver.silver_flights\").display() #used above"
   ]
  },
  {
   "cell_type": "markdown",
   "metadata": {
    "application/vnd.databricks.v1+cell": {
     "cellMetadata": {
      "byteLimit": 2048000,
      "rowLimit": 10000
     },
     "inputWidgets": {},
     "nuid": "db3def04-b069-458b-b78a-213a0e3263f9",
     "showTitle": false,
     "tableResultSettingsMap": {},
     "title": ""
    }
   },
   "source": [
    "### Join Conditions"
   ]
  },
  {
   "cell_type": "code",
   "execution_count": 0,
   "metadata": {
    "application/vnd.databricks.v1+cell": {
     "cellMetadata": {
      "byteLimit": 2048000,
      "rowLimit": 10000
     },
     "inputWidgets": {},
     "nuid": "626d1a79-94e0-43f9-98c0-3d05febd37d2",
     "showTitle": false,
     "tableResultSettingsMap": {},
     "title": ""
    }
   },
   "outputs": [],
   "source": [
    "join_condition = 'AND'.join([f\"src.{i} = trg.{i}\" for i in key_cols_list] )"
   ]
  },
  {
   "cell_type": "code",
   "execution_count": 0,
   "metadata": {
    "application/vnd.databricks.v1+cell": {
     "cellMetadata": {
      "byteLimit": 2048000,
      "rowLimit": 10000
     },
     "inputWidgets": {},
     "nuid": "9e8d6797-9dfc-4739-bdab-eec3f0d4b3ab",
     "showTitle": false,
     "tableResultSettingsMap": {},
     "title": ""
    }
   },
   "outputs": [],
   "source": [
    "df_src.createOrReplaceTempView(\"src\")\n",
    "df_trg.createOrReplaceTempView(\"trg\")\n",
    "\n",
    "df_join = spark.sql(f\"\"\"\n",
    "          select src.*,\n",
    "                 trg.{surrogate_key},\n",
    "                 trg.create_date,\n",
    "                 trg.update_date\n",
    "          from src\n",
    "          left join trg\n",
    "          on {join_condition}\n",
    "                 \n",
    "          \"\"\")"
   ]
  },
  {
   "cell_type": "code",
   "execution_count": 0,
   "metadata": {
    "application/vnd.databricks.v1+cell": {
     "cellMetadata": {
      "byteLimit": 2048000,
      "rowLimit": 10000
     },
     "inputWidgets": {},
     "nuid": "18cb72b0-5bde-4fb6-8312-ffc8c3b2553d",
     "showTitle": false,
     "tableResultSettingsMap": {},
     "title": ""
    }
   },
   "outputs": [
    {
     "output_type": "display_data",
     "data": {
      "text/html": [
       "<style scoped>\n",
       "  .table-result-container {\n",
       "    max-height: 300px;\n",
       "    overflow: auto;\n",
       "  }\n",
       "  table, th, td {\n",
       "    border: 1px solid black;\n",
       "    border-collapse: collapse;\n",
       "  }\n",
       "  th, td {\n",
       "    padding: 5px;\n",
       "  }\n",
       "  th {\n",
       "    text-align: left;\n",
       "  }\n",
       "</style><div class='table-result-container'><table class='table-result'><thead style='background-color: white'><tr><th>passenger_id</th><th>name</th><th>gender</th><th>nationality</th><th>ModifiedDate</th><th>DimPassengersKey</th><th>create_date</th><th>update_date</th></tr></thead><tbody></tbody></table></div>"
      ]
     },
     "metadata": {
      "application/vnd.databricks.v1+output": {
       "addedWidgets": {},
       "aggData": [],
       "aggError": "",
       "aggOverflow": false,
       "aggSchema": [],
       "aggSeriesLimitReached": false,
       "aggType": "",
       "arguments": {},
       "columnCustomDisplayInfos": {},
       "data": [],
       "datasetInfos": [],
       "dbfsResultPath": null,
       "isJsonSchema": true,
       "metadata": {},
       "overflow": false,
       "plotOptions": {
        "customPlotOptions": {},
        "displayType": "table",
        "pivotAggregation": null,
        "pivotColumns": null,
        "xColumns": null,
        "yColumns": null
       },
       "removedWidgets": [],
       "schema": [
        {
         "metadata": "{}",
         "name": "passenger_id",
         "type": "\"string\""
        },
        {
         "metadata": "{}",
         "name": "name",
         "type": "\"string\""
        },
        {
         "metadata": "{}",
         "name": "gender",
         "type": "\"string\""
        },
        {
         "metadata": "{}",
         "name": "nationality",
         "type": "\"string\""
        },
        {
         "metadata": "{}",
         "name": "ModifiedDate",
         "type": "\"timestamp\""
        },
        {
         "metadata": "{}",
         "name": "DimPassengersKey",
         "type": "\"long\""
        },
        {
         "metadata": "{}",
         "name": "create_date",
         "type": "\"timestamp\""
        },
        {
         "metadata": "{}",
         "name": "update_date",
         "type": "\"timestamp\""
        }
       ],
       "type": "table"
      }
     },
     "output_type": "display_data"
    }
   ],
   "source": [
    "df_join.display()"
   ]
  },
  {
   "cell_type": "code",
   "execution_count": 0,
   "metadata": {
    "application/vnd.databricks.v1+cell": {
     "cellMetadata": {
      "byteLimit": 2048000,
      "rowLimit": 10000
     },
     "inputWidgets": {},
     "nuid": "798a0a47-034a-4b88-b7a0-6b416d776912",
     "showTitle": false,
     "tableResultSettingsMap": {},
     "title": ""
    }
   },
   "outputs": [
    {
     "output_type": "display_data",
     "data": {
      "text/html": [
       "<style scoped>\n",
       "  .table-result-container {\n",
       "    max-height: 300px;\n",
       "    overflow: auto;\n",
       "  }\n",
       "  table, th, td {\n",
       "    border: 1px solid black;\n",
       "    border-collapse: collapse;\n",
       "  }\n",
       "  th, td {\n",
       "    padding: 5px;\n",
       "  }\n",
       "  th {\n",
       "    text-align: left;\n",
       "  }\n",
       "</style><div class='table-result-container'><table class='table-result'><thead style='background-color: white'><tr><th>passenger_id</th><th>name</th><th>gender</th><th>nationality</th><th>ModifiedDate</th><th>DimPassengersKey</th><th>create_date</th><th>update_date</th></tr></thead><tbody></tbody></table></div>"
      ]
     },
     "metadata": {
      "application/vnd.databricks.v1+output": {
       "addedWidgets": {},
       "aggData": [],
       "aggError": "",
       "aggOverflow": false,
       "aggSchema": [],
       "aggSeriesLimitReached": false,
       "aggType": "",
       "arguments": {},
       "columnCustomDisplayInfos": {},
       "data": [],
       "datasetInfos": [],
       "dbfsResultPath": null,
       "isJsonSchema": true,
       "metadata": {},
       "overflow": false,
       "plotOptions": {
        "customPlotOptions": {},
        "displayType": "table",
        "pivotAggregation": null,
        "pivotColumns": null,
        "xColumns": null,
        "yColumns": null
       },
       "removedWidgets": [],
       "schema": [
        {
         "metadata": "{}",
         "name": "passenger_id",
         "type": "\"string\""
        },
        {
         "metadata": "{}",
         "name": "name",
         "type": "\"string\""
        },
        {
         "metadata": "{}",
         "name": "gender",
         "type": "\"string\""
        },
        {
         "metadata": "{}",
         "name": "nationality",
         "type": "\"string\""
        },
        {
         "metadata": "{}",
         "name": "ModifiedDate",
         "type": "\"timestamp\""
        },
        {
         "metadata": "{}",
         "name": "DimPassengersKey",
         "type": "\"long\""
        },
        {
         "metadata": "{}",
         "name": "create_date",
         "type": "\"timestamp\""
        },
        {
         "metadata": "{}",
         "name": "update_date",
         "type": "\"timestamp\""
        }
       ],
       "type": "table"
      }
     },
     "output_type": "display_data"
    },
    {
     "output_type": "display_data",
     "data": {
      "text/html": [
       "<style scoped>\n",
       "  .table-result-container {\n",
       "    max-height: 300px;\n",
       "    overflow: auto;\n",
       "  }\n",
       "  table, th, td {\n",
       "    border: 1px solid black;\n",
       "    border-collapse: collapse;\n",
       "  }\n",
       "  th, td {\n",
       "    padding: 5px;\n",
       "  }\n",
       "  th {\n",
       "    text-align: left;\n",
       "  }\n",
       "</style><div class='table-result-container'><table class='table-result'><thead style='background-color: white'><tr><th>passenger_id</th><th>name</th><th>gender</th><th>nationality</th><th>ModifiedDate</th><th>DimPassengersKey</th><th>create_date</th><th>update_date</th></tr></thead><tbody></tbody></table></div>"
      ]
     },
     "metadata": {
      "application/vnd.databricks.v1+output": {
       "addedWidgets": {},
       "aggData": [],
       "aggError": "",
       "aggOverflow": false,
       "aggSchema": [],
       "aggSeriesLimitReached": false,
       "aggType": "",
       "arguments": {},
       "columnCustomDisplayInfos": {},
       "data": [],
       "datasetInfos": [],
       "dbfsResultPath": null,
       "isJsonSchema": true,
       "metadata": {},
       "overflow": false,
       "plotOptions": {
        "customPlotOptions": {},
        "displayType": "table",
        "pivotAggregation": null,
        "pivotColumns": null,
        "xColumns": null,
        "yColumns": null
       },
       "removedWidgets": [],
       "schema": [
        {
         "metadata": "{}",
         "name": "passenger_id",
         "type": "\"string\""
        },
        {
         "metadata": "{}",
         "name": "name",
         "type": "\"string\""
        },
        {
         "metadata": "{}",
         "name": "gender",
         "type": "\"string\""
        },
        {
         "metadata": "{}",
         "name": "nationality",
         "type": "\"string\""
        },
        {
         "metadata": "{}",
         "name": "ModifiedDate",
         "type": "\"timestamp\""
        },
        {
         "metadata": "{}",
         "name": "DimPassengersKey",
         "type": "\"long\""
        },
        {
         "metadata": "{}",
         "name": "create_date",
         "type": "\"timestamp\""
        },
        {
         "metadata": "{}",
         "name": "update_date",
         "type": "\"timestamp\""
        }
       ],
       "type": "table"
      }
     },
     "output_type": "display_data"
    }
   ],
   "source": [
    "df_old = df_join.filter(col(f'{surrogate_key}').isNotNull())\n",
    "df_old.display()\n",
    "df_new = df_join.filter(col(f'{surrogate_key}').isNull())\n",
    "df_new.display()"
   ]
  },
  {
   "cell_type": "markdown",
   "metadata": {
    "application/vnd.databricks.v1+cell": {
     "cellMetadata": {
      "byteLimit": 2048000,
      "rowLimit": 10000
     },
     "inputWidgets": {},
     "nuid": "dc325cb4-42cc-40fc-b89c-10ce769b510b",
     "showTitle": false,
     "tableResultSettingsMap": {},
     "title": ""
    }
   },
   "source": [
    "## ENRICHGING DATAFRAME"
   ]
  },
  {
   "cell_type": "markdown",
   "metadata": {
    "application/vnd.databricks.v1+cell": {
     "cellMetadata": {
      "byteLimit": 2048000,
      "rowLimit": 10000
     },
     "inputWidgets": {},
     "nuid": "145a514f-0710-424c-8f2f-c05ac2cf3815",
     "showTitle": false,
     "tableResultSettingsMap": {},
     "title": ""
    }
   },
   "source": [
    "#### Preparing DF_OLD"
   ]
  },
  {
   "cell_type": "code",
   "execution_count": 0,
   "metadata": {
    "application/vnd.databricks.v1+cell": {
     "cellMetadata": {
      "byteLimit": 2048000,
      "rowLimit": 10000
     },
     "inputWidgets": {},
     "nuid": "6651c9f3-5087-47c1-b29b-d4ca8b0fab13",
     "showTitle": false,
     "tableResultSettingsMap": {},
     "title": ""
    }
   },
   "outputs": [],
   "source": [
    "df_old_enr = df_old.withColumn(\"update_date\", current_timestamp())\n"
   ]
  },
  {
   "cell_type": "markdown",
   "metadata": {
    "application/vnd.databricks.v1+cell": {
     "cellMetadata": {
      "byteLimit": 2048000,
      "rowLimit": 10000
     },
     "inputWidgets": {},
     "nuid": "e47b3cf7-095b-4289-b0b7-81a41102ec6e",
     "showTitle": false,
     "tableResultSettingsMap": {},
     "title": ""
    }
   },
   "source": [
    "### Preparing DF_NEW"
   ]
  },
  {
   "cell_type": "code",
   "execution_count": 0,
   "metadata": {
    "application/vnd.databricks.v1+cell": {
     "cellMetadata": {
      "byteLimit": 2048000,
      "rowLimit": 10000
     },
     "inputWidgets": {},
     "nuid": "d360c338-42f6-4716-aa17-c36524f7b02e",
     "showTitle": false,
     "tableResultSettingsMap": {},
     "title": ""
    }
   },
   "outputs": [],
   "source": [
    "if spark.catalog.tableExists(f\"{catalog}.{target_schema}.{target_object}\"):\n",
    "    max_surrogate_key = spark.sql(f\"\"\"\n",
    "                            select max({surrogate_key}) from {catalog}.{target_schema}.{target_object}\n",
    "                            \"\"\").collect()[0][0]\n",
    "    df_new_enr = df_new.withColumn(f'{surrogate_key}', lit(max_surrogate_key)+lit(1)+ monotonically_increasing_id())\\\n",
    "        .withColumn(\"create_date\", current_timestamp())\\\n",
    "        .withColumn(\"update_date\", current_timestamp())\n",
    "\n",
    "else:\n",
    "    max_surrogate_key = 0\n",
    "    #lit is juts for literal value\n",
    "    df_new_enr = df_new.withColumn(f'{surrogate_key}', lit(max_surrogate_key)+lit(1)+ monotonically_increasing_id())\\\n",
    "        .withColumn(\"create_date\", current_timestamp())\\\n",
    "        .withColumn(\"update_date\", current_timestamp())\n"
   ]
  },
  {
   "cell_type": "code",
   "execution_count": 0,
   "metadata": {
    "application/vnd.databricks.v1+cell": {
     "cellMetadata": {
      "byteLimit": 2048000,
      "rowLimit": 10000
     },
     "inputWidgets": {},
     "nuid": "1d3e0baa-f25d-4cd6-8b57-f9efa4c60ab4",
     "showTitle": false,
     "tableResultSettingsMap": {},
     "title": ""
    }
   },
   "outputs": [
    {
     "output_type": "display_data",
     "data": {
      "text/html": [
       "<style scoped>\n",
       "  .table-result-container {\n",
       "    max-height: 300px;\n",
       "    overflow: auto;\n",
       "  }\n",
       "  table, th, td {\n",
       "    border: 1px solid black;\n",
       "    border-collapse: collapse;\n",
       "  }\n",
       "  th, td {\n",
       "    padding: 5px;\n",
       "  }\n",
       "  th {\n",
       "    text-align: left;\n",
       "  }\n",
       "</style><div class='table-result-container'><table class='table-result'><thead style='background-color: white'><tr><th>passenger_id</th><th>name</th><th>gender</th><th>nationality</th><th>ModifiedDate</th><th>DimPassengersKey</th><th>create_date</th><th>update_date</th></tr></thead><tbody></tbody></table></div>"
      ]
     },
     "metadata": {
      "application/vnd.databricks.v1+output": {
       "addedWidgets": {},
       "aggData": [],
       "aggError": "",
       "aggOverflow": false,
       "aggSchema": [],
       "aggSeriesLimitReached": false,
       "aggType": "",
       "arguments": {},
       "columnCustomDisplayInfos": {},
       "data": [],
       "datasetInfos": [],
       "dbfsResultPath": null,
       "isJsonSchema": true,
       "metadata": {},
       "overflow": false,
       "plotOptions": {
        "customPlotOptions": {},
        "displayType": "table",
        "pivotAggregation": null,
        "pivotColumns": null,
        "xColumns": null,
        "yColumns": null
       },
       "removedWidgets": [],
       "schema": [
        {
         "metadata": "{}",
         "name": "passenger_id",
         "type": "\"string\""
        },
        {
         "metadata": "{}",
         "name": "name",
         "type": "\"string\""
        },
        {
         "metadata": "{}",
         "name": "gender",
         "type": "\"string\""
        },
        {
         "metadata": "{}",
         "name": "nationality",
         "type": "\"string\""
        },
        {
         "metadata": "{}",
         "name": "ModifiedDate",
         "type": "\"timestamp\""
        },
        {
         "metadata": "{}",
         "name": "DimPassengersKey",
         "type": "\"long\""
        },
        {
         "metadata": "{}",
         "name": "create_date",
         "type": "\"timestamp\""
        },
        {
         "metadata": "{}",
         "name": "update_date",
         "type": "\"timestamp\""
        }
       ],
       "type": "table"
      }
     },
     "output_type": "display_data"
    },
    {
     "output_type": "display_data",
     "data": {
      "text/html": [
       "<style scoped>\n",
       "  .table-result-container {\n",
       "    max-height: 300px;\n",
       "    overflow: auto;\n",
       "  }\n",
       "  table, th, td {\n",
       "    border: 1px solid black;\n",
       "    border-collapse: collapse;\n",
       "  }\n",
       "  th, td {\n",
       "    padding: 5px;\n",
       "  }\n",
       "  th {\n",
       "    text-align: left;\n",
       "  }\n",
       "</style><div class='table-result-container'><table class='table-result'><thead style='background-color: white'><tr><th>passenger_id</th><th>name</th><th>gender</th><th>nationality</th><th>ModifiedDate</th><th>DimPassengersKey</th><th>create_date</th><th>update_date</th></tr></thead><tbody></tbody></table></div>"
      ]
     },
     "metadata": {
      "application/vnd.databricks.v1+output": {
       "addedWidgets": {},
       "aggData": [],
       "aggError": "",
       "aggOverflow": false,
       "aggSchema": [],
       "aggSeriesLimitReached": false,
       "aggType": "",
       "arguments": {},
       "columnCustomDisplayInfos": {},
       "data": [],
       "datasetInfos": [],
       "dbfsResultPath": null,
       "isJsonSchema": true,
       "metadata": {},
       "overflow": false,
       "plotOptions": {
        "customPlotOptions": {},
        "displayType": "table",
        "pivotAggregation": null,
        "pivotColumns": null,
        "xColumns": null,
        "yColumns": null
       },
       "removedWidgets": [],
       "schema": [
        {
         "metadata": "{}",
         "name": "passenger_id",
         "type": "\"string\""
        },
        {
         "metadata": "{}",
         "name": "name",
         "type": "\"string\""
        },
        {
         "metadata": "{}",
         "name": "gender",
         "type": "\"string\""
        },
        {
         "metadata": "{}",
         "name": "nationality",
         "type": "\"string\""
        },
        {
         "metadata": "{}",
         "name": "ModifiedDate",
         "type": "\"timestamp\""
        },
        {
         "metadata": "{}",
         "name": "DimPassengersKey",
         "type": "\"long\""
        },
        {
         "metadata": "{}",
         "name": "create_date",
         "type": "\"timestamp\""
        },
        {
         "metadata": "{}",
         "name": "update_date",
         "type": "\"timestamp\""
        }
       ],
       "type": "table"
      }
     },
     "output_type": "display_data"
    }
   ],
   "source": [
    "df_new_enr.display()\n",
    "df_old_enr.display()"
   ]
  },
  {
   "cell_type": "code",
   "execution_count": 0,
   "metadata": {
    "application/vnd.databricks.v1+cell": {
     "cellMetadata": {
      "byteLimit": 2048000,
      "rowLimit": 10000
     },
     "inputWidgets": {},
     "nuid": "37382161-98f6-4da2-b943-0cfded0eb56e",
     "showTitle": false,
     "tableResultSettingsMap": {},
     "title": ""
    }
   },
   "outputs": [],
   "source": [
    "#MAX_SURROGATE_KEY WHEN TABLE IS READY\n",
    "    # spark.sql(\"\"\"\n",
    "    #     select max({surrogate_key}) from {catalog}.{target_schema}.{target_object}\n",
    "    # \"\"\").collect()[0][0]"
   ]
  },
  {
   "cell_type": "markdown",
   "metadata": {
    "application/vnd.databricks.v1+cell": {
     "cellMetadata": {
      "byteLimit": 2048000,
      "rowLimit": 10000
     },
     "inputWidgets": {},
     "nuid": "eb058d56-d419-4592-8bca-6ef345184603",
     "showTitle": false,
     "tableResultSettingsMap": {},
     "title": ""
    }
   },
   "source": [
    "### UNION new and old"
   ]
  },
  {
   "cell_type": "code",
   "execution_count": 0,
   "metadata": {
    "application/vnd.databricks.v1+cell": {
     "cellMetadata": {
      "byteLimit": 2048000,
      "rowLimit": 10000
     },
     "inputWidgets": {},
     "nuid": "8936e171-f5aa-4329-bfa8-0f150d183d30",
     "showTitle": false,
     "tableResultSettingsMap": {},
     "title": ""
    }
   },
   "outputs": [],
   "source": [
    "df_union = df_old_enr.unionByName(df_new_enr)\n",
    "\n"
   ]
  },
  {
   "cell_type": "code",
   "execution_count": 0,
   "metadata": {
    "application/vnd.databricks.v1+cell": {
     "cellMetadata": {
      "byteLimit": 2048000,
      "rowLimit": 10000
     },
     "inputWidgets": {},
     "nuid": "1955df70-7782-48a1-9c94-8b6375a2c45a",
     "showTitle": false,
     "tableResultSettingsMap": {},
     "title": ""
    }
   },
   "outputs": [
    {
     "output_type": "display_data",
     "data": {
      "text/html": [
       "<style scoped>\n",
       "  .table-result-container {\n",
       "    max-height: 300px;\n",
       "    overflow: auto;\n",
       "  }\n",
       "  table, th, td {\n",
       "    border: 1px solid black;\n",
       "    border-collapse: collapse;\n",
       "  }\n",
       "  th, td {\n",
       "    padding: 5px;\n",
       "  }\n",
       "  th {\n",
       "    text-align: left;\n",
       "  }\n",
       "</style><div class='table-result-container'><table class='table-result'><thead style='background-color: white'><tr><th>passenger_id</th><th>name</th><th>gender</th><th>nationality</th><th>ModifiedDate</th><th>DimPassengersKey</th><th>create_date</th><th>update_date</th></tr></thead><tbody></tbody></table></div>"
      ]
     },
     "metadata": {
      "application/vnd.databricks.v1+output": {
       "addedWidgets": {},
       "aggData": [],
       "aggError": "",
       "aggOverflow": false,
       "aggSchema": [],
       "aggSeriesLimitReached": false,
       "aggType": "",
       "arguments": {},
       "columnCustomDisplayInfos": {},
       "data": [],
       "datasetInfos": [],
       "dbfsResultPath": null,
       "isJsonSchema": true,
       "metadata": {},
       "overflow": false,
       "plotOptions": {
        "customPlotOptions": {},
        "displayType": "table",
        "pivotAggregation": null,
        "pivotColumns": null,
        "xColumns": null,
        "yColumns": null
       },
       "removedWidgets": [],
       "schema": [
        {
         "metadata": "{}",
         "name": "passenger_id",
         "type": "\"string\""
        },
        {
         "metadata": "{}",
         "name": "name",
         "type": "\"string\""
        },
        {
         "metadata": "{}",
         "name": "gender",
         "type": "\"string\""
        },
        {
         "metadata": "{}",
         "name": "nationality",
         "type": "\"string\""
        },
        {
         "metadata": "{}",
         "name": "ModifiedDate",
         "type": "\"timestamp\""
        },
        {
         "metadata": "{}",
         "name": "DimPassengersKey",
         "type": "\"long\""
        },
        {
         "metadata": "{}",
         "name": "create_date",
         "type": "\"timestamp\""
        },
        {
         "metadata": "{}",
         "name": "update_date",
         "type": "\"timestamp\""
        }
       ],
       "type": "table"
      }
     },
     "output_type": "display_data"
    }
   ],
   "source": [
    "df_union.display()\n"
   ]
  },
  {
   "cell_type": "markdown",
   "metadata": {
    "application/vnd.databricks.v1+cell": {
     "cellMetadata": {
      "byteLimit": 2048000,
      "rowLimit": 10000
     },
     "inputWidgets": {},
     "nuid": "6ac061e7-6382-4412-a481-a15b13bf9f23",
     "showTitle": false,
     "tableResultSettingsMap": {},
     "title": ""
    }
   },
   "source": [
    "## UPSERT"
   ]
  },
  {
   "cell_type": "code",
   "execution_count": 0,
   "metadata": {
    "application/vnd.databricks.v1+cell": {
     "cellMetadata": {
      "byteLimit": 2048000,
      "rowLimit": 10000
     },
     "inputWidgets": {},
     "nuid": "1441d50a-fd42-4f9b-94fb-ec475950ebb3",
     "showTitle": false,
     "tableResultSettingsMap": {},
     "title": ""
    }
   },
   "outputs": [],
   "source": [
    "from delta.tables import DeltaTable"
   ]
  },
  {
   "cell_type": "code",
   "execution_count": 0,
   "metadata": {
    "application/vnd.databricks.v1+cell": {
     "cellMetadata": {
      "byteLimit": 2048000,
      "rowLimit": 10000
     },
     "inputWidgets": {},
     "nuid": "2c1b04e6-db1d-4b92-9765-38fd3332882d",
     "showTitle": false,
     "tableResultSettingsMap": {},
     "title": ""
    }
   },
   "outputs": [],
   "source": [
    "if spark.catalog.tableExists(f\"{catalog}.{target_schema}.{target_object}\"):\n",
    "    dlt_obj = DeltaTable.forName(spark, f\"{catalog}.{target_schema}.{target_object}\")\n",
    "    dlt_obj.alias(\"trg\").merge(df_union.alias(\"src\"), f\"trg.{surrogate_key} = src.{surrogate_key}\")\\\n",
    "                        .whenMatchedUpdateAll(condition =f\" src.{cdc_col}>= trg.{cdc_col}\")\\\n",
    "                        .whenNotMatchedInsertAll()\\\n",
    "                        .execute()\n",
    "else:\n",
    "    df_union.write.format(\"delta\")\\\n",
    "            .mode(\"append\")\\\n",
    "            .saveAsTable(f\"{catalog}.{target_schema}.{target_object}\")\n"
   ]
  },
  {
   "cell_type": "code",
   "execution_count": 0,
   "metadata": {
    "application/vnd.databricks.v1+cell": {
     "cellMetadata": {
      "byteLimit": 2048000,
      "implicitDf": true,
      "rowLimit": 10000
     },
     "inputWidgets": {},
     "nuid": "7d2b4189-e410-4e30-9476-59b48132ca9a",
     "showTitle": false,
     "tableResultSettingsMap": {},
     "title": ""
    }
   },
   "outputs": [
    {
     "output_type": "display_data",
     "data": {
      "text/html": [
       "<style scoped>\n",
       "  .table-result-container {\n",
       "    max-height: 300px;\n",
       "    overflow: auto;\n",
       "  }\n",
       "  table, th, td {\n",
       "    border: 1px solid black;\n",
       "    border-collapse: collapse;\n",
       "  }\n",
       "  th, td {\n",
       "    padding: 5px;\n",
       "  }\n",
       "  th {\n",
       "    text-align: left;\n",
       "  }\n",
       "</style><div class='table-result-container'><table class='table-result'><thead style='background-color: white'><tr><th>airport_id</th><th>airport_name</th><th>city</th><th>country</th><th>ModifiedDate</th><th>DimAirportsKey</th><th>create_date</th><th>update_date</th></tr></thead><tbody><tr><td>A012</td><td>East Nancy International Airport</td><td>Crosston</td><td>Romania</td><td>2025-07-03T03:03:00.072Z</td><td>1</td><td>2025-07-03T17:27:11.296Z</td><td>2025-07-03T17:27:11.296Z</td></tr><tr><td>A044</td><td>Cordovaview International Airport</td><td>Shannonport</td><td>Gabon</td><td>2025-07-03T03:03:00.072Z</td><td>2</td><td>2025-07-03T17:27:11.296Z</td><td>2025-07-03T17:27:11.296Z</td></tr><tr><td>A047</td><td>New Michaelland International Airport</td><td>Sanchezberg</td><td>Hong Kong</td><td>2025-07-03T03:03:00.072Z</td><td>3</td><td>2025-07-03T17:27:11.296Z</td><td>2025-07-03T17:27:11.296Z</td></tr><tr><td>A050</td><td>Paultown International Airport</td><td>North Richardmouth</td><td>France</td><td>2025-07-03T03:03:00.072Z</td><td>4</td><td>2025-07-03T17:27:11.296Z</td><td>2025-07-03T17:27:11.296Z</td></tr><tr><td>A009</td><td>New Joshuafurt International Airport</td><td>Port Jamiehaven</td><td>Pitcairn Islands</td><td>2025-07-03T03:03:00.072Z</td><td>5</td><td>2025-07-03T17:27:11.296Z</td><td>2025-07-03T17:27:11.296Z</td></tr><tr><td>A023</td><td>Maryfurt International Airport</td><td>Lake Kennethfurt</td><td>Panama</td><td>2025-07-03T03:03:00.072Z</td><td>6</td><td>2025-07-03T17:27:11.296Z</td><td>2025-07-03T17:27:11.296Z</td></tr><tr><td>A043</td><td>Kaylaland International Airport</td><td>Schultzhaven</td><td>Sweden</td><td>2025-07-03T03:03:00.072Z</td><td>7</td><td>2025-07-03T17:27:11.296Z</td><td>2025-07-03T17:27:11.296Z</td></tr><tr><td>A022</td><td>Blankenshipport International Airport</td><td>Sherryville</td><td>Bhutan</td><td>2025-07-03T03:03:00.072Z</td><td>8</td><td>2025-07-03T17:27:11.296Z</td><td>2025-07-03T17:27:11.296Z</td></tr><tr><td>A032</td><td>East Robinmouth International Airport</td><td>Sharonstad</td><td>Poland</td><td>2025-07-03T03:03:00.072Z</td><td>9</td><td>2025-07-03T17:27:11.296Z</td><td>2025-07-03T17:27:11.296Z</td></tr><tr><td>A005</td><td>East Aaron International Airport</td><td>Davishaven</td><td>Monaco</td><td>2025-07-03T03:03:00.072Z</td><td>10</td><td>2025-07-03T17:27:11.296Z</td><td>2025-07-03T17:27:11.296Z</td></tr><tr><td>A014</td><td>Brittanyshire International Airport</td><td>Kylechester</td><td>Mauritius</td><td>2025-07-03T03:03:00.072Z</td><td>11</td><td>2025-07-03T17:27:11.296Z</td><td>2025-07-03T17:27:11.296Z</td></tr><tr><td>A028</td><td>Hamiltonview International Airport</td><td>Isaacland</td><td>Lebanon</td><td>2025-07-03T03:03:00.072Z</td><td>12</td><td>2025-07-03T17:27:11.296Z</td><td>2025-07-03T17:27:11.296Z</td></tr><tr><td>A029</td><td>New Amber International Airport</td><td>Davismouth</td><td>Congo</td><td>2025-07-03T03:03:00.072Z</td><td>13</td><td>2025-07-03T17:27:11.296Z</td><td>2025-07-03T17:27:11.296Z</td></tr><tr><td>A040</td><td>Jillville International Airport</td><td>Wallerchester</td><td>Libyan Arab Jamahiriya</td><td>2025-07-03T03:03:00.072Z</td><td>14</td><td>2025-07-03T17:27:11.296Z</td><td>2025-07-03T17:27:11.296Z</td></tr><tr><td>A003</td><td>Brownland International Airport</td><td>Samuelville</td><td>Costa Rica</td><td>2025-07-03T03:03:00.072Z</td><td>15</td><td>2025-07-03T17:27:11.296Z</td><td>2025-07-03T17:27:11.296Z</td></tr><tr><td>A011</td><td>Alisonville International Airport</td><td>West Annaburgh</td><td>Mexico</td><td>2025-07-03T03:03:00.072Z</td><td>16</td><td>2025-07-03T17:27:11.296Z</td><td>2025-07-03T17:27:11.296Z</td></tr><tr><td>A025</td><td>East Tiffanymouth International Airport</td><td>North Ashley</td><td>Gambia</td><td>2025-07-03T03:03:00.072Z</td><td>17</td><td>2025-07-03T17:27:11.296Z</td><td>2025-07-03T17:27:11.296Z</td></tr><tr><td>A039</td><td>Reneeborough International Airport</td><td>East Amanda</td><td>Germany</td><td>2025-07-03T03:03:00.072Z</td><td>18</td><td>2025-07-03T17:27:11.296Z</td><td>2025-07-03T17:27:11.296Z</td></tr><tr><td>A042</td><td>West Matthew International Airport</td><td>Reedshire</td><td>Lithuania</td><td>2025-07-03T03:03:00.072Z</td><td>19</td><td>2025-07-03T17:27:11.296Z</td><td>2025-07-03T17:27:11.296Z</td></tr><tr><td>A002</td><td>East Kristin International Airport</td><td>North Michaelview</td><td>Bosnia and Herzegovina</td><td>2025-07-03T03:03:00.072Z</td><td>20</td><td>2025-07-03T17:27:11.296Z</td><td>2025-07-03T17:27:11.296Z</td></tr><tr><td>A006</td><td>Michaelburgh International Airport</td><td>East Blake</td><td>Iceland</td><td>2025-07-03T03:03:00.072Z</td><td>21</td><td>2025-07-03T17:27:11.296Z</td><td>2025-07-03T17:27:11.296Z</td></tr><tr><td>A015</td><td>North Erinberg International Airport</td><td>Walshtown</td><td>South Georgia and the South Sandwich Islands</td><td>2025-07-03T03:03:00.072Z</td><td>22</td><td>2025-07-03T17:27:11.296Z</td><td>2025-07-03T17:27:11.296Z</td></tr><tr><td>A026</td><td>New Isaiah International Airport</td><td>Lake Melissaland</td><td>Cote d'Ivoire</td><td>2025-07-03T03:03:00.072Z</td><td>23</td><td>2025-07-03T17:27:11.296Z</td><td>2025-07-03T17:27:11.296Z</td></tr><tr><td>A034</td><td>West Matthew International Airport</td><td>Wigginsmouth</td><td>Czech Republic</td><td>2025-07-03T03:03:00.072Z</td><td>24</td><td>2025-07-03T17:27:11.296Z</td><td>2025-07-03T17:27:11.296Z</td></tr><tr><td>A013</td><td>West Christianstad International Airport</td><td>North Janetton</td><td>Qatar</td><td>2025-07-03T03:03:00.072Z</td><td>25</td><td>2025-07-03T17:27:11.296Z</td><td>2025-07-03T17:27:11.296Z</td></tr><tr><td>A004</td><td>Meghanton International Airport</td><td>Andrewsmouth</td><td>Macedonia</td><td>2025-07-03T03:03:00.072Z</td><td>26</td><td>2025-07-03T17:27:11.296Z</td><td>2025-07-03T17:27:11.296Z</td></tr><tr><td>A041</td><td>Lake Amber International Airport</td><td>Brownstad</td><td>Algeria</td><td>2025-07-03T03:03:00.072Z</td><td>27</td><td>2025-07-03T17:27:11.296Z</td><td>2025-07-03T17:27:11.296Z</td></tr><tr><td>A048</td><td>Sarahmouth International Airport</td><td>Edwardmouth</td><td>Malaysia</td><td>2025-07-03T03:03:00.072Z</td><td>28</td><td>2025-07-03T17:27:11.296Z</td><td>2025-07-03T17:27:11.296Z</td></tr><tr><td>A001</td><td>Gregoryland International Airport</td><td>Kristenmouth</td><td>South Georgia and the South Sandwich Islands</td><td>2025-07-03T03:03:00.072Z</td><td>29</td><td>2025-07-03T17:27:11.296Z</td><td>2025-07-03T17:27:11.296Z</td></tr><tr><td>A007</td><td>West Jennifer International Airport</td><td>Jillianstad</td><td>Libyan Arab Jamahiriya</td><td>2025-07-03T03:03:00.072Z</td><td>30</td><td>2025-07-03T17:27:11.296Z</td><td>2025-07-03T17:27:11.296Z</td></tr><tr><td>A010</td><td>Thompsontown International Airport</td><td>Murraychester</td><td>Ireland</td><td>2025-07-03T03:03:00.072Z</td><td>31</td><td>2025-07-03T17:27:11.296Z</td><td>2025-07-03T17:27:11.296Z</td></tr><tr><td>A037</td><td>Francobury International Airport</td><td>Foleyland</td><td>Denmark</td><td>2025-07-03T03:03:00.072Z</td><td>32</td><td>2025-07-03T17:27:11.296Z</td><td>2025-07-03T17:27:11.296Z</td></tr><tr><td>A016</td><td>Davidhaven International Airport</td><td>South Michael</td><td>Holy See (Vatican City State)</td><td>2025-07-03T03:03:00.072Z</td><td>33</td><td>2025-07-03T17:27:11.296Z</td><td>2025-07-03T17:27:11.296Z</td></tr><tr><td>A017</td><td>West Melissaborough International Airport</td><td>North Robertburgh</td><td>Switzerland</td><td>2025-07-03T03:03:00.072Z</td><td>34</td><td>2025-07-03T17:27:11.296Z</td><td>2025-07-03T17:27:11.296Z</td></tr><tr><td>A018</td><td>Lake Mandyport International Airport</td><td>Englishfort</td><td>Russian Federation</td><td>2025-07-03T03:03:00.072Z</td><td>35</td><td>2025-07-03T17:27:11.296Z</td><td>2025-07-03T17:27:11.296Z</td></tr><tr><td>A020</td><td>Port Lori International Airport</td><td>Nicholaston</td><td>Martinique</td><td>2025-07-03T03:03:00.072Z</td><td>36</td><td>2025-07-03T17:27:11.296Z</td><td>2025-07-03T17:27:11.296Z</td></tr><tr><td>A035</td><td>Chavezchester International Airport</td><td>Port Meganhaven</td><td>Niger</td><td>2025-07-03T03:03:00.072Z</td><td>37</td><td>2025-07-03T17:27:11.296Z</td><td>2025-07-03T17:27:11.296Z</td></tr><tr><td>A033</td><td>Perezbury International Airport</td><td>West Maryville</td><td>Korea</td><td>2025-07-03T03:03:00.072Z</td><td>38</td><td>2025-07-03T17:27:11.296Z</td><td>2025-07-03T17:27:11.296Z</td></tr><tr><td>A045</td><td>Stoneport International Airport</td><td>New Joseph</td><td>Georgia</td><td>2025-07-03T03:03:00.072Z</td><td>39</td><td>2025-07-03T17:27:11.296Z</td><td>2025-07-03T17:27:11.296Z</td></tr><tr><td>A008</td><td>Port Craig International Airport</td><td>New Lisa</td><td>French Southern Territories</td><td>2025-07-03T03:03:00.072Z</td><td>40</td><td>2025-07-03T17:27:11.296Z</td><td>2025-07-03T17:27:11.296Z</td></tr><tr><td>A021</td><td>Phillipsburgh International Airport</td><td>West Ritaland</td><td>Colombia</td><td>2025-07-03T03:03:00.072Z</td><td>41</td><td>2025-07-03T17:27:11.296Z</td><td>2025-07-03T17:27:11.296Z</td></tr><tr><td>A027</td><td>West Patricia International Airport</td><td>Wilsonmouth</td><td>Djibouti</td><td>2025-07-03T03:03:00.072Z</td><td>42</td><td>2025-07-03T17:27:11.296Z</td><td>2025-07-03T17:27:11.296Z</td></tr><tr><td>A049</td><td>North Heather International Airport</td><td>West Andrewview</td><td>Netherlands Antilles</td><td>2025-07-03T03:03:00.072Z</td><td>43</td><td>2025-07-03T17:27:11.296Z</td><td>2025-07-03T17:27:11.296Z</td></tr><tr><td>A019</td><td>East Gregtown International Airport</td><td>Downsborough</td><td>Kazakhstan</td><td>2025-07-03T03:03:00.072Z</td><td>44</td><td>2025-07-03T17:27:11.296Z</td><td>2025-07-03T17:27:11.296Z</td></tr><tr><td>A031</td><td>East Paulahaven International Airport</td><td>New Charlesberg</td><td>Thailand</td><td>2025-07-03T03:03:00.072Z</td><td>45</td><td>2025-07-03T17:27:11.296Z</td><td>2025-07-03T17:27:11.296Z</td></tr><tr><td>A036</td><td>Teresaberg International Airport</td><td>Taylorshire</td><td>Cayman Islands</td><td>2025-07-03T03:03:00.072Z</td><td>46</td><td>2025-07-03T17:27:11.296Z</td><td>2025-07-03T17:27:11.296Z</td></tr><tr><td>A038</td><td>South Caroline International Airport</td><td>Sarahchester</td><td>New Zealand</td><td>2025-07-03T03:03:00.072Z</td><td>47</td><td>2025-07-03T17:27:11.296Z</td><td>2025-07-03T17:27:11.296Z</td></tr><tr><td>A024</td><td>West Barbara International Airport</td><td>Sherribury</td><td>Tokelau</td><td>2025-07-03T03:03:00.072Z</td><td>48</td><td>2025-07-03T17:27:11.296Z</td><td>2025-07-03T17:27:11.296Z</td></tr><tr><td>A030</td><td>Leeport International Airport</td><td>Lake Gary</td><td>Armenia</td><td>2025-07-03T03:03:00.072Z</td><td>49</td><td>2025-07-03T17:27:11.296Z</td><td>2025-07-03T17:27:11.296Z</td></tr><tr><td>A046</td><td>Janetview International Airport</td><td>West Steventon</td><td>Bahamas</td><td>2025-07-03T03:03:00.072Z</td><td>50</td><td>2025-07-03T17:27:11.296Z</td><td>2025-07-03T17:27:11.296Z</td></tr><tr><td>A052</td><td>East Cynthia International Airport</td><td>Gibbsfurt</td><td>Ecuador</td><td>2025-07-03T03:03:00.072Z</td><td>51</td><td>2025-07-03T17:27:11.296Z</td><td>2025-07-03T17:27:11.296Z</td></tr><tr><td>A051</td><td>Amandaport International Airport</td><td>Jamestown</td><td>Micronesia</td><td>2025-07-03T03:03:00.072Z</td><td>52</td><td>2025-07-03T17:27:11.296Z</td><td>2025-07-03T17:27:11.296Z</td></tr><tr><td>A054</td><td>Jonestown International Airport</td><td>Garciaview</td><td>Colombia</td><td>2025-07-03T03:03:00.072Z</td><td>53</td><td>2025-07-03T17:27:11.296Z</td><td>2025-07-03T17:27:11.296Z</td></tr><tr><td>A055</td><td>Port Jamieport International Airport</td><td>Sarahstad</td><td>Netherlands</td><td>2025-07-03T03:03:00.072Z</td><td>54</td><td>2025-07-03T17:27:11.296Z</td><td>2025-07-03T17:27:11.296Z</td></tr><tr><td>A053</td><td>South Corey International Airport</td><td>Johnsonfort</td><td>Switzerland</td><td>2025-07-03T03:03:00.072Z</td><td>55</td><td>2025-07-03T17:27:11.296Z</td><td>2025-07-03T17:27:11.296Z</td></tr></tbody></table></div>"
      ]
     },
     "metadata": {
      "application/vnd.databricks.v1+output": {
       "addedWidgets": {},
       "aggData": [],
       "aggError": "",
       "aggOverflow": false,
       "aggSchema": [],
       "aggSeriesLimitReached": false,
       "aggType": "",
       "arguments": {},
       "columnCustomDisplayInfos": {},
       "data": [
        [
         "A012",
         "East Nancy International Airport",
         "Crosston",
         "Romania",
         "2025-07-03T03:03:00.072Z",
         1,
         "2025-07-03T17:27:11.296Z",
         "2025-07-03T17:27:11.296Z"
        ],
        [
         "A044",
         "Cordovaview International Airport",
         "Shannonport",
         "Gabon",
         "2025-07-03T03:03:00.072Z",
         2,
         "2025-07-03T17:27:11.296Z",
         "2025-07-03T17:27:11.296Z"
        ],
        [
         "A047",
         "New Michaelland International Airport",
         "Sanchezberg",
         "Hong Kong",
         "2025-07-03T03:03:00.072Z",
         3,
         "2025-07-03T17:27:11.296Z",
         "2025-07-03T17:27:11.296Z"
        ],
        [
         "A050",
         "Paultown International Airport",
         "North Richardmouth",
         "France",
         "2025-07-03T03:03:00.072Z",
         4,
         "2025-07-03T17:27:11.296Z",
         "2025-07-03T17:27:11.296Z"
        ],
        [
         "A009",
         "New Joshuafurt International Airport",
         "Port Jamiehaven",
         "Pitcairn Islands",
         "2025-07-03T03:03:00.072Z",
         5,
         "2025-07-03T17:27:11.296Z",
         "2025-07-03T17:27:11.296Z"
        ],
        [
         "A023",
         "Maryfurt International Airport",
         "Lake Kennethfurt",
         "Panama",
         "2025-07-03T03:03:00.072Z",
         6,
         "2025-07-03T17:27:11.296Z",
         "2025-07-03T17:27:11.296Z"
        ],
        [
         "A043",
         "Kaylaland International Airport",
         "Schultzhaven",
         "Sweden",
         "2025-07-03T03:03:00.072Z",
         7,
         "2025-07-03T17:27:11.296Z",
         "2025-07-03T17:27:11.296Z"
        ],
        [
         "A022",
         "Blankenshipport International Airport",
         "Sherryville",
         "Bhutan",
         "2025-07-03T03:03:00.072Z",
         8,
         "2025-07-03T17:27:11.296Z",
         "2025-07-03T17:27:11.296Z"
        ],
        [
         "A032",
         "East Robinmouth International Airport",
         "Sharonstad",
         "Poland",
         "2025-07-03T03:03:00.072Z",
         9,
         "2025-07-03T17:27:11.296Z",
         "2025-07-03T17:27:11.296Z"
        ],
        [
         "A005",
         "East Aaron International Airport",
         "Davishaven",
         "Monaco",
         "2025-07-03T03:03:00.072Z",
         10,
         "2025-07-03T17:27:11.296Z",
         "2025-07-03T17:27:11.296Z"
        ],
        [
         "A014",
         "Brittanyshire International Airport",
         "Kylechester",
         "Mauritius",
         "2025-07-03T03:03:00.072Z",
         11,
         "2025-07-03T17:27:11.296Z",
         "2025-07-03T17:27:11.296Z"
        ],
        [
         "A028",
         "Hamiltonview International Airport",
         "Isaacland",
         "Lebanon",
         "2025-07-03T03:03:00.072Z",
         12,
         "2025-07-03T17:27:11.296Z",
         "2025-07-03T17:27:11.296Z"
        ],
        [
         "A029",
         "New Amber International Airport",
         "Davismouth",
         "Congo",
         "2025-07-03T03:03:00.072Z",
         13,
         "2025-07-03T17:27:11.296Z",
         "2025-07-03T17:27:11.296Z"
        ],
        [
         "A040",
         "Jillville International Airport",
         "Wallerchester",
         "Libyan Arab Jamahiriya",
         "2025-07-03T03:03:00.072Z",
         14,
         "2025-07-03T17:27:11.296Z",
         "2025-07-03T17:27:11.296Z"
        ],
        [
         "A003",
         "Brownland International Airport",
         "Samuelville",
         "Costa Rica",
         "2025-07-03T03:03:00.072Z",
         15,
         "2025-07-03T17:27:11.296Z",
         "2025-07-03T17:27:11.296Z"
        ],
        [
         "A011",
         "Alisonville International Airport",
         "West Annaburgh",
         "Mexico",
         "2025-07-03T03:03:00.072Z",
         16,
         "2025-07-03T17:27:11.296Z",
         "2025-07-03T17:27:11.296Z"
        ],
        [
         "A025",
         "East Tiffanymouth International Airport",
         "North Ashley",
         "Gambia",
         "2025-07-03T03:03:00.072Z",
         17,
         "2025-07-03T17:27:11.296Z",
         "2025-07-03T17:27:11.296Z"
        ],
        [
         "A039",
         "Reneeborough International Airport",
         "East Amanda",
         "Germany",
         "2025-07-03T03:03:00.072Z",
         18,
         "2025-07-03T17:27:11.296Z",
         "2025-07-03T17:27:11.296Z"
        ],
        [
         "A042",
         "West Matthew International Airport",
         "Reedshire",
         "Lithuania",
         "2025-07-03T03:03:00.072Z",
         19,
         "2025-07-03T17:27:11.296Z",
         "2025-07-03T17:27:11.296Z"
        ],
        [
         "A002",
         "East Kristin International Airport",
         "North Michaelview",
         "Bosnia and Herzegovina",
         "2025-07-03T03:03:00.072Z",
         20,
         "2025-07-03T17:27:11.296Z",
         "2025-07-03T17:27:11.296Z"
        ],
        [
         "A006",
         "Michaelburgh International Airport",
         "East Blake",
         "Iceland",
         "2025-07-03T03:03:00.072Z",
         21,
         "2025-07-03T17:27:11.296Z",
         "2025-07-03T17:27:11.296Z"
        ],
        [
         "A015",
         "North Erinberg International Airport",
         "Walshtown",
         "South Georgia and the South Sandwich Islands",
         "2025-07-03T03:03:00.072Z",
         22,
         "2025-07-03T17:27:11.296Z",
         "2025-07-03T17:27:11.296Z"
        ],
        [
         "A026",
         "New Isaiah International Airport",
         "Lake Melissaland",
         "Cote d'Ivoire",
         "2025-07-03T03:03:00.072Z",
         23,
         "2025-07-03T17:27:11.296Z",
         "2025-07-03T17:27:11.296Z"
        ],
        [
         "A034",
         "West Matthew International Airport",
         "Wigginsmouth",
         "Czech Republic",
         "2025-07-03T03:03:00.072Z",
         24,
         "2025-07-03T17:27:11.296Z",
         "2025-07-03T17:27:11.296Z"
        ],
        [
         "A013",
         "West Christianstad International Airport",
         "North Janetton",
         "Qatar",
         "2025-07-03T03:03:00.072Z",
         25,
         "2025-07-03T17:27:11.296Z",
         "2025-07-03T17:27:11.296Z"
        ],
        [
         "A004",
         "Meghanton International Airport",
         "Andrewsmouth",
         "Macedonia",
         "2025-07-03T03:03:00.072Z",
         26,
         "2025-07-03T17:27:11.296Z",
         "2025-07-03T17:27:11.296Z"
        ],
        [
         "A041",
         "Lake Amber International Airport",
         "Brownstad",
         "Algeria",
         "2025-07-03T03:03:00.072Z",
         27,
         "2025-07-03T17:27:11.296Z",
         "2025-07-03T17:27:11.296Z"
        ],
        [
         "A048",
         "Sarahmouth International Airport",
         "Edwardmouth",
         "Malaysia",
         "2025-07-03T03:03:00.072Z",
         28,
         "2025-07-03T17:27:11.296Z",
         "2025-07-03T17:27:11.296Z"
        ],
        [
         "A001",
         "Gregoryland International Airport",
         "Kristenmouth",
         "South Georgia and the South Sandwich Islands",
         "2025-07-03T03:03:00.072Z",
         29,
         "2025-07-03T17:27:11.296Z",
         "2025-07-03T17:27:11.296Z"
        ],
        [
         "A007",
         "West Jennifer International Airport",
         "Jillianstad",
         "Libyan Arab Jamahiriya",
         "2025-07-03T03:03:00.072Z",
         30,
         "2025-07-03T17:27:11.296Z",
         "2025-07-03T17:27:11.296Z"
        ],
        [
         "A010",
         "Thompsontown International Airport",
         "Murraychester",
         "Ireland",
         "2025-07-03T03:03:00.072Z",
         31,
         "2025-07-03T17:27:11.296Z",
         "2025-07-03T17:27:11.296Z"
        ],
        [
         "A037",
         "Francobury International Airport",
         "Foleyland",
         "Denmark",
         "2025-07-03T03:03:00.072Z",
         32,
         "2025-07-03T17:27:11.296Z",
         "2025-07-03T17:27:11.296Z"
        ],
        [
         "A016",
         "Davidhaven International Airport",
         "South Michael",
         "Holy See (Vatican City State)",
         "2025-07-03T03:03:00.072Z",
         33,
         "2025-07-03T17:27:11.296Z",
         "2025-07-03T17:27:11.296Z"
        ],
        [
         "A017",
         "West Melissaborough International Airport",
         "North Robertburgh",
         "Switzerland",
         "2025-07-03T03:03:00.072Z",
         34,
         "2025-07-03T17:27:11.296Z",
         "2025-07-03T17:27:11.296Z"
        ],
        [
         "A018",
         "Lake Mandyport International Airport",
         "Englishfort",
         "Russian Federation",
         "2025-07-03T03:03:00.072Z",
         35,
         "2025-07-03T17:27:11.296Z",
         "2025-07-03T17:27:11.296Z"
        ],
        [
         "A020",
         "Port Lori International Airport",
         "Nicholaston",
         "Martinique",
         "2025-07-03T03:03:00.072Z",
         36,
         "2025-07-03T17:27:11.296Z",
         "2025-07-03T17:27:11.296Z"
        ],
        [
         "A035",
         "Chavezchester International Airport",
         "Port Meganhaven",
         "Niger",
         "2025-07-03T03:03:00.072Z",
         37,
         "2025-07-03T17:27:11.296Z",
         "2025-07-03T17:27:11.296Z"
        ],
        [
         "A033",
         "Perezbury International Airport",
         "West Maryville",
         "Korea",
         "2025-07-03T03:03:00.072Z",
         38,
         "2025-07-03T17:27:11.296Z",
         "2025-07-03T17:27:11.296Z"
        ],
        [
         "A045",
         "Stoneport International Airport",
         "New Joseph",
         "Georgia",
         "2025-07-03T03:03:00.072Z",
         39,
         "2025-07-03T17:27:11.296Z",
         "2025-07-03T17:27:11.296Z"
        ],
        [
         "A008",
         "Port Craig International Airport",
         "New Lisa",
         "French Southern Territories",
         "2025-07-03T03:03:00.072Z",
         40,
         "2025-07-03T17:27:11.296Z",
         "2025-07-03T17:27:11.296Z"
        ],
        [
         "A021",
         "Phillipsburgh International Airport",
         "West Ritaland",
         "Colombia",
         "2025-07-03T03:03:00.072Z",
         41,
         "2025-07-03T17:27:11.296Z",
         "2025-07-03T17:27:11.296Z"
        ],
        [
         "A027",
         "West Patricia International Airport",
         "Wilsonmouth",
         "Djibouti",
         "2025-07-03T03:03:00.072Z",
         42,
         "2025-07-03T17:27:11.296Z",
         "2025-07-03T17:27:11.296Z"
        ],
        [
         "A049",
         "North Heather International Airport",
         "West Andrewview",
         "Netherlands Antilles",
         "2025-07-03T03:03:00.072Z",
         43,
         "2025-07-03T17:27:11.296Z",
         "2025-07-03T17:27:11.296Z"
        ],
        [
         "A019",
         "East Gregtown International Airport",
         "Downsborough",
         "Kazakhstan",
         "2025-07-03T03:03:00.072Z",
         44,
         "2025-07-03T17:27:11.296Z",
         "2025-07-03T17:27:11.296Z"
        ],
        [
         "A031",
         "East Paulahaven International Airport",
         "New Charlesberg",
         "Thailand",
         "2025-07-03T03:03:00.072Z",
         45,
         "2025-07-03T17:27:11.296Z",
         "2025-07-03T17:27:11.296Z"
        ],
        [
         "A036",
         "Teresaberg International Airport",
         "Taylorshire",
         "Cayman Islands",
         "2025-07-03T03:03:00.072Z",
         46,
         "2025-07-03T17:27:11.296Z",
         "2025-07-03T17:27:11.296Z"
        ],
        [
         "A038",
         "South Caroline International Airport",
         "Sarahchester",
         "New Zealand",
         "2025-07-03T03:03:00.072Z",
         47,
         "2025-07-03T17:27:11.296Z",
         "2025-07-03T17:27:11.296Z"
        ],
        [
         "A024",
         "West Barbara International Airport",
         "Sherribury",
         "Tokelau",
         "2025-07-03T03:03:00.072Z",
         48,
         "2025-07-03T17:27:11.296Z",
         "2025-07-03T17:27:11.296Z"
        ],
        [
         "A030",
         "Leeport International Airport",
         "Lake Gary",
         "Armenia",
         "2025-07-03T03:03:00.072Z",
         49,
         "2025-07-03T17:27:11.296Z",
         "2025-07-03T17:27:11.296Z"
        ],
        [
         "A046",
         "Janetview International Airport",
         "West Steventon",
         "Bahamas",
         "2025-07-03T03:03:00.072Z",
         50,
         "2025-07-03T17:27:11.296Z",
         "2025-07-03T17:27:11.296Z"
        ],
        [
         "A052",
         "East Cynthia International Airport",
         "Gibbsfurt",
         "Ecuador",
         "2025-07-03T03:03:00.072Z",
         51,
         "2025-07-03T17:27:11.296Z",
         "2025-07-03T17:27:11.296Z"
        ],
        [
         "A051",
         "Amandaport International Airport",
         "Jamestown",
         "Micronesia",
         "2025-07-03T03:03:00.072Z",
         52,
         "2025-07-03T17:27:11.296Z",
         "2025-07-03T17:27:11.296Z"
        ],
        [
         "A054",
         "Jonestown International Airport",
         "Garciaview",
         "Colombia",
         "2025-07-03T03:03:00.072Z",
         53,
         "2025-07-03T17:27:11.296Z",
         "2025-07-03T17:27:11.296Z"
        ],
        [
         "A055",
         "Port Jamieport International Airport",
         "Sarahstad",
         "Netherlands",
         "2025-07-03T03:03:00.072Z",
         54,
         "2025-07-03T17:27:11.296Z",
         "2025-07-03T17:27:11.296Z"
        ],
        [
         "A053",
         "South Corey International Airport",
         "Johnsonfort",
         "Switzerland",
         "2025-07-03T03:03:00.072Z",
         55,
         "2025-07-03T17:27:11.296Z",
         "2025-07-03T17:27:11.296Z"
        ]
       ],
       "datasetInfos": [
        {
         "name": "_sqldf",
         "schema": {
          "fields": [
           {
            "metadata": {},
            "name": "airport_id",
            "nullable": true,
            "type": "string"
           },
           {
            "metadata": {},
            "name": "airport_name",
            "nullable": true,
            "type": "string"
           },
           {
            "metadata": {},
            "name": "city",
            "nullable": true,
            "type": "string"
           },
           {
            "metadata": {},
            "name": "country",
            "nullable": true,
            "type": "string"
           },
           {
            "metadata": {},
            "name": "ModifiedDate",
            "nullable": true,
            "type": "timestamp"
           },
           {
            "metadata": {},
            "name": "DimAirportsKey",
            "nullable": true,
            "type": "long"
           },
           {
            "metadata": {},
            "name": "create_date",
            "nullable": true,
            "type": "timestamp"
           },
           {
            "metadata": {},
            "name": "update_date",
            "nullable": true,
            "type": "timestamp"
           }
          ],
          "type": "struct"
         },
         "tableIdentifier": null,
         "typeStr": "pyspark.sql.connect.dataframe.DataFrame"
        }
       ],
       "dbfsResultPath": null,
       "isJsonSchema": true,
       "metadata": {
        "createTempViewForImplicitDf": true,
        "dataframeName": "_sqldf",
        "executionCount": 81
       },
       "overflow": false,
       "plotOptions": {
        "customPlotOptions": {},
        "displayType": "table",
        "pivotAggregation": null,
        "pivotColumns": null,
        "xColumns": null,
        "yColumns": null
       },
       "removedWidgets": [],
       "schema": [
        {
         "metadata": "{}",
         "name": "airport_id",
         "type": "\"string\""
        },
        {
         "metadata": "{}",
         "name": "airport_name",
         "type": "\"string\""
        },
        {
         "metadata": "{}",
         "name": "city",
         "type": "\"string\""
        },
        {
         "metadata": "{}",
         "name": "country",
         "type": "\"string\""
        },
        {
         "metadata": "{}",
         "name": "ModifiedDate",
         "type": "\"timestamp\""
        },
        {
         "metadata": "{}",
         "name": "DimAirportsKey",
         "type": "\"long\""
        },
        {
         "metadata": "{}",
         "name": "create_date",
         "type": "\"timestamp\""
        },
        {
         "metadata": "{}",
         "name": "update_date",
         "type": "\"timestamp\""
        }
       ],
       "type": "table"
      }
     },
     "output_type": "display_data"
    }
   ],
   "source": [
    "%sql\n",
    "select * from gold.dimairports"
   ]
  },
  {
   "cell_type": "code",
   "execution_count": 0,
   "metadata": {
    "application/vnd.databricks.v1+cell": {
     "cellMetadata": {
      "byteLimit": 2048000,
      "implicitDf": true,
      "rowLimit": 10000
     },
     "inputWidgets": {},
     "nuid": "9bcb4bcd-3113-4372-9195-f6879fd1d134",
     "showTitle": false,
     "tableResultSettingsMap": {},
     "title": ""
    }
   },
   "outputs": [
    {
     "output_type": "display_data",
     "data": {
      "text/html": [
       "<style scoped>\n",
       "  .table-result-container {\n",
       "    max-height: 300px;\n",
       "    overflow: auto;\n",
       "  }\n",
       "  table, th, td {\n",
       "    border: 1px solid black;\n",
       "    border-collapse: collapse;\n",
       "  }\n",
       "  th, td {\n",
       "    padding: 5px;\n",
       "  }\n",
       "  th {\n",
       "    text-align: left;\n",
       "  }\n",
       "</style><div class='table-result-container'><table class='table-result'><thead style='background-color: white'><tr><th>passenger_id</th><th>name</th><th>gender</th><th>nationality</th><th>ModifiedDate</th><th>DimPassengersKey</th><th>create_date</th><th>update_date</th></tr></thead><tbody><tr><td>P0218</td><td>David Rhodes</td><td>Female</td><td>Saint Vincent and the Grenadines</td><td>2025-07-03T19:51:13.390Z</td><td>212</td><td>2025-07-03T17:32:44.463Z</td><td>2025-07-03T19:57:07.432Z</td></tr><tr><td>P0093</td><td>Austin Ortega DVM</td><td>Female</td><td>Korea</td><td>2025-07-03T19:51:13.390Z</td><td>117</td><td>2025-07-03T17:32:44.463Z</td><td>2025-07-03T19:57:07.432Z</td></tr><tr><td>P0012</td><td>Samantha Barnes</td><td>Female</td><td>British Virgin Islands</td><td>2025-07-03T19:51:13.390Z</td><td>184</td><td>2025-07-03T17:32:44.463Z</td><td>2025-07-03T19:57:07.432Z</td></tr><tr><td>P0212</td><td>Suzanne Myers</td><td>Male</td><td>Algeria</td><td>2025-07-03T19:51:13.390Z</td><td>203</td><td>2025-07-03T17:32:44.463Z</td><td>2025-07-03T19:57:07.432Z</td></tr><tr><td>P0100</td><td>Benjamin Cowan</td><td>Male</td><td>Namibia</td><td>2025-07-03T19:51:13.390Z</td><td>62</td><td>2025-07-03T17:32:44.463Z</td><td>2025-07-03T19:57:07.432Z</td></tr><tr><td>P0080</td><td>Brandon Lynch</td><td>Female</td><td>Eritrea</td><td>2025-07-03T19:51:13.390Z</td><td>8</td><td>2025-07-03T17:32:44.463Z</td><td>2025-07-03T19:57:07.432Z</td></tr><tr><td>P0122</td><td>Joshua White</td><td>Male</td><td>Bouvet Island (Bouvetoya)</td><td>2025-07-03T19:51:13.390Z</td><td>38</td><td>2025-07-03T17:32:44.463Z</td><td>2025-07-03T19:57:07.432Z</td></tr><tr><td>P0133</td><td>Scott Morales</td><td>Male</td><td>Angola</td><td>2025-07-03T19:51:13.390Z</td><td>39</td><td>2025-07-03T17:32:44.463Z</td><td>2025-07-03T19:57:07.432Z</td></tr><tr><td>P0110</td><td>Eric Stephens</td><td>Female</td><td>Guyana</td><td>2025-07-03T19:51:13.390Z</td><td>49</td><td>2025-07-03T17:32:44.463Z</td><td>2025-07-03T19:57:07.432Z</td></tr><tr><td>P0037</td><td>Cheryl Reyes</td><td>Female</td><td>French Guiana</td><td>2025-07-03T19:51:13.390Z</td><td>159</td><td>2025-07-03T17:32:44.463Z</td><td>2025-07-03T19:57:07.432Z</td></tr><tr><td>P0182</td><td>Eric Martin</td><td>Female</td><td>Mauritius</td><td>2025-07-03T19:51:13.390Z</td><td>170</td><td>2025-07-03T17:32:44.463Z</td><td>2025-07-03T19:57:07.432Z</td></tr><tr><td>P0073</td><td>Tina Harris</td><td>Male</td><td>Korea</td><td>2025-07-03T19:51:13.390Z</td><td>192</td><td>2025-07-03T17:32:44.463Z</td><td>2025-07-03T19:57:07.432Z</td></tr><tr><td>P0081</td><td>Amy Kim MD</td><td>Female</td><td>New Caledonia</td><td>2025-07-03T19:51:13.390Z</td><td>193</td><td>2025-07-03T17:32:44.463Z</td><td>2025-07-03T19:57:07.432Z</td></tr><tr><td>P0148</td><td>James Camacho</td><td>Male</td><td>Switzerland</td><td>2025-07-03T19:51:13.390Z</td><td>26</td><td>2025-07-03T17:32:44.463Z</td><td>2025-07-03T19:57:07.432Z</td></tr><tr><td>P0161</td><td>Edward Morris</td><td>Female</td><td>Syrian Arab Republic</td><td>2025-07-03T19:51:13.390Z</td><td>96</td><td>2025-07-03T17:32:44.463Z</td><td>2025-07-03T19:57:07.432Z</td></tr><tr><td>P0083</td><td>Natalie Jones</td><td>Male</td><td>Faroe Islands</td><td>2025-07-03T19:51:13.390Z</td><td>33</td><td>2025-07-03T17:32:44.463Z</td><td>2025-07-03T19:57:07.432Z</td></tr><tr><td>P0160</td><td>Juan Pineda</td><td>Male</td><td>Burkina Faso</td><td>2025-07-03T19:51:13.390Z</td><td>40</td><td>2025-07-03T17:32:44.463Z</td><td>2025-07-03T19:57:07.432Z</td></tr><tr><td>P0068</td><td>Timothy Goodwin</td><td>Female</td><td>Kuwait</td><td>2025-07-03T19:51:13.390Z</td><td>141</td><td>2025-07-03T17:32:44.463Z</td><td>2025-07-03T19:57:07.432Z</td></tr><tr><td>P0151</td><td>Katherine Young</td><td>Male</td><td>Nigeria</td><td>2025-07-03T19:51:13.390Z</td><td>11</td><td>2025-07-03T17:32:44.463Z</td><td>2025-07-03T19:57:07.432Z</td></tr><tr><td>P0008</td><td>Cheryl Glenn</td><td>Male</td><td>Maldives</td><td>2025-07-03T19:51:13.390Z</td><td>125</td><td>2025-07-03T17:32:44.463Z</td><td>2025-07-03T19:57:07.432Z</td></tr><tr><td>P0035</td><td>Gina Lee</td><td>Male</td><td>Samoa</td><td>2025-07-03T19:51:13.390Z</td><td>187</td><td>2025-07-03T17:32:44.463Z</td><td>2025-07-03T19:57:07.432Z</td></tr><tr><td>P0116</td><td>Richard Mayer</td><td>Male</td><td>Cayman Islands</td><td>2025-07-03T19:51:13.390Z</td><td>94</td><td>2025-07-03T17:32:44.463Z</td><td>2025-07-03T19:57:07.432Z</td></tr><tr><td>P0107</td><td>Brittany Young</td><td>Female</td><td>Taiwan</td><td>2025-07-03T19:51:13.390Z</td><td>71</td><td>2025-07-03T17:32:44.463Z</td><td>2025-07-03T19:57:07.432Z</td></tr><tr><td>P0091</td><td>Kenneth Dean</td><td>Female</td><td>Bhutan</td><td>2025-07-03T19:51:13.390Z</td><td>35</td><td>2025-07-03T17:32:44.463Z</td><td>2025-07-03T19:57:07.432Z</td></tr><tr><td>P0205</td><td>James Bender</td><td>Female</td><td>Saint Barthelemy</td><td>2025-07-03T19:51:13.390Z</td><td>214</td><td>2025-07-03T17:32:44.463Z</td><td>2025-07-03T19:57:07.432Z</td></tr><tr><td>P0032</td><td>Brittany Aguirre</td><td>Male</td><td>Uzbekistan</td><td>2025-07-03T19:51:13.390Z</td><td>46</td><td>2025-07-03T17:32:44.463Z</td><td>2025-07-03T19:57:07.432Z</td></tr><tr><td>P0123</td><td>Stephanie Rush</td><td>Female</td><td>Belgium</td><td>2025-07-03T19:51:13.390Z</td><td>20</td><td>2025-07-03T17:32:44.463Z</td><td>2025-07-03T19:57:07.432Z</td></tr><tr><td>P0018</td><td>Kyle Carter</td><td>Female</td><td>Lebanon</td><td>2025-07-03T19:51:13.390Z</td><td>185</td><td>2025-07-03T17:32:44.463Z</td><td>2025-07-03T19:57:07.432Z</td></tr><tr><td>P0009</td><td>Allen Lowery</td><td>Male</td><td>Rwanda</td><td>2025-07-03T19:51:13.390Z</td><td>111</td><td>2025-07-03T17:32:44.463Z</td><td>2025-07-03T19:57:07.432Z</td></tr><tr><td>P0199</td><td>Marie Gonzales</td><td>Male</td><td>Kazakhstan</td><td>2025-07-03T19:51:13.390Z</td><td>87</td><td>2025-07-03T17:32:44.463Z</td><td>2025-07-03T19:57:07.432Z</td></tr><tr><td>P0004</td><td>Ryan Ramsey</td><td>Male</td><td>Niger</td><td>2025-07-03T19:51:13.390Z</td><td>2</td><td>2025-07-03T17:32:44.463Z</td><td>2025-07-03T19:57:07.432Z</td></tr><tr><td>P0186</td><td>Kathryn Foster</td><td>Male</td><td>Bahrain</td><td>2025-07-03T19:51:13.390Z</td><td>12</td><td>2025-07-03T17:32:44.463Z</td><td>2025-07-03T19:57:07.432Z</td></tr><tr><td>P0207</td><td>Angela Sparks</td><td>Male</td><td>Nicaragua</td><td>2025-07-03T19:51:13.390Z</td><td>210</td><td>2025-07-03T17:32:44.463Z</td><td>2025-07-03T19:57:07.432Z</td></tr><tr><td>P0189</td><td>Joel Gomez</td><td>Female</td><td>Bulgaria</td><td>2025-07-03T19:51:13.390Z</td><td>43</td><td>2025-07-03T17:32:44.463Z</td><td>2025-07-03T19:57:07.432Z</td></tr><tr><td>P0040</td><td>Troy Green</td><td>Female</td><td>Macao</td><td>2025-07-03T19:51:13.390Z</td><td>31</td><td>2025-07-03T17:32:44.463Z</td><td>2025-07-03T19:57:07.432Z</td></tr><tr><td>P0002</td><td>Kathleen Martinez DVM</td><td>Female</td><td>Burkina Faso</td><td>2025-07-03T19:51:13.390Z</td><td>1</td><td>2025-07-03T17:32:44.463Z</td><td>2025-07-03T19:57:07.432Z</td></tr><tr><td>P0167</td><td>Michael Diaz</td><td>Female</td><td>Kiribati</td><td>2025-07-03T19:51:13.390Z</td><td>41</td><td>2025-07-03T17:32:44.463Z</td><td>2025-07-03T19:57:07.432Z</td></tr><tr><td>P0219</td><td>Mary Burke</td><td>Female</td><td>Heard Island and McDonald Islands</td><td>2025-07-03T19:51:13.390Z</td><td>208</td><td>2025-07-03T17:32:44.463Z</td><td>2025-07-03T19:57:07.432Z</td></tr><tr><td>P0126</td><td>Charles Wilson</td><td>Male</td><td>Palau</td><td>2025-07-03T19:51:13.390Z</td><td>135</td><td>2025-07-03T17:32:44.463Z</td><td>2025-07-03T19:57:07.432Z</td></tr><tr><td>P0011</td><td>Michael Anderson MD</td><td>Female</td><td>Czech Republic</td><td>2025-07-03T19:51:13.390Z</td><td>44</td><td>2025-07-03T17:32:44.463Z</td><td>2025-07-03T19:57:07.432Z</td></tr><tr><td>P0039</td><td>Krystal Mathews</td><td>Male</td><td>Cyprus</td><td>2025-07-03T19:51:13.390Z</td><td>139</td><td>2025-07-03T17:32:44.463Z</td><td>2025-07-03T19:57:07.432Z</td></tr><tr><td>P0016</td><td>Michael Terry</td><td>Female</td><td>El Salvador</td><td>2025-07-03T19:51:13.390Z</td><td>173</td><td>2025-07-03T17:32:44.463Z</td><td>2025-07-03T19:57:07.432Z</td></tr><tr><td>P0137</td><td>Vanessa Fuller</td><td>Female</td><td>Moldova</td><td>2025-07-03T19:51:13.390Z</td><td>166</td><td>2025-07-03T17:32:44.463Z</td><td>2025-07-03T19:57:07.432Z</td></tr><tr><td>P0215</td><td>Alexander Smith</td><td>Female</td><td>Mali</td><td>2025-07-03T19:51:13.390Z</td><td>207</td><td>2025-07-03T17:32:44.463Z</td><td>2025-07-03T19:57:07.432Z</td></tr><tr><td>P0015</td><td>Brittany Schultz</td><td>Female</td><td>Tokelau</td><td>2025-07-03T19:51:13.390Z</td><td>100</td><td>2025-07-03T17:32:44.463Z</td><td>2025-07-03T19:57:07.432Z</td></tr><tr><td>P0048</td><td>Jonathan Martinez</td><td>Male</td><td>Mayotte</td><td>2025-07-03T19:51:13.390Z</td><td>128</td><td>2025-07-03T17:32:44.463Z</td><td>2025-07-03T19:57:07.432Z</td></tr><tr><td>P0038</td><td>Heather Garcia</td><td>Male</td><td>Isle of Man</td><td>2025-07-03T19:51:13.390Z</td><td>68</td><td>2025-07-03T17:32:44.463Z</td><td>2025-07-03T19:57:07.432Z</td></tr><tr><td>P0003</td><td>Cynthia Frazier</td><td>Male</td><td>Marshall Islands</td><td>2025-07-03T19:51:13.390Z</td><td>183</td><td>2025-07-03T17:32:44.463Z</td><td>2025-07-03T19:57:07.432Z</td></tr><tr><td>P0082</td><td>Sarah House</td><td>Female</td><td>Cook Islands</td><td>2025-07-03T19:51:13.390Z</td><td>58</td><td>2025-07-03T17:32:44.463Z</td><td>2025-07-03T19:57:07.432Z</td></tr><tr><td>P0119</td><td>Paul Sanchez</td><td>Male</td><td>Bouvet Island (Bouvetoya)</td><td>2025-07-03T19:51:13.390Z</td><td>198</td><td>2025-07-03T17:32:44.463Z</td><td>2025-07-03T19:57:07.432Z</td></tr><tr><td>P0152</td><td>Kristin Cole</td><td>Male</td><td>Saint Lucia</td><td>2025-07-03T19:51:13.390Z</td><td>54</td><td>2025-07-03T17:32:44.463Z</td><td>2025-07-03T19:57:07.432Z</td></tr><tr><td>P0070</td><td>Anthony Ingram</td><td>Male</td><td>Papua New Guinea</td><td>2025-07-03T19:51:13.390Z</td><td>151</td><td>2025-07-03T17:32:44.463Z</td><td>2025-07-03T19:57:07.432Z</td></tr><tr><td>P0169</td><td>Jessica Sampson</td><td>Female</td><td>Northern Mariana Islands</td><td>2025-07-03T19:51:13.390Z</td><td>55</td><td>2025-07-03T17:32:44.463Z</td><td>2025-07-03T19:57:07.432Z</td></tr><tr><td>P0210</td><td>Robert Davis</td><td>Male</td><td>Puerto Rico</td><td>2025-07-03T19:51:13.390Z</td><td>215</td><td>2025-07-03T17:32:44.463Z</td><td>2025-07-03T19:57:07.432Z</td></tr><tr><td>P0174</td><td>Michael Johnson</td><td>Female</td><td>Chad</td><td>2025-07-03T19:51:13.390Z</td><td>179</td><td>2025-07-03T17:32:44.463Z</td><td>2025-07-03T19:57:07.432Z</td></tr><tr><td>P0099</td><td>Ryan Curry</td><td>Female</td><td>Qatar</td><td>2025-07-03T19:51:13.390Z</td><td>93</td><td>2025-07-03T17:32:44.463Z</td><td>2025-07-03T19:57:07.432Z</td></tr><tr><td>P0200</td><td>Jim Berry</td><td>Female</td><td>Trinidad and Tobago</td><td>2025-07-03T19:51:13.390Z</td><td>172</td><td>2025-07-03T17:32:44.463Z</td><td>2025-07-03T19:57:07.432Z</td></tr><tr><td>P0020</td><td>Xavier Rivera</td><td>Female</td><td>Timor-Leste</td><td>2025-07-03T19:51:13.390Z</td><td>45</td><td>2025-07-03T17:32:44.463Z</td><td>2025-07-03T19:57:07.432Z</td></tr><tr><td>P0176</td><td>Martin Prince</td><td>Male</td><td>Central African Republic</td><td>2025-07-03T19:51:13.390Z</td><td>85</td><td>2025-07-03T17:32:44.463Z</td><td>2025-07-03T19:57:07.432Z</td></tr><tr><td>P0203</td><td>Michelle Alvarado</td><td>Male</td><td>Iraq</td><td>2025-07-03T19:51:13.390Z</td><td>216</td><td>2025-07-03T17:32:44.463Z</td><td>2025-07-03T19:57:07.432Z</td></tr><tr><td>P0067</td><td>Jimmy Smith</td><td>Female</td><td>China</td><td>2025-07-03T19:51:13.390Z</td><td>150</td><td>2025-07-03T17:32:44.463Z</td><td>2025-07-03T19:57:07.432Z</td></tr><tr><td>P0141</td><td>Joshua Richardson</td><td>Female</td><td>Northern Mariana Islands</td><td>2025-07-03T19:51:13.390Z</td><td>63</td><td>2025-07-03T17:32:44.463Z</td><td>2025-07-03T19:57:07.432Z</td></tr><tr><td>P0074</td><td>Shelley Green</td><td>Male</td><td>Guyana</td><td>2025-07-03T19:51:13.390Z</td><td>91</td><td>2025-07-03T17:32:44.463Z</td><td>2025-07-03T19:57:07.432Z</td></tr><tr><td>P0159</td><td>Nicholas Williams</td><td>Male</td><td>Austria</td><td>2025-07-03T19:51:13.390Z</td><td>27</td><td>2025-07-03T17:32:44.463Z</td><td>2025-07-03T19:57:07.432Z</td></tr><tr><td>P0043</td><td>Gloria Hill</td><td>Female</td><td>Guadeloupe</td><td>2025-07-03T19:51:13.390Z</td><td>160</td><td>2025-07-03T17:32:44.463Z</td><td>2025-07-03T19:57:07.432Z</td></tr><tr><td>P0147</td><td>Joshua Mendoza</td><td>Male</td><td>Tokelau</td><td>2025-07-03T19:51:13.390Z</td><td>121</td><td>2025-07-03T17:32:44.463Z</td><td>2025-07-03T19:57:07.432Z</td></tr><tr><td>P0209</td><td>Christine Norman</td><td>Female</td><td>Sudan</td><td>2025-07-03T19:51:13.390Z</td><td>205</td><td>2025-07-03T17:32:44.463Z</td><td>2025-07-03T19:57:07.432Z</td></tr><tr><td>P0131</td><td>Dr. Kyle Salazar</td><td>Male</td><td>Brazil</td><td>2025-07-03T19:51:13.390Z</td><td>74</td><td>2025-07-03T17:32:44.463Z</td><td>2025-07-03T19:57:07.432Z</td></tr><tr><td>P0155</td><td>Rebecca Trujillo</td><td>Female</td><td>Swaziland</td><td>2025-07-03T19:51:13.390Z</td><td>82</td><td>2025-07-03T17:32:44.463Z</td><td>2025-07-03T19:57:07.432Z</td></tr><tr><td>P0063</td><td>Mark Martin</td><td>Male</td><td>Saint Helena</td><td>2025-07-03T19:51:13.390Z</td><td>131</td><td>2025-07-03T17:32:44.463Z</td><td>2025-07-03T19:57:07.432Z</td></tr><tr><td>P0102</td><td>Michael Collins</td><td>Male</td><td>Turkey</td><td>2025-07-03T19:51:13.390Z</td><td>161</td><td>2025-07-03T17:32:44.463Z</td><td>2025-07-03T19:57:07.432Z</td></tr><tr><td>P0132</td><td>Makayla Robbins</td><td>Male</td><td>Kazakhstan</td><td>2025-07-03T19:51:13.390Z</td><td>120</td><td>2025-07-03T17:32:44.463Z</td><td>2025-07-03T19:57:07.432Z</td></tr><tr><td>P0206</td><td>Amy Burns</td><td>Female</td><td>Malta</td><td>2025-07-03T19:51:13.390Z</td><td>201</td><td>2025-07-03T17:32:44.463Z</td><td>2025-07-03T19:57:07.432Z</td></tr><tr><td>P0139</td><td>Brent Johnson</td><td>Female</td><td>Bahamas</td><td>2025-07-03T19:51:13.390Z</td><td>75</td><td>2025-07-03T17:32:44.463Z</td><td>2025-07-03T19:57:07.432Z</td></tr><tr><td>P0129</td><td>Desiree Gonzales</td><td>Female</td><td>Saint Helena</td><td>2025-07-03T19:51:13.390Z</td><td>95</td><td>2025-07-03T17:32:44.463Z</td><td>2025-07-03T19:57:07.432Z</td></tr><tr><td>P0113</td><td>Timothy Stone</td><td>Male</td><td>Sierra Leone</td><td>2025-07-03T19:51:13.390Z</td><td>50</td><td>2025-07-03T17:32:44.463Z</td><td>2025-07-03T19:57:07.432Z</td></tr><tr><td>P0105</td><td>James Frederick</td><td>Female</td><td>Cote d'Ivoire</td><td>2025-07-03T19:51:13.390Z</td><td>162</td><td>2025-07-03T17:32:44.463Z</td><td>2025-07-03T19:57:07.432Z</td></tr><tr><td>P0214</td><td>Vanessa Yang</td><td>Female</td><td>Bhutan</td><td>2025-07-03T19:51:13.390Z</td><td>211</td><td>2025-07-03T17:32:44.463Z</td><td>2025-07-03T19:57:07.432Z</td></tr><tr><td>P0194</td><td>Tommy Baker</td><td>Male</td><td>Venezuela</td><td>2025-07-03T19:51:13.390Z</td><td>181</td><td>2025-07-03T17:32:44.463Z</td><td>2025-07-03T19:57:07.432Z</td></tr><tr><td>P0134</td><td>Phyllis Lewis</td><td>Female</td><td>Northern Mariana Islands</td><td>2025-07-03T19:51:13.390Z</td><td>10</td><td>2025-07-03T17:32:44.463Z</td><td>2025-07-03T19:57:07.432Z</td></tr><tr><td>P0051</td><td>Brett Rios</td><td>Female</td><td>Guyana</td><td>2025-07-03T19:51:13.390Z</td><td>16</td><td>2025-07-03T17:32:44.463Z</td><td>2025-07-03T19:57:07.432Z</td></tr><tr><td>P0154</td><td>Erin Perez</td><td>Female</td><td>Puerto Rico</td><td>2025-07-03T19:51:13.390Z</td><td>110</td><td>2025-07-03T17:32:44.463Z</td><td>2025-07-03T19:57:07.432Z</td></tr><tr><td>P0049</td><td>Douglas Montoya</td><td>Female</td><td>Pakistan</td><td>2025-07-03T19:51:13.390Z</td><td>7</td><td>2025-07-03T17:32:44.463Z</td><td>2025-07-03T19:57:07.432Z</td></tr><tr><td>P0149</td><td>Samuel Sellers</td><td>Male</td><td>Puerto Rico</td><td>2025-07-03T19:51:13.390Z</td><td>53</td><td>2025-07-03T17:32:44.463Z</td><td>2025-07-03T19:57:07.432Z</td></tr><tr><td>P0052</td><td>Jill Brennan</td><td>Female</td><td>Togo</td><td>2025-07-03T19:51:13.390Z</td><td>116</td><td>2025-07-03T17:32:44.463Z</td><td>2025-07-03T19:57:07.432Z</td></tr><tr><td>P0179</td><td>Shelby Tucker</td><td>Male</td><td>Malaysia</td><td>2025-07-03T19:51:13.390Z</td><td>169</td><td>2025-07-03T17:32:44.463Z</td><td>2025-07-03T19:57:07.432Z</td></tr><tr><td>P0053</td><td>Glenda Silva</td><td>Female</td><td>Guinea</td><td>2025-07-03T19:51:13.390Z</td><td>176</td><td>2025-07-03T17:32:44.463Z</td><td>2025-07-03T19:57:07.432Z</td></tr><tr><td>P0175</td><td>Sheri Novak</td><td>Male</td><td>Turks and Caicos Islands</td><td>2025-07-03T19:51:13.390Z</td><td>156</td><td>2025-07-03T17:32:44.463Z</td><td>2025-07-03T19:57:07.432Z</td></tr><tr><td>P0072</td><td>Seth Salazar</td><td>Female</td><td>Japan</td><td>2025-07-03T19:51:13.390Z</td><td>191</td><td>2025-07-03T17:32:44.463Z</td><td>2025-07-03T19:57:07.432Z</td></tr><tr><td>P0075</td><td>Patrick Lyons</td><td>Female</td><td>Mayotte</td><td>2025-07-03T19:51:13.390Z</td><td>104</td><td>2025-07-03T17:32:44.463Z</td><td>2025-07-03T19:57:07.432Z</td></tr><tr><td>P0114</td><td>Charles Stanley</td><td>Female</td><td>Tonga</td><td>2025-07-03T19:51:13.390Z</td><td>19</td><td>2025-07-03T17:32:44.463Z</td><td>2025-07-03T19:57:07.432Z</td></tr><tr><td>P0026</td><td>Anita Jones</td><td>Female</td><td>Comoros</td><td>2025-07-03T19:51:13.390Z</td><td>79</td><td>2025-07-03T17:32:44.463Z</td><td>2025-07-03T19:57:07.432Z</td></tr><tr><td>P0096</td><td>Erika Hall</td><td>Male</td><td>Kenya</td><td>2025-07-03T19:51:13.390Z</td><td>92</td><td>2025-07-03T17:32:44.463Z</td><td>2025-07-03T19:57:07.432Z</td></tr><tr><td>P0130</td><td>Gregory Alexander</td><td>Female</td><td>Slovakia (Slovak Republic)</td><td>2025-07-03T19:51:13.390Z</td><td>21</td><td>2025-07-03T17:32:44.463Z</td><td>2025-07-03T19:57:07.432Z</td></tr><tr><td>P0198</td><td>Timothy Carroll</td><td>Male</td><td>Korea</td><td>2025-07-03T19:51:13.390Z</td><td>182</td><td>2025-07-03T17:32:44.463Z</td><td>2025-07-03T19:57:07.432Z</td></tr><tr><td>P0181</td><td>Ryan Jenkins</td><td>Female</td><td>Lao People's Democratic Republic</td><td>2025-07-03T19:51:13.390Z</td><td>98</td><td>2025-07-03T17:32:44.463Z</td><td>2025-07-03T19:57:07.432Z</td></tr><tr><td>P0190</td><td>Joyce Parker</td><td>Male</td><td>Lebanon</td><td>2025-07-03T19:51:13.390Z</td><td>124</td><td>2025-07-03T17:32:44.463Z</td><td>2025-07-03T19:57:07.432Z</td></tr><tr><td>P0042</td><td>Nicholas Garcia</td><td>Female</td><td>Germany</td><td>2025-07-03T19:51:13.390Z</td><td>115</td><td>2025-07-03T17:32:44.463Z</td><td>2025-07-03T19:57:07.432Z</td></tr><tr><td>P0158</td><td>Richard Barrett</td><td>Male</td><td>Brunei Darussalam</td><td>2025-07-03T19:51:13.390Z</td><td>76</td><td>2025-07-03T17:32:44.463Z</td><td>2025-07-03T19:57:07.432Z</td></tr><tr><td>P0019</td><td>Brittney Morgan</td><td>Female</td><td>Congo</td><td>2025-07-03T19:51:13.390Z</td><td>101</td><td>2025-07-03T17:32:44.463Z</td><td>2025-07-03T19:57:07.432Z</td></tr><tr><td>P0092</td><td>Robert Mason</td><td>Male</td><td>Micronesia</td><td>2025-07-03T19:51:13.390Z</td><td>107</td><td>2025-07-03T17:32:44.463Z</td><td>2025-07-03T19:57:07.432Z</td></tr><tr><td>P0106</td><td>Ashley Freeman</td><td>Female</td><td>Belize</td><td>2025-07-03T19:51:13.390Z</td><td>197</td><td>2025-07-03T17:32:44.463Z</td><td>2025-07-03T19:57:07.432Z</td></tr><tr><td>P0007</td><td>Sharon Moon</td><td>Male</td><td>Madagascar</td><td>2025-07-03T19:51:13.390Z</td><td>3</td><td>2025-07-03T17:32:44.463Z</td><td>2025-07-03T19:57:07.432Z</td></tr><tr><td>P0140</td><td>Mark Taylor</td><td>Male</td><td>Kyrgyz Republic</td><td>2025-07-03T19:51:13.390Z</td><td>109</td><td>2025-07-03T17:32:44.463Z</td><td>2025-07-03T19:57:07.432Z</td></tr><tr><td>P0144</td><td>Jennifer Gutierrez</td><td>Female</td><td>Bulgaria</td><td>2025-07-03T19:51:13.390Z</td><td>143</td><td>2025-07-03T17:32:44.463Z</td><td>2025-07-03T19:57:07.432Z</td></tr><tr><td>P0168</td><td>Norman Jones</td><td>Female</td><td>Faroe Islands</td><td>2025-07-03T19:51:13.390Z</td><td>145</td><td>2025-07-03T17:32:44.463Z</td><td>2025-07-03T19:57:07.432Z</td></tr><tr><td>P0065</td><td>Daniel Ray</td><td>Female</td><td>Argentina</td><td>2025-07-03T19:51:13.390Z</td><td>132</td><td>2025-07-03T17:32:44.463Z</td><td>2025-07-03T19:57:07.432Z</td></tr><tr><td>P0027</td><td>Spencer Grimes Jr.</td><td>Female</td><td>Portugal</td><td>2025-07-03T19:51:13.390Z</td><td>126</td><td>2025-07-03T17:32:44.463Z</td><td>2025-07-03T19:57:07.432Z</td></tr><tr><td>P0023</td><td>Wendy Jones</td><td>Female</td><td>Haiti</td><td>2025-07-03T19:51:13.390Z</td><td>5</td><td>2025-07-03T17:32:44.463Z</td><td>2025-07-03T19:57:07.432Z</td></tr><tr><td>P0213</td><td>Norman Daniel</td><td>Female</td><td>Korea</td><td>2025-07-03T19:51:13.390Z</td><td>217</td><td>2025-07-03T17:32:44.463Z</td><td>2025-07-03T19:57:07.432Z</td></tr><tr><td>P0211</td><td>Gregory Williams</td><td>Female</td><td>Trinidad and Tobago</td><td>2025-07-03T19:51:13.390Z</td><td>202</td><td>2025-07-03T17:32:44.463Z</td><td>2025-07-03T19:57:07.432Z</td></tr><tr><td>P0022</td><td>Edward Rice</td><td>Female</td><td>Antigua and Barbuda</td><td>2025-07-03T19:51:13.390Z</td><td>14</td><td>2025-07-03T17:32:44.463Z</td><td>2025-07-03T19:57:07.432Z</td></tr><tr><td>P0138</td><td>Christopher Wilkinson</td><td>Male</td><td>Canada</td><td>2025-07-03T19:51:13.390Z</td><td>23</td><td>2025-07-03T17:32:44.463Z</td><td>2025-07-03T19:57:07.432Z</td></tr><tr><td>P0153</td><td>Melissa Patterson</td><td>Female</td><td>Cambodia</td><td>2025-07-03T19:51:13.390Z</td><td>81</td><td>2025-07-03T17:32:44.463Z</td><td>2025-07-03T19:57:07.432Z</td></tr><tr><td>P0121</td><td>Bethany Foley</td><td>Male</td><td>Romania</td><td>2025-07-03T19:51:13.390Z</td><td>164</td><td>2025-07-03T17:32:44.463Z</td><td>2025-07-03T19:57:07.432Z</td></tr><tr><td>P0085</td><td>Frederick Robertson</td><td>Female</td><td>Germany</td><td>2025-07-03T19:51:13.390Z</td><td>194</td><td>2025-07-03T17:32:44.463Z</td><td>2025-07-03T19:57:07.432Z</td></tr><tr><td>P0188</td><td>Yvette Morton</td><td>Female</td><td>Vanuatu</td><td>2025-07-03T19:51:13.390Z</td><td>77</td><td>2025-07-03T17:32:44.463Z</td><td>2025-07-03T19:57:07.432Z</td></tr><tr><td>P0097</td><td>Kristen Bailey</td><td>Male</td><td>Bermuda</td><td>2025-07-03T19:51:13.390Z</td><td>18</td><td>2025-07-03T17:32:44.463Z</td><td>2025-07-03T19:57:07.432Z</td></tr><tr><td>P0087</td><td>Andrew Carr</td><td>Male</td><td>Andorra</td><td>2025-07-03T19:51:13.390Z</td><td>60</td><td>2025-07-03T17:32:44.463Z</td><td>2025-07-03T19:57:07.432Z</td></tr><tr><td>P0071</td><td>Jeanette Garrison</td><td>Male</td><td>Andorra</td><td>2025-07-03T19:51:13.390Z</td><td>190</td><td>2025-07-03T17:32:44.463Z</td><td>2025-07-03T19:57:07.432Z</td></tr><tr><td>P0170</td><td>Julie Sullivan</td><td>Female</td><td>Ireland</td><td>2025-07-03T19:51:13.390Z</td><td>83</td><td>2025-07-03T17:32:44.463Z</td><td>2025-07-03T19:57:07.432Z</td></tr><tr><td>P0125</td><td>Katherine Aguilar</td><td>Male</td><td>Cambodia</td><td>2025-07-03T19:51:13.390Z</td><td>51</td><td>2025-07-03T17:32:44.463Z</td><td>2025-07-03T19:57:07.432Z</td></tr><tr><td>P0059</td><td>Alexander Wells</td><td>Male</td><td>Bosnia and Herzegovina</td><td>2025-07-03T19:51:13.390Z</td><td>140</td><td>2025-07-03T17:32:44.463Z</td><td>2025-07-03T19:57:07.432Z</td></tr><tr><td>P0084</td><td>Troy White</td><td>Female</td><td>Tokelau</td><td>2025-07-03T19:51:13.390Z</td><td>59</td><td>2025-07-03T17:32:44.463Z</td><td>2025-07-03T19:57:07.432Z</td></tr><tr><td>P0164</td><td>Andrew Snyder</td><td>Male</td><td>Gabon</td><td>2025-07-03T19:51:13.390Z</td><td>66</td><td>2025-07-03T17:32:44.463Z</td><td>2025-07-03T19:57:07.432Z</td></tr><tr><td>P0173</td><td>Mary Avila</td><td>Male</td><td>Rwanda</td><td>2025-07-03T19:51:13.390Z</td><td>84</td><td>2025-07-03T17:32:44.463Z</td><td>2025-07-03T19:57:07.432Z</td></tr><tr><td>P0090</td><td>Ryan Anderson</td><td>Male</td><td>Spain</td><td>2025-07-03T19:51:13.390Z</td><td>34</td><td>2025-07-03T17:32:44.463Z</td><td>2025-07-03T19:57:07.432Z</td></tr><tr><td>P0054</td><td>Benjamin Mata</td><td>Male</td><td>Croatia</td><td>2025-07-03T19:51:13.390Z</td><td>102</td><td>2025-07-03T17:32:44.463Z</td><td>2025-07-03T19:57:07.432Z</td></tr><tr><td>P0166</td><td>Walter Thompson</td><td>Male</td><td>Malaysia</td><td>2025-07-03T19:51:13.390Z</td><td>199</td><td>2025-07-03T17:32:44.463Z</td><td>2025-07-03T19:57:07.432Z</td></tr><tr><td>P0069</td><td>Taylor Stephenson</td><td>Female</td><td>Spain</td><td>2025-07-03T19:51:13.390Z</td><td>103</td><td>2025-07-03T17:32:44.463Z</td><td>2025-07-03T19:57:07.432Z</td></tr><tr><td>P0118</td><td>Anita Figueroa</td><td>Male</td><td>Mauritania</td><td>2025-07-03T19:51:13.390Z</td><td>119</td><td>2025-07-03T17:32:44.463Z</td><td>2025-07-03T19:57:07.432Z</td></tr><tr><td>P0195</td><td>Lisa Bautista</td><td>Male</td><td>Honduras</td><td>2025-07-03T19:51:13.390Z</td><td>29</td><td>2025-07-03T17:32:44.463Z</td><td>2025-07-03T19:57:07.432Z</td></tr><tr><td>P0220</td><td>Robert Johnson</td><td>Female</td><td>Nigeria</td><td>2025-07-03T19:51:13.390Z</td><td>206</td><td>2025-07-03T17:32:44.463Z</td><td>2025-07-03T19:57:07.432Z</td></tr><tr><td>P0079</td><td>Tracy Russo</td><td>Male</td><td>Iceland</td><td>2025-07-03T19:51:13.390Z</td><td>105</td><td>2025-07-03T17:32:44.463Z</td><td>2025-07-03T19:57:07.432Z</td></tr><tr><td>P0076</td><td>Edward Nelson</td><td>Male</td><td>Reunion</td><td>2025-07-03T19:51:13.390Z</td><td>177</td><td>2025-07-03T17:32:44.463Z</td><td>2025-07-03T19:57:07.432Z</td></tr><tr><td>P0047</td><td>Virginia Vance</td><td>Female</td><td>British Indian Ocean Territory (Chagos Archipelago)</td><td>2025-07-03T19:51:13.390Z</td><td>175</td><td>2025-07-03T17:32:44.463Z</td><td>2025-07-03T19:57:07.432Z</td></tr><tr><td>P0014</td><td>Rebecca Sampson</td><td>Male</td><td>Suriname</td><td>2025-07-03T19:51:13.390Z</td><td>4</td><td>2025-07-03T17:32:44.463Z</td><td>2025-07-03T19:57:07.432Z</td></tr><tr><td>P0101</td><td>Dale Figueroa</td><td>Female</td><td>Albania</td><td>2025-07-03T19:51:13.390Z</td><td>108</td><td>2025-07-03T17:32:44.463Z</td><td>2025-07-03T19:57:07.432Z</td></tr><tr><td>P0061</td><td>Kelsey Andrews</td><td>Female</td><td>Solomon Islands</td><td>2025-07-03T19:51:13.390Z</td><td>70</td><td>2025-07-03T17:32:44.463Z</td><td>2025-07-03T19:57:07.432Z</td></tr><tr><td>P0197</td><td>Alicia Parks</td><td>Male</td><td>Georgia</td><td>2025-07-03T19:51:13.390Z</td><td>146</td><td>2025-07-03T17:32:44.463Z</td><td>2025-07-03T19:57:07.432Z</td></tr><tr><td>P0041</td><td>Amanda Hughes</td><td>Male</td><td>Kenya</td><td>2025-07-03T19:51:13.390Z</td><td>15</td><td>2025-07-03T17:32:44.463Z</td><td>2025-07-03T19:57:07.432Z</td></tr><tr><td>P0156</td><td>Nicole Drake</td><td>Female</td><td>Jordan</td><td>2025-07-03T19:51:13.390Z</td><td>167</td><td>2025-07-03T17:32:44.463Z</td><td>2025-07-03T19:57:07.432Z</td></tr><tr><td>P0057</td><td>Alexandra Sanders</td><td>Female</td><td>Australia</td><td>2025-07-03T19:51:13.390Z</td><td>17</td><td>2025-07-03T17:32:44.463Z</td><td>2025-07-03T19:57:07.432Z</td></tr><tr><td>P0103</td><td>Nicholas Chapman</td><td>Male</td><td>Jersey</td><td>2025-07-03T19:51:13.390Z</td><td>195</td><td>2025-07-03T17:32:44.463Z</td><td>2025-07-03T19:57:07.432Z</td></tr><tr><td>P0044</td><td>Lindsey Robinson</td><td>Male</td><td>Bermuda</td><td>2025-07-03T19:51:13.390Z</td><td>88</td><td>2025-07-03T17:32:44.463Z</td><td>2025-07-03T19:57:07.432Z</td></tr><tr><td>P0135</td><td>David Hamilton</td><td>Female</td><td>Sri Lanka</td><td>2025-07-03T19:51:13.390Z</td><td>22</td><td>2025-07-03T17:32:44.463Z</td><td>2025-07-03T19:57:07.432Z</td></tr><tr><td>P0086</td><td>Gloria Williams</td><td>Male</td><td>Somalia</td><td>2025-07-03T19:51:13.390Z</td><td>142</td><td>2025-07-03T17:32:44.463Z</td><td>2025-07-03T19:57:07.432Z</td></tr><tr><td>P0104</td><td>Amy Rose</td><td>Female</td><td>British Virgin Islands</td><td>2025-07-03T19:51:13.390Z</td><td>196</td><td>2025-07-03T17:32:44.463Z</td><td>2025-07-03T19:57:07.432Z</td></tr><tr><td>P0066</td><td>Brandi Maddox</td><td>Male</td><td>Senegal</td><td>2025-07-03T19:51:13.390Z</td><td>189</td><td>2025-07-03T17:32:44.463Z</td><td>2025-07-03T19:57:07.432Z</td></tr><tr><td>P0062</td><td>Maria Gibbs</td><td>Female</td><td>Taiwan</td><td>2025-07-03T19:51:13.390Z</td><td>130</td><td>2025-07-03T17:32:44.463Z</td><td>2025-07-03T19:57:07.432Z</td></tr><tr><td>P0028</td><td>Juan Sweeney</td><td>Female</td><td>Yemen</td><td>2025-07-03T19:51:13.390Z</td><td>113</td><td>2025-07-03T17:32:44.463Z</td><td>2025-07-03T19:57:07.432Z</td></tr><tr><td>P0005</td><td>Mike Kim</td><td>Male</td><td>Taiwan</td><td>2025-07-03T19:51:13.390Z</td><td>30</td><td>2025-07-03T17:32:44.463Z</td><td>2025-07-03T19:57:07.432Z</td></tr><tr><td>P0145</td><td>Michael Simmons</td><td>Female</td><td>Cape Verde</td><td>2025-07-03T19:51:13.390Z</td><td>80</td><td>2025-07-03T17:32:44.463Z</td><td>2025-07-03T19:57:07.432Z</td></tr><tr><td>P0050</td><td>Brandon Smith</td><td>Male</td><td>Senegal</td><td>2025-07-03T19:51:13.390Z</td><td>148</td><td>2025-07-03T17:32:44.463Z</td><td>2025-07-03T19:57:07.432Z</td></tr><tr><td>P0115</td><td>Diana Fisher</td><td>Male</td><td>Netherlands</td><td>2025-07-03T19:51:13.390Z</td><td>37</td><td>2025-07-03T17:32:44.463Z</td><td>2025-07-03T19:57:07.432Z</td></tr><tr><td>P0216</td><td>Michele Hunter</td><td>Male</td><td>Cambodia</td><td>2025-07-03T19:51:13.390Z</td><td>204</td><td>2025-07-03T17:32:44.463Z</td><td>2025-07-03T19:57:07.432Z</td></tr><tr><td>P0201</td><td>Michele Perry</td><td>Male</td><td>Czech Republic</td><td>2025-07-03T19:51:13.390Z</td><td>209</td><td>2025-07-03T17:32:44.463Z</td><td>2025-07-03T19:57:07.432Z</td></tr><tr><td>P0034</td><td>Victoria Franklin</td><td>Female</td><td>Spain</td><td>2025-07-03T19:51:13.390Z</td><td>56</td><td>2025-07-03T17:32:44.463Z</td><td>2025-07-03T19:57:07.432Z</td></tr><tr><td>P0109</td><td>Brian Mosley</td><td>Male</td><td>Brunei Darussalam</td><td>2025-07-03T19:51:13.390Z</td><td>153</td><td>2025-07-03T17:32:44.463Z</td><td>2025-07-03T19:57:07.432Z</td></tr><tr><td>P0127</td><td>Chloe Conway</td><td>Male</td><td>Brunei Darussalam</td><td>2025-07-03T19:51:13.390Z</td><td>154</td><td>2025-07-03T17:32:44.463Z</td><td>2025-07-03T19:57:07.432Z</td></tr><tr><td>P0192</td><td>Dr. Chris Dean</td><td>Female</td><td>Seychelles</td><td>2025-07-03T19:51:13.390Z</td><td>13</td><td>2025-07-03T17:32:44.463Z</td><td>2025-07-03T19:57:07.432Z</td></tr><tr><td>P0010</td><td>Maria Medina</td><td>Male</td><td>Denmark</td><td>2025-07-03T19:51:13.390Z</td><td>112</td><td>2025-07-03T17:32:44.463Z</td><td>2025-07-03T19:57:07.432Z</td></tr><tr><td>P0217</td><td>Emily Buchanan</td><td>Female</td><td>Uganda</td><td>2025-07-03T19:51:13.390Z</td><td>218</td><td>2025-07-03T17:32:44.463Z</td><td>2025-07-03T19:57:07.432Z</td></tr><tr><td>P0185</td><td>Karen Maynard</td><td>Male</td><td>Romania</td><td>2025-07-03T19:51:13.390Z</td><td>123</td><td>2025-07-03T17:32:44.463Z</td><td>2025-07-03T19:57:07.432Z</td></tr><tr><td>P0178</td><td>Brenda Dennis</td><td>Male</td><td>Saint Lucia</td><td>2025-07-03T19:51:13.390Z</td><td>180</td><td>2025-07-03T17:32:44.463Z</td><td>2025-07-03T19:57:07.432Z</td></tr><tr><td>P0171</td><td>Brittany Smith</td><td>Female</td><td>Australia</td><td>2025-07-03T19:51:13.390Z</td><td>28</td><td>2025-07-03T17:32:44.463Z</td><td>2025-07-03T19:57:07.432Z</td></tr><tr><td>P0191</td><td>Linda Moore</td><td>Male</td><td>Norfolk Island</td><td>2025-07-03T19:51:13.390Z</td><td>200</td><td>2025-07-03T17:32:44.463Z</td><td>2025-07-03T19:57:07.432Z</td></tr><tr><td>P0089</td><td>Daniel Jones</td><td>Female</td><td>Costa Rica</td><td>2025-07-03T19:51:13.390Z</td><td>106</td><td>2025-07-03T17:32:44.463Z</td><td>2025-07-03T19:57:07.432Z</td></tr><tr><td>P0177</td><td>Eric Tucker</td><td>Female</td><td>Zambia</td><td>2025-07-03T19:51:13.390Z</td><td>42</td><td>2025-07-03T17:32:44.463Z</td><td>2025-07-03T19:57:07.432Z</td></tr><tr><td>P0031</td><td>Jesus Clark</td><td>Female</td><td>Namibia</td><td>2025-07-03T19:51:13.390Z</td><td>127</td><td>2025-07-03T17:32:44.463Z</td><td>2025-07-03T19:57:07.432Z</td></tr><tr><td>P0202</td><td>Javier Mccormick</td><td>Male</td><td>Bolivia</td><td>2025-07-03T19:51:13.390Z</td><td>213</td><td>2025-07-03T17:32:44.463Z</td><td>2025-07-03T19:57:07.432Z</td></tr><tr><td>P0060</td><td>Megan Watts</td><td>Male</td><td>Bahrain</td><td>2025-07-03T19:51:13.390Z</td><td>69</td><td>2025-07-03T17:32:44.463Z</td><td>2025-07-03T19:57:07.432Z</td></tr><tr><td>P0108</td><td>Pamela Byrd</td><td>Female</td><td>Morocco</td><td>2025-07-03T19:51:13.390Z</td><td>36</td><td>2025-07-03T17:32:44.463Z</td><td>2025-07-03T19:57:07.432Z</td></tr><tr><td>P0187</td><td>Christopher Wade</td><td>Female</td><td>Lesotho</td><td>2025-07-03T19:51:13.390Z</td><td>158</td><td>2025-07-03T17:32:44.463Z</td><td>2025-07-03T19:57:07.432Z</td></tr><tr><td>P0184</td><td>Evan Scott</td><td>Female</td><td>South Africa</td><td>2025-07-03T19:51:13.390Z</td><td>157</td><td>2025-07-03T17:32:44.463Z</td><td>2025-07-03T19:57:07.432Z</td></tr><tr><td>P0193</td><td>Dr. Justin Rivera</td><td>Male</td><td>India</td><td>2025-07-03T19:51:13.390Z</td><td>171</td><td>2025-07-03T17:32:44.463Z</td><td>2025-07-03T19:57:07.432Z</td></tr><tr><td>P0030</td><td>Daniel Rush</td><td>Male</td><td>Tunisia</td><td>2025-07-03T19:51:13.390Z</td><td>114</td><td>2025-07-03T17:32:44.463Z</td><td>2025-07-03T19:57:07.432Z</td></tr><tr><td>P0143</td><td>Vincent Sanchez</td><td>Female</td><td>Tuvalu</td><td>2025-07-03T19:51:13.390Z</td><td>155</td><td>2025-07-03T17:32:44.463Z</td><td>2025-07-03T19:57:07.432Z</td></tr><tr><td>P0045</td><td>Mary Mann</td><td>Female</td><td>Sri Lanka</td><td>2025-07-03T19:51:13.390Z</td><td>47</td><td>2025-07-03T17:32:44.463Z</td><td>2025-07-03T19:57:07.432Z</td></tr><tr><td>P0204</td><td>Jamie Harrell</td><td>Female</td><td>Norway</td><td>2025-07-03T19:51:13.390Z</td><td>220</td><td>2025-07-03T17:32:44.463Z</td><td>2025-07-03T19:57:07.432Z</td></tr><tr><td>P0136</td><td>Melinda Smith</td><td>Female</td><td>Swaziland</td><td>2025-07-03T19:51:13.390Z</td><td>52</td><td>2025-07-03T17:32:44.463Z</td><td>2025-07-03T19:57:07.432Z</td></tr><tr><td>P0006</td><td>Diana Adams</td><td>Male</td><td>Mayotte</td><td>2025-07-03T19:51:13.390Z</td><td>99</td><td>2025-07-03T17:32:44.463Z</td><td>2025-07-03T19:57:07.432Z</td></tr><tr><td>P0196</td><td>Jamie Simon</td><td>Female</td><td>Nicaragua</td><td>2025-07-03T19:51:13.390Z</td><td>86</td><td>2025-07-03T17:32:44.463Z</td><td>2025-07-03T19:57:07.432Z</td></tr><tr><td>P0001</td><td>Kevin Ferguson</td><td>Male</td><td>Reunion</td><td>2025-07-03T19:51:13.390Z</td><td>78</td><td>2025-07-03T17:32:44.463Z</td><td>2025-07-03T19:57:07.432Z</td></tr><tr><td>P0112</td><td>William Bailey</td><td>Male</td><td>Micronesia</td><td>2025-07-03T19:51:13.390Z</td><td>118</td><td>2025-07-03T17:32:44.463Z</td><td>2025-07-03T19:57:07.432Z</td></tr><tr><td>P0095</td><td>Kelsey Hill</td><td>Male</td><td>Cook Islands</td><td>2025-07-03T19:51:13.390Z</td><td>134</td><td>2025-07-03T17:32:44.463Z</td><td>2025-07-03T19:57:07.432Z</td></tr><tr><td>P0150</td><td>Charles Wade</td><td>Male</td><td>El Salvador</td><td>2025-07-03T19:51:13.390Z</td><td>64</td><td>2025-07-03T17:32:44.463Z</td><td>2025-07-03T19:57:07.432Z</td></tr><tr><td>P0033</td><td>Sandra Green</td><td>Male</td><td>Switzerland</td><td>2025-07-03T19:51:13.390Z</td><td>6</td><td>2025-07-03T17:32:44.463Z</td><td>2025-07-03T19:57:07.432Z</td></tr><tr><td>P0024</td><td>Jordan Moore</td><td>Female</td><td>Aruba</td><td>2025-07-03T19:51:13.390Z</td><td>174</td><td>2025-07-03T17:32:44.463Z</td><td>2025-07-03T19:57:07.432Z</td></tr><tr><td>P0165</td><td>Jessica Hansen</td><td>Male</td><td>British Indian Ocean Territory (Chagos Archipelago)</td><td>2025-07-03T19:51:13.390Z</td><td>144</td><td>2025-07-03T17:32:44.463Z</td><td>2025-07-03T19:57:07.432Z</td></tr><tr><td>P0077</td><td>Audrey Rodriguez</td><td>Female</td><td>Saint Barthelemy</td><td>2025-07-03T19:51:13.390Z</td><td>32</td><td>2025-07-03T17:32:44.463Z</td><td>2025-07-03T19:57:07.432Z</td></tr><tr><td>P0142</td><td>Dr. Nancy Jacobs PhD</td><td>Male</td><td>Belgium</td><td>2025-07-03T19:51:13.390Z</td><td>24</td><td>2025-07-03T17:32:44.463Z</td><td>2025-07-03T19:57:07.432Z</td></tr><tr><td>P0025</td><td>Christopher Kim</td><td>Male</td><td>Greece</td><td>2025-07-03T19:51:13.390Z</td><td>147</td><td>2025-07-03T17:32:44.463Z</td><td>2025-07-03T19:57:07.432Z</td></tr><tr><td>P0172</td><td>Noah Herrera</td><td>Female</td><td>Monaco</td><td>2025-07-03T19:51:13.390Z</td><td>178</td><td>2025-07-03T17:32:44.463Z</td><td>2025-07-03T19:57:07.432Z</td></tr><tr><td>P0056</td><td>Joseph James</td><td>Male</td><td>Turks and Caicos Islands</td><td>2025-07-03T19:51:13.390Z</td><td>129</td><td>2025-07-03T17:32:44.463Z</td><td>2025-07-03T19:57:07.432Z</td></tr><tr><td>P0208</td><td>Cynthia Salas</td><td>Male</td><td>United States of America</td><td>2025-07-03T19:51:13.390Z</td><td>219</td><td>2025-07-03T17:32:44.463Z</td><td>2025-07-03T19:57:07.432Z</td></tr><tr><td>P0163</td><td>Benjamin Aguilar</td><td>Female</td><td>Netherlands Antilles</td><td>2025-07-03T19:51:13.390Z</td><td>65</td><td>2025-07-03T17:32:44.463Z</td><td>2025-07-03T19:57:07.432Z</td></tr><tr><td>P0098</td><td>Andrea Mcknight</td><td>Male</td><td>Samoa</td><td>2025-07-03T19:51:13.390Z</td><td>152</td><td>2025-07-03T17:32:44.463Z</td><td>2025-07-03T19:57:07.432Z</td></tr><tr><td>P0064</td><td>Pam Garcia</td><td>Male</td><td>Thailand</td><td>2025-07-03T19:51:13.390Z</td><td>90</td><td>2025-07-03T17:32:44.463Z</td><td>2025-07-03T19:57:07.432Z</td></tr><tr><td>P0111</td><td>Cheyenne Estes</td><td>Male</td><td>Nepal</td><td>2025-07-03T19:51:13.390Z</td><td>72</td><td>2025-07-03T17:32:44.463Z</td><td>2025-07-03T19:57:07.432Z</td></tr><tr><td>P0120</td><td>Tiffany Williams</td><td>Female</td><td>New Caledonia</td><td>2025-07-03T19:51:13.390Z</td><td>9</td><td>2025-07-03T17:32:44.463Z</td><td>2025-07-03T19:57:07.432Z</td></tr><tr><td>P0094</td><td>Kristen Pierce</td><td>Male</td><td>Tonga</td><td>2025-07-03T19:51:13.390Z</td><td>61</td><td>2025-07-03T17:32:44.463Z</td><td>2025-07-03T19:57:07.432Z</td></tr><tr><td>P0124</td><td>Alyssa Herrera</td><td>Female</td><td>Martinique</td><td>2025-07-03T19:51:13.390Z</td><td>165</td><td>2025-07-03T17:32:44.463Z</td><td>2025-07-03T19:57:07.432Z</td></tr><tr><td>P0058</td><td>William Meza</td><td>Male</td><td>Central African Republic</td><td>2025-07-03T19:51:13.390Z</td><td>188</td><td>2025-07-03T17:32:44.463Z</td><td>2025-07-03T19:57:07.432Z</td></tr><tr><td>P0013</td><td>Christine Young</td><td>Male</td><td>Iran</td><td>2025-07-03T19:51:13.390Z</td><td>67</td><td>2025-07-03T17:32:44.463Z</td><td>2025-07-03T19:57:07.432Z</td></tr><tr><td>P0029</td><td>Tony Adams</td><td>Female</td><td>British Virgin Islands</td><td>2025-07-03T19:51:13.390Z</td><td>138</td><td>2025-07-03T17:32:44.463Z</td><td>2025-07-03T19:57:07.432Z</td></tr><tr><td>P0017</td><td>Billy Williams</td><td>Male</td><td>Togo</td><td>2025-07-03T19:51:13.390Z</td><td>137</td><td>2025-07-03T17:32:44.463Z</td><td>2025-07-03T19:57:07.432Z</td></tr><tr><td>P0117</td><td>Scott Acosta</td><td>Female</td><td>Hong Kong</td><td>2025-07-03T19:51:13.390Z</td><td>163</td><td>2025-07-03T17:32:44.463Z</td><td>2025-07-03T19:57:07.432Z</td></tr><tr><td>P0021</td><td>Nicholas Ritter</td><td>Female</td><td>Korea</td><td>2025-07-03T19:51:13.390Z</td><td>186</td><td>2025-07-03T17:32:44.463Z</td><td>2025-07-03T19:57:07.432Z</td></tr><tr><td>P0078</td><td>Darlene Perez</td><td>Female</td><td>Cyprus</td><td>2025-07-03T19:51:13.390Z</td><td>133</td><td>2025-07-03T17:32:44.463Z</td><td>2025-07-03T19:57:07.432Z</td></tr><tr><td>P0088</td><td>Austin Murphy</td><td>Female</td><td>Lao People's Democratic Republic</td><td>2025-07-03T19:51:13.390Z</td><td>48</td><td>2025-07-03T17:32:44.463Z</td><td>2025-07-03T19:57:07.432Z</td></tr><tr><td>P0183</td><td>Benjamin Garcia</td><td>Female</td><td>Saint Pierre and Miquelon</td><td>2025-07-03T19:51:13.390Z</td><td>122</td><td>2025-07-03T17:32:44.463Z</td><td>2025-07-03T19:57:07.432Z</td></tr><tr><td>P0055</td><td>William Tanner</td><td>Female</td><td>Guadeloupe</td><td>2025-07-03T19:51:13.390Z</td><td>149</td><td>2025-07-03T17:32:44.463Z</td><td>2025-07-03T19:57:07.432Z</td></tr><tr><td>P0157</td><td>Daniel Sawyer</td><td>Male</td><td>Mayotte</td><td>2025-07-03T19:51:13.390Z</td><td>168</td><td>2025-07-03T17:32:44.463Z</td><td>2025-07-03T19:57:07.432Z</td></tr><tr><td>P0128</td><td>Nicole Walters</td><td>Male</td><td>Dominica</td><td>2025-07-03T19:51:13.390Z</td><td>73</td><td>2025-07-03T17:32:44.463Z</td><td>2025-07-03T19:57:07.432Z</td></tr><tr><td>P0036</td><td>Abigail Brown</td><td>Male</td><td>France</td><td>2025-07-03T19:51:13.390Z</td><td>57</td><td>2025-07-03T17:32:44.463Z</td><td>2025-07-03T19:57:07.432Z</td></tr><tr><td>P0046</td><td>Matthew Evans</td><td>Female</td><td>Guadeloupe</td><td>2025-07-03T19:51:13.390Z</td><td>89</td><td>2025-07-03T17:32:44.463Z</td><td>2025-07-03T19:57:07.432Z</td></tr><tr><td>P0146</td><td>Phillip Myers</td><td>Female</td><td>Slovenia</td><td>2025-07-03T19:51:13.390Z</td><td>25</td><td>2025-07-03T17:32:44.463Z</td><td>2025-07-03T19:57:07.432Z</td></tr><tr><td>P0162</td><td>Rebecca Hendricks</td><td>Male</td><td>Faroe Islands</td><td>2025-07-03T19:51:13.390Z</td><td>136</td><td>2025-07-03T17:32:44.463Z</td><td>2025-07-03T19:57:07.432Z</td></tr><tr><td>P0180</td><td>Chelsea Copeland</td><td>Female</td><td>Bolivia</td><td>2025-07-03T19:51:13.390Z</td><td>97</td><td>2025-07-03T17:32:44.463Z</td><td>2025-07-03T19:57:07.432Z</td></tr><tr><td>P0225</td><td>William Lopez</td><td>Male</td><td>Heard Island and McDonald Islands</td><td>2025-07-03T19:51:13.390Z</td><td>221</td><td>2025-07-03T19:57:07.432Z</td><td>2025-07-03T19:57:07.432Z</td></tr><tr><td>P0224</td><td>Jason Jensen</td><td>Female</td><td>Rwanda</td><td>2025-07-03T19:51:13.390Z</td><td>222</td><td>2025-07-03T19:57:07.432Z</td><td>2025-07-03T19:57:07.432Z</td></tr><tr><td>P0222</td><td>Maria Taylor</td><td>Male</td><td>Lao People's Democratic Republic</td><td>2025-07-03T19:51:13.390Z</td><td>223</td><td>2025-07-03T19:57:07.432Z</td><td>2025-07-03T19:57:07.432Z</td></tr><tr><td>P0221</td><td>Amy Welch</td><td>Male</td><td>Croatia</td><td>2025-07-03T19:51:13.390Z</td><td>224</td><td>2025-07-03T19:57:07.432Z</td><td>2025-07-03T19:57:07.432Z</td></tr><tr><td>P0223</td><td>Nicholas Gomez</td><td>Female</td><td>Cook Islands</td><td>2025-07-03T19:51:13.390Z</td><td>225</td><td>2025-07-03T19:57:07.432Z</td><td>2025-07-03T19:57:07.432Z</td></tr></tbody></table></div>"
      ]
     },
     "metadata": {
      "application/vnd.databricks.v1+output": {
       "addedWidgets": {},
       "aggData": [],
       "aggError": "",
       "aggOverflow": false,
       "aggSchema": [],
       "aggSeriesLimitReached": false,
       "aggType": "",
       "arguments": {},
       "columnCustomDisplayInfos": {},
       "data": [
        [
         "P0218",
         "David Rhodes",
         "Female",
         "Saint Vincent and the Grenadines",
         "2025-07-03T19:51:13.390Z",
         212,
         "2025-07-03T17:32:44.463Z",
         "2025-07-03T19:57:07.432Z"
        ],
        [
         "P0093",
         "Austin Ortega DVM",
         "Female",
         "Korea",
         "2025-07-03T19:51:13.390Z",
         117,
         "2025-07-03T17:32:44.463Z",
         "2025-07-03T19:57:07.432Z"
        ],
        [
         "P0012",
         "Samantha Barnes",
         "Female",
         "British Virgin Islands",
         "2025-07-03T19:51:13.390Z",
         184,
         "2025-07-03T17:32:44.463Z",
         "2025-07-03T19:57:07.432Z"
        ],
        [
         "P0212",
         "Suzanne Myers",
         "Male",
         "Algeria",
         "2025-07-03T19:51:13.390Z",
         203,
         "2025-07-03T17:32:44.463Z",
         "2025-07-03T19:57:07.432Z"
        ],
        [
         "P0100",
         "Benjamin Cowan",
         "Male",
         "Namibia",
         "2025-07-03T19:51:13.390Z",
         62,
         "2025-07-03T17:32:44.463Z",
         "2025-07-03T19:57:07.432Z"
        ],
        [
         "P0080",
         "Brandon Lynch",
         "Female",
         "Eritrea",
         "2025-07-03T19:51:13.390Z",
         8,
         "2025-07-03T17:32:44.463Z",
         "2025-07-03T19:57:07.432Z"
        ],
        [
         "P0122",
         "Joshua White",
         "Male",
         "Bouvet Island (Bouvetoya)",
         "2025-07-03T19:51:13.390Z",
         38,
         "2025-07-03T17:32:44.463Z",
         "2025-07-03T19:57:07.432Z"
        ],
        [
         "P0133",
         "Scott Morales",
         "Male",
         "Angola",
         "2025-07-03T19:51:13.390Z",
         39,
         "2025-07-03T17:32:44.463Z",
         "2025-07-03T19:57:07.432Z"
        ],
        [
         "P0110",
         "Eric Stephens",
         "Female",
         "Guyana",
         "2025-07-03T19:51:13.390Z",
         49,
         "2025-07-03T17:32:44.463Z",
         "2025-07-03T19:57:07.432Z"
        ],
        [
         "P0037",
         "Cheryl Reyes",
         "Female",
         "French Guiana",
         "2025-07-03T19:51:13.390Z",
         159,
         "2025-07-03T17:32:44.463Z",
         "2025-07-03T19:57:07.432Z"
        ],
        [
         "P0182",
         "Eric Martin",
         "Female",
         "Mauritius",
         "2025-07-03T19:51:13.390Z",
         170,
         "2025-07-03T17:32:44.463Z",
         "2025-07-03T19:57:07.432Z"
        ],
        [
         "P0073",
         "Tina Harris",
         "Male",
         "Korea",
         "2025-07-03T19:51:13.390Z",
         192,
         "2025-07-03T17:32:44.463Z",
         "2025-07-03T19:57:07.432Z"
        ],
        [
         "P0081",
         "Amy Kim MD",
         "Female",
         "New Caledonia",
         "2025-07-03T19:51:13.390Z",
         193,
         "2025-07-03T17:32:44.463Z",
         "2025-07-03T19:57:07.432Z"
        ],
        [
         "P0148",
         "James Camacho",
         "Male",
         "Switzerland",
         "2025-07-03T19:51:13.390Z",
         26,
         "2025-07-03T17:32:44.463Z",
         "2025-07-03T19:57:07.432Z"
        ],
        [
         "P0161",
         "Edward Morris",
         "Female",
         "Syrian Arab Republic",
         "2025-07-03T19:51:13.390Z",
         96,
         "2025-07-03T17:32:44.463Z",
         "2025-07-03T19:57:07.432Z"
        ],
        [
         "P0083",
         "Natalie Jones",
         "Male",
         "Faroe Islands",
         "2025-07-03T19:51:13.390Z",
         33,
         "2025-07-03T17:32:44.463Z",
         "2025-07-03T19:57:07.432Z"
        ],
        [
         "P0160",
         "Juan Pineda",
         "Male",
         "Burkina Faso",
         "2025-07-03T19:51:13.390Z",
         40,
         "2025-07-03T17:32:44.463Z",
         "2025-07-03T19:57:07.432Z"
        ],
        [
         "P0068",
         "Timothy Goodwin",
         "Female",
         "Kuwait",
         "2025-07-03T19:51:13.390Z",
         141,
         "2025-07-03T17:32:44.463Z",
         "2025-07-03T19:57:07.432Z"
        ],
        [
         "P0151",
         "Katherine Young",
         "Male",
         "Nigeria",
         "2025-07-03T19:51:13.390Z",
         11,
         "2025-07-03T17:32:44.463Z",
         "2025-07-03T19:57:07.432Z"
        ],
        [
         "P0008",
         "Cheryl Glenn",
         "Male",
         "Maldives",
         "2025-07-03T19:51:13.390Z",
         125,
         "2025-07-03T17:32:44.463Z",
         "2025-07-03T19:57:07.432Z"
        ],
        [
         "P0035",
         "Gina Lee",
         "Male",
         "Samoa",
         "2025-07-03T19:51:13.390Z",
         187,
         "2025-07-03T17:32:44.463Z",
         "2025-07-03T19:57:07.432Z"
        ],
        [
         "P0116",
         "Richard Mayer",
         "Male",
         "Cayman Islands",
         "2025-07-03T19:51:13.390Z",
         94,
         "2025-07-03T17:32:44.463Z",
         "2025-07-03T19:57:07.432Z"
        ],
        [
         "P0107",
         "Brittany Young",
         "Female",
         "Taiwan",
         "2025-07-03T19:51:13.390Z",
         71,
         "2025-07-03T17:32:44.463Z",
         "2025-07-03T19:57:07.432Z"
        ],
        [
         "P0091",
         "Kenneth Dean",
         "Female",
         "Bhutan",
         "2025-07-03T19:51:13.390Z",
         35,
         "2025-07-03T17:32:44.463Z",
         "2025-07-03T19:57:07.432Z"
        ],
        [
         "P0205",
         "James Bender",
         "Female",
         "Saint Barthelemy",
         "2025-07-03T19:51:13.390Z",
         214,
         "2025-07-03T17:32:44.463Z",
         "2025-07-03T19:57:07.432Z"
        ],
        [
         "P0032",
         "Brittany Aguirre",
         "Male",
         "Uzbekistan",
         "2025-07-03T19:51:13.390Z",
         46,
         "2025-07-03T17:32:44.463Z",
         "2025-07-03T19:57:07.432Z"
        ],
        [
         "P0123",
         "Stephanie Rush",
         "Female",
         "Belgium",
         "2025-07-03T19:51:13.390Z",
         20,
         "2025-07-03T17:32:44.463Z",
         "2025-07-03T19:57:07.432Z"
        ],
        [
         "P0018",
         "Kyle Carter",
         "Female",
         "Lebanon",
         "2025-07-03T19:51:13.390Z",
         185,
         "2025-07-03T17:32:44.463Z",
         "2025-07-03T19:57:07.432Z"
        ],
        [
         "P0009",
         "Allen Lowery",
         "Male",
         "Rwanda",
         "2025-07-03T19:51:13.390Z",
         111,
         "2025-07-03T17:32:44.463Z",
         "2025-07-03T19:57:07.432Z"
        ],
        [
         "P0199",
         "Marie Gonzales",
         "Male",
         "Kazakhstan",
         "2025-07-03T19:51:13.390Z",
         87,
         "2025-07-03T17:32:44.463Z",
         "2025-07-03T19:57:07.432Z"
        ],
        [
         "P0004",
         "Ryan Ramsey",
         "Male",
         "Niger",
         "2025-07-03T19:51:13.390Z",
         2,
         "2025-07-03T17:32:44.463Z",
         "2025-07-03T19:57:07.432Z"
        ],
        [
         "P0186",
         "Kathryn Foster",
         "Male",
         "Bahrain",
         "2025-07-03T19:51:13.390Z",
         12,
         "2025-07-03T17:32:44.463Z",
         "2025-07-03T19:57:07.432Z"
        ],
        [
         "P0207",
         "Angela Sparks",
         "Male",
         "Nicaragua",
         "2025-07-03T19:51:13.390Z",
         210,
         "2025-07-03T17:32:44.463Z",
         "2025-07-03T19:57:07.432Z"
        ],
        [
         "P0189",
         "Joel Gomez",
         "Female",
         "Bulgaria",
         "2025-07-03T19:51:13.390Z",
         43,
         "2025-07-03T17:32:44.463Z",
         "2025-07-03T19:57:07.432Z"
        ],
        [
         "P0040",
         "Troy Green",
         "Female",
         "Macao",
         "2025-07-03T19:51:13.390Z",
         31,
         "2025-07-03T17:32:44.463Z",
         "2025-07-03T19:57:07.432Z"
        ],
        [
         "P0002",
         "Kathleen Martinez DVM",
         "Female",
         "Burkina Faso",
         "2025-07-03T19:51:13.390Z",
         1,
         "2025-07-03T17:32:44.463Z",
         "2025-07-03T19:57:07.432Z"
        ],
        [
         "P0167",
         "Michael Diaz",
         "Female",
         "Kiribati",
         "2025-07-03T19:51:13.390Z",
         41,
         "2025-07-03T17:32:44.463Z",
         "2025-07-03T19:57:07.432Z"
        ],
        [
         "P0219",
         "Mary Burke",
         "Female",
         "Heard Island and McDonald Islands",
         "2025-07-03T19:51:13.390Z",
         208,
         "2025-07-03T17:32:44.463Z",
         "2025-07-03T19:57:07.432Z"
        ],
        [
         "P0126",
         "Charles Wilson",
         "Male",
         "Palau",
         "2025-07-03T19:51:13.390Z",
         135,
         "2025-07-03T17:32:44.463Z",
         "2025-07-03T19:57:07.432Z"
        ],
        [
         "P0011",
         "Michael Anderson MD",
         "Female",
         "Czech Republic",
         "2025-07-03T19:51:13.390Z",
         44,
         "2025-07-03T17:32:44.463Z",
         "2025-07-03T19:57:07.432Z"
        ],
        [
         "P0039",
         "Krystal Mathews",
         "Male",
         "Cyprus",
         "2025-07-03T19:51:13.390Z",
         139,
         "2025-07-03T17:32:44.463Z",
         "2025-07-03T19:57:07.432Z"
        ],
        [
         "P0016",
         "Michael Terry",
         "Female",
         "El Salvador",
         "2025-07-03T19:51:13.390Z",
         173,
         "2025-07-03T17:32:44.463Z",
         "2025-07-03T19:57:07.432Z"
        ],
        [
         "P0137",
         "Vanessa Fuller",
         "Female",
         "Moldova",
         "2025-07-03T19:51:13.390Z",
         166,
         "2025-07-03T17:32:44.463Z",
         "2025-07-03T19:57:07.432Z"
        ],
        [
         "P0215",
         "Alexander Smith",
         "Female",
         "Mali",
         "2025-07-03T19:51:13.390Z",
         207,
         "2025-07-03T17:32:44.463Z",
         "2025-07-03T19:57:07.432Z"
        ],
        [
         "P0015",
         "Brittany Schultz",
         "Female",
         "Tokelau",
         "2025-07-03T19:51:13.390Z",
         100,
         "2025-07-03T17:32:44.463Z",
         "2025-07-03T19:57:07.432Z"
        ],
        [
         "P0048",
         "Jonathan Martinez",
         "Male",
         "Mayotte",
         "2025-07-03T19:51:13.390Z",
         128,
         "2025-07-03T17:32:44.463Z",
         "2025-07-03T19:57:07.432Z"
        ],
        [
         "P0038",
         "Heather Garcia",
         "Male",
         "Isle of Man",
         "2025-07-03T19:51:13.390Z",
         68,
         "2025-07-03T17:32:44.463Z",
         "2025-07-03T19:57:07.432Z"
        ],
        [
         "P0003",
         "Cynthia Frazier",
         "Male",
         "Marshall Islands",
         "2025-07-03T19:51:13.390Z",
         183,
         "2025-07-03T17:32:44.463Z",
         "2025-07-03T19:57:07.432Z"
        ],
        [
         "P0082",
         "Sarah House",
         "Female",
         "Cook Islands",
         "2025-07-03T19:51:13.390Z",
         58,
         "2025-07-03T17:32:44.463Z",
         "2025-07-03T19:57:07.432Z"
        ],
        [
         "P0119",
         "Paul Sanchez",
         "Male",
         "Bouvet Island (Bouvetoya)",
         "2025-07-03T19:51:13.390Z",
         198,
         "2025-07-03T17:32:44.463Z",
         "2025-07-03T19:57:07.432Z"
        ],
        [
         "P0152",
         "Kristin Cole",
         "Male",
         "Saint Lucia",
         "2025-07-03T19:51:13.390Z",
         54,
         "2025-07-03T17:32:44.463Z",
         "2025-07-03T19:57:07.432Z"
        ],
        [
         "P0070",
         "Anthony Ingram",
         "Male",
         "Papua New Guinea",
         "2025-07-03T19:51:13.390Z",
         151,
         "2025-07-03T17:32:44.463Z",
         "2025-07-03T19:57:07.432Z"
        ],
        [
         "P0169",
         "Jessica Sampson",
         "Female",
         "Northern Mariana Islands",
         "2025-07-03T19:51:13.390Z",
         55,
         "2025-07-03T17:32:44.463Z",
         "2025-07-03T19:57:07.432Z"
        ],
        [
         "P0210",
         "Robert Davis",
         "Male",
         "Puerto Rico",
         "2025-07-03T19:51:13.390Z",
         215,
         "2025-07-03T17:32:44.463Z",
         "2025-07-03T19:57:07.432Z"
        ],
        [
         "P0174",
         "Michael Johnson",
         "Female",
         "Chad",
         "2025-07-03T19:51:13.390Z",
         179,
         "2025-07-03T17:32:44.463Z",
         "2025-07-03T19:57:07.432Z"
        ],
        [
         "P0099",
         "Ryan Curry",
         "Female",
         "Qatar",
         "2025-07-03T19:51:13.390Z",
         93,
         "2025-07-03T17:32:44.463Z",
         "2025-07-03T19:57:07.432Z"
        ],
        [
         "P0200",
         "Jim Berry",
         "Female",
         "Trinidad and Tobago",
         "2025-07-03T19:51:13.390Z",
         172,
         "2025-07-03T17:32:44.463Z",
         "2025-07-03T19:57:07.432Z"
        ],
        [
         "P0020",
         "Xavier Rivera",
         "Female",
         "Timor-Leste",
         "2025-07-03T19:51:13.390Z",
         45,
         "2025-07-03T17:32:44.463Z",
         "2025-07-03T19:57:07.432Z"
        ],
        [
         "P0176",
         "Martin Prince",
         "Male",
         "Central African Republic",
         "2025-07-03T19:51:13.390Z",
         85,
         "2025-07-03T17:32:44.463Z",
         "2025-07-03T19:57:07.432Z"
        ],
        [
         "P0203",
         "Michelle Alvarado",
         "Male",
         "Iraq",
         "2025-07-03T19:51:13.390Z",
         216,
         "2025-07-03T17:32:44.463Z",
         "2025-07-03T19:57:07.432Z"
        ],
        [
         "P0067",
         "Jimmy Smith",
         "Female",
         "China",
         "2025-07-03T19:51:13.390Z",
         150,
         "2025-07-03T17:32:44.463Z",
         "2025-07-03T19:57:07.432Z"
        ],
        [
         "P0141",
         "Joshua Richardson",
         "Female",
         "Northern Mariana Islands",
         "2025-07-03T19:51:13.390Z",
         63,
         "2025-07-03T17:32:44.463Z",
         "2025-07-03T19:57:07.432Z"
        ],
        [
         "P0074",
         "Shelley Green",
         "Male",
         "Guyana",
         "2025-07-03T19:51:13.390Z",
         91,
         "2025-07-03T17:32:44.463Z",
         "2025-07-03T19:57:07.432Z"
        ],
        [
         "P0159",
         "Nicholas Williams",
         "Male",
         "Austria",
         "2025-07-03T19:51:13.390Z",
         27,
         "2025-07-03T17:32:44.463Z",
         "2025-07-03T19:57:07.432Z"
        ],
        [
         "P0043",
         "Gloria Hill",
         "Female",
         "Guadeloupe",
         "2025-07-03T19:51:13.390Z",
         160,
         "2025-07-03T17:32:44.463Z",
         "2025-07-03T19:57:07.432Z"
        ],
        [
         "P0147",
         "Joshua Mendoza",
         "Male",
         "Tokelau",
         "2025-07-03T19:51:13.390Z",
         121,
         "2025-07-03T17:32:44.463Z",
         "2025-07-03T19:57:07.432Z"
        ],
        [
         "P0209",
         "Christine Norman",
         "Female",
         "Sudan",
         "2025-07-03T19:51:13.390Z",
         205,
         "2025-07-03T17:32:44.463Z",
         "2025-07-03T19:57:07.432Z"
        ],
        [
         "P0131",
         "Dr. Kyle Salazar",
         "Male",
         "Brazil",
         "2025-07-03T19:51:13.390Z",
         74,
         "2025-07-03T17:32:44.463Z",
         "2025-07-03T19:57:07.432Z"
        ],
        [
         "P0155",
         "Rebecca Trujillo",
         "Female",
         "Swaziland",
         "2025-07-03T19:51:13.390Z",
         82,
         "2025-07-03T17:32:44.463Z",
         "2025-07-03T19:57:07.432Z"
        ],
        [
         "P0063",
         "Mark Martin",
         "Male",
         "Saint Helena",
         "2025-07-03T19:51:13.390Z",
         131,
         "2025-07-03T17:32:44.463Z",
         "2025-07-03T19:57:07.432Z"
        ],
        [
         "P0102",
         "Michael Collins",
         "Male",
         "Turkey",
         "2025-07-03T19:51:13.390Z",
         161,
         "2025-07-03T17:32:44.463Z",
         "2025-07-03T19:57:07.432Z"
        ],
        [
         "P0132",
         "Makayla Robbins",
         "Male",
         "Kazakhstan",
         "2025-07-03T19:51:13.390Z",
         120,
         "2025-07-03T17:32:44.463Z",
         "2025-07-03T19:57:07.432Z"
        ],
        [
         "P0206",
         "Amy Burns",
         "Female",
         "Malta",
         "2025-07-03T19:51:13.390Z",
         201,
         "2025-07-03T17:32:44.463Z",
         "2025-07-03T19:57:07.432Z"
        ],
        [
         "P0139",
         "Brent Johnson",
         "Female",
         "Bahamas",
         "2025-07-03T19:51:13.390Z",
         75,
         "2025-07-03T17:32:44.463Z",
         "2025-07-03T19:57:07.432Z"
        ],
        [
         "P0129",
         "Desiree Gonzales",
         "Female",
         "Saint Helena",
         "2025-07-03T19:51:13.390Z",
         95,
         "2025-07-03T17:32:44.463Z",
         "2025-07-03T19:57:07.432Z"
        ],
        [
         "P0113",
         "Timothy Stone",
         "Male",
         "Sierra Leone",
         "2025-07-03T19:51:13.390Z",
         50,
         "2025-07-03T17:32:44.463Z",
         "2025-07-03T19:57:07.432Z"
        ],
        [
         "P0105",
         "James Frederick",
         "Female",
         "Cote d'Ivoire",
         "2025-07-03T19:51:13.390Z",
         162,
         "2025-07-03T17:32:44.463Z",
         "2025-07-03T19:57:07.432Z"
        ],
        [
         "P0214",
         "Vanessa Yang",
         "Female",
         "Bhutan",
         "2025-07-03T19:51:13.390Z",
         211,
         "2025-07-03T17:32:44.463Z",
         "2025-07-03T19:57:07.432Z"
        ],
        [
         "P0194",
         "Tommy Baker",
         "Male",
         "Venezuela",
         "2025-07-03T19:51:13.390Z",
         181,
         "2025-07-03T17:32:44.463Z",
         "2025-07-03T19:57:07.432Z"
        ],
        [
         "P0134",
         "Phyllis Lewis",
         "Female",
         "Northern Mariana Islands",
         "2025-07-03T19:51:13.390Z",
         10,
         "2025-07-03T17:32:44.463Z",
         "2025-07-03T19:57:07.432Z"
        ],
        [
         "P0051",
         "Brett Rios",
         "Female",
         "Guyana",
         "2025-07-03T19:51:13.390Z",
         16,
         "2025-07-03T17:32:44.463Z",
         "2025-07-03T19:57:07.432Z"
        ],
        [
         "P0154",
         "Erin Perez",
         "Female",
         "Puerto Rico",
         "2025-07-03T19:51:13.390Z",
         110,
         "2025-07-03T17:32:44.463Z",
         "2025-07-03T19:57:07.432Z"
        ],
        [
         "P0049",
         "Douglas Montoya",
         "Female",
         "Pakistan",
         "2025-07-03T19:51:13.390Z",
         7,
         "2025-07-03T17:32:44.463Z",
         "2025-07-03T19:57:07.432Z"
        ],
        [
         "P0149",
         "Samuel Sellers",
         "Male",
         "Puerto Rico",
         "2025-07-03T19:51:13.390Z",
         53,
         "2025-07-03T17:32:44.463Z",
         "2025-07-03T19:57:07.432Z"
        ],
        [
         "P0052",
         "Jill Brennan",
         "Female",
         "Togo",
         "2025-07-03T19:51:13.390Z",
         116,
         "2025-07-03T17:32:44.463Z",
         "2025-07-03T19:57:07.432Z"
        ],
        [
         "P0179",
         "Shelby Tucker",
         "Male",
         "Malaysia",
         "2025-07-03T19:51:13.390Z",
         169,
         "2025-07-03T17:32:44.463Z",
         "2025-07-03T19:57:07.432Z"
        ],
        [
         "P0053",
         "Glenda Silva",
         "Female",
         "Guinea",
         "2025-07-03T19:51:13.390Z",
         176,
         "2025-07-03T17:32:44.463Z",
         "2025-07-03T19:57:07.432Z"
        ],
        [
         "P0175",
         "Sheri Novak",
         "Male",
         "Turks and Caicos Islands",
         "2025-07-03T19:51:13.390Z",
         156,
         "2025-07-03T17:32:44.463Z",
         "2025-07-03T19:57:07.432Z"
        ],
        [
         "P0072",
         "Seth Salazar",
         "Female",
         "Japan",
         "2025-07-03T19:51:13.390Z",
         191,
         "2025-07-03T17:32:44.463Z",
         "2025-07-03T19:57:07.432Z"
        ],
        [
         "P0075",
         "Patrick Lyons",
         "Female",
         "Mayotte",
         "2025-07-03T19:51:13.390Z",
         104,
         "2025-07-03T17:32:44.463Z",
         "2025-07-03T19:57:07.432Z"
        ],
        [
         "P0114",
         "Charles Stanley",
         "Female",
         "Tonga",
         "2025-07-03T19:51:13.390Z",
         19,
         "2025-07-03T17:32:44.463Z",
         "2025-07-03T19:57:07.432Z"
        ],
        [
         "P0026",
         "Anita Jones",
         "Female",
         "Comoros",
         "2025-07-03T19:51:13.390Z",
         79,
         "2025-07-03T17:32:44.463Z",
         "2025-07-03T19:57:07.432Z"
        ],
        [
         "P0096",
         "Erika Hall",
         "Male",
         "Kenya",
         "2025-07-03T19:51:13.390Z",
         92,
         "2025-07-03T17:32:44.463Z",
         "2025-07-03T19:57:07.432Z"
        ],
        [
         "P0130",
         "Gregory Alexander",
         "Female",
         "Slovakia (Slovak Republic)",
         "2025-07-03T19:51:13.390Z",
         21,
         "2025-07-03T17:32:44.463Z",
         "2025-07-03T19:57:07.432Z"
        ],
        [
         "P0198",
         "Timothy Carroll",
         "Male",
         "Korea",
         "2025-07-03T19:51:13.390Z",
         182,
         "2025-07-03T17:32:44.463Z",
         "2025-07-03T19:57:07.432Z"
        ],
        [
         "P0181",
         "Ryan Jenkins",
         "Female",
         "Lao People's Democratic Republic",
         "2025-07-03T19:51:13.390Z",
         98,
         "2025-07-03T17:32:44.463Z",
         "2025-07-03T19:57:07.432Z"
        ],
        [
         "P0190",
         "Joyce Parker",
         "Male",
         "Lebanon",
         "2025-07-03T19:51:13.390Z",
         124,
         "2025-07-03T17:32:44.463Z",
         "2025-07-03T19:57:07.432Z"
        ],
        [
         "P0042",
         "Nicholas Garcia",
         "Female",
         "Germany",
         "2025-07-03T19:51:13.390Z",
         115,
         "2025-07-03T17:32:44.463Z",
         "2025-07-03T19:57:07.432Z"
        ],
        [
         "P0158",
         "Richard Barrett",
         "Male",
         "Brunei Darussalam",
         "2025-07-03T19:51:13.390Z",
         76,
         "2025-07-03T17:32:44.463Z",
         "2025-07-03T19:57:07.432Z"
        ],
        [
         "P0019",
         "Brittney Morgan",
         "Female",
         "Congo",
         "2025-07-03T19:51:13.390Z",
         101,
         "2025-07-03T17:32:44.463Z",
         "2025-07-03T19:57:07.432Z"
        ],
        [
         "P0092",
         "Robert Mason",
         "Male",
         "Micronesia",
         "2025-07-03T19:51:13.390Z",
         107,
         "2025-07-03T17:32:44.463Z",
         "2025-07-03T19:57:07.432Z"
        ],
        [
         "P0106",
         "Ashley Freeman",
         "Female",
         "Belize",
         "2025-07-03T19:51:13.390Z",
         197,
         "2025-07-03T17:32:44.463Z",
         "2025-07-03T19:57:07.432Z"
        ],
        [
         "P0007",
         "Sharon Moon",
         "Male",
         "Madagascar",
         "2025-07-03T19:51:13.390Z",
         3,
         "2025-07-03T17:32:44.463Z",
         "2025-07-03T19:57:07.432Z"
        ],
        [
         "P0140",
         "Mark Taylor",
         "Male",
         "Kyrgyz Republic",
         "2025-07-03T19:51:13.390Z",
         109,
         "2025-07-03T17:32:44.463Z",
         "2025-07-03T19:57:07.432Z"
        ],
        [
         "P0144",
         "Jennifer Gutierrez",
         "Female",
         "Bulgaria",
         "2025-07-03T19:51:13.390Z",
         143,
         "2025-07-03T17:32:44.463Z",
         "2025-07-03T19:57:07.432Z"
        ],
        [
         "P0168",
         "Norman Jones",
         "Female",
         "Faroe Islands",
         "2025-07-03T19:51:13.390Z",
         145,
         "2025-07-03T17:32:44.463Z",
         "2025-07-03T19:57:07.432Z"
        ],
        [
         "P0065",
         "Daniel Ray",
         "Female",
         "Argentina",
         "2025-07-03T19:51:13.390Z",
         132,
         "2025-07-03T17:32:44.463Z",
         "2025-07-03T19:57:07.432Z"
        ],
        [
         "P0027",
         "Spencer Grimes Jr.",
         "Female",
         "Portugal",
         "2025-07-03T19:51:13.390Z",
         126,
         "2025-07-03T17:32:44.463Z",
         "2025-07-03T19:57:07.432Z"
        ],
        [
         "P0023",
         "Wendy Jones",
         "Female",
         "Haiti",
         "2025-07-03T19:51:13.390Z",
         5,
         "2025-07-03T17:32:44.463Z",
         "2025-07-03T19:57:07.432Z"
        ],
        [
         "P0213",
         "Norman Daniel",
         "Female",
         "Korea",
         "2025-07-03T19:51:13.390Z",
         217,
         "2025-07-03T17:32:44.463Z",
         "2025-07-03T19:57:07.432Z"
        ],
        [
         "P0211",
         "Gregory Williams",
         "Female",
         "Trinidad and Tobago",
         "2025-07-03T19:51:13.390Z",
         202,
         "2025-07-03T17:32:44.463Z",
         "2025-07-03T19:57:07.432Z"
        ],
        [
         "P0022",
         "Edward Rice",
         "Female",
         "Antigua and Barbuda",
         "2025-07-03T19:51:13.390Z",
         14,
         "2025-07-03T17:32:44.463Z",
         "2025-07-03T19:57:07.432Z"
        ],
        [
         "P0138",
         "Christopher Wilkinson",
         "Male",
         "Canada",
         "2025-07-03T19:51:13.390Z",
         23,
         "2025-07-03T17:32:44.463Z",
         "2025-07-03T19:57:07.432Z"
        ],
        [
         "P0153",
         "Melissa Patterson",
         "Female",
         "Cambodia",
         "2025-07-03T19:51:13.390Z",
         81,
         "2025-07-03T17:32:44.463Z",
         "2025-07-03T19:57:07.432Z"
        ],
        [
         "P0121",
         "Bethany Foley",
         "Male",
         "Romania",
         "2025-07-03T19:51:13.390Z",
         164,
         "2025-07-03T17:32:44.463Z",
         "2025-07-03T19:57:07.432Z"
        ],
        [
         "P0085",
         "Frederick Robertson",
         "Female",
         "Germany",
         "2025-07-03T19:51:13.390Z",
         194,
         "2025-07-03T17:32:44.463Z",
         "2025-07-03T19:57:07.432Z"
        ],
        [
         "P0188",
         "Yvette Morton",
         "Female",
         "Vanuatu",
         "2025-07-03T19:51:13.390Z",
         77,
         "2025-07-03T17:32:44.463Z",
         "2025-07-03T19:57:07.432Z"
        ],
        [
         "P0097",
         "Kristen Bailey",
         "Male",
         "Bermuda",
         "2025-07-03T19:51:13.390Z",
         18,
         "2025-07-03T17:32:44.463Z",
         "2025-07-03T19:57:07.432Z"
        ],
        [
         "P0087",
         "Andrew Carr",
         "Male",
         "Andorra",
         "2025-07-03T19:51:13.390Z",
         60,
         "2025-07-03T17:32:44.463Z",
         "2025-07-03T19:57:07.432Z"
        ],
        [
         "P0071",
         "Jeanette Garrison",
         "Male",
         "Andorra",
         "2025-07-03T19:51:13.390Z",
         190,
         "2025-07-03T17:32:44.463Z",
         "2025-07-03T19:57:07.432Z"
        ],
        [
         "P0170",
         "Julie Sullivan",
         "Female",
         "Ireland",
         "2025-07-03T19:51:13.390Z",
         83,
         "2025-07-03T17:32:44.463Z",
         "2025-07-03T19:57:07.432Z"
        ],
        [
         "P0125",
         "Katherine Aguilar",
         "Male",
         "Cambodia",
         "2025-07-03T19:51:13.390Z",
         51,
         "2025-07-03T17:32:44.463Z",
         "2025-07-03T19:57:07.432Z"
        ],
        [
         "P0059",
         "Alexander Wells",
         "Male",
         "Bosnia and Herzegovina",
         "2025-07-03T19:51:13.390Z",
         140,
         "2025-07-03T17:32:44.463Z",
         "2025-07-03T19:57:07.432Z"
        ],
        [
         "P0084",
         "Troy White",
         "Female",
         "Tokelau",
         "2025-07-03T19:51:13.390Z",
         59,
         "2025-07-03T17:32:44.463Z",
         "2025-07-03T19:57:07.432Z"
        ],
        [
         "P0164",
         "Andrew Snyder",
         "Male",
         "Gabon",
         "2025-07-03T19:51:13.390Z",
         66,
         "2025-07-03T17:32:44.463Z",
         "2025-07-03T19:57:07.432Z"
        ],
        [
         "P0173",
         "Mary Avila",
         "Male",
         "Rwanda",
         "2025-07-03T19:51:13.390Z",
         84,
         "2025-07-03T17:32:44.463Z",
         "2025-07-03T19:57:07.432Z"
        ],
        [
         "P0090",
         "Ryan Anderson",
         "Male",
         "Spain",
         "2025-07-03T19:51:13.390Z",
         34,
         "2025-07-03T17:32:44.463Z",
         "2025-07-03T19:57:07.432Z"
        ],
        [
         "P0054",
         "Benjamin Mata",
         "Male",
         "Croatia",
         "2025-07-03T19:51:13.390Z",
         102,
         "2025-07-03T17:32:44.463Z",
         "2025-07-03T19:57:07.432Z"
        ],
        [
         "P0166",
         "Walter Thompson",
         "Male",
         "Malaysia",
         "2025-07-03T19:51:13.390Z",
         199,
         "2025-07-03T17:32:44.463Z",
         "2025-07-03T19:57:07.432Z"
        ],
        [
         "P0069",
         "Taylor Stephenson",
         "Female",
         "Spain",
         "2025-07-03T19:51:13.390Z",
         103,
         "2025-07-03T17:32:44.463Z",
         "2025-07-03T19:57:07.432Z"
        ],
        [
         "P0118",
         "Anita Figueroa",
         "Male",
         "Mauritania",
         "2025-07-03T19:51:13.390Z",
         119,
         "2025-07-03T17:32:44.463Z",
         "2025-07-03T19:57:07.432Z"
        ],
        [
         "P0195",
         "Lisa Bautista",
         "Male",
         "Honduras",
         "2025-07-03T19:51:13.390Z",
         29,
         "2025-07-03T17:32:44.463Z",
         "2025-07-03T19:57:07.432Z"
        ],
        [
         "P0220",
         "Robert Johnson",
         "Female",
         "Nigeria",
         "2025-07-03T19:51:13.390Z",
         206,
         "2025-07-03T17:32:44.463Z",
         "2025-07-03T19:57:07.432Z"
        ],
        [
         "P0079",
         "Tracy Russo",
         "Male",
         "Iceland",
         "2025-07-03T19:51:13.390Z",
         105,
         "2025-07-03T17:32:44.463Z",
         "2025-07-03T19:57:07.432Z"
        ],
        [
         "P0076",
         "Edward Nelson",
         "Male",
         "Reunion",
         "2025-07-03T19:51:13.390Z",
         177,
         "2025-07-03T17:32:44.463Z",
         "2025-07-03T19:57:07.432Z"
        ],
        [
         "P0047",
         "Virginia Vance",
         "Female",
         "British Indian Ocean Territory (Chagos Archipelago)",
         "2025-07-03T19:51:13.390Z",
         175,
         "2025-07-03T17:32:44.463Z",
         "2025-07-03T19:57:07.432Z"
        ],
        [
         "P0014",
         "Rebecca Sampson",
         "Male",
         "Suriname",
         "2025-07-03T19:51:13.390Z",
         4,
         "2025-07-03T17:32:44.463Z",
         "2025-07-03T19:57:07.432Z"
        ],
        [
         "P0101",
         "Dale Figueroa",
         "Female",
         "Albania",
         "2025-07-03T19:51:13.390Z",
         108,
         "2025-07-03T17:32:44.463Z",
         "2025-07-03T19:57:07.432Z"
        ],
        [
         "P0061",
         "Kelsey Andrews",
         "Female",
         "Solomon Islands",
         "2025-07-03T19:51:13.390Z",
         70,
         "2025-07-03T17:32:44.463Z",
         "2025-07-03T19:57:07.432Z"
        ],
        [
         "P0197",
         "Alicia Parks",
         "Male",
         "Georgia",
         "2025-07-03T19:51:13.390Z",
         146,
         "2025-07-03T17:32:44.463Z",
         "2025-07-03T19:57:07.432Z"
        ],
        [
         "P0041",
         "Amanda Hughes",
         "Male",
         "Kenya",
         "2025-07-03T19:51:13.390Z",
         15,
         "2025-07-03T17:32:44.463Z",
         "2025-07-03T19:57:07.432Z"
        ],
        [
         "P0156",
         "Nicole Drake",
         "Female",
         "Jordan",
         "2025-07-03T19:51:13.390Z",
         167,
         "2025-07-03T17:32:44.463Z",
         "2025-07-03T19:57:07.432Z"
        ],
        [
         "P0057",
         "Alexandra Sanders",
         "Female",
         "Australia",
         "2025-07-03T19:51:13.390Z",
         17,
         "2025-07-03T17:32:44.463Z",
         "2025-07-03T19:57:07.432Z"
        ],
        [
         "P0103",
         "Nicholas Chapman",
         "Male",
         "Jersey",
         "2025-07-03T19:51:13.390Z",
         195,
         "2025-07-03T17:32:44.463Z",
         "2025-07-03T19:57:07.432Z"
        ],
        [
         "P0044",
         "Lindsey Robinson",
         "Male",
         "Bermuda",
         "2025-07-03T19:51:13.390Z",
         88,
         "2025-07-03T17:32:44.463Z",
         "2025-07-03T19:57:07.432Z"
        ],
        [
         "P0135",
         "David Hamilton",
         "Female",
         "Sri Lanka",
         "2025-07-03T19:51:13.390Z",
         22,
         "2025-07-03T17:32:44.463Z",
         "2025-07-03T19:57:07.432Z"
        ],
        [
         "P0086",
         "Gloria Williams",
         "Male",
         "Somalia",
         "2025-07-03T19:51:13.390Z",
         142,
         "2025-07-03T17:32:44.463Z",
         "2025-07-03T19:57:07.432Z"
        ],
        [
         "P0104",
         "Amy Rose",
         "Female",
         "British Virgin Islands",
         "2025-07-03T19:51:13.390Z",
         196,
         "2025-07-03T17:32:44.463Z",
         "2025-07-03T19:57:07.432Z"
        ],
        [
         "P0066",
         "Brandi Maddox",
         "Male",
         "Senegal",
         "2025-07-03T19:51:13.390Z",
         189,
         "2025-07-03T17:32:44.463Z",
         "2025-07-03T19:57:07.432Z"
        ],
        [
         "P0062",
         "Maria Gibbs",
         "Female",
         "Taiwan",
         "2025-07-03T19:51:13.390Z",
         130,
         "2025-07-03T17:32:44.463Z",
         "2025-07-03T19:57:07.432Z"
        ],
        [
         "P0028",
         "Juan Sweeney",
         "Female",
         "Yemen",
         "2025-07-03T19:51:13.390Z",
         113,
         "2025-07-03T17:32:44.463Z",
         "2025-07-03T19:57:07.432Z"
        ],
        [
         "P0005",
         "Mike Kim",
         "Male",
         "Taiwan",
         "2025-07-03T19:51:13.390Z",
         30,
         "2025-07-03T17:32:44.463Z",
         "2025-07-03T19:57:07.432Z"
        ],
        [
         "P0145",
         "Michael Simmons",
         "Female",
         "Cape Verde",
         "2025-07-03T19:51:13.390Z",
         80,
         "2025-07-03T17:32:44.463Z",
         "2025-07-03T19:57:07.432Z"
        ],
        [
         "P0050",
         "Brandon Smith",
         "Male",
         "Senegal",
         "2025-07-03T19:51:13.390Z",
         148,
         "2025-07-03T17:32:44.463Z",
         "2025-07-03T19:57:07.432Z"
        ],
        [
         "P0115",
         "Diana Fisher",
         "Male",
         "Netherlands",
         "2025-07-03T19:51:13.390Z",
         37,
         "2025-07-03T17:32:44.463Z",
         "2025-07-03T19:57:07.432Z"
        ],
        [
         "P0216",
         "Michele Hunter",
         "Male",
         "Cambodia",
         "2025-07-03T19:51:13.390Z",
         204,
         "2025-07-03T17:32:44.463Z",
         "2025-07-03T19:57:07.432Z"
        ],
        [
         "P0201",
         "Michele Perry",
         "Male",
         "Czech Republic",
         "2025-07-03T19:51:13.390Z",
         209,
         "2025-07-03T17:32:44.463Z",
         "2025-07-03T19:57:07.432Z"
        ],
        [
         "P0034",
         "Victoria Franklin",
         "Female",
         "Spain",
         "2025-07-03T19:51:13.390Z",
         56,
         "2025-07-03T17:32:44.463Z",
         "2025-07-03T19:57:07.432Z"
        ],
        [
         "P0109",
         "Brian Mosley",
         "Male",
         "Brunei Darussalam",
         "2025-07-03T19:51:13.390Z",
         153,
         "2025-07-03T17:32:44.463Z",
         "2025-07-03T19:57:07.432Z"
        ],
        [
         "P0127",
         "Chloe Conway",
         "Male",
         "Brunei Darussalam",
         "2025-07-03T19:51:13.390Z",
         154,
         "2025-07-03T17:32:44.463Z",
         "2025-07-03T19:57:07.432Z"
        ],
        [
         "P0192",
         "Dr. Chris Dean",
         "Female",
         "Seychelles",
         "2025-07-03T19:51:13.390Z",
         13,
         "2025-07-03T17:32:44.463Z",
         "2025-07-03T19:57:07.432Z"
        ],
        [
         "P0010",
         "Maria Medina",
         "Male",
         "Denmark",
         "2025-07-03T19:51:13.390Z",
         112,
         "2025-07-03T17:32:44.463Z",
         "2025-07-03T19:57:07.432Z"
        ],
        [
         "P0217",
         "Emily Buchanan",
         "Female",
         "Uganda",
         "2025-07-03T19:51:13.390Z",
         218,
         "2025-07-03T17:32:44.463Z",
         "2025-07-03T19:57:07.432Z"
        ],
        [
         "P0185",
         "Karen Maynard",
         "Male",
         "Romania",
         "2025-07-03T19:51:13.390Z",
         123,
         "2025-07-03T17:32:44.463Z",
         "2025-07-03T19:57:07.432Z"
        ],
        [
         "P0178",
         "Brenda Dennis",
         "Male",
         "Saint Lucia",
         "2025-07-03T19:51:13.390Z",
         180,
         "2025-07-03T17:32:44.463Z",
         "2025-07-03T19:57:07.432Z"
        ],
        [
         "P0171",
         "Brittany Smith",
         "Female",
         "Australia",
         "2025-07-03T19:51:13.390Z",
         28,
         "2025-07-03T17:32:44.463Z",
         "2025-07-03T19:57:07.432Z"
        ],
        [
         "P0191",
         "Linda Moore",
         "Male",
         "Norfolk Island",
         "2025-07-03T19:51:13.390Z",
         200,
         "2025-07-03T17:32:44.463Z",
         "2025-07-03T19:57:07.432Z"
        ],
        [
         "P0089",
         "Daniel Jones",
         "Female",
         "Costa Rica",
         "2025-07-03T19:51:13.390Z",
         106,
         "2025-07-03T17:32:44.463Z",
         "2025-07-03T19:57:07.432Z"
        ],
        [
         "P0177",
         "Eric Tucker",
         "Female",
         "Zambia",
         "2025-07-03T19:51:13.390Z",
         42,
         "2025-07-03T17:32:44.463Z",
         "2025-07-03T19:57:07.432Z"
        ],
        [
         "P0031",
         "Jesus Clark",
         "Female",
         "Namibia",
         "2025-07-03T19:51:13.390Z",
         127,
         "2025-07-03T17:32:44.463Z",
         "2025-07-03T19:57:07.432Z"
        ],
        [
         "P0202",
         "Javier Mccormick",
         "Male",
         "Bolivia",
         "2025-07-03T19:51:13.390Z",
         213,
         "2025-07-03T17:32:44.463Z",
         "2025-07-03T19:57:07.432Z"
        ],
        [
         "P0060",
         "Megan Watts",
         "Male",
         "Bahrain",
         "2025-07-03T19:51:13.390Z",
         69,
         "2025-07-03T17:32:44.463Z",
         "2025-07-03T19:57:07.432Z"
        ],
        [
         "P0108",
         "Pamela Byrd",
         "Female",
         "Morocco",
         "2025-07-03T19:51:13.390Z",
         36,
         "2025-07-03T17:32:44.463Z",
         "2025-07-03T19:57:07.432Z"
        ],
        [
         "P0187",
         "Christopher Wade",
         "Female",
         "Lesotho",
         "2025-07-03T19:51:13.390Z",
         158,
         "2025-07-03T17:32:44.463Z",
         "2025-07-03T19:57:07.432Z"
        ],
        [
         "P0184",
         "Evan Scott",
         "Female",
         "South Africa",
         "2025-07-03T19:51:13.390Z",
         157,
         "2025-07-03T17:32:44.463Z",
         "2025-07-03T19:57:07.432Z"
        ],
        [
         "P0193",
         "Dr. Justin Rivera",
         "Male",
         "India",
         "2025-07-03T19:51:13.390Z",
         171,
         "2025-07-03T17:32:44.463Z",
         "2025-07-03T19:57:07.432Z"
        ],
        [
         "P0030",
         "Daniel Rush",
         "Male",
         "Tunisia",
         "2025-07-03T19:51:13.390Z",
         114,
         "2025-07-03T17:32:44.463Z",
         "2025-07-03T19:57:07.432Z"
        ],
        [
         "P0143",
         "Vincent Sanchez",
         "Female",
         "Tuvalu",
         "2025-07-03T19:51:13.390Z",
         155,
         "2025-07-03T17:32:44.463Z",
         "2025-07-03T19:57:07.432Z"
        ],
        [
         "P0045",
         "Mary Mann",
         "Female",
         "Sri Lanka",
         "2025-07-03T19:51:13.390Z",
         47,
         "2025-07-03T17:32:44.463Z",
         "2025-07-03T19:57:07.432Z"
        ],
        [
         "P0204",
         "Jamie Harrell",
         "Female",
         "Norway",
         "2025-07-03T19:51:13.390Z",
         220,
         "2025-07-03T17:32:44.463Z",
         "2025-07-03T19:57:07.432Z"
        ],
        [
         "P0136",
         "Melinda Smith",
         "Female",
         "Swaziland",
         "2025-07-03T19:51:13.390Z",
         52,
         "2025-07-03T17:32:44.463Z",
         "2025-07-03T19:57:07.432Z"
        ],
        [
         "P0006",
         "Diana Adams",
         "Male",
         "Mayotte",
         "2025-07-03T19:51:13.390Z",
         99,
         "2025-07-03T17:32:44.463Z",
         "2025-07-03T19:57:07.432Z"
        ],
        [
         "P0196",
         "Jamie Simon",
         "Female",
         "Nicaragua",
         "2025-07-03T19:51:13.390Z",
         86,
         "2025-07-03T17:32:44.463Z",
         "2025-07-03T19:57:07.432Z"
        ],
        [
         "P0001",
         "Kevin Ferguson",
         "Male",
         "Reunion",
         "2025-07-03T19:51:13.390Z",
         78,
         "2025-07-03T17:32:44.463Z",
         "2025-07-03T19:57:07.432Z"
        ],
        [
         "P0112",
         "William Bailey",
         "Male",
         "Micronesia",
         "2025-07-03T19:51:13.390Z",
         118,
         "2025-07-03T17:32:44.463Z",
         "2025-07-03T19:57:07.432Z"
        ],
        [
         "P0095",
         "Kelsey Hill",
         "Male",
         "Cook Islands",
         "2025-07-03T19:51:13.390Z",
         134,
         "2025-07-03T17:32:44.463Z",
         "2025-07-03T19:57:07.432Z"
        ],
        [
         "P0150",
         "Charles Wade",
         "Male",
         "El Salvador",
         "2025-07-03T19:51:13.390Z",
         64,
         "2025-07-03T17:32:44.463Z",
         "2025-07-03T19:57:07.432Z"
        ],
        [
         "P0033",
         "Sandra Green",
         "Male",
         "Switzerland",
         "2025-07-03T19:51:13.390Z",
         6,
         "2025-07-03T17:32:44.463Z",
         "2025-07-03T19:57:07.432Z"
        ],
        [
         "P0024",
         "Jordan Moore",
         "Female",
         "Aruba",
         "2025-07-03T19:51:13.390Z",
         174,
         "2025-07-03T17:32:44.463Z",
         "2025-07-03T19:57:07.432Z"
        ],
        [
         "P0165",
         "Jessica Hansen",
         "Male",
         "British Indian Ocean Territory (Chagos Archipelago)",
         "2025-07-03T19:51:13.390Z",
         144,
         "2025-07-03T17:32:44.463Z",
         "2025-07-03T19:57:07.432Z"
        ],
        [
         "P0077",
         "Audrey Rodriguez",
         "Female",
         "Saint Barthelemy",
         "2025-07-03T19:51:13.390Z",
         32,
         "2025-07-03T17:32:44.463Z",
         "2025-07-03T19:57:07.432Z"
        ],
        [
         "P0142",
         "Dr. Nancy Jacobs PhD",
         "Male",
         "Belgium",
         "2025-07-03T19:51:13.390Z",
         24,
         "2025-07-03T17:32:44.463Z",
         "2025-07-03T19:57:07.432Z"
        ],
        [
         "P0025",
         "Christopher Kim",
         "Male",
         "Greece",
         "2025-07-03T19:51:13.390Z",
         147,
         "2025-07-03T17:32:44.463Z",
         "2025-07-03T19:57:07.432Z"
        ],
        [
         "P0172",
         "Noah Herrera",
         "Female",
         "Monaco",
         "2025-07-03T19:51:13.390Z",
         178,
         "2025-07-03T17:32:44.463Z",
         "2025-07-03T19:57:07.432Z"
        ],
        [
         "P0056",
         "Joseph James",
         "Male",
         "Turks and Caicos Islands",
         "2025-07-03T19:51:13.390Z",
         129,
         "2025-07-03T17:32:44.463Z",
         "2025-07-03T19:57:07.432Z"
        ],
        [
         "P0208",
         "Cynthia Salas",
         "Male",
         "United States of America",
         "2025-07-03T19:51:13.390Z",
         219,
         "2025-07-03T17:32:44.463Z",
         "2025-07-03T19:57:07.432Z"
        ],
        [
         "P0163",
         "Benjamin Aguilar",
         "Female",
         "Netherlands Antilles",
         "2025-07-03T19:51:13.390Z",
         65,
         "2025-07-03T17:32:44.463Z",
         "2025-07-03T19:57:07.432Z"
        ],
        [
         "P0098",
         "Andrea Mcknight",
         "Male",
         "Samoa",
         "2025-07-03T19:51:13.390Z",
         152,
         "2025-07-03T17:32:44.463Z",
         "2025-07-03T19:57:07.432Z"
        ],
        [
         "P0064",
         "Pam Garcia",
         "Male",
         "Thailand",
         "2025-07-03T19:51:13.390Z",
         90,
         "2025-07-03T17:32:44.463Z",
         "2025-07-03T19:57:07.432Z"
        ],
        [
         "P0111",
         "Cheyenne Estes",
         "Male",
         "Nepal",
         "2025-07-03T19:51:13.390Z",
         72,
         "2025-07-03T17:32:44.463Z",
         "2025-07-03T19:57:07.432Z"
        ],
        [
         "P0120",
         "Tiffany Williams",
         "Female",
         "New Caledonia",
         "2025-07-03T19:51:13.390Z",
         9,
         "2025-07-03T17:32:44.463Z",
         "2025-07-03T19:57:07.432Z"
        ],
        [
         "P0094",
         "Kristen Pierce",
         "Male",
         "Tonga",
         "2025-07-03T19:51:13.390Z",
         61,
         "2025-07-03T17:32:44.463Z",
         "2025-07-03T19:57:07.432Z"
        ],
        [
         "P0124",
         "Alyssa Herrera",
         "Female",
         "Martinique",
         "2025-07-03T19:51:13.390Z",
         165,
         "2025-07-03T17:32:44.463Z",
         "2025-07-03T19:57:07.432Z"
        ],
        [
         "P0058",
         "William Meza",
         "Male",
         "Central African Republic",
         "2025-07-03T19:51:13.390Z",
         188,
         "2025-07-03T17:32:44.463Z",
         "2025-07-03T19:57:07.432Z"
        ],
        [
         "P0013",
         "Christine Young",
         "Male",
         "Iran",
         "2025-07-03T19:51:13.390Z",
         67,
         "2025-07-03T17:32:44.463Z",
         "2025-07-03T19:57:07.432Z"
        ],
        [
         "P0029",
         "Tony Adams",
         "Female",
         "British Virgin Islands",
         "2025-07-03T19:51:13.390Z",
         138,
         "2025-07-03T17:32:44.463Z",
         "2025-07-03T19:57:07.432Z"
        ],
        [
         "P0017",
         "Billy Williams",
         "Male",
         "Togo",
         "2025-07-03T19:51:13.390Z",
         137,
         "2025-07-03T17:32:44.463Z",
         "2025-07-03T19:57:07.432Z"
        ],
        [
         "P0117",
         "Scott Acosta",
         "Female",
         "Hong Kong",
         "2025-07-03T19:51:13.390Z",
         163,
         "2025-07-03T17:32:44.463Z",
         "2025-07-03T19:57:07.432Z"
        ],
        [
         "P0021",
         "Nicholas Ritter",
         "Female",
         "Korea",
         "2025-07-03T19:51:13.390Z",
         186,
         "2025-07-03T17:32:44.463Z",
         "2025-07-03T19:57:07.432Z"
        ],
        [
         "P0078",
         "Darlene Perez",
         "Female",
         "Cyprus",
         "2025-07-03T19:51:13.390Z",
         133,
         "2025-07-03T17:32:44.463Z",
         "2025-07-03T19:57:07.432Z"
        ],
        [
         "P0088",
         "Austin Murphy",
         "Female",
         "Lao People's Democratic Republic",
         "2025-07-03T19:51:13.390Z",
         48,
         "2025-07-03T17:32:44.463Z",
         "2025-07-03T19:57:07.432Z"
        ],
        [
         "P0183",
         "Benjamin Garcia",
         "Female",
         "Saint Pierre and Miquelon",
         "2025-07-03T19:51:13.390Z",
         122,
         "2025-07-03T17:32:44.463Z",
         "2025-07-03T19:57:07.432Z"
        ],
        [
         "P0055",
         "William Tanner",
         "Female",
         "Guadeloupe",
         "2025-07-03T19:51:13.390Z",
         149,
         "2025-07-03T17:32:44.463Z",
         "2025-07-03T19:57:07.432Z"
        ],
        [
         "P0157",
         "Daniel Sawyer",
         "Male",
         "Mayotte",
         "2025-07-03T19:51:13.390Z",
         168,
         "2025-07-03T17:32:44.463Z",
         "2025-07-03T19:57:07.432Z"
        ],
        [
         "P0128",
         "Nicole Walters",
         "Male",
         "Dominica",
         "2025-07-03T19:51:13.390Z",
         73,
         "2025-07-03T17:32:44.463Z",
         "2025-07-03T19:57:07.432Z"
        ],
        [
         "P0036",
         "Abigail Brown",
         "Male",
         "France",
         "2025-07-03T19:51:13.390Z",
         57,
         "2025-07-03T17:32:44.463Z",
         "2025-07-03T19:57:07.432Z"
        ],
        [
         "P0046",
         "Matthew Evans",
         "Female",
         "Guadeloupe",
         "2025-07-03T19:51:13.390Z",
         89,
         "2025-07-03T17:32:44.463Z",
         "2025-07-03T19:57:07.432Z"
        ],
        [
         "P0146",
         "Phillip Myers",
         "Female",
         "Slovenia",
         "2025-07-03T19:51:13.390Z",
         25,
         "2025-07-03T17:32:44.463Z",
         "2025-07-03T19:57:07.432Z"
        ],
        [
         "P0162",
         "Rebecca Hendricks",
         "Male",
         "Faroe Islands",
         "2025-07-03T19:51:13.390Z",
         136,
         "2025-07-03T17:32:44.463Z",
         "2025-07-03T19:57:07.432Z"
        ],
        [
         "P0180",
         "Chelsea Copeland",
         "Female",
         "Bolivia",
         "2025-07-03T19:51:13.390Z",
         97,
         "2025-07-03T17:32:44.463Z",
         "2025-07-03T19:57:07.432Z"
        ],
        [
         "P0225",
         "William Lopez",
         "Male",
         "Heard Island and McDonald Islands",
         "2025-07-03T19:51:13.390Z",
         221,
         "2025-07-03T19:57:07.432Z",
         "2025-07-03T19:57:07.432Z"
        ],
        [
         "P0224",
         "Jason Jensen",
         "Female",
         "Rwanda",
         "2025-07-03T19:51:13.390Z",
         222,
         "2025-07-03T19:57:07.432Z",
         "2025-07-03T19:57:07.432Z"
        ],
        [
         "P0222",
         "Maria Taylor",
         "Male",
         "Lao People's Democratic Republic",
         "2025-07-03T19:51:13.390Z",
         223,
         "2025-07-03T19:57:07.432Z",
         "2025-07-03T19:57:07.432Z"
        ],
        [
         "P0221",
         "Amy Welch",
         "Male",
         "Croatia",
         "2025-07-03T19:51:13.390Z",
         224,
         "2025-07-03T19:57:07.432Z",
         "2025-07-03T19:57:07.432Z"
        ],
        [
         "P0223",
         "Nicholas Gomez",
         "Female",
         "Cook Islands",
         "2025-07-03T19:51:13.390Z",
         225,
         "2025-07-03T19:57:07.432Z",
         "2025-07-03T19:57:07.432Z"
        ]
       ],
       "datasetInfos": [
        {
         "name": "_sqldf",
         "schema": {
          "fields": [
           {
            "metadata": {},
            "name": "passenger_id",
            "nullable": true,
            "type": "string"
           },
           {
            "metadata": {},
            "name": "name",
            "nullable": true,
            "type": "string"
           },
           {
            "metadata": {},
            "name": "gender",
            "nullable": true,
            "type": "string"
           },
           {
            "metadata": {},
            "name": "nationality",
            "nullable": true,
            "type": "string"
           },
           {
            "metadata": {},
            "name": "ModifiedDate",
            "nullable": true,
            "type": "timestamp"
           },
           {
            "metadata": {},
            "name": "DimPassengersKey",
            "nullable": true,
            "type": "long"
           },
           {
            "metadata": {},
            "name": "create_date",
            "nullable": true,
            "type": "timestamp"
           },
           {
            "metadata": {},
            "name": "update_date",
            "nullable": true,
            "type": "timestamp"
           }
          ],
          "type": "struct"
         },
         "tableIdentifier": null,
         "typeStr": "pyspark.sql.connect.dataframe.DataFrame"
        }
       ],
       "dbfsResultPath": null,
       "isJsonSchema": true,
       "metadata": {
        "createTempViewForImplicitDf": true,
        "dataframeName": "_sqldf",
        "executionCount": 82
       },
       "overflow": false,
       "plotOptions": {
        "customPlotOptions": {},
        "displayType": "table",
        "pivotAggregation": null,
        "pivotColumns": null,
        "xColumns": null,
        "yColumns": null
       },
       "removedWidgets": [],
       "schema": [
        {
         "metadata": "{}",
         "name": "passenger_id",
         "type": "\"string\""
        },
        {
         "metadata": "{}",
         "name": "name",
         "type": "\"string\""
        },
        {
         "metadata": "{}",
         "name": "gender",
         "type": "\"string\""
        },
        {
         "metadata": "{}",
         "name": "nationality",
         "type": "\"string\""
        },
        {
         "metadata": "{}",
         "name": "ModifiedDate",
         "type": "\"timestamp\""
        },
        {
         "metadata": "{}",
         "name": "DimPassengersKey",
         "type": "\"long\""
        },
        {
         "metadata": "{}",
         "name": "create_date",
         "type": "\"timestamp\""
        },
        {
         "metadata": "{}",
         "name": "update_date",
         "type": "\"timestamp\""
        }
       ],
       "type": "table"
      }
     },
     "output_type": "display_data"
    }
   ],
   "source": [
    "%sql\n",
    "select * from gold.dimpassengers\n",
    "    \n"
   ]
  },
  {
   "cell_type": "code",
   "execution_count": 0,
   "metadata": {
    "application/vnd.databricks.v1+cell": {
     "cellMetadata": {
      "byteLimit": 2048000,
      "implicitDf": true,
      "rowLimit": 10000
     },
     "inputWidgets": {},
     "nuid": "38134b95-e5a6-4e24-844f-e1cc4bb3f55d",
     "showTitle": false,
     "tableResultSettingsMap": {},
     "title": ""
    }
   },
   "outputs": [
    {
     "output_type": "display_data",
     "data": {
      "text/html": [
       "<style scoped>\n",
       "  .table-result-container {\n",
       "    max-height: 300px;\n",
       "    overflow: auto;\n",
       "  }\n",
       "  table, th, td {\n",
       "    border: 1px solid black;\n",
       "    border-collapse: collapse;\n",
       "  }\n",
       "  th, td {\n",
       "    padding: 5px;\n",
       "  }\n",
       "  th {\n",
       "    text-align: left;\n",
       "  }\n",
       "</style><div class='table-result-container'><table class='table-result'><thead style='background-color: white'><tr><th>passenger_id</th><th>name</th><th>gender</th><th>nationality</th><th>ModifiedDate</th></tr></thead><tbody><tr><td>P0049</td><td>Douglas Montoya</td><td>Female</td><td>Pakistan</td><td>2025-07-03T19:51:13.390Z</td></tr></tbody></table></div>"
      ]
     },
     "metadata": {
      "application/vnd.databricks.v1+output": {
       "addedWidgets": {},
       "aggData": [],
       "aggError": "",
       "aggOverflow": false,
       "aggSchema": [],
       "aggSeriesLimitReached": false,
       "aggType": "",
       "arguments": {},
       "columnCustomDisplayInfos": {},
       "data": [
        [
         "P0049",
         "Douglas Montoya",
         "Female",
         "Pakistan",
         "2025-07-03T19:51:13.390Z"
        ]
       ],
       "datasetInfos": [
        {
         "name": "_sqldf",
         "schema": {
          "fields": [
           {
            "metadata": {},
            "name": "passenger_id",
            "nullable": true,
            "type": "string"
           },
           {
            "metadata": {},
            "name": "name",
            "nullable": true,
            "type": "string"
           },
           {
            "metadata": {},
            "name": "gender",
            "nullable": true,
            "type": "string"
           },
           {
            "metadata": {},
            "name": "nationality",
            "nullable": true,
            "type": "string"
           },
           {
            "metadata": {},
            "name": "ModifiedDate",
            "nullable": true,
            "type": "timestamp"
           }
          ],
          "type": "struct"
         },
         "tableIdentifier": null,
         "typeStr": "pyspark.sql.connect.dataframe.DataFrame"
        }
       ],
       "dbfsResultPath": null,
       "isJsonSchema": true,
       "metadata": {
        "createTempViewForImplicitDf": true,
        "dataframeName": "_sqldf",
        "executionCount": 83
       },
       "overflow": false,
       "plotOptions": {
        "customPlotOptions": {},
        "displayType": "table",
        "pivotAggregation": null,
        "pivotColumns": null,
        "xColumns": null,
        "yColumns": null
       },
       "removedWidgets": [],
       "schema": [
        {
         "metadata": "{}",
         "name": "passenger_id",
         "type": "\"string\""
        },
        {
         "metadata": "{}",
         "name": "name",
         "type": "\"string\""
        },
        {
         "metadata": "{}",
         "name": "gender",
         "type": "\"string\""
        },
        {
         "metadata": "{}",
         "name": "nationality",
         "type": "\"string\""
        },
        {
         "metadata": "{}",
         "name": "ModifiedDate",
         "type": "\"timestamp\""
        }
       ],
       "type": "table"
      }
     },
     "output_type": "display_data"
    }
   ],
   "source": [
    "%sql\n",
    "-- upserted data\n",
    "select * from workspace.silver.silver_passengers where passenger_id = 'P0049' "
   ]
  },
  {
   "cell_type": "code",
   "execution_count": 0,
   "metadata": {
    "application/vnd.databricks.v1+cell": {
     "cellMetadata": {
      "byteLimit": 2048000,
      "implicitDf": true,
      "rowLimit": 10000
     },
     "inputWidgets": {},
     "nuid": "ad8bb747-e4f6-48fb-9dd4-5946e55865fb",
     "showTitle": false,
     "tableResultSettingsMap": {},
     "title": ""
    }
   },
   "outputs": [
    {
     "output_type": "display_data",
     "data": {
      "text/html": [
       "<style scoped>\n",
       "  .table-result-container {\n",
       "    max-height: 300px;\n",
       "    overflow: auto;\n",
       "  }\n",
       "  table, th, td {\n",
       "    border: 1px solid black;\n",
       "    border-collapse: collapse;\n",
       "  }\n",
       "  th, td {\n",
       "    padding: 5px;\n",
       "  }\n",
       "  th {\n",
       "    text-align: left;\n",
       "  }\n",
       "</style><div class='table-result-container'><table class='table-result'><thead style='background-color: white'><tr><th>passenger_id</th><th>name</th><th>gender</th><th>nationality</th><th>ModifiedDate</th><th>DimPassengersKey</th><th>create_date</th><th>update_date</th></tr></thead><tbody><tr><td>P0049</td><td>Douglas Montoya</td><td>Female</td><td>Pakistan</td><td>2025-07-03T19:51:13.390Z</td><td>7</td><td>2025-07-03T17:32:44.463Z</td><td>2025-07-03T19:57:07.432Z</td></tr></tbody></table></div>"
      ]
     },
     "metadata": {
      "application/vnd.databricks.v1+output": {
       "addedWidgets": {},
       "aggData": [],
       "aggError": "",
       "aggOverflow": false,
       "aggSchema": [],
       "aggSeriesLimitReached": false,
       "aggType": "",
       "arguments": {},
       "columnCustomDisplayInfos": {},
       "data": [
        [
         "P0049",
         "Douglas Montoya",
         "Female",
         "Pakistan",
         "2025-07-03T19:51:13.390Z",
         7,
         "2025-07-03T17:32:44.463Z",
         "2025-07-03T19:57:07.432Z"
        ]
       ],
       "datasetInfos": [
        {
         "name": "_sqldf",
         "schema": {
          "fields": [
           {
            "metadata": {},
            "name": "passenger_id",
            "nullable": true,
            "type": "string"
           },
           {
            "metadata": {},
            "name": "name",
            "nullable": true,
            "type": "string"
           },
           {
            "metadata": {},
            "name": "gender",
            "nullable": true,
            "type": "string"
           },
           {
            "metadata": {},
            "name": "nationality",
            "nullable": true,
            "type": "string"
           },
           {
            "metadata": {},
            "name": "ModifiedDate",
            "nullable": true,
            "type": "timestamp"
           },
           {
            "metadata": {},
            "name": "DimPassengersKey",
            "nullable": true,
            "type": "long"
           },
           {
            "metadata": {},
            "name": "create_date",
            "nullable": true,
            "type": "timestamp"
           },
           {
            "metadata": {},
            "name": "update_date",
            "nullable": true,
            "type": "timestamp"
           }
          ],
          "type": "struct"
         },
         "tableIdentifier": null,
         "typeStr": "pyspark.sql.connect.dataframe.DataFrame"
        }
       ],
       "dbfsResultPath": null,
       "isJsonSchema": true,
       "metadata": {
        "createTempViewForImplicitDf": true,
        "dataframeName": "_sqldf",
        "executionCount": 6
       },
       "overflow": false,
       "plotOptions": {
        "customPlotOptions": {},
        "displayType": "table",
        "pivotAggregation": null,
        "pivotColumns": null,
        "xColumns": null,
        "yColumns": null
       },
       "removedWidgets": [],
       "schema": [
        {
         "metadata": "{}",
         "name": "passenger_id",
         "type": "\"string\""
        },
        {
         "metadata": "{}",
         "name": "name",
         "type": "\"string\""
        },
        {
         "metadata": "{}",
         "name": "gender",
         "type": "\"string\""
        },
        {
         "metadata": "{}",
         "name": "nationality",
         "type": "\"string\""
        },
        {
         "metadata": "{}",
         "name": "ModifiedDate",
         "type": "\"timestamp\""
        },
        {
         "metadata": "{}",
         "name": "DimPassengersKey",
         "type": "\"long\""
        },
        {
         "metadata": "{}",
         "name": "create_date",
         "type": "\"timestamp\""
        },
        {
         "metadata": "{}",
         "name": "update_date",
         "type": "\"timestamp\""
        }
       ],
       "type": "table"
      }
     },
     "output_type": "display_data"
    }
   ],
   "source": [
    "%sql\n",
    "-- upserted data\n",
    "select * from workspace.gold.dimpassengers where passenger_id = 'P0049' --dimensionkey is still the same though name is changed"
   ]
  },
  {
   "cell_type": "code",
   "execution_count": 0,
   "metadata": {
    "application/vnd.databricks.v1+cell": {
     "cellMetadata": {
      "byteLimit": 2048000,
      "implicitDf": true,
      "rowLimit": 10000
     },
     "inputWidgets": {},
     "nuid": "014f97d5-a526-4e49-9cac-24deb5cd6bdb",
     "showTitle": false,
     "tableResultSettingsMap": {},
     "title": ""
    }
   },
   "outputs": [
    {
     "output_type": "display_data",
     "data": {
      "text/html": [
       "<style scoped>\n",
       "  .table-result-container {\n",
       "    max-height: 300px;\n",
       "    overflow: auto;\n",
       "  }\n",
       "  table, th, td {\n",
       "    border: 1px solid black;\n",
       "    border-collapse: collapse;\n",
       "  }\n",
       "  th, td {\n",
       "    padding: 5px;\n",
       "  }\n",
       "  th {\n",
       "    text-align: left;\n",
       "  }\n",
       "</style><div class='table-result-container'><table class='table-result'><thead style='background-color: white'><tr><th>airport_id</th><th>airport_name</th><th>city</th><th>country</th><th>ModifiedDate</th></tr></thead><tbody><tr><td>A032</td><td>East Robinmouth International Airport</td><td>Sharonstad</td><td>Poland</td><td>2025-07-03T19:51:17.369Z</td></tr></tbody></table></div>"
      ]
     },
     "metadata": {
      "application/vnd.databricks.v1+output": {
       "addedWidgets": {},
       "aggData": [],
       "aggError": "",
       "aggOverflow": false,
       "aggSchema": [],
       "aggSeriesLimitReached": false,
       "aggType": "",
       "arguments": {},
       "columnCustomDisplayInfos": {},
       "data": [
        [
         "A032",
         "East Robinmouth International Airport",
         "Sharonstad",
         "Poland",
         "2025-07-03T19:51:17.369Z"
        ]
       ],
       "datasetInfos": [
        {
         "name": "_sqldf",
         "schema": {
          "fields": [
           {
            "metadata": {},
            "name": "airport_id",
            "nullable": true,
            "type": "string"
           },
           {
            "metadata": {},
            "name": "airport_name",
            "nullable": true,
            "type": "string"
           },
           {
            "metadata": {},
            "name": "city",
            "nullable": true,
            "type": "string"
           },
           {
            "metadata": {},
            "name": "country",
            "nullable": true,
            "type": "string"
           },
           {
            "metadata": {},
            "name": "ModifiedDate",
            "nullable": true,
            "type": "timestamp"
           }
          ],
          "type": "struct"
         },
         "tableIdentifier": null,
         "typeStr": "pyspark.sql.connect.dataframe.DataFrame"
        }
       ],
       "dbfsResultPath": null,
       "isJsonSchema": true,
       "metadata": {
        "createTempViewForImplicitDf": true,
        "dataframeName": "_sqldf",
        "executionCount": 86
       },
       "overflow": false,
       "plotOptions": {
        "customPlotOptions": {},
        "displayType": "table",
        "pivotAggregation": null,
        "pivotColumns": null,
        "xColumns": null,
        "yColumns": null
       },
       "removedWidgets": [],
       "schema": [
        {
         "metadata": "{}",
         "name": "airport_id",
         "type": "\"string\""
        },
        {
         "metadata": "{}",
         "name": "airport_name",
         "type": "\"string\""
        },
        {
         "metadata": "{}",
         "name": "city",
         "type": "\"string\""
        },
        {
         "metadata": "{}",
         "name": "country",
         "type": "\"string\""
        },
        {
         "metadata": "{}",
         "name": "ModifiedDate",
         "type": "\"timestamp\""
        }
       ],
       "type": "table"
      }
     },
     "output_type": "display_data"
    }
   ],
   "source": [
    "%sql\n",
    "select * from workspace.silver.silver_airports where airport_id = 'A032' "
   ]
  },
  {
   "cell_type": "code",
   "execution_count": 0,
   "metadata": {
    "application/vnd.databricks.v1+cell": {
     "cellMetadata": {
      "byteLimit": 2048000,
      "implicitDf": true,
      "rowLimit": 10000
     },
     "inputWidgets": {},
     "nuid": "fabada8e-3c35-4f3b-8586-54bd1a383866",
     "showTitle": false,
     "tableResultSettingsMap": {},
     "title": ""
    }
   },
   "outputs": [
    {
     "output_type": "display_data",
     "data": {
      "text/html": [
       "<style scoped>\n",
       "  .table-result-container {\n",
       "    max-height: 300px;\n",
       "    overflow: auto;\n",
       "  }\n",
       "  table, th, td {\n",
       "    border: 1px solid black;\n",
       "    border-collapse: collapse;\n",
       "  }\n",
       "  th, td {\n",
       "    padding: 5px;\n",
       "  }\n",
       "  th {\n",
       "    text-align: left;\n",
       "  }\n",
       "</style><div class='table-result-container'><table class='table-result'><thead style='background-color: white'><tr><th>airport_id</th><th>airport_name</th><th>city</th><th>country</th><th>ModifiedDate</th><th>DimAirportsKey</th><th>create_date</th><th>update_date</th></tr></thead><tbody><tr><td>A032</td><td>East Robinmouth International Airport</td><td>Sharonstad</td><td>Poland</td><td>2025-07-03T03:03:00.072Z</td><td>9</td><td>2025-07-03T17:27:11.296Z</td><td>2025-07-03T17:27:11.296Z</td></tr></tbody></table></div>"
      ]
     },
     "metadata": {
      "application/vnd.databricks.v1+output": {
       "addedWidgets": {},
       "aggData": [],
       "aggError": "",
       "aggOverflow": false,
       "aggSchema": [],
       "aggSeriesLimitReached": false,
       "aggType": "",
       "arguments": {},
       "columnCustomDisplayInfos": {},
       "data": [
        [
         "A032",
         "East Robinmouth International Airport",
         "Sharonstad",
         "Poland",
         "2025-07-03T03:03:00.072Z",
         9,
         "2025-07-03T17:27:11.296Z",
         "2025-07-03T17:27:11.296Z"
        ]
       ],
       "datasetInfos": [
        {
         "name": "_sqldf",
         "schema": {
          "fields": [
           {
            "metadata": {},
            "name": "airport_id",
            "nullable": true,
            "type": "string"
           },
           {
            "metadata": {},
            "name": "airport_name",
            "nullable": true,
            "type": "string"
           },
           {
            "metadata": {},
            "name": "city",
            "nullable": true,
            "type": "string"
           },
           {
            "metadata": {},
            "name": "country",
            "nullable": true,
            "type": "string"
           },
           {
            "metadata": {},
            "name": "ModifiedDate",
            "nullable": true,
            "type": "timestamp"
           },
           {
            "metadata": {},
            "name": "DimAirportsKey",
            "nullable": true,
            "type": "long"
           },
           {
            "metadata": {},
            "name": "create_date",
            "nullable": true,
            "type": "timestamp"
           },
           {
            "metadata": {},
            "name": "update_date",
            "nullable": true,
            "type": "timestamp"
           }
          ],
          "type": "struct"
         },
         "tableIdentifier": null,
         "typeStr": "pyspark.sql.connect.dataframe.DataFrame"
        }
       ],
       "dbfsResultPath": null,
       "isJsonSchema": true,
       "metadata": {
        "createTempViewForImplicitDf": true,
        "dataframeName": "_sqldf",
        "executionCount": 4
       },
       "overflow": false,
       "plotOptions": {
        "customPlotOptions": {},
        "displayType": "table",
        "pivotAggregation": null,
        "pivotColumns": null,
        "xColumns": null,
        "yColumns": null
       },
       "removedWidgets": [],
       "schema": [
        {
         "metadata": "{}",
         "name": "airport_id",
         "type": "\"string\""
        },
        {
         "metadata": "{}",
         "name": "airport_name",
         "type": "\"string\""
        },
        {
         "metadata": "{}",
         "name": "city",
         "type": "\"string\""
        },
        {
         "metadata": "{}",
         "name": "country",
         "type": "\"string\""
        },
        {
         "metadata": "{}",
         "name": "ModifiedDate",
         "type": "\"timestamp\""
        },
        {
         "metadata": "{}",
         "name": "DimAirportsKey",
         "type": "\"long\""
        },
        {
         "metadata": "{}",
         "name": "create_date",
         "type": "\"timestamp\""
        },
        {
         "metadata": "{}",
         "name": "update_date",
         "type": "\"timestamp\""
        }
       ],
       "type": "table"
      }
     },
     "output_type": "display_data"
    }
   ],
   "source": [
    "%sql\n",
    "select * from workspace.gold.dimairports where airport_id = 'A032' "
   ]
  },
  {
   "cell_type": "code",
   "execution_count": 0,
   "metadata": {
    "application/vnd.databricks.v1+cell": {
     "cellMetadata": {},
     "inputWidgets": {},
     "nuid": "e1b964b4-4fed-4a5f-bdc4-fc5a323d1823",
     "showTitle": false,
     "tableResultSettingsMap": {},
     "title": ""
    }
   },
   "outputs": [],
   "source": []
  }
 ],
 "metadata": {
  "application/vnd.databricks.v1+notebook": {
   "computePreferences": null,
   "dashboards": [],
   "environmentMetadata": {
    "base_environment": "",
    "environment_version": "2"
   },
   "inputWidgetPreferences": null,
   "language": "python",
   "notebookMetadata": {
    "mostRecentlyExecutedCommandWithImplicitDF": {
     "commandId": 8069531537917777,
     "dataframes": [
      "_sqldf"
     ]
    },
    "pythonIndentUnit": 4
   },
   "notebookName": "Gold Dims Notebook",
   "widgets": {
    "backdated_refresh": {
     "currentValue": "",
     "nuid": "0e6764e9-876d-4b59-b59b-21f6c1326cbe",
     "typedWidgetInfo": {
      "autoCreated": false,
      "defaultValue": "",
      "label": null,
      "name": "backdated_refresh",
      "options": {
       "widgetDisplayType": "Text",
       "validationRegex": null
      },
      "parameterDataType": "String"
     },
     "widgetInfo": {
      "widgetType": "text",
      "defaultValue": "",
      "label": null,
      "name": "backdated_refresh",
      "options": {
       "widgetType": "text",
       "autoCreated": null,
       "validationRegex": null
      }
     }
    },
    "cdccol": {
     "currentValue": "",
     "nuid": "6377f954-eab8-4301-90b3-a19bb2cabf30",
     "typedWidgetInfo": {
      "autoCreated": false,
      "defaultValue": "",
      "label": null,
      "name": "cdccol",
      "options": {
       "widgetDisplayType": "Text",
       "validationRegex": null
      },
      "parameterDataType": "String"
     },
     "widgetInfo": {
      "widgetType": "text",
      "defaultValue": "",
      "label": null,
      "name": "cdccol",
      "options": {
       "widgetType": "text",
       "autoCreated": null,
       "validationRegex": null
      }
     }
    },
    "keycols": {
     "currentValue": "['flight_id']",
     "nuid": "03f54b23-8cad-4d3b-bf23-2c3b0e356c10",
     "typedWidgetInfo": {
      "autoCreated": false,
      "defaultValue": "",
      "label": null,
      "name": "keycols",
      "options": {
       "widgetDisplayType": "Text",
       "validationRegex": null
      },
      "parameterDataType": "String"
     },
     "widgetInfo": {
      "widgetType": "text",
      "defaultValue": "",
      "label": null,
      "name": "keycols",
      "options": {
       "widgetType": "text",
       "autoCreated": null,
       "validationRegex": null
      }
     }
    },
    "source_object": {
     "currentValue": "",
     "nuid": "d7b40447-4bf3-46fd-b711-3ba83fd505fc",
     "typedWidgetInfo": {
      "autoCreated": false,
      "defaultValue": "",
      "label": null,
      "name": "source_object",
      "options": {
       "widgetDisplayType": "Text",
       "validationRegex": null
      },
      "parameterDataType": "String"
     },
     "widgetInfo": {
      "widgetType": "text",
      "defaultValue": "",
      "label": null,
      "name": "source_object",
      "options": {
       "widgetType": "text",
       "autoCreated": false,
       "validationRegex": null
      }
     }
    },
    "source_schema": {
     "currentValue": "",
     "nuid": "08b43c4e-62cc-4301-994c-388e48744b7c",
     "typedWidgetInfo": {
      "autoCreated": false,
      "defaultValue": "",
      "label": null,
      "name": "source_schema",
      "options": {
       "widgetDisplayType": "Text",
       "validationRegex": null
      },
      "parameterDataType": "String"
     },
     "widgetInfo": {
      "widgetType": "text",
      "defaultValue": "",
      "label": null,
      "name": "source_schema",
      "options": {
       "widgetType": "text",
       "autoCreated": false,
       "validationRegex": null
      }
     }
    }
   }
  },
  "language_info": {
   "name": "python"
  }
 },
 "nbformat": 4,
 "nbformat_minor": 0
}